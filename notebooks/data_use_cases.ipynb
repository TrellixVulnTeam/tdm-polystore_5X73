{
 "cells": [
  {
   "cell_type": "markdown",
   "metadata": {},
   "source": [
    "# Example of time series data"
   ]
  },
  {
   "cell_type": "markdown",
   "metadata": {},
   "source": [
    "## Time series from a collection of fixed devices"
   ]
  },
  {
   "cell_type": "code",
   "execution_count": null,
   "metadata": {},
   "outputs": [],
   "source": [
    "import xarray as xr\n",
    "import numpy as np\n",
    "import pandas as pd"
   ]
  },
  {
   "cell_type": "code",
   "execution_count": null,
   "metadata": {},
   "outputs": [],
   "source": [
    "times = pd.date_range('2019-01-01', periods=4)"
   ]
  },
  {
   "cell_type": "code",
   "execution_count": null,
   "metadata": {},
   "outputs": [],
   "source": [
    "locs = np.array([(9, 81.0), (3, 27.0), (7, 12)],\n",
    "              dtype=[('longitude', np.float64), ('latitude', np.float64)])"
   ]
  },
  {
   "cell_type": "code",
   "execution_count": null,
   "metadata": {},
   "outputs": [],
   "source": [
    "data = np.array([(283, 1000, 0.45),] * len(locs) * len(times),\n",
    "               dtype=[('temperature', np.float32), ('pressure', np.float32), ('humidity', np.float32)])\n",
    "data = data.reshape(len(times), len(locs))"
   ]
  },
  {
   "cell_type": "code",
   "execution_count": null,
   "metadata": {},
   "outputs": [],
   "source": [
    "group_of_sensors = xr.DataArray(data, coords=[times, locs], dims=['time', 'position'])"
   ]
  },
  {
   "cell_type": "code",
   "execution_count": null,
   "metadata": {},
   "outputs": [],
   "source": [
    "group_of_sensors "
   ]
  },
  {
   "cell_type": "code",
   "execution_count": null,
   "metadata": {},
   "outputs": [],
   "source": [
    "group_of_sensors[0, 0]['time'].values"
   ]
  },
  {
   "cell_type": "code",
   "execution_count": null,
   "metadata": {},
   "outputs": [],
   "source": [
    "group_of_sensors['position'][0]"
   ]
  },
  {
   "cell_type": "markdown",
   "metadata": {},
   "source": [
    "## Time series from a set of moving sensors"
   ]
  },
  {
   "cell_type": "code",
   "execution_count": null,
   "metadata": {},
   "outputs": [],
   "source": [
    "tstamps = pd.date_range('2019-01-01', periods=4)\n",
    "positions = np.array(np.random.uniform(-1, 1, (4, 2)), \n",
    "                         dtype=[('longitude', np.float64), ('latitude', np.float64)])\n",
    "measures = np.array([(t, p, h) for t, p, h in zip(np.random.uniform(283, 287, 4), \n",
    "                                                  np.random.uniform(1000, 1080, 4),\n",
    "                                                  np.random.uniform(0.35, 0.55, 4))],\n",
    "                        dtype=[('temperature', np.float32), \n",
    "                               ('pressure', np.float32), \n",
    "                               ('humidity', np.float32)])"
   ]
  },
  {
   "cell_type": "code",
   "execution_count": null,
   "metadata": {},
   "outputs": [],
   "source": [
    "group_of_paths = []\n",
    "for i in range(3):\n",
    "    tstamps = pd.date_range('2019-01-01', periods=4)\n",
    "    positions = np.array([(lon, lat) for lon, lat in zip(np.random.uniform(7, 8, 4), \n",
    "                                                         np.random.uniform(30, 32, 4))],\n",
    "                         dtype=[('longitude', np.float64), ('latitude', np.float64)])\n",
    "    measures = np.array([(t, p, h) for t, p, h in zip(np.random.uniform(283, 287, 4), \n",
    "                                                      np.random.uniform(1000, 1080, 4),\n",
    "                                                      np.random.uniform(0.35, 0.55, 4))],\n",
    "                        dtype=[('temperature', np.float32), \n",
    "                               ('pressure', np.float32), \n",
    "                               ('humidity', np.float32)])\n",
    "    group_of_paths.append(xr.Dataset({'position': (['time'], positions),\n",
    "                                      'measures': (['time'], measures)},\n",
    "                                     coords = {'time': tstamps}))      "
   ]
  },
  {
   "cell_type": "code",
   "execution_count": null,
   "metadata": {},
   "outputs": [],
   "source": [
    "group_of_paths"
   ]
  },
  {
   "cell_type": "markdown",
   "metadata": {},
   "source": [
    "## Timeseries of radar measurements"
   ]
  },
  {
   "cell_type": "code",
   "execution_count": null,
   "metadata": {},
   "outputs": [],
   "source": [
    "tstamps = pd.date_range('2019-01-01', periods=4)\n",
    "pxlW, pxlH = 60, 60\n",
    "cols, rows = 1024, 1024\n",
    "\n",
    "data = np.random.rand(len(tstamps), cols, rows)\n",
    "x = pxlW * (np.arange(-(cols/2), (cols/2), 1) + 0.5)\n",
    "y = pxlH * (np.arange(-(rows/2), (rows/2), 1) + 0.5)\n",
    "X, Y = np.meshgrid(x, y, sparse=False)"
   ]
  },
  {
   "cell_type": "code",
   "execution_count": null,
   "metadata": {},
   "outputs": [],
   "source": [
    "precipitation = xr.Dataset({'precipitation': (['time', 'x', 'y'], data)}, \n",
    "                           coords={'X': (['x', 'y'], X), \n",
    "                                   'Y': (['x', 'y'], Y),\n",
    "                                   'time': tstamps},\n",
    "                           attrs={'crs': 'EPSG:6265'})"
   ]
  },
  {
   "cell_type": "code",
   "execution_count": null,
   "metadata": {},
   "outputs": [],
   "source": [
    "precipitation"
   ]
  },
  {
   "cell_type": "code",
   "execution_count": null,
   "metadata": {},
   "outputs": [],
   "source": []
  }
 ],
 "metadata": {
  "kernelspec": {
   "display_name": "Python 3",
   "language": "python",
   "name": "python3"
  },
  "language_info": {
   "codemirror_mode": {
    "name": "ipython",
    "version": 3
   },
   "file_extension": ".py",
   "mimetype": "text/x-python",
   "name": "python",
   "nbconvert_exporter": "python",
   "pygments_lexer": "ipython3",
   "version": "3.6.7"
  }
 },
 "nbformat": 4,
 "nbformat_minor": 2
}
