{
 "cells": [
  {
   "cell_type": "markdown",
   "metadata": {},
   "source": [
    "# Some timeseries scenarios"
   ]
  },
  {
   "cell_type": "code",
   "execution_count": null,
   "metadata": {},
   "outputs": [],
   "source": [
    "import psycopg2 as psy\n",
    "from datetime import datetime, timedelta\n",
    "import json\n",
    "\n",
    "from osgeo import ogr\n",
    "from osgeo import osr\n",
    "\n",
    "import numpy as np\n",
    "import tiledb\n",
    "import os\n"
   ]
  },
  {
   "cell_type": "markdown",
   "metadata": {},
   "source": [
    "## Setting thing up"
   ]
  },
  {
   "cell_type": "markdown",
   "metadata": {},
   "source": [
    "### Setup databases"
   ]
  },
  {
   "cell_type": "code",
   "execution_count": null,
   "metadata": {},
   "outputs": [],
   "source": [
    "# create testdb\n",
    "from psycopg2.extensions import ISOLATION_LEVEL_AUTOCOMMIT\n",
    "\n",
    "con = psy.connect(\"dbname=postgres host=timescaledb user=postgres password=foobar\")\n",
    "\n",
    "with con:\n",
    "    con.set_isolation_level(ISOLATION_LEVEL_AUTOCOMMIT)\n",
    "    with con.cursor() as cur:\n",
    "        cur.execute(\"DROP DATABASE IF EXISTS testdb;\")\n",
    "        cur.execute('CREATE DATABASE testdb')\n",
    "\n",
    "# not sure if the AUTOCOMMIT is needed\n",
    "with con:\n",
    "    con.set_isolation_level(ISOLATION_LEVEL_AUTOCOMMIT)\n",
    "    with con.cursor() as cur:   \n",
    "        cur.execute(\"CREATE EXTENSION IF NOT EXISTS timescaledb CASCADE;\")\n",
    "con.close()"
   ]
  },
  {
   "cell_type": "code",
   "execution_count": null,
   "metadata": {},
   "outputs": [],
   "source": [
    "con = psy.connect(\"dbname=testdb host=timescaledb user=postgres password=foobar\")\n",
    "\n",
    "with con:\n",
    "    with con.cursor() as cur:   \n",
    "        cur.execute(\"CREATE EXTENSION IF NOT EXISTS postgis;\")\n",
    "        cur.execute(\"SELECT postgis_version();\")\n",
    "        print(cur.fetchall())\n",
    "        cur.execute(\"SELECT srid, auth_name, proj4text FROM spatial_ref_sys LIMIT 3;\")\n",
    "        for x in cur.fetchall():\n",
    "            print(x)\n",
    "        cur.execute(\"SELECT srid, auth_name, proj4text FROM spatial_ref_sys WHERE srid = 3003\")\n",
    "        print(cur.fetchall())\n",
    "con.close()"
   ]
  },
  {
   "cell_type": "markdown",
   "metadata": {},
   "source": [
    "### Prepare a generic sensor table"
   ]
  },
  {
   "cell_type": "code",
   "execution_count": null,
   "metadata": {},
   "outputs": [],
   "source": [
    "source = osr.SpatialReference()\n",
    "source.ImportFromEPSG(4326)\n",
    "\n",
    "target = osr.SpatialReference()\n",
    "target.ImportFromEPSG(3003)\n",
    "\n",
    "transform = osr.CoordinateTransformation(source, target)\n",
    "\n",
    "def map_to_monte_mario(wkt):\n",
    "    geom = ogr.CreateGeometryFromWkt(wkt)\n",
    "    geom.Transform(transform)\n",
    "    return geom.ExportToWkt()\n",
    "\n",
    "def create_sensors_index_table(conn):\n",
    "    query = \"\"\"\n",
    "        CREATE TABLE sensors_index (\n",
    "            id int4 primary key,\n",
    "            name VARCHAR(20),\n",
    "            type VARCHAR(20),\n",
    "            category VARCHAR(20),\n",
    "            geom geometry\n",
    "        );\n",
    "    \"\"\"\n",
    "    with conn:\n",
    "        with conn.cursor() as cur:\n",
    "            cur.execute(query)"
   ]
  },
  {
   "cell_type": "code",
   "execution_count": null,
   "metadata": {},
   "outputs": [],
   "source": [
    "con = psy.connect(\"dbname=testdb host=timescaledb user=postgres password=foobar\")\n",
    "create_sensors_index_table(con)"
   ]
  },
  {
   "cell_type": "markdown",
   "metadata": {},
   "source": [
    "## Manage point sensors"
   ]
  },
  {
   "cell_type": "code",
   "execution_count": null,
   "metadata": {},
   "outputs": [],
   "source": [
    "class point_sensor_description:\n",
    "    def __init__(self, stype, sensors):\n",
    "        self.desc = {'type': stype, 'category': [\"meteosensor\"]}\n",
    "        self.desc['controlledProperty'] = sensors\n",
    "        self.desc['footprint'] = {'fixed': True, 'geometry': 'point3D'}\n",
    "        \n",
    "    def to_json(self):\n",
    "        return json.dumps(self.desc)"
   ]
  },
  {
   "cell_type": "code",
   "execution_count": null,
   "metadata": {},
   "outputs": [],
   "source": [
    "def create_point_sensor_table(conn, desc):\n",
    "    conv = {'float32': 'REAL', 'int32': 'INTEGER'}\n",
    "    def create_field(k, v):\n",
    "        return \"{} {} NULL\".format(k, conv[v])\n",
    "    fields = ',\\n'.join(create_field(k, v) for k, v in desc['controlledProperty'])\n",
    "    SQL = \"\"\"\n",
    "    CREATE TABLE {} (\n",
    "       time     TIMESTAMPTZ   NOT NULL,\n",
    "       id       int4          NOT NULL,\n",
    "       {}\n",
    "    );\n",
    "    \"\"\".format(desc['type'], fields)\n",
    "    with conn:\n",
    "        with conn.cursor() as cur:\n",
    "            cur.execute(SQL)\n",
    "    SQL = \"SELECT create_hypertable('{}', 'time');\".format(desc['type'])\n",
    "    with conn:\n",
    "        with conn.cursor() as cur:\n",
    "            cur.execute(SQL)\n",
    "\n",
    "def register_point_sensor(conn, sid, stype, sname, scategory, longitude, latitude):\n",
    "    SQL = \"\"\"INSERT INTO sensors_index (id, name, type, category, geom)\n",
    "             VALUES (%s, %s, %s, %s, ST_GeomFromText(%s, 3003));\"\"\"\n",
    "    with conn:\n",
    "        with conn.cursor() as cur:\n",
    "            cur.execute(SQL,\n",
    "                        (sid, stype, sname, scategory, \n",
    "                         map_to_monte_mario(\"POINT (%s %s)\" % (longitude, latitude))))\n",
    "            \n",
    "def insert_point_sensor_data(conn, desc, sid, values):\n",
    "    SQL = \"INSERT INTO {} (time, id, {}) VALUES (%s, {}, {})\".format(\n",
    "        desc['type'], \", \".join(k for k, v in desc['controlledProperty']),\n",
    "        sid, \", \".join([\"%s\"] * len(desc['controlledProperty'])))\n",
    "    with conn:\n",
    "        for v in values:\n",
    "            with conn.cursor() as cur:\n",
    "                cur.execute(SQL, v)"
   ]
  },
  {
   "cell_type": "markdown",
   "metadata": {},
   "source": [
    "This is the description of the point_sensor class 'meteo_station1'."
   ]
  },
  {
   "cell_type": "code",
   "execution_count": null,
   "metadata": {},
   "outputs": [],
   "source": [
    "sd = point_sensor_description('meteo_station1', \n",
    "         sensors=[('temperature', 'float32'), ('pressure', 'float32'), ('humidity', 'float32')],\n",
    "     )"
   ]
  },
  {
   "cell_type": "code",
   "execution_count": null,
   "metadata": {},
   "outputs": [],
   "source": [
    "sd.desc"
   ]
  },
  {
   "cell_type": "markdown",
   "metadata": {},
   "source": [
    "Register two sensors of the 'meteo_station1' class and create a table to store data from that class of sensors."
   ]
  },
  {
   "cell_type": "code",
   "execution_count": null,
   "metadata": {},
   "outputs": [],
   "source": [
    "register_point_sensor(con, 167, 'meteo_station1', 'rupert001', 'meteosensor', longitude=9.121661, latitude=39.224841)\n",
    "register_point_sensor(con, 191, 'meteo_station1', 'rupert002', 'meteosensor', longitude=9.121661, latitude=39.223971)\n",
    "create_point_sensor_table(con, sd.desc)"
   ]
  },
  {
   "cell_type": "markdown",
   "metadata": {},
   "source": [
    "List all currently known sensors."
   ]
  },
  {
   "cell_type": "code",
   "execution_count": null,
   "metadata": {},
   "outputs": [],
   "source": [
    "with con:\n",
    "    with con.cursor() as cur:\n",
    "        cur.execute(\"SELECT id, ST_AsText(ST_Transform(geom,4326)) from sensors_index;\")\n",
    "        for x in cur.fetchall():\n",
    "            print(x)"
   ]
  },
  {
   "cell_type": "markdown",
   "metadata": {},
   "source": [
    "Insert data associated to the sensors."
   ]
  },
  {
   "cell_type": "code",
   "execution_count": null,
   "metadata": {},
   "outputs": [],
   "source": [
    "def generate_time_series(tstart, delta, n):\n",
    "    return [(tstart + i * delta, np.random.normal(283, 10), np.random.normal(1050, 30), np.random.normal(0.35, 0.1))\n",
    "            for i in range(n)]"
   ]
  },
  {
   "cell_type": "code",
   "execution_count": null,
   "metadata": {},
   "outputs": [],
   "source": [
    "insert_point_sensor_data(con, sd.desc, 167, generate_time_series(datetime.now(), timedelta(seconds=60), 10))\n",
    "insert_point_sensor_data(con, sd.desc, 191, generate_time_series(datetime.now(), timedelta(seconds=60), 10))"
   ]
  },
  {
   "cell_type": "code",
   "execution_count": null,
   "metadata": {},
   "outputs": [],
   "source": [
    "with con:\n",
    "    with con.cursor() as cur:\n",
    "        cur.execute(\"SELECT id, time, temperature from meteo_station1 where id = 167 LIMIT 3;\")\n",
    "        for x in cur.fetchall():\n",
    "            print(x)"
   ]
  },
  {
   "cell_type": "markdown",
   "metadata": {},
   "source": [
    "Find all sensors within 100 meters from a given point."
   ]
  },
  {
   "cell_type": "code",
   "execution_count": null,
   "metadata": {},
   "outputs": [],
   "source": [
    "with con:\n",
    "    with con.cursor() as cur:\n",
    "        cur.execute(\"\"\"\n",
    "        SELECT id, ST_AsText(ST_Transform(geom,4326)) from sensors_index\n",
    "        WHERE ST_DWithin(geom, ST_GeomFromText(%s, 3003), 100);\n",
    "        \"\"\", (map_to_monte_mario('POINT(9.121661 39.223841)'), ))\n",
    "        for x in cur.fetchall():\n",
    "            print(x)"
   ]
  },
  {
   "cell_type": "markdown",
   "metadata": {},
   "source": [
    "Find all sensors within 1000 meters from a given point."
   ]
  },
  {
   "cell_type": "code",
   "execution_count": null,
   "metadata": {},
   "outputs": [],
   "source": [
    "with con:\n",
    "    with con.cursor() as cur:\n",
    "        cur.execute(\"\"\"\n",
    "        SELECT id, ST_AsText(ST_Transform(geom,4326)) from sensors_index\n",
    "        WHERE ST_DWithin(geom, ST_GeomFromText(%s, 3003), 1000);\n",
    "        \"\"\", (map_to_monte_mario('POINT(9.121661 39.223841)'), ))\n",
    "        for x in cur.fetchall():\n",
    "            print(x)"
   ]
  },
  {
   "cell_type": "markdown",
   "metadata": {},
   "source": [
    "Completely gratuituos experiment with folium."
   ]
  },
  {
   "cell_type": "code",
   "execution_count": null,
   "metadata": {},
   "outputs": [],
   "source": [
    "# more or less direct cut&paste from a folium example.\n",
    "import folium\n",
    "import folium.plugins\n",
    "map_1 = folium.Map(location=[39.223841,  9.121661], zoom_start=17,tiles=None)\n",
    "map_1.add_tile_layer()\n",
    "data_sites = [{\"status\": \"is_active\", \"coordinates\" : [39.224841, 9.121661]},\n",
    "              {\"status\": \"is_active\", \"coordinates\" : [39.223971, 9.121661]},\n",
    "              {\"status\": \"not_active\", \"coordinates\" : [39.223824, 9.121661]}, \n",
    "              {\"status\": \"not_active\", \"coordinates\" : [39.223810, 9.121661]}]\n",
    "feature_group_active = folium.FeatureGroup(name='Active')\n",
    "feature_group_unactive = folium.FeatureGroup(name='Unactive')\n",
    "marker_cluster_active = folium.plugins.MarkerCluster()\n",
    "marker_cluster_unactive =folium.plugins.MarkerCluster()\n",
    "for site in data_sites:\n",
    "    if(site[\"status\"]==\"is_active\"):\n",
    "        marker_active = folium.Marker(site[\"coordinates\"],popup=\"OK\",\n",
    "                                      icon = folium.Icon(color='green',icon='ok-sign'))\n",
    "        marker_cluster_active.add_child(marker_active)\n",
    "    else:\n",
    "        marker_unactive = folium.Marker(site[\"coordinates\"],popup=\"KO\",\n",
    "                                        icon = folium.Icon(color='red',icon='exclamation-sign'))\n",
    "        marker_cluster_unactive.add_child(marker_unactive)\n",
    "feature_group_active.add_child(marker_cluster_active)\n",
    "feature_group_unactive.add_child(marker_cluster_unactive)\n",
    "map_1.add_child(feature_group_active)\n",
    "map_1.add_child(feature_group_unactive)"
   ]
  },
  {
   "cell_type": "markdown",
   "metadata": {},
   "source": [
    "## Manage area sensors"
   ]
  },
  {
   "cell_type": "code",
   "execution_count": null,
   "metadata": {},
   "outputs": [],
   "source": [
    "class area_sensor_description:\n",
    "    def __init__(self, stype, sensors):\n",
    "        self.desc = {'type': stype, 'category': [\"meteosensor\"]}\n",
    "        self.desc['controlledProperty'] = sensors\n",
    "        self.desc['footprint'] = {'fixed': True, 'geometry': 'polygon'}\n",
    "        \n",
    "    def to_json(self):\n",
    "        return json.dumps(self.desc)"
   ]
  },
  {
   "cell_type": "code",
   "execution_count": null,
   "metadata": {},
   "outputs": [],
   "source": [
    "def create_area_sensor_table(conn, desc):\n",
    "    SQL = \"\"\"\n",
    "    CREATE TABLE {} (\n",
    "       time     TIMESTAMPTZ   NOT NULL,\n",
    "       id       int4          NOT NULL,\n",
    "       dataset  TEXT          NULL,\n",
    "       frame    int4          NULL\n",
    "    );\n",
    "    \"\"\".format(desc['type'])\n",
    "    with conn:\n",
    "        with conn.cursor() as cur:\n",
    "            cur.execute(SQL)\n",
    "    SQL = \"SELECT create_hypertable('{}', 'time');\".format(desc['type'])\n",
    "    with conn:\n",
    "        with conn.cursor() as cur:\n",
    "            cur.execute(SQL)\n",
    "\n",
    "\n",
    "def register_area_sensor(conn, sid, stype, sname, scategory, polygon):\n",
    "    polygon = \"POLYGON(({}))\".format(\", \".join(\"{} {}\".format(lon, lat) for lon, lat in polygon))\n",
    "    SQL = \"\"\"INSERT INTO sensors_index (id, name, type, category, geom)\n",
    "             VALUES (%s, %s, %s, %s, ST_GeomFromText(%s, 3003));\"\"\"\n",
    "    with conn:\n",
    "        with conn.cursor() as cur:\n",
    "            cur.execute(SQL,\n",
    "                        (sid, stype, sname, scategory, \n",
    "                         map_to_monte_mario(polygon)))\n"
   ]
  },
  {
   "cell_type": "markdown",
   "metadata": {},
   "source": [
    "### Create data arrays"
   ]
  },
  {
   "cell_type": "code",
   "execution_count": null,
   "metadata": {},
   "outputs": [],
   "source": [
    "#ctx = tiledb.Ctx({'vfs.hdfs.username': 'root'})\n",
    "ctx = tiledb.Ctx()\n",
    "#top = tiledb.group_create(ctx, \"hdfs://hdfs:9000/radar01\")\n",
    "top = tiledb.group_create(ctx, \"radar01\")"
   ]
  },
  {
   "cell_type": "code",
   "execution_count": null,
   "metadata": {},
   "outputs": [],
   "source": [
    "coords = tiledb.group_create(ctx, os.path.join(top, \"coords\"))"
   ]
  },
  {
   "cell_type": "code",
   "execution_count": null,
   "metadata": {},
   "outputs": [],
   "source": [
    "coords"
   ]
  },
  {
   "cell_type": "code",
   "execution_count": null,
   "metadata": {},
   "outputs": [],
   "source": [
    "tdim = tiledb.Dim(ctx, 'time', domain=(0, 60*24*365*10), dtype=np.int32, tile=60)\n",
    "xdim = tiledb.Dim(ctx, 'x', domain=(0, 1023), dtype=np.int32, tile=4)\n",
    "ydim = tiledb.Dim(ctx, 'y', domain=(0, 1023), dtype=np.int32, tile=5)\n",
    "\n",
    "tschema = tiledb.ArraySchema(ctx, domain=tiledb.Domain(ctx, tdim), \n",
    "                             sparse=False, \n",
    "                             attrs=[tiledb.Attr(ctx, name='T', dtype=np.float64)]) # seconds from reference\n",
    "xschema = tiledb.ArraySchema(ctx, domain=tiledb.Domain(ctx, xdim), \n",
    "                             sparse=False, \n",
    "                             attrs=[tiledb.Attr(ctx, name='X', dtype=np.float32)]) # monte mario X coordinates of point\n",
    "yschema = tiledb.ArraySchema(ctx, domain=tiledb.Domain(ctx, ydim), \n",
    "                             sparse=False, \n",
    "                             attrs=[tiledb.Attr(ctx, name='Y', dtype=np.float32)]) # monte mario Y coordinates of point\n",
    "tiledb.DenseArray.create(os.path.join(coords, \"time\"), tschema)\n",
    "tiledb.DenseArray.create(os.path.join(coords, \"X\"), xschema)\n",
    "tiledb.DenseArray.create(os.path.join(coords, \"Y\"), yschema)\n",
    "\n",
    "dom = tiledb.Domain(ctx, tdim, xdim, ydim)\n",
    "p = tiledb.Attr(ctx, name='precipitation', dtype=np.float32)\n",
    "schema = tiledb.ArraySchema(ctx, domain=dom, sparse=False, attrs=[p])\n",
    "tiledb.DenseArray.create(os.path.join(top, \"variables\"), schema) # it does not map directly to netcdf4 "
   ]
  },
  {
   "cell_type": "code",
   "execution_count": null,
   "metadata": {},
   "outputs": [],
   "source": [
    "asd = area_sensor_description('radar_mark0', ['precipitation'])"
   ]
  },
  {
   "cell_type": "code",
   "execution_count": null,
   "metadata": {},
   "outputs": [],
   "source": [
    "asd.desc"
   ]
  },
  {
   "cell_type": "code",
   "execution_count": null,
   "metadata": {},
   "outputs": [],
   "source": [
    "create_area_sensor_table(con, asd.desc)"
   ]
  },
  {
   "cell_type": "code",
   "execution_count": null,
   "metadata": {},
   "outputs": [],
   "source": [
    "polygon = [(8.752247222222222, 39.5049278), (8.75418611111111, 38.9513111), (9.463199999999999, 38.9506528),\n",
    "           (9.466852777777778, 39.5042528), (8.752247222222222, 39.5049278)]"
   ]
  },
  {
   "cell_type": "code",
   "execution_count": null,
   "metadata": {},
   "outputs": [],
   "source": [
    "register_area_sensor(con, 200, 'radar_mark0', 'radar@unica', 'meteosensor', polygon)"
   ]
  },
  {
   "cell_type": "markdown",
   "metadata": {},
   "source": [
    "Check what we have registered."
   ]
  },
  {
   "cell_type": "code",
   "execution_count": null,
   "metadata": {},
   "outputs": [],
   "source": [
    "with con:\n",
    "    with con.cursor() as cur:\n",
    "        cur.execute(\"SELECT id, ST_AsText(ST_Transform(geom,4326)) from sensors_index;\")\n",
    "        for x in cur.fetchall():\n",
    "            print(x)"
   ]
  },
  {
   "cell_type": "code",
   "execution_count": null,
   "metadata": {},
   "outputs": [],
   "source": [
    "with con:\n",
    "    with con.cursor() as cur:\n",
    "        cur.execute(\"\"\"\n",
    "        SELECT id, ST_AsText(ST_Transform(geom,4326)) from sensors_index\n",
    "        WHERE ST_DWithin(geom, ST_GeomFromText(%s, 3003), 1000);\n",
    "        \"\"\", (map_to_monte_mario('POINT(9.121661 39.223841)'), ))\n",
    "        for x in cur.fetchall():\n",
    "            print(x)"
   ]
  },
  {
   "cell_type": "markdown",
   "metadata": {},
   "source": [
    "### Insert some radar data\n",
    "\n",
    "This is a rather basic example. "
   ]
  },
  {
   "cell_type": "code",
   "execution_count": null,
   "metadata": {},
   "outputs": [],
   "source": [
    "def insert_area_sensor_data_sql(conn, tstamp, sid, dataset, frame):\n",
    "    SQL = \"INSERT INTO radar_mark0 (time, id, dataset, frame) VALUES (%s, {}, '{}', {})\".format(\n",
    "        tstamp, sid, dataset, frame)\n",
    "    with conn:\n",
    "        with conn.cursor() as cur:\n",
    "            cur.execute(SQL)\n",
    "\n",
    "def insert_area_sensor_data_tiledb(ctx, delta_sec, dataset, idx, data):\n",
    "    var = os.path.join(dataset, 'variables')\n",
    "    time = os.path.join(dataset, 'coords/time')\n",
    "    with tiledb.DenseArray(ctx, time, mode='w') as T:\n",
    "        T[idx:(idx+1)] = delta_sec\n",
    "    print('saved T')\n",
    "    with tiledb.DenseArray(ctx, var, mode='w') as A:\n",
    "        A[idx:(idx+1), ...] = data\n",
    "    #\n",
    "\n",
    "def insert_area_sensor_data(conn, ctx, sid, tstamp, frame, data):\n",
    "    dataset = top\n",
    "    delta_sec = (tstamp - start).total_seconds()\n",
    "    print('ready to save array')\n",
    "    insert_area_sensor_data_tiledb(ctx, delta_sec, dataset, frame, data)\n",
    "    print('ready to save sql')\n",
    "    insert_area_sensor_data_sql(conn, tstamp, sid, dataset, frame)"
   ]
  },
  {
   "cell_type": "code",
   "execution_count": null,
   "metadata": {},
   "outputs": [],
   "source": [
    "start = datetime.now()"
   ]
  },
  {
   "cell_type": "code",
   "execution_count": null,
   "metadata": {},
   "outputs": [],
   "source": [
    "data = np.zeros((1024, 1024), dtype=np.float32)"
   ]
  },
  {
   "cell_type": "code",
   "execution_count": null,
   "metadata": {},
   "outputs": [],
   "source": [
    "insert_area_sensor_data(con, ctx, 200, start + timedelta(seconds=60), 0, data)"
   ]
  },
  {
   "cell_type": "code",
   "execution_count": null,
   "metadata": {},
   "outputs": [],
   "source": []
  }
 ],
 "metadata": {
  "kernelspec": {
   "display_name": "Python 3",
   "language": "python",
   "name": "python3"
  },
  "language_info": {
   "codemirror_mode": {
    "name": "ipython",
    "version": 3
   },
   "file_extension": ".py",
   "mimetype": "text/x-python",
   "name": "python",
   "nbconvert_exporter": "python",
   "pygments_lexer": "ipython3",
   "version": "3.6.7"
  }
 },
 "nbformat": 4,
 "nbformat_minor": 2
}
