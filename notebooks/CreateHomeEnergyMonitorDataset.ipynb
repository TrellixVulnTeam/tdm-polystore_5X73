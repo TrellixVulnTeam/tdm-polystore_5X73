{
 "cells": [
  {
   "cell_type": "markdown",
   "metadata": {},
   "source": [
    "# Generate power consumption measure\n",
    "\n",
    "In this notebook we will simulate a set of edge station timeseries."
   ]
  },
  {
   "cell_type": "code",
   "execution_count": 1,
   "metadata": {},
   "outputs": [],
   "source": [
    "import csv\n",
    "import glob\n",
    "import json\n",
    "import overpy\n",
    "import uuid\n",
    "\n",
    "from geopy.geocoders import Nominatim"
   ]
  },
  {
   "cell_type": "code",
   "execution_count": 3,
   "metadata": {},
   "outputs": [],
   "source": [
    "def get_timeseries(fname):\n",
    "    series = {}\n",
    "    with open(fname) as f:\n",
    "        rd = csv.DictReader(f)\n",
    "        for r in rd:\n",
    "            series.setdefault(r['dataid'], []).append(\n",
    "                (r['localminute'], sum(float(r[k])\n",
    "                                      for k in r if k not in ['localminute', 'dataid'])))\n",
    "    return series"
   ]
  },
  {
   "cell_type": "code",
   "execution_count": 4,
   "metadata": {},
   "outputs": [
    {
     "name": "stdout",
     "output_type": "stream",
     "text": [
      "DumpDB/77_101.csv\n",
      "DumpDB/370_483_545.csv\n",
      "DumpDB/1114_1169_1185.csv\n",
      "DumpDB/774_781_890.csv\n",
      "DumpDB/1192_1283_1310.csv\n",
      "DumpDB/946_974_1103.csv\n",
      "DumpDB/114_115.csv\n",
      "DumpDB/171_187_252.csv\n",
      "DumpDB/585_661_668.csv\n"
     ]
    }
   ],
   "source": [
    "series = {}\n",
    "for fname in glob.glob('DumpDB/*.csv'):\n",
    "    print(fname)\n",
    "    delta = get_timeseries(fname)\n",
    "    series.update(delta)"
   ]
  },
  {
   "cell_type": "code",
   "execution_count": 5,
   "metadata": {},
   "outputs": [
    {
     "name": "stdout",
     "output_type": "stream",
     "text": [
      "Casteddu/Cagliari, CA, SAR, 09124, Italia node\n",
      "Cagliari - Casteddu, CA, SAR, Italia relation\n",
      "Amenities in nodes: 125\n",
      "Amenities in ways: 4\n"
     ]
    }
   ],
   "source": [
    "city_name = \"cagliari\"\n",
    "\n",
    "# Geocoding request via Nominatim\n",
    "geolocator = Nominatim(user_agent=\"city_compare\")\n",
    "geo_results = geolocator.geocode(city_name, exactly_one=False, limit=3)\n",
    "\n",
    "# Searching for relation in result set\n",
    "for r in geo_results:\n",
    "    print(r.address, r.raw.get(\"osm_type\"))\n",
    "    if r.raw.get(\"osm_type\") == \"relation\":\n",
    "        city = r\n",
    "        break\n",
    "\n",
    "# Calculating area id\n",
    "area_id = int(city.raw.get(\"osm_id\")) + 3600000000\n",
    "\n",
    "# Excecuting overpass call\n",
    "api = overpy.Overpass()\n",
    "result = api.query(\"\"\"\n",
    "    area(%s)->.searchArea;\n",
    "    (\n",
    "      node[\"amenity\"=\"restaurant\"](area.searchArea);\n",
    "      way[\"amenity\"=\"restaurant\"](area.searchArea);\n",
    "      relation[\"amenity\"=\"pub\"](area.searchArea);\n",
    "    );\n",
    "    out body;\n",
    "    \"\"\" % area_id)\n",
    "\n",
    "# Printing no. of pubs in nodes and ways\n",
    "print(\"Amenities in nodes: %d\" % len(result.nodes))\n",
    "print(\"Amenities in ways: %d\" % len(result.ways))"
   ]
  },
  {
   "cell_type": "code",
   "execution_count": 6,
   "metadata": {},
   "outputs": [],
   "source": [
    "n = result.nodes[0]"
   ]
  },
  {
   "cell_type": "code",
   "execution_count": 7,
   "metadata": {},
   "outputs": [
    {
     "data": {
      "text/plain": [
       "{'addr:city': 'Cagliari',\n",
       " 'addr:street': 'Bastione di Saint Remy',\n",
       " 'amenity': 'restaurant',\n",
       " 'cuisine': 'regional',\n",
       " 'name': 'Cafe Degli Spiriti',\n",
       " 'note': 'Sardinian specialties, salads, pizza, ham etc. At night cocktails and loungebar. Great view over the city and the ocean.',\n",
       " 'phone': '+39 070.311.03.73',\n",
       " 'price': '€7 drinks'}"
      ]
     },
     "execution_count": 7,
     "metadata": {},
     "output_type": "execute_result"
    }
   ],
   "source": [
    "n.tags"
   ]
  },
  {
   "cell_type": "code",
   "execution_count": 8,
   "metadata": {},
   "outputs": [],
   "source": [
    "def build_station(n):\n",
    "    code = str(uuid.uuid4())\n",
    "    station = {'code': code, 'osmid': n.id, \n",
    "               'geometry': {'type': \"Point\", \n",
    "                            \"coordinates\": [float(n.lon), \n",
    "                                            float(n.lat)]}, \n",
    "               'tags': n.tags}\n",
    "    return station"
   ]
  },
  {
   "cell_type": "code",
   "execution_count": 9,
   "metadata": {},
   "outputs": [],
   "source": [
    "def build_node(station):\n",
    "    code = str(uuid.uuid4())\n",
    "    return {'code': code, 'stationcode': station['code']}"
   ]
  },
  {
   "cell_type": "code",
   "execution_count": 10,
   "metadata": {},
   "outputs": [],
   "source": [
    "def build_sensor_type():\n",
    "    return {\n",
    "        \"code\": str(uuid.uuid4()),\n",
    "        \"type\": \"HomeEnergyMonitorRealPower\",\n",
    "        \"name\": \"temperature sensor in DHT11\",\n",
    "        \"brandName\": \"Acme\",\n",
    "        \"modelName\": \"Acme multisensor DHT11\",\n",
    "        \"manufacturerName\": \"Acme Inc.\",\n",
    "        \"category\": [\"sensor\"],\n",
    "        \"function\": [\"sensing\"],\n",
    "        \"controlledProperty\": [\"realPower\"]\n",
    "        }"
   ]
  },
  {
   "cell_type": "code",
   "execution_count": 11,
   "metadata": {},
   "outputs": [],
   "source": [
    "def build_sensor(n, node, sensortype):\n",
    "    return {\"code\": str(uuid.uuid4()),\n",
    "            \"stypecode\": sensortype[\"code\"],\n",
    "            \"nodecode\": node['code'],\n",
    "            \"geometry\": {\"type\": \"Point\", \n",
    "                         \"coordinates\": [float(n.lon), \n",
    "                                         float(n.lat)]}\n",
    "           }"
   ]
  },
  {
   "cell_type": "code",
   "execution_count": 12,
   "metadata": {},
   "outputs": [],
   "source": [
    "def build_measures(sensor, series):\n",
    "    return [{\"time\": t, \"measure\": {\"value\": v},\n",
    "             \"sensorcode\": sensor['code']} for t, v in series]"
   ]
  },
  {
   "cell_type": "code",
   "execution_count": 13,
   "metadata": {},
   "outputs": [
    {
     "data": {
      "text/plain": [
       "[('2017-01-01 00:00:00-06', 1.644),\n",
       " ('2017-01-01 00:01:00-06', 1.626),\n",
       " ('2017-01-01 00:02:00-06', 1.6199999999999999),\n",
       " ('2017-01-01 00:03:00-06', 1.611),\n",
       " ('2017-01-01 00:04:00-06', 1.644)]"
      ]
     },
     "execution_count": 13,
     "metadata": {},
     "output_type": "execute_result"
    }
   ],
   "source": [
    "series['114'][:5]"
   ]
  },
  {
   "cell_type": "code",
   "execution_count": null,
   "metadata": {},
   "outputs": [],
   "source": [
    "stations = []\n",
    "nodes = []\n",
    "sensor_types = [build_sensor_type()]\n",
    "sensors = []\n",
    "measures = []\n",
    "\n",
    "for n, k in zip(result.nodes, series):\n",
    "    station = build_station(n)\n",
    "    node = build_node(station)\n",
    "    sensor = build_sensor(n, node, sensor_types[0])    \n",
    "    stations.append(station)\n",
    "    nodes.append(node)\n",
    "    sensors.append(sensor)\n",
    "    # one measures file per sensors (single file could be huge)\n",
    "    measures = build_measures(sensor, series[k])\n",
    "    fn = f'measures_{sensor[\"code\"]}.json'\n",
    "    print(f'saving {fn}')\n",
    "    with open(fn, 'w') as f:\n",
    "        json.dump({'measures': measures}, f, indent=4)"
   ]
  },
  {
   "cell_type": "code",
   "execution_count": 15,
   "metadata": {},
   "outputs": [],
   "source": [
    "with open('stations.json', 'w') as f:\n",
    "    json.dump({'stations': stations}, f, indent=4)"
   ]
  },
  {
   "cell_type": "code",
   "execution_count": 16,
   "metadata": {},
   "outputs": [],
   "source": [
    "with open('nodes.json', 'w') as f:\n",
    "    json.dump({'nodes': nodes}, f, indent=4)"
   ]
  },
  {
   "cell_type": "code",
   "execution_count": 17,
   "metadata": {},
   "outputs": [],
   "source": [
    "with open('sensor_types.json', 'w') as f:\n",
    "    json.dump({'sensor_types': sensor_types}, f, indent=4)"
   ]
  },
  {
   "cell_type": "code",
   "execution_count": 18,
   "metadata": {},
   "outputs": [],
   "source": [
    "with open('sensors.json', 'w') as f:\n",
    "    json.dump({'sensors': sensors}, f, indent=4)"
   ]
  }
 ],
 "metadata": {
  "kernelspec": {
   "display_name": "Python 3",
   "language": "python",
   "name": "python3"
  },
  "language_info": {
   "codemirror_mode": {
    "name": "ipython",
    "version": 3
   },
   "file_extension": ".py",
   "mimetype": "text/x-python",
   "name": "python",
   "nbconvert_exporter": "python",
   "pygments_lexer": "ipython3",
   "version": "3.6.7"
  }
 },
 "nbformat": 4,
 "nbformat_minor": 2
}
