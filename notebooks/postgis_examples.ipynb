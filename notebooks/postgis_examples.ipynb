{
 "cells": [
  {
   "cell_type": "markdown",
   "metadata": {},
   "source": [
    "# Experiments with postgis"
   ]
  },
  {
   "cell_type": "markdown",
   "metadata": {},
   "source": [
    "Here the goal is to check if we can use postgis as our geometrical/geographical indexing engine"
   ]
  },
  {
   "cell_type": "code",
   "execution_count": null,
   "metadata": {},
   "outputs": [],
   "source": [
    "import psycopg2 as psy\n",
    "import pandas as pd"
   ]
  },
  {
   "cell_type": "code",
   "execution_count": null,
   "metadata": {},
   "outputs": [],
   "source": [
    "from osgeo import ogr\n",
    "from osgeo import osr\n",
    "\n",
    "source = osr.SpatialReference()\n",
    "source.ImportFromEPSG(4326)\n",
    "\n",
    "target = osr.SpatialReference()\n",
    "target.ImportFromEPSG(3003)\n",
    "\n",
    "transform = osr.CoordinateTransformation(source, target)\n",
    "\n",
    "def map_to_monte_mario(wkt):\n",
    "    geom = ogr.CreateGeometryFromWkt(wkt)\n",
    "    geom.Transform(transform)\n",
    "    return geom.ExportToWkt()"
   ]
  },
  {
   "cell_type": "code",
   "execution_count": null,
   "metadata": {},
   "outputs": [],
   "source": [
    "geom = ogr.CreateGeometryFromWkt('POINT(9.1092760 39.2284606)')"
   ]
  },
  {
   "cell_type": "code",
   "execution_count": null,
   "metadata": {},
   "outputs": [],
   "source": [
    "print(map_to_monte_mario('POINT(9.1092760 39.2284606)'))\n",
    "POLY = \"POLYGON ((9.147340 39.239940, 9.147380 39.239940, 9.147380 39.239960, 9.147340 39.239980, 9.147340 39.239940))\"\n",
    "print(map_to_monte_mario(POLY))"
   ]
  },
  {
   "cell_type": "code",
   "execution_count": null,
   "metadata": {},
   "outputs": [],
   "source": [
    "# create testdb\n",
    "from psycopg2.extensions import ISOLATION_LEVEL_AUTOCOMMIT\n",
    "con = psy.connect(\"dbname=postgres host=timescaledb user=postgres password=foobar\")\n",
    "\n",
    "with con:\n",
    "    con.set_isolation_level(ISOLATION_LEVEL_AUTOCOMMIT)\n",
    "    with con.cursor() as cur:\n",
    "        cur.execute(\"DROP DATABASE IF EXISTS testdbgis;\")\n",
    "        cur.execute(\"CREATE DATABASE testdbgis;\")\n"
   ]
  },
  {
   "cell_type": "code",
   "execution_count": null,
   "metadata": {},
   "outputs": [],
   "source": [
    "con = psy.connect(\"dbname=testdbgis host=timescaledb user=postgres password=foobar\")\n",
    "\n",
    "with con:\n",
    "    with con.cursor() as cur:   \n",
    "        cur.execute(\"CREATE EXTENSION IF NOT EXISTS postgis;\")\n",
    "        cur.execute(\"SELECT postgis_version();\")\n",
    "        print(cur.fetchall())\n",
    "        cur.execute(\"SELECT srid, auth_name, proj4text FROM spatial_ref_sys LIMIT 3;\")\n",
    "        for x in cur.fetchall():\n",
    "            print(x)\n",
    "        cur.execute(\"SELECT srid, auth_name, proj4text FROM spatial_ref_sys WHERE srid = 3003\")\n",
    "        print(cur.fetchall())\n",
    "con.close()"
   ]
  },
  {
   "cell_type": "markdown",
   "metadata": {},
   "source": [
    "## Saving point-probes location\n",
    "\n",
    "Simplest scenario, we are just saving sensors positions."
   ]
  },
  {
   "cell_type": "code",
   "execution_count": null,
   "metadata": {},
   "outputs": [],
   "source": [
    "sensors = pd.read_csv('./data/sensor_data_denorm.csv', index_col='id')"
   ]
  },
  {
   "cell_type": "code",
   "execution_count": null,
   "metadata": {},
   "outputs": [],
   "source": [
    "sensors.head(n=2)"
   ]
  },
  {
   "cell_type": "code",
   "execution_count": null,
   "metadata": {},
   "outputs": [],
   "source": [
    "con = psy.connect(\"dbname=testdbgis host=timescaledb user=postgres password=foobar\")\n",
    "\n",
    "with con:\n",
    "    with con.cursor() as cur:\n",
    "        cur.execute(\"\"\"\n",
    "            DROP TABLE IF EXISTS sensors;\n",
    "            CREATE TABLE sensors (\n",
    "              id int4 primary key,\n",
    "              name VARCHAR(20),\n",
    "              note VARCHAR(100),\n",
    "              station_id int4,\n",
    "              sensor_type int4,\n",
    "              geom geometry(POINT,3003) );\n",
    "        \"\"\")\n",
    "con.close()"
   ]
  },
  {
   "cell_type": "code",
   "execution_count": null,
   "metadata": {},
   "outputs": [],
   "source": [
    "SQL = \"\"\"INSERT INTO sensors (id, name, note, station_id, sensor_type, geom)\n",
    "         VALUES (%s, %s, %s, %s, %s, ST_GeomFromText(%s, 3003));\"\"\"\n",
    "\n",
    "con = psy.connect(\"dbname=testdbgis host=timescaledb user=postgres password=foobar\")\n",
    "with con:\n",
    "    with con.cursor() as cur:\n",
    "        for i, v in zip(sensors.index, sensors.values):\n",
    "            (name, note, st_id, stype, lat, lon) = v[:-1]\n",
    "            cur.execute(SQL, (i, name, \n",
    "                              note, st_id, stype, \n",
    "                              map_to_monte_mario(\"POINT (%s %s)\" % (lon, lat))))\n",
    "con.close()"
   ]
  },
  {
   "cell_type": "code",
   "execution_count": null,
   "metadata": {},
   "outputs": [],
   "source": [
    "con = psy.connect(\"dbname=testdbgis host=timescaledb user=postgres password=foobar\")\n",
    "SQL = \"\"\"\n",
    "SELECT * \n",
    "FROM sensors \n",
    "WHERE ST_Contains(ST_GEOMFROMTEXT(%s, 3003), sensors.geom);\n",
    "\"\"\"\n",
    "RECT = \"POLYGON((9.147340 39.239940, 9.147380 39.239940, 9.147380 39.239960, 9.147340 39.239980, 9.147340 39.239940))\"\n",
    "\n",
    "with con:\n",
    "    with con.cursor() as cur:\n",
    "        cur.execute(SQL, (map_to_monte_mario(RECT),))\n",
    "        for x in cur.fetchall():\n",
    "            print(x)"
   ]
  },
  {
   "cell_type": "markdown",
   "metadata": {},
   "source": [
    "## Saving area-probes location"
   ]
  },
  {
   "cell_type": "code",
   "execution_count": null,
   "metadata": {},
   "outputs": [],
   "source": [
    "con = psy.connect(\"dbname=testdbgis host=timescaledb user=postgres password=foobar\")\n",
    "\n",
    "with con:\n",
    "    with con.cursor() as cur:\n",
    "        cur.execute(\"\"\"\n",
    "            DROP TABLE IF EXISTS areaprobe;\n",
    "            CREATE TABLE areaprobe (\n",
    "              id int4 primary key,\n",
    "              name VARCHAR(20),\n",
    "              sensor_type int4,\n",
    "              geom geometry(POLYGON,3003) );\n",
    "        \"\"\")\n",
    "con.close()"
   ]
  },
  {
   "cell_type": "code",
   "execution_count": null,
   "metadata": {},
   "outputs": [],
   "source": [
    "SQL = \"\"\"INSERT INTO areaprobe (id, name, geom)\n",
    "         VALUES (%s, %s, ST_GeomFromText(%s, 3003));\"\"\"\n",
    "RECT = \"POLYGON((8.7519483  39.5057942, 8.7519483  38.9511270, 9.4666037  39.5057942,9.4666037  38.9511270, 8.7519483  39.5057942))\"\n",
    "\n",
    "\n",
    "con = psy.connect(\"dbname=testdbgis host=timescaledb user=postgres password=foobar\")\n",
    "with con:\n",
    "    with con.cursor() as cur:\n",
    "        cur.execute(SQL, (12, 'Radar@UNICA', map_to_monte_mario(RECT)))\n",
    "con.close()"
   ]
  },
  {
   "cell_type": "code",
   "execution_count": null,
   "metadata": {},
   "outputs": [],
   "source": [
    "con = psy.connect(\"dbname=testdbgis host=timescaledb user=postgres password=foobar\")\n",
    "with con:\n",
    "    with con.cursor() as cur:\n",
    "        cur.execute(\"SELECT * from areaprobe\")\n",
    "        for x in cur.fetchall():\n",
    "            print(x)\n",
    "con.close()"
   ]
  },
  {
   "cell_type": "markdown",
   "metadata": {},
   "source": [
    "## Generic geo objects"
   ]
  },
  {
   "cell_type": "code",
   "execution_count": null,
   "metadata": {},
   "outputs": [],
   "source": [
    "con = psy.connect(\"dbname=testdbgis host=timescaledb user=postgres password=foobar\")\n",
    "\n",
    "with con:\n",
    "    with con.cursor() as cur:\n",
    "        cur.execute(\"\"\"\n",
    "            DROP TABLE IF EXISTS geothings;\n",
    "            CREATE TABLE geothings (\n",
    "              id int4 primary key,\n",
    "              name VARCHAR(20),\n",
    "              type int4,\n",
    "              geom geometry);\n",
    "        \"\"\")\n",
    "con.close()"
   ]
  },
  {
   "cell_type": "code",
   "execution_count": null,
   "metadata": {},
   "outputs": [],
   "source": [
    "SQL = \"\"\"INSERT INTO geothings (id, name, type, geom)\n",
    "         VALUES (%s, %s, %s, ST_GeomFromText(%s, 3003));\"\"\"\n",
    "\n",
    "con = psy.connect(\"dbname=testdbgis host=timescaledb user=postgres password=foobar\")\n",
    "with con:\n",
    "    with con.cursor() as cur:\n",
    "        for i, v in zip(sensors.index, sensors.values):\n",
    "            (name, note, st_id, stype, lat, lon) = v[:-1]\n",
    "            cur.execute(SQL, (i, name, stype, \n",
    "                              map_to_monte_mario(\"POINT (%s %s)\" % (lon, lat))))\n",
    "            \n",
    "con.close()"
   ]
  },
  {
   "cell_type": "code",
   "execution_count": null,
   "metadata": {},
   "outputs": [],
   "source": [
    "SQL = \"\"\"INSERT INTO geothings (id, name, type, geom)\n",
    "         VALUES (%s, %s, %s, ST_GeomFromText(%s, 3003));\"\"\"\n",
    "RECT = \"POLYGON((8.7519483  39.5057942, 8.7519483  38.9511270, 9.4666037  39.5057942,9.4666037  38.9511270, 8.7519483  39.5057942))\"\n",
    "\n",
    "con = psy.connect(\"dbname=testdbgis host=timescaledb user=postgres password=foobar\")\n",
    "with con:\n",
    "    with con.cursor() as cur:\n",
    "        cur.execute(SQL, (2000, 'Radar@UNICA', 4, map_to_monte_mario(RECT)))\n",
    "con.close()"
   ]
  },
  {
   "cell_type": "code",
   "execution_count": null,
   "metadata": {},
   "outputs": [],
   "source": [
    "con = psy.connect(\"dbname=testdbgis host=timescaledb user=postgres password=foobar\")\n",
    "with con:\n",
    "    with con.cursor() as cur:\n",
    "        cur.execute(\"\"\"\n",
    "        SELECT name, ST_AsText(ST_Transform(geom,4326)) from geothings\n",
    "        WHERE ST_DWithin(geom, ST_GeomFromText(%s, 3003), 1000);\n",
    "        \"\"\", (map_to_monte_mario('POINT(9.1092760 39.2284606)'), ))\n",
    "        for x in cur.fetchall():\n",
    "            print(x)\n",
    "con.close()"
   ]
  },
  {
   "cell_type": "code",
   "execution_count": null,
   "metadata": {},
   "outputs": [],
   "source": []
  }
 ],
 "metadata": {
  "kernelspec": {
   "display_name": "Python 3",
   "language": "python",
   "name": "python3"
  },
  "language_info": {
   "codemirror_mode": {
    "name": "ipython",
    "version": 3
   },
   "file_extension": ".py",
   "mimetype": "text/x-python",
   "name": "python",
   "nbconvert_exporter": "python",
   "pygments_lexer": "ipython3",
   "version": "3.6.7"
  }
 },
 "nbformat": 4,
 "nbformat_minor": 2
}
