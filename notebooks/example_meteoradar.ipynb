{
 "cells": [
  {
   "cell_type": "code",
   "execution_count": 1,
   "metadata": {},
   "outputs": [
    {
     "name": "stdout",
     "output_type": "stream",
     "text": [
      "Collecting numpy\n",
      "  Using cached https://files.pythonhosted.org/packages/87/2d/e4656149cbadd3a8a0369fcd1a9c7d61cc7b87b3903b85389c70c989a696/numpy-1.16.4-cp36-cp36m-manylinux1_x86_64.whl\n",
      "Collecting tifffile\n",
      "  Using cached https://files.pythonhosted.org/packages/76/bc/80a4e8dad3f74c3b63aa652dbd2e753b3b110a51d74482d1b245870894eb/tifffile-2019.6.18-py2.py3-none-any.whl\n",
      "Collecting psycopg2\n",
      "Installing collected packages: numpy, tifffile, psycopg2\n",
      "Successfully installed numpy-1.16.4 psycopg2-2.8.3 tifffile-2019.6.18\n"
     ]
    }
   ],
   "source": [
    "!pip3 install numpy tifffile psycopg2 --user"
   ]
  },
  {
   "cell_type": "code",
   "execution_count": 2,
   "metadata": {},
   "outputs": [],
   "source": [
    "import requests\n",
    "import json\n",
    "import numpy as np\n",
    "import tifffile as tiff\n",
    "import math\n",
    "import tempfile\n",
    "import os\n",
    "import tiledb\n",
    "import uuid\n",
    "\n",
    "from datetime import datetime, timedelta"
   ]
  },
  {
   "cell_type": "code",
   "execution_count": 3,
   "metadata": {},
   "outputs": [],
   "source": [
    "%matplotlib inline\n",
    "from matplotlib import pyplot as plt"
   ]
  },
  {
   "cell_type": "code",
   "execution_count": 4,
   "metadata": {},
   "outputs": [],
   "source": [
    "# tdmq constants\n",
    "TDMQ_BASE_URL = 'http://web:8000/api/v0.0'\n",
    "TILEDB_HDFS_ROOT = 'hdfs://hdfs:9000/arrays'\n",
    "TDMQ_NAMESPACE_UUID = uuid.UUID('367b5aee-8609-3c20-b130-4eb927a2d62b')\n",
    "TILEDB_CTX = tiledb.Ctx({'vfs.hdfs.username': 'root'})"
   ]
  },
  {
   "cell_type": "code",
   "execution_count": 5,
   "metadata": {},
   "outputs": [],
   "source": [
    "dpc_meteoradar_mosaic_type = {\n",
    "    \"code\": \"0fd67c67-c9be-45c6-9719-4c4eada4ffff\",\n",
    "    \"type\": \"meteoRadar\",\n",
    "    \"name\": \"Mosaic of dpc meteo radars\",\n",
    "    \"brandName\": \"DPC\",\n",
    "    \"modelName\": \"dpc-radar-mosaic\",\n",
    "    \"manufacturerName\": \"Dipartimento Protezione Civile\",\n",
    "    \"category\": [\"sensor\"],\n",
    "    \"function\": [\"sensing\"],\n",
    "    \"controlledProperty\": [\"VMI\", \"SRI\"], \n",
    "    # FIXME no units? Are they defined by the fact that it is a meteoRadar?\n",
    "    \"reference\": '/'.join([\"http://www.protezionecivile.gov.it\",\n",
    "                           \"attivita-rischi/meteo-idro/attivita/previsione-prevenzione\",\n",
    "                           \"centro-funzionale-centrale-rischio-meteo-idrogeologico\",\n",
    "                           \"monitoraggio-sorveglianza/mappa-radar\"]),\n",
    "}\n",
    "\n"
   ]
  },
  {
   "cell_type": "code",
   "execution_count": 6,
   "metadata": {},
   "outputs": [],
   "source": [
    "dpc_temperature_mosaic_type = {\n",
    "    \"code\": \"0fd67c67-c9be-45c6-9719-4c4eada4bbbb\",\n",
    "    \"type\": \"temperatureSensorNetwork\",\n",
    "    \"name\": \"Mosaic of dpc temperature sensors\",\n",
    "    \"brandName\": \"DPC\",\n",
    "    \"modelName\": \"dpc-temperature-mosaic\",\n",
    "    \"manufacturerName\": \"Dipartimento Protezione Civile\",\n",
    "    \"category\": [\"sensor\"],\n",
    "    \"function\": [\"sensing\"],\n",
    "    \"controlledProperty\": [\"TEMP\"], \n",
    "    # FIXME no units? Celsius\n",
    "    \"reference\": '/'.join([\"http://www.protezionecivile.gov.it\",\n",
    "                           \"attivita-rischi/meteo-idro/attivita/previsione-prevenzione\",\n",
    "                           \"centro-funzionale-centrale-rischio-meteo-idrogeologico\",\n",
    "                           \"monitoraggio-sorveglianza/mappa-radar\"]),\n",
    "}\n"
   ]
  },
  {
   "cell_type": "code",
   "execution_count": 7,
   "metadata": {},
   "outputs": [],
   "source": [
    "dpc_url='http://www.protezionecivile.gov.it/wide-api/wide/product/downloadProduct'\n",
    "\n",
    "def extract_data(tif):\n",
    "    page = tif.pages[0]\n",
    "    data = page.asarray()\n",
    "    # zeroout nan, force mask value to -9999.0\n",
    "    data[np.isnan(data)] = -9999.0\n",
    "    return page.geotiff_tags, data\n",
    "\n",
    "def gather_data(t, field):\n",
    "    product_date = math.floor(t.timestamp() * 1000)\n",
    "    payload = {'productType': field, 'productDate': product_date}\n",
    "    r = requests.post(dpc_url, json=payload)\n",
    "    if r.status_code != 200:\n",
    "        raise ValueError(\"Bad return code: %s\" % r.status_code)\n",
    "    # FIXME find a cleaner way to handle the returned tif file.\n",
    "    handle, fpath = tempfile.mkstemp()\n",
    "    with open(fpath, 'wb') as f:\n",
    "        f.write(r.content)\n",
    "    tif = tiff.TiffFile(fpath)\n",
    "    os.unlink(fpath)\n",
    "    return extract_data(tif)\n",
    "\n",
    "def create_sensor_description(sensor_type_desc, name, controlled_properties, time_base, time_delta):\n",
    "    geotiff_tags, data = gather_data(time_base, controlled_properties[0]) # just to get the data shape\n",
    "    T = np.array(geotiff_tags['ModelTransformation']).reshape(4, 4)\n",
    "    ysize, xsize = data.shape\n",
    "    # Note the nesting level http://wiki.geojson.org/GeoJSON_draft_version_6#Polygon\n",
    "    coordinates = [[T.dot(v).tolist() for v in [[0, 0, 0, 1], [0, ysize, 0, 1], [xsize, ysize, 0, 1],\n",
    "                                               [xsize, 0, 0, 1], [0, 0, 0, 1]]]]\n",
    "    stypecode = uuid.UUID(sensor_type_desc['code'])\n",
    "    description = {\n",
    "        \"name\": name,\n",
    "        \"code\": str(uuid.uuid3(stypecode, name)),\n",
    "        \"stypecode\": str(stypecode),\n",
    "        # FIXME not used\n",
    "        \"nodecode\": \"0fd67ccc-c9be-45c6-9719-4c4eada4beaa\",\n",
    "        \"geometry\": {\"type\": \"Polygon\", \"coordinates\": coordinates},\n",
    "        \"controlledProperty\": controlled_properties,\n",
    "        \"timebase\": time_base.strftime('%Y-%m-%dT%H:%M:%SZ'),\n",
    "        \"timedelta\": time_delta.total_seconds(),\n",
    "        \"geotiff_tags\": geotiff_tags,\n",
    "        \"grid\": {\"ysize\": ysize, \"xsize\": xsize},\n",
    "    }\n",
    "    return description"
   ]
  },
  {
   "cell_type": "code",
   "execution_count": 8,
   "metadata": {},
   "outputs": [],
   "source": [
    "# FIXME remember to initialize the db first:\n",
    "# docker-compose exec web flask db init\n",
    "def register_thing(thing, description):\n",
    "    assert isinstance(description, dict)\n",
    "    # FIXME check if thing already exists and manage errors\n",
    "    r = requests.post(f'{TDMQ_BASE_URL}/{thing}', json=[description])\n",
    "    if r.status_code == 500:\n",
    "        raise ValueError('Illegal value')\n",
    "    return r.json()\n",
    "\n",
    "\n",
    "def register_sensor_type(description):\n",
    "    return register_thing('sensor_types', description)\n",
    "\n",
    "def register_sensor(description):\n",
    "    return register_thing('sensors', description)\n",
    "\n",
    "def register_measure(measure):\n",
    "    assert isinstance(measure, dict)\n",
    "    # FIXME check if thing already exists and manage errors\n",
    "    r = requests.post(f'{TDMQ_BASE_URL}/measures', json=[measure])\n",
    "    if r.status_code == 500:\n",
    "        raise ValueError('Illegal value')\n",
    "    return r.json()"
   ]
  },
  {
   "cell_type": "code",
   "execution_count": 9,
   "metadata": {},
   "outputs": [],
   "source": [
    "def create_meteo_sensor_tiledb_array(description):\n",
    "    array_name = os.path.join(TILEDB_HDFS_ROOT, description['code'])\n",
    "    if tiledb.object_type(array_name) is not None:\n",
    "        raise ValueError('duplicate object with path %s' % array_name)\n",
    "    n_rows, n_cols = description['grid']['ysize'], description['grid']['xsize']\n",
    "    dom = tiledb.Domain(tiledb.Dim(name=\"delta_t\", domain=(0, 12 * 24 * 10 * 365), tile=1, dtype=np.int32),\n",
    "                        tiledb.Dim(name=\"rows\", domain=(0, n_rows - 1), tile=n_rows, dtype=np.int32),\n",
    "                        tiledb.Dim(name=\"cols\", domain=(0, n_cols - 1), tile=n_cols, dtype=np.int32),\n",
    "                        ctx=TILEDB_CTX)\n",
    "    attrs = [tiledb.Attr(name=aname, dtype=np.float32)\n",
    "             for aname in description['controlledProperty']]\n",
    "    schema = tiledb.ArraySchema(domain=dom, sparse=False, attrs=attrs, ctx=TILEDB_CTX)\n",
    "    # Create the (empty) array on disk.\n",
    "    tiledb.DenseArray.create(array_name, schema)\n",
    "    return array_name"
   ]
  },
  {
   "cell_type": "code",
   "execution_count": 10,
   "metadata": {},
   "outputs": [
    {
     "name": "stdout",
     "output_type": "stream",
     "text": [
      "rm: `hdfs://hdfs:9000/arrays': No such file or directory\r\n"
     ]
    }
   ],
   "source": [
    "!HADOOP_USER_NAME=root hdfs dfs -rm -r hdfs://hdfs:9000/arrays   "
   ]
  },
  {
   "cell_type": "code",
   "execution_count": 11,
   "metadata": {},
   "outputs": [],
   "source": [
    "!HADOOP_USER_NAME=root hdfs dfs -mkdir hdfs://hdfs:9000/arrays"
   ]
  },
  {
   "cell_type": "code",
   "execution_count": 12,
   "metadata": {},
   "outputs": [],
   "source": [
    "# FIXME: time_base should be not earlier that 1 week ago and it should align with the 1 hr boundary\n",
    "now = datetime.now()\n",
    "time_base = datetime(now.year, now.month, now.day, now.hour) - timedelta(seconds=7*24*3600)\n",
    "time_delta_radar = timedelta(seconds=300)\n",
    "time_delta_temp = timedelta(seconds=3600)\n",
    "\n",
    "radar_desc = create_sensor_description(dpc_meteoradar_mosaic_type, 'dpc_meteoradar_mosaic', \n",
    "                                       ['VMI', 'SRI'], time_base, time_delta_radar)\n",
    "temp_desc  = create_sensor_description(dpc_temperature_mosaic_type, 'dpc_temperature_mosaic', \n",
    "                                       ['TEMP'], time_base, time_delta_temp)"
   ]
  },
  {
   "cell_type": "code",
   "execution_count": 13,
   "metadata": {},
   "outputs": [
    {
     "data": {
      "text/plain": [
       "[{'brandName': 'DPC',\n",
       "  'category': ['sensor'],\n",
       "  'code': '0fd67c67-c9be-45c6-9719-4c4eada4ffff',\n",
       "  'controlledProperty': ['VMI', 'SRI'],\n",
       "  'function': ['sensing'],\n",
       "  'manufacturerName': 'Dipartimento Protezione Civile',\n",
       "  'modelName': 'dpc-radar-mosaic',\n",
       "  'name': 'Mosaic of dpc meteo radars',\n",
       "  'reference': 'http://www.protezionecivile.gov.it/attivita-rischi/meteo-idro/attivita/previsione-prevenzione/centro-funzionale-centrale-rischio-meteo-idrogeologico/monitoraggio-sorveglianza/mappa-radar',\n",
       "  'type': 'meteoRadar'},\n",
       " {'brandName': 'DPC',\n",
       "  'category': ['sensor'],\n",
       "  'code': '0fd67c67-c9be-45c6-9719-4c4eada4bbbb',\n",
       "  'controlledProperty': ['TEMP'],\n",
       "  'function': ['sensing'],\n",
       "  'manufacturerName': 'Dipartimento Protezione Civile',\n",
       "  'modelName': 'dpc-temperature-mosaic',\n",
       "  'name': 'Mosaic of dpc temperature sensors',\n",
       "  'reference': 'http://www.protezionecivile.gov.it/attivita-rischi/meteo-idro/attivita/previsione-prevenzione/centro-funzionale-centrale-rischio-meteo-idrogeologico/monitoraggio-sorveglianza/mappa-radar',\n",
       "  'type': 'temperatureSensorNetwork'}]"
      ]
     },
     "execution_count": 13,
     "metadata": {},
     "output_type": "execute_result"
    }
   ],
   "source": [
    "try:\n",
    "    register_sensor_type(dpc_meteoradar_mosaic_type)\n",
    "except ValueError as e:\n",
    "    print(e)\n",
    "try:\n",
    "    register_sensor_type(dpc_temperature_mosaic_type)\n",
    "except ValueError as e:\n",
    "    print(e)\n",
    "requests.get(f'{TDMQ_BASE_URL}/sensor_types').json()"
   ]
  },
  {
   "cell_type": "code",
   "execution_count": 14,
   "metadata": {},
   "outputs": [],
   "source": [
    "def register_dpc_meteo_sensor(desc):\n",
    "    try:\n",
    "        register_sensor(desc)\n",
    "    except ValueError as e:\n",
    "        print(e)\n",
    "    try:\n",
    "        return create_meteo_sensor_tiledb_array(desc)\n",
    "    except ValueError as e:\n",
    "        print(e)"
   ]
  },
  {
   "cell_type": "code",
   "execution_count": 15,
   "metadata": {},
   "outputs": [],
   "source": [
    "\n",
    "def ingest_dpc_meteo_acquisition(desc, t):\n",
    "    array_path = os.path.join(TILEDB_HDFS_ROOT, desc['code'])\n",
    "    assert tiledb.object_type(array_path) is 'array'\n",
    "    time_base = datetime.strptime(desc['timebase'], '%Y-%m-%dT%H:%M:%SZ')\n",
    "    i = math.floor((t - time_base).total_seconds() / desc['timedelta'])\n",
    "    # FIXME: we are assuming that within a sensor all measures use the same mask\n",
    "    data = {}\n",
    "    for fname in desc['controlledProperty']:\n",
    "        print(t, fname, i)\n",
    "        geotiff_tags, field = gather_data(t, fname)\n",
    "        data[fname] = field\n",
    "    with tiledb.DenseArray(array_path, mode='w', ctx=TILEDB_CTX) as A:\n",
    "       A[i:i+1, :, :] = data\n",
    "    return register_measure({'time': t.strftime('%Y-%m-%dT%H:%M:%SZ'), \n",
    "                             'sensorcode': desc['code'], \n",
    "                             'measure': {'reference': array_path, 'index': i}})"
   ]
  },
  {
   "cell_type": "code",
   "execution_count": 16,
   "metadata": {},
   "outputs": [
    {
     "data": {
      "text/plain": [
       "[{'code': '54d2c631-60ff-3f9a-879d-7b2a90b86184',\n",
       "  'controlledProperty': ['VMI', 'SRI'],\n",
       "  'geometry': {'coordinates': [[[4.537000517753033,\n",
       "      47.856095810774605,\n",
       "      0.0,\n",
       "      1.0],\n",
       "     [4.537000517753033, 35.07686201381699, 0.0, 1.0],\n",
       "     [20.436762466677894, 35.07686201381699, 0.0, 1.0],\n",
       "     [20.436762466677894, 47.856095810774605, 0.0, 1.0],\n",
       "     [4.537000517753033, 47.856095810774605, 0.0, 1.0]]],\n",
       "   'type': 'Polygon'},\n",
       "  'geotiff_tags': {'GTModelTypeGeoKey': 2,\n",
       "   'GTRasterTypeGeoKey': 1,\n",
       "   'GeographicTypeGeoKey': 4326,\n",
       "   'KeyDirectoryVersion': 1,\n",
       "   'KeyRevision': 1,\n",
       "   'KeyRevisionMinor': 2,\n",
       "   'ModelTransformation': [[0.013249801624104052, 0.0, 0.0, 4.537000517753033],\n",
       "    [0.0, -0.009128024140684008, 0.0, 47.856095810774605],\n",
       "    [0.0, 0.0, 0.0, 0.0],\n",
       "    [0.0, 0.0, 0.0, 1.0]]},\n",
       "  'grid': {'xsize': 1200, 'ysize': 1400},\n",
       "  'name': 'dpc_meteoradar_mosaic',\n",
       "  'nodecode': '0fd67ccc-c9be-45c6-9719-4c4eada4beaa',\n",
       "  'stypecode': '0fd67c67-c9be-45c6-9719-4c4eada4ffff',\n",
       "  'timebase': '2019-06-20T12:00:00Z',\n",
       "  'timedelta': 300.0},\n",
       " {'code': 'cb28c134-6d81-3ffb-8929-321f9d0bedf5',\n",
       "  'controlledProperty': ['TEMP'],\n",
       "  'geometry': {'coordinates': [[[6.0, 47.50026321411133, 0.0, 1.0],\n",
       "     [6.0, 35.990049599775915, 0.0, 1.0],\n",
       "     [18.60927915042647, 35.990049599775915, 0.0, 1.0],\n",
       "     [18.60927915042647, 47.50026321411133, 0.0, 1.0],\n",
       "     [6.0, 47.50026321411133, 0.0, 1.0]]],\n",
       "   'type': 'Polygon'},\n",
       "  'geotiff_tags': {'GTModelTypeGeoKey': 2,\n",
       "   'GTRasterTypeGeoKey': 1,\n",
       "   'GeographicTypeGeoKey': 4326,\n",
       "   'KeyDirectoryVersion': 1,\n",
       "   'KeyRevision': 1,\n",
       "   'KeyRevisionMinor': 2,\n",
       "   'ModelTransformation': [[0.019983009747110096, 0.0, 0.0, 6.0],\n",
       "    [0.0, -0.019983009747110096, 0.0, 47.50026321411133],\n",
       "    [0.0, 0.0, 0.0, 0.0],\n",
       "    [0.0, 0.0, 0.0, 1.0]]},\n",
       "  'grid': {'xsize': 631, 'ysize': 576},\n",
       "  'name': 'dpc_temperature_mosaic',\n",
       "  'nodecode': '0fd67ccc-c9be-45c6-9719-4c4eada4beaa',\n",
       "  'stypecode': '0fd67c67-c9be-45c6-9719-4c4eada4bbbb',\n",
       "  'timebase': '2019-06-20T12:00:00Z',\n",
       "  'timedelta': 3600.0}]"
      ]
     },
     "execution_count": 16,
     "metadata": {},
     "output_type": "execute_result"
    }
   ],
   "source": [
    "radar_array = register_dpc_meteo_sensor(radar_desc)\n",
    "temp_array = register_dpc_meteo_sensor(temp_desc)\n",
    "requests.get(f'{TDMQ_BASE_URL}/sensors').json()"
   ]
  },
  {
   "cell_type": "code",
   "execution_count": 17,
   "metadata": {},
   "outputs": [
    {
     "name": "stdout",
     "output_type": "stream",
     "text": [
      "2019-06-20 12:00:00 TEMP 0\n",
      "2019-06-20 13:00:00 TEMP 1\n",
      "2019-06-20 14:00:00 TEMP 2\n",
      "2019-06-20 15:00:00 TEMP 3\n",
      "2019-06-20 16:00:00 TEMP 4\n",
      "2019-06-20 17:00:00 TEMP 5\n",
      "2019-06-20 18:00:00 TEMP 6\n",
      "2019-06-20 19:00:00 TEMP 7\n",
      "2019-06-20 20:00:00 TEMP 8\n",
      "2019-06-20 21:00:00 TEMP 9\n"
     ]
    }
   ],
   "source": [
    "t = time_base\n",
    "for i in range(10):\n",
    "    ingest_dpc_meteo_acquisition(temp_desc, t)\n",
    "    t += time_delta_temp"
   ]
  },
  {
   "cell_type": "code",
   "execution_count": 18,
   "metadata": {
    "scrolled": true
   },
   "outputs": [
    {
     "name": "stdout",
     "output_type": "stream",
     "text": [
      "2019-06-20 12:00:00 VMI 0\n",
      "2019-06-20 12:00:00 SRI 0\n",
      "2019-06-20 12:05:00 VMI 1\n",
      "2019-06-20 12:05:00 SRI 1\n",
      "2019-06-20 12:10:00 VMI 2\n",
      "2019-06-20 12:10:00 SRI 2\n",
      "2019-06-20 12:15:00 VMI 3\n",
      "2019-06-20 12:15:00 SRI 3\n",
      "2019-06-20 12:20:00 VMI 4\n",
      "2019-06-20 12:20:00 SRI 4\n",
      "2019-06-20 12:25:00 VMI 5\n",
      "2019-06-20 12:25:00 SRI 5\n",
      "2019-06-20 12:30:00 VMI 6\n",
      "2019-06-20 12:30:00 SRI 6\n",
      "2019-06-20 12:35:00 VMI 7\n",
      "2019-06-20 12:35:00 SRI 7\n",
      "2019-06-20 12:40:00 VMI 8\n",
      "2019-06-20 12:40:00 SRI 8\n",
      "2019-06-20 12:45:00 VMI 9\n",
      "2019-06-20 12:45:00 SRI 9\n"
     ]
    }
   ],
   "source": [
    "t = time_base\n",
    "for i in range(10):\n",
    "    ingest_dpc_meteo_acquisition(radar_desc, t)\n",
    "    t += time_delta_radar"
   ]
  },
  {
   "cell_type": "code",
   "execution_count": 158,
   "metadata": {},
   "outputs": [
    {
     "data": {
      "text/plain": [
       "(2, 1400, 1200)"
      ]
     },
     "execution_count": 158,
     "metadata": {},
     "output_type": "execute_result"
    }
   ],
   "source": [
    "data = c.fetch_data_block(bor, idx)\n",
    "data['VMI'].shape"
   ]
  },
  {
   "cell_type": "code",
   "execution_count": 159,
   "metadata": {},
   "outputs": [],
   "source": [
    "vmi = data['VMI'] * (data['VMI'] > -9000.0)\n",
    "sri = data['SRI'] * (data['SRI'] > -9000.0)"
   ]
  },
  {
   "cell_type": "code",
   "execution_count": 160,
   "metadata": {},
   "outputs": [
    {
     "data": {
      "text/plain": [
       "<matplotlib.image.AxesImage at 0x7f7bac7e9be0>"
      ]
     },
     "execution_count": 160,
     "metadata": {},
     "output_type": "execute_result"
    },
    {
     "data": {
      "image/png": "[encoded data removed]",
      "text/plain": [
       "<Figure size 432x288 with 1 Axes>"
      ]
     },
     "metadata": {
      "needs_background": "light"
     },
     "output_type": "display_data"
    }
   ],
   "source": [
    "plt.imshow(vmi[0])"
   ]
  },
  {
   "cell_type": "code",
   "execution_count": 97,
   "metadata": {},
   "outputs": [
    {
     "data": {
      "text/plain": [
       "(1400, 1200)"
      ]
     },
     "execution_count": 97,
     "metadata": {},
     "output_type": "execute_result"
    }
   ],
   "source": [
    "data['VMI'].shape"
   ]
  },
  {
   "cell_type": "code",
   "execution_count": null,
   "metadata": {},
   "outputs": [],
   "source": [
    "T = data['TEMP']"
   ]
  },
  {
   "cell_type": "code",
   "execution_count": null,
   "metadata": {},
   "outputs": [],
   "source": [
    "plt.imshow(T[5, :, :] * (T[5, :, :] > -9999.0))"
   ]
  },
  {
   "cell_type": "code",
   "execution_count": null,
   "metadata": {},
   "outputs": [],
   "source": [
    "with tiledb.DenseArray(radar_array, mode='r', ctx=TILEDB_CTX) as A:\n",
    "    data = A[0:10,:,:]"
   ]
  },
  {
   "cell_type": "code",
   "execution_count": null,
   "metadata": {},
   "outputs": [],
   "source": [
    "res"
   ]
  },
  {
   "cell_type": "code",
   "execution_count": null,
   "metadata": {},
   "outputs": [],
   "source": [
    "args = {\n",
    "    'after': '2019-06-15T11:00:00Z',\n",
    "    'before':'2019-06-20T11:50:25Z',\n",
    "    'bucket': 600,\n",
    "    'op': 'sum'\n",
    "}\n",
    "code = '54d2c631-60ff-3f9a-879d-7b2a90b86184'\n",
    "res = requests.get(f'{TDMQ_BASE_URL}/sensors/{code}/timeseries', params=args).json()"
   ]
  },
  {
   "cell_type": "code",
   "execution_count": null,
   "metadata": {
    "scrolled": false
   },
   "outputs": [],
   "source": [
    "res"
   ]
  },
  {
   "cell_type": "code",
   "execution_count": null,
   "metadata": {},
   "outputs": [],
   "source": [
    "import abc\n",
    "\n",
    "class TimeSeries(abc.ABC):\n",
    "\n",
    "    def pre_fetch(self):\n",
    "        base_url = self.sensor.client.base_url\n",
    "        code = self.sensor.code\n",
    "        args = {'after': self.after, 'before': self.before,\n",
    "                'bucket': self.bucket, 'op': op}\n",
    "        res = requests.get(f'{base_url}/sensors/{code}/timeseries', params=args).json()\n",
    "        self.timebase = res['timebase']\n",
    "        self.timedelta = np.array(res['timedelta'])\n",
    "        return res['data']\n",
    "    \n",
    "    \n",
    "    @abc.abstractmethod\n",
    "    def fetch(self):\n",
    "        pass\n",
    "    \n",
    "    @abc.abstractmethod\n",
    "    def get_item(self, args):\n",
    "        pass\n",
    "    \n",
    "    def __getitem__(self, indx):\n",
    "        return self.get_item(np.index_exp[indx])\n",
    "\n",
    "    def __init__(self, sensor, after, before, bucket, op):\n",
    "        self.sensor = sensor\n",
    "        self.after = after\n",
    "        self.before = before\n",
    "        self.bucket = bucket\n",
    "        self.op = op\n",
    "        self.fetch()\n"
   ]
  },
  {
   "cell_type": "code",
   "execution_count": null,
   "metadata": {},
   "outputs": [],
   "source": [
    "class ScalarTimeSeries(TimeSeries):\n",
    "    def fetch(self):\n",
    "        data = self.pre_fetch()\n",
    "        # FIXME multi channel sensors would be supported using something like\n",
    "        # self.data = dict((fname, np.array(res['data'][fname] for fname in res['data'])\n",
    "        self.data = np.array(data)\n",
    "    def get_item(self, args):\n",
    "        assert len(args) == 1\n",
    "        return (self.timedelta[args], self.data[args])"
   ]
  },
  {
   "cell_type": "code",
   "execution_count": null,
   "metadata": {},
   "outputs": [],
   "source": [
    "def fetch_data_block(block_of_refs, args):\n",
    "    urls = set(r[0] for r in block_of_refs)\n",
    "    # FIXME we support only the trivial case, for the time being\n",
    "    assert len(urls) == 1\n",
    "    indices = np.array([r[1] for r in block_of_refs], dtype=np.int32)\n",
    "    assert np.all(indices[1:] - indices[:-1] == 1)   \n",
    "    s = slice(indices.min(), indices.max() + 1)\n",
    "    \n",
    "    \n",
    "\n",
    "class NonScalarTimeSeries(TimeSeries):\n",
    "    def fetch(self):\n",
    "        self.data = self.pre_fetch()\n",
    "    def fetch_data_block(self, args):\n",
    "        if self.bucket is None:\n",
    "            block_of_refs = self.data[args[0]]\n",
    "            block_of_refs = block_of_refs\\\n",
    "                            if isinstance(block_of_refs, list) else [block_of_refs]\n",
    "            return fetch_data_block(block_of_refs, args[1:]))\n",
    "        else:\n",
    "          raise ValueError(f'bucket not supported')\n",
    "    def get_item(self, args):\n",
    "        assert len(args) > 0\n",
    "        timedeltas = self.timedelta[args[0]]\n",
    "        if isinstance(args[0], slice) and len(timedeltas) == 0:\n",
    "            return (timedeltas, array([], dtype=int32))\n",
    "        else:\n",
    "            return (timedeltas, self.fetch_data_block(args))\n"
   ]
  },
  {
   "cell_type": "code",
   "execution_count": null,
   "metadata": {},
   "outputs": [],
   "source": [
    "\n",
    "\n",
    "class ScalarTimeSeries(TimeSeries):\n",
    "    def fetch(self):\n",
    "        res = self.pre_fetch()\n",
    "        self.timebase = res['timebase']\n",
    "        self.timedelta = np.numpy(res['timedelta'])\n",
    "        # FIXME multi channel sensors would be something like\n",
    "        self.data = dict((fname, np.array))\n",
    "        self.data = \n",
    "        \n",
    "\n",
    "class SensorProxy(abc.ABC):\n",
    "    def __init__(self, client, sensor_type, description):\n",
    "        self.client = client\n",
    "        self.code = description['code']\n",
    "        self.sensor_type = sensort_type\n",
    "        self.desc = description\n",
    "    def geometry(self):\n",
    "        return self.desc['geometry']\n",
    "    @abc.abstractmethod\n",
    "    def timeseries(self, after, before, bucket, op):\n",
    "        \n",
    "class ScalarSensorProxy:\n",
    "    def __init__(self, client, sensor_type, sensor):\n",
    "        self.client = client\n",
    "        self.sensor_type = sensor_type\n",
    "        self.sensor = sensor\n",
    "    def geometry(self):\n",
    "        return self.sensor['geometry']\n",
    "    def timeseries(self, after, before, bucket, op):\n",
    "        pass\n",
    "    def \n",
    "        \n",
    "\n",
    "class client:\n",
    "    def __init__(self, tdmq_base_url):\n",
    "        self.base_url = tdmq_base_url\n",
    "        self.sensor_types = None\n",
    "        self.update_sensor_types()\n",
    "    def update_sensor_types(self):\n",
    "        stypes = requests.get(f'{self.base_url}/sensor_types').json()\n",
    "        self.sensor_types = dict((st['code'], st) for st in stypes)\n",
    "    def make_sensor_proxy(self, sensors):\n",
    "        \n",
    "    def get_sensors(self, args):\n",
    "        res = requests.get(f'{self.base_url}/sensors', params=args).json()\n",
    "        return self.make_sensor_proxy(res)\n",
    "        "
   ]
  },
  {
   "cell_type": "code",
   "execution_count": null,
   "metadata": {},
   "outputs": [],
   "source": [
    "import pandas as pd"
   ]
  },
  {
   "cell_type": "code",
   "execution_count": null,
   "metadata": {},
   "outputs": [],
   "source": [
    "class AA:\n",
    "    def __getitem__(self, a):\n",
    "        return np.index_exp[a]"
   ]
  },
  {
   "cell_type": "code",
   "execution_count": null,
   "metadata": {},
   "outputs": [],
   "source": [
    "aa = AA(); print(aa[2, 3:4, 6])"
   ]
  },
  {
   "cell_type": "code",
   "execution_count": null,
   "metadata": {},
   "outputs": [],
   "source": [
    "np.index_exp[2::2, 4:10:1]"
   ]
  },
  {
   "cell_type": "code",
   "execution_count": null,
   "metadata": {},
   "outputs": [],
   "source": [
    "def foo(args):\n",
    "    return np.index_exp[args]"
   ]
  },
  {
   "cell_type": "code",
   "execution_count": null,
   "metadata": {},
   "outputs": [],
   "source": [
    "foo[1:2, 20:30, 123:444, 55:99]"
   ]
  },
  {
   "cell_type": "code",
   "execution_count": null,
   "metadata": {},
   "outputs": [],
   "source": [
    "ts[i]\n",
    "(t[i], v[i])\n",
    "ts.shape\n",
    "(120, 1024, 1024)\n",
    "ts[i, 32:64, 32:64]\n",
    "\n",
    "(t[120], data[120, 32:64. 32:64])\n",
    "ts[1:10, 32:64, 32:64]\n",
    "(t[1:10], data[1:10, 32:64, 32:64])"
   ]
  },
  {
   "cell_type": "code",
   "execution_count": null,
   "metadata": {},
   "outputs": [],
   "source": [
    "a = np.array(range(10), dtype=np.int32)"
   ]
  },
  {
   "cell_type": "code",
   "execution_count": null,
   "metadata": {},
   "outputs": [],
   "source": [
    "np.all(a[1:] - a[:-1] == 1)"
   ]
  },
  {
   "cell_type": "code",
   "execution_count": null,
   "metadata": {},
   "outputs": [],
   "source": [
    "a[0:0]"
   ]
  },
  {
   "cell_type": "code",
   "execution_count": null,
   "metadata": {},
   "outputs": [],
   "source": [
    "a = set([1,2])"
   ]
  },
  {
   "cell_type": "code",
   "execution_count": null,
   "metadata": {},
   "outputs": [],
   "source": [
    "a.pop()"
   ]
  },
  {
   "cell_type": "code",
   "execution_count": null,
   "metadata": {},
   "outputs": [],
   "source": [
    "len(a)"
   ]
  },
  {
   "cell_type": "code",
   "execution_count": null,
   "metadata": {},
   "outputs": [],
   "source": []
  }
 ],
 "metadata": {
  "kernelspec": {
   "display_name": "Python 3",
   "language": "python",
   "name": "python3"
  },
  "language_info": {
   "codemirror_mode": {
    "name": "ipython",
    "version": 3
   },
   "file_extension": ".py",
   "mimetype": "text/x-python",
   "name": "python",
   "nbconvert_exporter": "python",
   "pygments_lexer": "ipython3",
   "version": "3.6.8"
  }
 },
 "nbformat": 4,
 "nbformat_minor": 2
}
