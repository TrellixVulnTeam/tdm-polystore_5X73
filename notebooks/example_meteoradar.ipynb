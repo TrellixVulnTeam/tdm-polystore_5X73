{
 "cells": [
  {
   "cell_type": "code",
   "execution_count": 1,
   "metadata": {},
   "outputs": [
    {
     "name": "stdout",
     "output_type": "stream",
     "text": [
      "Collecting numpy\n",
      "  Using cached https://files.pythonhosted.org/packages/87/2d/e4656149cbadd3a8a0369fcd1a9c7d61cc7b87b3903b85389c70c989a696/numpy-1.16.4-cp36-cp36m-manylinux1_x86_64.whl\n",
      "Collecting tifffile\n",
      "  Using cached https://files.pythonhosted.org/packages/76/bc/80a4e8dad3f74c3b63aa652dbd2e753b3b110a51d74482d1b245870894eb/tifffile-2019.6.18-py2.py3-none-any.whl\n",
      "Collecting psycopg2\n",
      "Installing collected packages: numpy, tifffile, psycopg2\n",
      "Successfully installed numpy-1.16.4 psycopg2-2.8.3 tifffile-2019.6.18\n"
     ]
    }
   ],
   "source": [
    "!pip3 install numpy tifffile psycopg2 --user"
   ]
  },
  {
   "cell_type": "code",
   "execution_count": 2,
   "metadata": {},
   "outputs": [],
   "source": [
    "import requests\n",
    "import json\n",
    "import numpy as np\n",
    "import tifffile as tiff\n",
    "import math\n",
    "import tempfile\n",
    "import os\n",
    "import tiledb\n",
    "import uuid\n",
    "\n",
    "from datetime import datetime, timedelta"
   ]
  },
  {
   "cell_type": "code",
   "execution_count": 3,
   "metadata": {},
   "outputs": [],
   "source": [
    "%matplotlib inline\n",
    "from matplotlib import pyplot as plt"
   ]
  },
  {
   "cell_type": "code",
   "execution_count": 4,
   "metadata": {},
   "outputs": [],
   "source": [
    "# tdmq constants\n",
    "TDMQ_BASE_URL = 'http://web:8000/api/v0.0'\n",
    "TILEDB_HDFS_ROOT = 'hdfs://hdfs:9000/arrays'\n",
    "TDMQ_NAMESPACE_UUID = uuid.UUID('367b5aee-8609-3c20-b130-4eb927a2d62b')\n",
    "TILEDB_CTX = tiledb.Ctx({'vfs.hdfs.username': 'root'})"
   ]
  },
  {
   "cell_type": "code",
   "execution_count": 5,
   "metadata": {},
   "outputs": [],
   "source": [
    "dpc_meteoradar_mosaic_type = {\n",
    "    \"code\": \"0fd67c67-c9be-45c6-9719-4c4eada4ffff\",\n",
    "    \"type\": \"meteoRadar\",\n",
    "    \"name\": \"Mosaic of dpc meteo radars\",\n",
    "    \"brandName\": \"DPC\",\n",
    "    \"modelName\": \"dpc-radar-mosaic\",\n",
    "    \"manufacturerName\": \"Dipartimento Protezione Civile\",\n",
    "    \"category\": [\"sensor\"],\n",
    "    \"function\": [\"sensing\"],\n",
    "    \"controlledProperty\": [\"VMI\", \"SRI\"], \n",
    "    # FIXME no units? Are they defined by the fact that it is a meteoRadar?\n",
    "    \"reference\": '/'.join([\"http://www.protezionecivile.gov.it\",\n",
    "                           \"attivita-rischi/meteo-idro/attivita/previsione-prevenzione\",\n",
    "                           \"centro-funzionale-centrale-rischio-meteo-idrogeologico\",\n",
    "                           \"monitoraggio-sorveglianza/mappa-radar\"]),\n",
    "}\n",
    "\n"
   ]
  },
  {
   "cell_type": "code",
   "execution_count": 6,
   "metadata": {},
   "outputs": [],
   "source": [
    "dpc_temperature_mosaic_type = {\n",
    "    \"code\": \"0fd67c67-c9be-45c6-9719-4c4eada4bbbb\",\n",
    "    \"type\": \"temperatureSensorNetwork\",\n",
    "    \"name\": \"Mosaic of dpc temperature sensors\",\n",
    "    \"brandName\": \"DPC\",\n",
    "    \"modelName\": \"dpc-temperature-mosaic\",\n",
    "    \"manufacturerName\": \"Dipartimento Protezione Civile\",\n",
    "    \"category\": [\"sensor\"],\n",
    "    \"function\": [\"sensing\"],\n",
    "    \"controlledProperty\": [\"TEMP\"], \n",
    "    # FIXME no units? Celsius\n",
    "    \"reference\": '/'.join([\"http://www.protezionecivile.gov.it\",\n",
    "                           \"attivita-rischi/meteo-idro/attivita/previsione-prevenzione\",\n",
    "                           \"centro-funzionale-centrale-rischio-meteo-idrogeologico\",\n",
    "                           \"monitoraggio-sorveglianza/mappa-radar\"]),\n",
    "}\n"
   ]
  },
  {
   "cell_type": "code",
   "execution_count": 7,
   "metadata": {},
   "outputs": [],
   "source": [
    "dpc_url='http://www.protezionecivile.gov.it/wide-api/wide/product/downloadProduct'\n",
    "\n",
    "def extract_data(tif):\n",
    "    page = tif.pages[0]\n",
    "    data = page.asarray()\n",
    "    # zeroout nan, force mask value to -9999.0\n",
    "    data[np.isnan(data)] = -9999.0\n",
    "    return page.geotiff_tags, data\n",
    "\n",
    "def gather_data(t, field):\n",
    "    product_date = math.floor(t.timestamp() * 1000)\n",
    "    payload = {'productType': field, 'productDate': product_date}\n",
    "    r = requests.post(dpc_url, json=payload)\n",
    "    if r.status_code != 200:\n",
    "        raise ValueError(\"Bad return code: %s\" % r.status_code)\n",
    "    # FIXME find a cleaner way to handle the returned tif file.\n",
    "    handle, fpath = tempfile.mkstemp()\n",
    "    with open(fpath, 'wb') as f:\n",
    "        f.write(r.content)\n",
    "    tif = tiff.TiffFile(fpath)\n",
    "    os.unlink(fpath)\n",
    "    return extract_data(tif)\n",
    "\n",
    "def create_sensor_description(sensor_type_desc, name, controlled_properties, time_base, time_delta):\n",
    "    geotiff_tags, data = gather_data(time_base, controlled_properties[0]) # just to get the data shape\n",
    "    T = np.array(geotiff_tags['ModelTransformation']).reshape(4, 4)\n",
    "    ysize, xsize = data.shape\n",
    "    # Note the nesting level http://wiki.geojson.org/GeoJSON_draft_version_6#Polygon\n",
    "    coordinates = [[T.dot(v).tolist() for v in [[0, 0, 0, 1], [0, ysize, 0, 1], [xsize, ysize, 0, 1],\n",
    "                                               [xsize, 0, 0, 1], [0, 0, 0, 1]]]]\n",
    "    stypecode = uuid.UUID(sensor_type_desc['code'])\n",
    "    description = {\n",
    "        \"name\": name,\n",
    "        \"code\": str(uuid.uuid3(stypecode, name)),\n",
    "        \"stypecode\": str(stypecode),\n",
    "        # FIXME not used\n",
    "        \"nodecode\": \"0fd67ccc-c9be-45c6-9719-4c4eada4beaa\",\n",
    "        \"geometry\": {\"type\": \"Polygon\", \"coordinates\": coordinates},\n",
    "        \"controlledProperty\": controlled_properties,\n",
    "        \"timebase\": time_base.strftime('%Y-%m-%dT%H:%M:%SZ'),\n",
    "        \"timedelta\": time_delta.total_seconds(),\n",
    "        \"geotiff_tags\": geotiff_tags,\n",
    "        \"grid\": {\"ysize\": ysize, \"xsize\": xsize},\n",
    "    }\n",
    "    return description"
   ]
  },
  {
   "cell_type": "code",
   "execution_count": 8,
   "metadata": {},
   "outputs": [],
   "source": [
    "# FIXME remember to initialize the db first:\n",
    "# docker-compose exec web flask db init\n",
    "def register_thing(thing, description):\n",
    "    assert isinstance(description, dict)\n",
    "    # FIXME check if thing already exists and manage errors\n",
    "    r = requests.post(f'{TDMQ_BASE_URL}/{thing}', json=[description])\n",
    "    if r.status_code == 500:\n",
    "        raise ValueError('Illegal value')\n",
    "    return r.json()\n",
    "\n",
    "\n",
    "def register_sensor_type(description):\n",
    "    return register_thing('sensor_types', description)\n",
    "\n",
    "def register_sensor(description):\n",
    "    return register_thing('sensors', description)\n",
    "\n",
    "def register_measure(measure):\n",
    "    assert isinstance(measure, dict)\n",
    "    # FIXME check if thing already exists and manage errors\n",
    "    r = requests.post(f'{TDMQ_BASE_URL}/measures', json=[measure])\n",
    "    if r.status_code == 500:\n",
    "        raise ValueError('Illegal value')\n",
    "    return r.json()"
   ]
  },
  {
   "cell_type": "code",
   "execution_count": 9,
   "metadata": {},
   "outputs": [],
   "source": [
    "def create_meteo_sensor_tiledb_array(description):\n",
    "    array_name = os.path.join(TILEDB_HDFS_ROOT, description['code'])\n",
    "    if tiledb.object_type(array_name) is not None:\n",
    "        raise ValueError('duplicate object with path %s' % array_name)\n",
    "    n_rows, n_cols = description['grid']['ysize'], description['grid']['xsize']\n",
    "    dom = tiledb.Domain(tiledb.Dim(name=\"delta_t\", domain=(0, 12 * 24 * 10 * 365), tile=1, dtype=np.int32),\n",
    "                        tiledb.Dim(name=\"rows\", domain=(0, n_rows - 1), tile=n_rows, dtype=np.int32),\n",
    "                        tiledb.Dim(name=\"cols\", domain=(0, n_cols - 1), tile=n_cols, dtype=np.int32),\n",
    "                        ctx=TILEDB_CTX)\n",
    "    attrs = [tiledb.Attr(name=aname, dtype=np.float32)\n",
    "             for aname in description['controlledProperty']]\n",
    "    schema = tiledb.ArraySchema(domain=dom, sparse=False, attrs=attrs, ctx=TILEDB_CTX)\n",
    "    # Create the (empty) array on disk.\n",
    "    tiledb.DenseArray.create(array_name, schema)\n",
    "    return array_name"
   ]
  },
  {
   "cell_type": "code",
   "execution_count": 10,
   "metadata": {},
   "outputs": [
    {
     "name": "stdout",
     "output_type": "stream",
     "text": [
      "rm: `hdfs://hdfs:9000/arrays': No such file or directory\r\n"
     ]
    }
   ],
   "source": [
    "!HADOOP_USER_NAME=root hdfs dfs -rm -r hdfs://hdfs:9000/arrays   "
   ]
  },
  {
   "cell_type": "code",
   "execution_count": 11,
   "metadata": {},
   "outputs": [],
   "source": [
    "!HADOOP_USER_NAME=root hdfs dfs -mkdir hdfs://hdfs:9000/arrays"
   ]
  },
  {
   "cell_type": "code",
   "execution_count": 12,
   "metadata": {},
   "outputs": [],
   "source": [
    "# FIXME: time_base should be not earlier that 1 week ago and it should align with the 1 hr boundary\n",
    "now = datetime.now()\n",
    "time_base = datetime(now.year, now.month, now.day, now.hour) - timedelta(seconds=7*24*3600)\n",
    "time_delta_radar = timedelta(seconds=300)\n",
    "time_delta_temp = timedelta(seconds=3600)\n",
    "\n",
    "radar_desc = create_sensor_description(dpc_meteoradar_mosaic_type, 'dpc_meteoradar_mosaic', \n",
    "                                       ['VMI', 'SRI'], time_base, time_delta_radar)\n",
    "temp_desc  = create_sensor_description(dpc_temperature_mosaic_type, 'dpc_temperature_mosaic', \n",
    "                                       ['TEMP'], time_base, time_delta_temp)"
   ]
  },
  {
   "cell_type": "code",
   "execution_count": 13,
   "metadata": {},
   "outputs": [
    {
     "data": {
      "text/plain": [
       "[{'brandName': 'DPC',\n",
       "  'category': ['sensor'],\n",
       "  'code': '0fd67c67-c9be-45c6-9719-4c4eada4ffff',\n",
       "  'controlledProperty': ['VMI', 'SRI'],\n",
       "  'function': ['sensing'],\n",
       "  'manufacturerName': 'Dipartimento Protezione Civile',\n",
       "  'modelName': 'dpc-radar-mosaic',\n",
       "  'name': 'Mosaic of dpc meteo radars',\n",
       "  'reference': 'http://www.protezionecivile.gov.it/attivita-rischi/meteo-idro/attivita/previsione-prevenzione/centro-funzionale-centrale-rischio-meteo-idrogeologico/monitoraggio-sorveglianza/mappa-radar',\n",
       "  'type': 'meteoRadar'},\n",
       " {'brandName': 'DPC',\n",
       "  'category': ['sensor'],\n",
       "  'code': '0fd67c67-c9be-45c6-9719-4c4eada4bbbb',\n",
       "  'controlledProperty': ['TEMP'],\n",
       "  'function': ['sensing'],\n",
       "  'manufacturerName': 'Dipartimento Protezione Civile',\n",
       "  'modelName': 'dpc-temperature-mosaic',\n",
       "  'name': 'Mosaic of dpc temperature sensors',\n",
       "  'reference': 'http://www.protezionecivile.gov.it/attivita-rischi/meteo-idro/attivita/previsione-prevenzione/centro-funzionale-centrale-rischio-meteo-idrogeologico/monitoraggio-sorveglianza/mappa-radar',\n",
       "  'type': 'temperatureSensorNetwork'}]"
      ]
     },
     "execution_count": 13,
     "metadata": {},
     "output_type": "execute_result"
    }
   ],
   "source": [
    "try:\n",
    "    register_sensor_type(dpc_meteoradar_mosaic_type)\n",
    "except ValueError as e:\n",
    "    print(e)\n",
    "try:\n",
    "    register_sensor_type(dpc_temperature_mosaic_type)\n",
    "except ValueError as e:\n",
    "    print(e)\n",
    "requests.get(f'{TDMQ_BASE_URL}/sensor_types').json()"
   ]
  },
  {
   "cell_type": "code",
   "execution_count": 14,
   "metadata": {},
   "outputs": [],
   "source": [
    "def register_dpc_meteo_sensor(desc):\n",
    "    try:\n",
    "        register_sensor(desc)\n",
    "    except ValueError as e:\n",
    "        print(e)\n",
    "    try:\n",
    "        return create_meteo_sensor_tiledb_array(desc)\n",
    "    except ValueError as e:\n",
    "        print(e)"
   ]
  },
  {
   "cell_type": "code",
   "execution_count": 15,
   "metadata": {},
   "outputs": [],
   "source": [
    "\n",
    "def ingest_dpc_meteo_acquisition(desc, t):\n",
    "    array_path = os.path.join(TILEDB_HDFS_ROOT, desc['code'])\n",
    "    assert tiledb.object_type(array_path) is 'array'\n",
    "    time_base = datetime.strptime(desc['timebase'], '%Y-%m-%dT%H:%M:%SZ')\n",
    "    i = math.floor((t - time_base).total_seconds() / desc['timedelta'])\n",
    "    # FIXME: we are assuming that within a sensor all measures use the same mask\n",
    "    data = {}\n",
    "    for fname in desc['controlledProperty']:\n",
    "        print(t, fname, i)\n",
    "        geotiff_tags, field = gather_data(t, fname)\n",
    "        data[fname] = field\n",
    "    with tiledb.DenseArray(array_path, mode='w', ctx=TILEDB_CTX) as A:\n",
    "       A[i:i+1, :, :] = data\n",
    "    return register_measure({'time': t.strftime('%Y-%m-%dT%H:%M:%SZ'), \n",
    "                             'sensorcode': desc['code'], \n",
    "                             'measure': {'reference': array_path, 'index': i}})"
   ]
  },
  {
   "cell_type": "code",
   "execution_count": 16,
   "metadata": {},
   "outputs": [
    {
     "data": {
      "text/plain": [
       "[{'code': '54d2c631-60ff-3f9a-879d-7b2a90b86184',\n",
       "  'controlledProperty': ['VMI', 'SRI'],\n",
       "  'geometry': {'coordinates': [[[4.537000517753033,\n",
       "      47.856095810774605,\n",
       "      0.0,\n",
       "      1.0],\n",
       "     [4.537000517753033, 35.07686201381699, 0.0, 1.0],\n",
       "     [20.436762466677894, 35.07686201381699, 0.0, 1.0],\n",
       "     [20.436762466677894, 47.856095810774605, 0.0, 1.0],\n",
       "     [4.537000517753033, 47.856095810774605, 0.0, 1.0]]],\n",
       "   'type': 'Polygon'},\n",
       "  'geotiff_tags': {'GTModelTypeGeoKey': 2,\n",
       "   'GTRasterTypeGeoKey': 1,\n",
       "   'GeographicTypeGeoKey': 4326,\n",
       "   'KeyDirectoryVersion': 1,\n",
       "   'KeyRevision': 1,\n",
       "   'KeyRevisionMinor': 2,\n",
       "   'ModelTransformation': [[0.013249801624104052, 0.0, 0.0, 4.537000517753033],\n",
       "    [0.0, -0.009128024140684008, 0.0, 47.856095810774605],\n",
       "    [0.0, 0.0, 0.0, 0.0],\n",
       "    [0.0, 0.0, 0.0, 1.0]]},\n",
       "  'grid': {'xsize': 1200, 'ysize': 1400},\n",
       "  'name': 'dpc_meteoradar_mosaic',\n",
       "  'nodecode': '0fd67ccc-c9be-45c6-9719-4c4eada4beaa',\n",
       "  'stypecode': '0fd67c67-c9be-45c6-9719-4c4eada4ffff',\n",
       "  'timebase': '2019-06-18T20:00:00Z',\n",
       "  'timedelta': 300.0},\n",
       " {'code': 'cb28c134-6d81-3ffb-8929-321f9d0bedf5',\n",
       "  'controlledProperty': ['TEMP'],\n",
       "  'geometry': {'coordinates': [[[6.0, 47.50026321411133, 0.0, 1.0],\n",
       "     [6.0, 35.990049599775915, 0.0, 1.0],\n",
       "     [18.60927915042647, 35.990049599775915, 0.0, 1.0],\n",
       "     [18.60927915042647, 47.50026321411133, 0.0, 1.0],\n",
       "     [6.0, 47.50026321411133, 0.0, 1.0]]],\n",
       "   'type': 'Polygon'},\n",
       "  'geotiff_tags': {'GTModelTypeGeoKey': 2,\n",
       "   'GTRasterTypeGeoKey': 1,\n",
       "   'GeographicTypeGeoKey': 4326,\n",
       "   'KeyDirectoryVersion': 1,\n",
       "   'KeyRevision': 1,\n",
       "   'KeyRevisionMinor': 2,\n",
       "   'ModelTransformation': [[0.019983009747110096, 0.0, 0.0, 6.0],\n",
       "    [0.0, -0.019983009747110096, 0.0, 47.50026321411133],\n",
       "    [0.0, 0.0, 0.0, 0.0],\n",
       "    [0.0, 0.0, 0.0, 1.0]]},\n",
       "  'grid': {'xsize': 631, 'ysize': 576},\n",
       "  'name': 'dpc_temperature_mosaic',\n",
       "  'nodecode': '0fd67ccc-c9be-45c6-9719-4c4eada4beaa',\n",
       "  'stypecode': '0fd67c67-c9be-45c6-9719-4c4eada4bbbb',\n",
       "  'timebase': '2019-06-18T20:00:00Z',\n",
       "  'timedelta': 3600.0}]"
      ]
     },
     "execution_count": 16,
     "metadata": {},
     "output_type": "execute_result"
    }
   ],
   "source": [
    "radar_array = register_dpc_meteo_sensor(radar_desc)\n",
    "temp_array = register_dpc_meteo_sensor(temp_desc)\n",
    "requests.get(f'{TDMQ_BASE_URL}/sensors').json()"
   ]
  },
  {
   "cell_type": "code",
   "execution_count": 17,
   "metadata": {},
   "outputs": [
    {
     "name": "stdout",
     "output_type": "stream",
     "text": [
      "2019-06-18 20:00:00 TEMP 0\n",
      "2019-06-18 21:00:00 TEMP 1\n",
      "2019-06-18 22:00:00 TEMP 2\n",
      "2019-06-18 23:00:00 TEMP 3\n",
      "2019-06-19 00:00:00 TEMP 4\n",
      "2019-06-19 01:00:00 TEMP 5\n",
      "2019-06-19 02:00:00 TEMP 6\n",
      "2019-06-19 03:00:00 TEMP 7\n",
      "2019-06-19 04:00:00 TEMP 8\n",
      "2019-06-19 05:00:00 TEMP 9\n"
     ]
    }
   ],
   "source": [
    "t = time_base\n",
    "for i in range(10):\n",
    "    ingest_dpc_meteo_acquisition(temp_desc, t)\n",
    "    t += time_delta_temp"
   ]
  },
  {
   "cell_type": "code",
   "execution_count": 18,
   "metadata": {
    "scrolled": true
   },
   "outputs": [
    {
     "name": "stdout",
     "output_type": "stream",
     "text": [
      "2019-06-18 20:00:00 VMI 0\n",
      "2019-06-18 20:00:00 SRI 0\n",
      "2019-06-18 20:05:00 VMI 1\n",
      "2019-06-18 20:05:00 SRI 1\n",
      "2019-06-18 20:10:00 VMI 2\n",
      "2019-06-18 20:10:00 SRI 2\n",
      "2019-06-18 20:15:00 VMI 3\n",
      "2019-06-18 20:15:00 SRI 3\n",
      "2019-06-18 20:20:00 VMI 4\n",
      "2019-06-18 20:20:00 SRI 4\n",
      "2019-06-18 20:25:00 VMI 5\n",
      "2019-06-18 20:25:00 SRI 5\n",
      "2019-06-18 20:30:00 VMI 6\n",
      "2019-06-18 20:30:00 SRI 6\n",
      "2019-06-18 20:35:00 VMI 7\n",
      "2019-06-18 20:35:00 SRI 7\n",
      "2019-06-18 20:40:00 VMI 8\n",
      "2019-06-18 20:40:00 SRI 8\n",
      "2019-06-18 20:45:00 VMI 9\n",
      "2019-06-18 20:45:00 SRI 9\n"
     ]
    }
   ],
   "source": [
    "t = time_base\n",
    "for i in range(10):\n",
    "    ingest_dpc_meteo_acquisition(radar_desc, t)\n",
    "    t += time_delta_radar"
   ]
  },
  {
   "cell_type": "code",
   "execution_count": 19,
   "metadata": {},
   "outputs": [],
   "source": [
    "with tiledb.DenseArray(temp_array, mode='r', ctx=TILEDB_CTX) as A:\n",
    "    data = A[0:10,:,:]"
   ]
  },
  {
   "cell_type": "code",
   "execution_count": 20,
   "metadata": {},
   "outputs": [],
   "source": [
    "T = data['TEMP']"
   ]
  },
  {
   "cell_type": "code",
   "execution_count": 21,
   "metadata": {},
   "outputs": [
    {
     "data": {
      "text/plain": [
       "<matplotlib.image.AxesImage at 0x7f3485ac3dd8>"
      ]
     },
     "execution_count": 21,
     "metadata": {},
     "output_type": "execute_result"
    },
    {
     "data": {
      "image/png": "[encoded data removed]",
      "text/plain": [
       "<Figure size 432x288 with 1 Axes>"
      ]
     },
     "metadata": {
      "needs_background": "light"
     },
     "output_type": "display_data"
    }
   ],
   "source": [
    "plt.imshow(T[5, :, :] * (T[5, :, :] > -9999.0))"
   ]
  },
  {
   "cell_type": "code",
   "execution_count": 22,
   "metadata": {},
   "outputs": [],
   "source": [
    "with tiledb.DenseArray(radar_array, mode='r', ctx=TILEDB_CTX) as A:\n",
    "    data = A[0:10,:,:]"
   ]
  },
  {
   "cell_type": "code",
   "execution_count": 23,
   "metadata": {},
   "outputs": [],
   "source": [
    "vmi = data['VMI'] * (data['VMI'] > -9000.0)\n",
    "sri = data['SRI'] * (data['SRI'] > -9000.0)"
   ]
  },
  {
   "cell_type": "code",
   "execution_count": 24,
   "metadata": {},
   "outputs": [
    {
     "data": {
      "text/plain": [
       "<matplotlib.image.AxesImage at 0x7f34300abbe0>"
      ]
     },
     "execution_count": 24,
     "metadata": {},
     "output_type": "execute_result"
    },
    {
     "data": {
      "image/png": "[encoded data removed]",
      "text/plain": [
       "<Figure size 432x288 with 1 Axes>"
      ]
     },
     "metadata": {
      "needs_background": "light"
     },
     "output_type": "display_data"
    }
   ],
   "source": [
    "plt.imshow(vmi[0])"
   ]
  },
  {
   "cell_type": "code",
   "execution_count": 25,
   "metadata": {
    "scrolled": true
   },
   "outputs": [
    {
     "data": {
      "text/plain": [
       "[{'code': '54d2c631-60ff-3f9a-879d-7b2a90b86184',\n",
       "  'geometry': {'coordinates': [[[4.53700052388176,\n",
       "      47.8560958100973,\n",
       "      0.001333680003881],\n",
       "     [4.53700052227922, 35.076862013165, 0.001337964087725],\n",
       "     [20.4367619643696, 35.0768619415165, 0.001476485282183],\n",
       "     [20.4367610360738, 47.856095666521, 0.001459782011807],\n",
       "     [4.53700052388176, 47.8560958100973, 0.001333680003881]]],\n",
       "   'type': 'Polygon'},\n",
       "  'stypecode': '0fd67c67-c9be-45c6-9719-4c4eada4ffff'},\n",
       " {'code': 'cb28c134-6d81-3ffb-8929-321f9d0bedf5',\n",
       "  'geometry': {'coordinates': [[[6.0000000057789,\n",
       "      47.5002632140058,\n",
       "      0.001349054276943],\n",
       "     [6.00000000470431, 35.9900495994506, 0.001355414278805],\n",
       "     [18.6092790675136, 35.9900495644233, 0.001466528512537],\n",
       "     [18.6092788804571, 47.500263152282, 0.001450511626899],\n",
       "     [6.0000000057789, 47.5002632140058, 0.001349054276943]]],\n",
       "   'type': 'Polygon'},\n",
       "  'stypecode': '0fd67c67-c9be-45c6-9719-4c4eada4bbbb'}]"
      ]
     },
     "execution_count": 25,
     "metadata": {},
     "output_type": "execute_result"
    }
   ],
   "source": [
    "args = {\n",
    "    'footprint': 'circle((9.2215, 30.0015), 1000000)',\n",
    "    'after': '2019-06-15T11:00:00Z',\n",
    "    'before':'2019-06-20T11:50:25Z'\n",
    "}\n",
    "requests.get(f'{TDMQ_BASE_URL}/sensors', params=args).json()"
   ]
  },
  {
   "cell_type": "code",
   "execution_count": 26,
   "metadata": {
    "scrolled": true
   },
   "outputs": [],
   "source": [
    "args = {\n",
    "    'after': '2019-06-15T11:00:00Z',\n",
    "    'before':'2019-06-20T11:50:25Z'\n",
    "}\n",
    "code = '54d2c631-60ff-3f9a-879d-7b2a90b86184'\n",
    "res = requests.get(f'{TDMQ_BASE_URL}/sensors/{code}/timeseries', params=args).json()"
   ]
  },
  {
   "cell_type": "code",
   "execution_count": 27,
   "metadata": {},
   "outputs": [
    {
     "data": {
      "text/plain": [
       "{'data': [['hdfs://hdfs:9000/arrays/54d2c631-60ff-3f9a-879d-7b2a90b86184', 0],\n",
       "  ['hdfs://hdfs:9000/arrays/54d2c631-60ff-3f9a-879d-7b2a90b86184', 1],\n",
       "  ['hdfs://hdfs:9000/arrays/54d2c631-60ff-3f9a-879d-7b2a90b86184', 2],\n",
       "  ['hdfs://hdfs:9000/arrays/54d2c631-60ff-3f9a-879d-7b2a90b86184', 3],\n",
       "  ['hdfs://hdfs:9000/arrays/54d2c631-60ff-3f9a-879d-7b2a90b86184', 4],\n",
       "  ['hdfs://hdfs:9000/arrays/54d2c631-60ff-3f9a-879d-7b2a90b86184', 5],\n",
       "  ['hdfs://hdfs:9000/arrays/54d2c631-60ff-3f9a-879d-7b2a90b86184', 6],\n",
       "  ['hdfs://hdfs:9000/arrays/54d2c631-60ff-3f9a-879d-7b2a90b86184', 7],\n",
       "  ['hdfs://hdfs:9000/arrays/54d2c631-60ff-3f9a-879d-7b2a90b86184', 8],\n",
       "  ['hdfs://hdfs:9000/arrays/54d2c631-60ff-3f9a-879d-7b2a90b86184', 9]],\n",
       " 'timebase': '2019-06-15T11:00:00Z',\n",
       " 'timedelta': [291600.0,\n",
       "  291900.0,\n",
       "  292200.0,\n",
       "  292500.0,\n",
       "  292800.0,\n",
       "  293100.0,\n",
       "  293400.0,\n",
       "  293700.0,\n",
       "  294000.0,\n",
       "  294300.0]}"
      ]
     },
     "execution_count": 27,
     "metadata": {},
     "output_type": "execute_result"
    }
   ],
   "source": [
    "res"
   ]
  },
  {
   "cell_type": "code",
   "execution_count": 29,
   "metadata": {},
   "outputs": [
    {
     "ename": "JSONDecodeError",
     "evalue": "Expecting value: line 1 column 1 (char 0)",
     "output_type": "error",
     "traceback": [
      "\u001b[0;31m---------------------------------------------------------------------------\u001b[0m",
      "\u001b[0;31mJSONDecodeError\u001b[0m                           Traceback (most recent call last)",
      "\u001b[0;32m<ipython-input-29-49a18d75a20b>\u001b[0m in \u001b[0;36m<module>\u001b[0;34m\u001b[0m\n\u001b[1;32m      6\u001b[0m }\n\u001b[1;32m      7\u001b[0m \u001b[0mcode\u001b[0m \u001b[0;34m=\u001b[0m \u001b[0;34m'54d2c631-60ff-3f9a-879d-7b2a90b86184'\u001b[0m\u001b[0;34m\u001b[0m\u001b[0;34m\u001b[0m\u001b[0m\n\u001b[0;32m----> 8\u001b[0;31m \u001b[0mres\u001b[0m \u001b[0;34m=\u001b[0m \u001b[0mrequests\u001b[0m\u001b[0;34m.\u001b[0m\u001b[0mget\u001b[0m\u001b[0;34m(\u001b[0m\u001b[0;34mf'{TDMQ_BASE_URL}/sensors/{code}/timeseries'\u001b[0m\u001b[0;34m,\u001b[0m \u001b[0mparams\u001b[0m\u001b[0;34m=\u001b[0m\u001b[0margs\u001b[0m\u001b[0;34m)\u001b[0m\u001b[0;34m.\u001b[0m\u001b[0mjson\u001b[0m\u001b[0;34m(\u001b[0m\u001b[0;34m)\u001b[0m\u001b[0;34m\u001b[0m\u001b[0;34m\u001b[0m\u001b[0m\n\u001b[0m",
      "\u001b[0;32m/usr/local/lib/python3.6/dist-packages/requests/models.py\u001b[0m in \u001b[0;36mjson\u001b[0;34m(self, **kwargs)\u001b[0m\n\u001b[1;32m    895\u001b[0m                     \u001b[0;31m# used.\u001b[0m\u001b[0;34m\u001b[0m\u001b[0;34m\u001b[0m\u001b[0;34m\u001b[0m\u001b[0m\n\u001b[1;32m    896\u001b[0m                     \u001b[0;32mpass\u001b[0m\u001b[0;34m\u001b[0m\u001b[0;34m\u001b[0m\u001b[0m\n\u001b[0;32m--> 897\u001b[0;31m         \u001b[0;32mreturn\u001b[0m \u001b[0mcomplexjson\u001b[0m\u001b[0;34m.\u001b[0m\u001b[0mloads\u001b[0m\u001b[0;34m(\u001b[0m\u001b[0mself\u001b[0m\u001b[0;34m.\u001b[0m\u001b[0mtext\u001b[0m\u001b[0;34m,\u001b[0m \u001b[0;34m**\u001b[0m\u001b[0mkwargs\u001b[0m\u001b[0;34m)\u001b[0m\u001b[0;34m\u001b[0m\u001b[0;34m\u001b[0m\u001b[0m\n\u001b[0m\u001b[1;32m    898\u001b[0m \u001b[0;34m\u001b[0m\u001b[0m\n\u001b[1;32m    899\u001b[0m     \u001b[0;34m@\u001b[0m\u001b[0mproperty\u001b[0m\u001b[0;34m\u001b[0m\u001b[0;34m\u001b[0m\u001b[0m\n",
      "\u001b[0;32m/usr/lib/python3.6/json/__init__.py\u001b[0m in \u001b[0;36mloads\u001b[0;34m(s, encoding, cls, object_hook, parse_float, parse_int, parse_constant, object_pairs_hook, **kw)\u001b[0m\n\u001b[1;32m    352\u001b[0m             \u001b[0mparse_int\u001b[0m \u001b[0;32mis\u001b[0m \u001b[0;32mNone\u001b[0m \u001b[0;32mand\u001b[0m \u001b[0mparse_float\u001b[0m \u001b[0;32mis\u001b[0m \u001b[0;32mNone\u001b[0m \u001b[0;32mand\u001b[0m\u001b[0;34m\u001b[0m\u001b[0;34m\u001b[0m\u001b[0m\n\u001b[1;32m    353\u001b[0m             parse_constant is None and object_pairs_hook is None and not kw):\n\u001b[0;32m--> 354\u001b[0;31m         \u001b[0;32mreturn\u001b[0m \u001b[0m_default_decoder\u001b[0m\u001b[0;34m.\u001b[0m\u001b[0mdecode\u001b[0m\u001b[0;34m(\u001b[0m\u001b[0ms\u001b[0m\u001b[0;34m)\u001b[0m\u001b[0;34m\u001b[0m\u001b[0;34m\u001b[0m\u001b[0m\n\u001b[0m\u001b[1;32m    355\u001b[0m     \u001b[0;32mif\u001b[0m \u001b[0mcls\u001b[0m \u001b[0;32mis\u001b[0m \u001b[0;32mNone\u001b[0m\u001b[0;34m:\u001b[0m\u001b[0;34m\u001b[0m\u001b[0;34m\u001b[0m\u001b[0m\n\u001b[1;32m    356\u001b[0m         \u001b[0mcls\u001b[0m \u001b[0;34m=\u001b[0m \u001b[0mJSONDecoder\u001b[0m\u001b[0;34m\u001b[0m\u001b[0;34m\u001b[0m\u001b[0m\n",
      "\u001b[0;32m/usr/lib/python3.6/json/decoder.py\u001b[0m in \u001b[0;36mdecode\u001b[0;34m(self, s, _w)\u001b[0m\n\u001b[1;32m    337\u001b[0m \u001b[0;34m\u001b[0m\u001b[0m\n\u001b[1;32m    338\u001b[0m         \"\"\"\n\u001b[0;32m--> 339\u001b[0;31m         \u001b[0mobj\u001b[0m\u001b[0;34m,\u001b[0m \u001b[0mend\u001b[0m \u001b[0;34m=\u001b[0m \u001b[0mself\u001b[0m\u001b[0;34m.\u001b[0m\u001b[0mraw_decode\u001b[0m\u001b[0;34m(\u001b[0m\u001b[0ms\u001b[0m\u001b[0;34m,\u001b[0m \u001b[0midx\u001b[0m\u001b[0;34m=\u001b[0m\u001b[0m_w\u001b[0m\u001b[0;34m(\u001b[0m\u001b[0ms\u001b[0m\u001b[0;34m,\u001b[0m \u001b[0;36m0\u001b[0m\u001b[0;34m)\u001b[0m\u001b[0;34m.\u001b[0m\u001b[0mend\u001b[0m\u001b[0;34m(\u001b[0m\u001b[0;34m)\u001b[0m\u001b[0;34m)\u001b[0m\u001b[0;34m\u001b[0m\u001b[0;34m\u001b[0m\u001b[0m\n\u001b[0m\u001b[1;32m    340\u001b[0m         \u001b[0mend\u001b[0m \u001b[0;34m=\u001b[0m \u001b[0m_w\u001b[0m\u001b[0;34m(\u001b[0m\u001b[0ms\u001b[0m\u001b[0;34m,\u001b[0m \u001b[0mend\u001b[0m\u001b[0;34m)\u001b[0m\u001b[0;34m.\u001b[0m\u001b[0mend\u001b[0m\u001b[0;34m(\u001b[0m\u001b[0;34m)\u001b[0m\u001b[0;34m\u001b[0m\u001b[0;34m\u001b[0m\u001b[0m\n\u001b[1;32m    341\u001b[0m         \u001b[0;32mif\u001b[0m \u001b[0mend\u001b[0m \u001b[0;34m!=\u001b[0m \u001b[0mlen\u001b[0m\u001b[0;34m(\u001b[0m\u001b[0ms\u001b[0m\u001b[0;34m)\u001b[0m\u001b[0;34m:\u001b[0m\u001b[0;34m\u001b[0m\u001b[0;34m\u001b[0m\u001b[0m\n",
      "\u001b[0;32m/usr/lib/python3.6/json/decoder.py\u001b[0m in \u001b[0;36mraw_decode\u001b[0;34m(self, s, idx)\u001b[0m\n\u001b[1;32m    355\u001b[0m             \u001b[0mobj\u001b[0m\u001b[0;34m,\u001b[0m \u001b[0mend\u001b[0m \u001b[0;34m=\u001b[0m \u001b[0mself\u001b[0m\u001b[0;34m.\u001b[0m\u001b[0mscan_once\u001b[0m\u001b[0;34m(\u001b[0m\u001b[0ms\u001b[0m\u001b[0;34m,\u001b[0m \u001b[0midx\u001b[0m\u001b[0;34m)\u001b[0m\u001b[0;34m\u001b[0m\u001b[0;34m\u001b[0m\u001b[0m\n\u001b[1;32m    356\u001b[0m         \u001b[0;32mexcept\u001b[0m \u001b[0mStopIteration\u001b[0m \u001b[0;32mas\u001b[0m \u001b[0merr\u001b[0m\u001b[0;34m:\u001b[0m\u001b[0;34m\u001b[0m\u001b[0;34m\u001b[0m\u001b[0m\n\u001b[0;32m--> 357\u001b[0;31m             \u001b[0;32mraise\u001b[0m \u001b[0mJSONDecodeError\u001b[0m\u001b[0;34m(\u001b[0m\u001b[0;34m\"Expecting value\"\u001b[0m\u001b[0;34m,\u001b[0m \u001b[0ms\u001b[0m\u001b[0;34m,\u001b[0m \u001b[0merr\u001b[0m\u001b[0;34m.\u001b[0m\u001b[0mvalue\u001b[0m\u001b[0;34m)\u001b[0m \u001b[0;32mfrom\u001b[0m \u001b[0;32mNone\u001b[0m\u001b[0;34m\u001b[0m\u001b[0;34m\u001b[0m\u001b[0m\n\u001b[0m\u001b[1;32m    358\u001b[0m         \u001b[0;32mreturn\u001b[0m \u001b[0mobj\u001b[0m\u001b[0;34m,\u001b[0m \u001b[0mend\u001b[0m\u001b[0;34m\u001b[0m\u001b[0;34m\u001b[0m\u001b[0m\n",
      "\u001b[0;31mJSONDecodeError\u001b[0m: Expecting value: line 1 column 1 (char 0)"
     ]
    }
   ],
   "source": [
    "args = {\n",
    "    'after': '2019-06-15T11:00:00Z',\n",
    "    'before':'2019-06-20T11:50:25Z',\n",
    "    'bucket': timedelta(seconds=600),\n",
    "    'op': 'sum'\n",
    "}\n",
    "code = '54d2c631-60ff-3f9a-879d-7b2a90b86184'\n",
    "res = requests.get(f'{TDMQ_BASE_URL}/sensors/{code}/timeseries', params=args).json()"
   ]
  },
  {
   "cell_type": "code",
   "execution_count": null,
   "metadata": {
    "scrolled": false
   },
   "outputs": [],
   "source": [
    "import psycopg2 as pg"
   ]
  },
  {
   "cell_type": "code",
   "execution_count": null,
   "metadata": {},
   "outputs": [],
   "source": [
    "config = {\n",
    "    'host': 'timescaledb',\n",
    "    'dbname': 'tdmqtest',\n",
    "    'user': 'postgres',\n",
    "    'password': 'foobar',\n",
    "}"
   ]
  },
  {
   "cell_type": "code",
   "execution_count": null,
   "metadata": {},
   "outputs": [],
   "source": [
    "con = pg.connect(**config)"
   ]
  },
  {
   "cell_type": "code",
   "execution_count": null,
   "metadata": {},
   "outputs": [],
   "source": [
    "\n",
    "\n",
    "SQL = \"\"\"\n",
    "SELECT time_bucket('15 minutes', time) AS fifteen_min,\n",
    "       url AS u, index AS i\n",
    "  FROM measures m\n",
    "  WHERE m.time > '2019-06-15T11:00:00Z'\n",
    "  AND m.sensorcode = 'cb28c134-6d81-3ffb-8929-321f9d0bedf5'\n",
    "  GROUP BY fifteen_min, u, i ORDER BY fifteen_min;\n",
    "\"\"\"\n",
    "\n",
    "SQL = \"\"\"\n",
    "SELECT time_bucket('10 minutes', time) AS tb,\n",
    "       array_agg(url), array_agg(index)\n",
    "  FROM measures m\n",
    "  WHERE m.sensorcode = '54d2c631-60ff-3f9a-879d-7b2a90b86184'\n",
    "  GROUP BY tb;\n",
    "\"\"\"\n",
    "\n",
    "SQL = \"\"\"\n",
    "SELECT time,\n",
    "       url, index\n",
    "  FROM measures m\n",
    "  WHERE m.sensorcode = '54d2c631-60ff-3f9a-879d-7b2a90b86184'\n",
    "  ORDER BY time;\n",
    "\"\"\"\n",
    "\n",
    "with con.cursor() as cur:\n",
    "    cur.execute(SQL)\n",
    "    res = cur.fetchall()\n",
    "\n",
    "for r in res:\n",
    "    print(r)"
   ]
  },
  {
   "cell_type": "code",
   "execution_count": null,
   "metadata": {},
   "outputs": [],
   "source": [
    "array_name = res['data'][0][0]\n",
    "index = np.array([x[1] for x in res['data']])\n",
    "with tiledb.DenseArray(radar_array, mode='r', ctx=TILEDB_CTX) as A:\n",
    "    data = A[1:10,:,:]"
   ]
  },
  {
   "cell_type": "code",
   "execution_count": null,
   "metadata": {},
   "outputs": [],
   "source": []
  },
  {
   "cell_type": "code",
   "execution_count": null,
   "metadata": {},
   "outputs": [],
   "source": [
    "!pip3 install psycopg2 --user"
   ]
  },
  {
   "cell_type": "code",
   "execution_count": null,
   "metadata": {},
   "outputs": [],
   "source": []
  }
 ],
 "metadata": {
  "kernelspec": {
   "display_name": "Python 3",
   "language": "python",
   "name": "python3"
  },
  "language_info": {
   "codemirror_mode": {
    "name": "ipython",
    "version": 3
   },
   "file_extension": ".py",
   "mimetype": "text/x-python",
   "name": "python",
   "nbconvert_exporter": "python",
   "pygments_lexer": "ipython3",
   "version": "3.6.8"
  }
 },
 "nbformat": 4,
 "nbformat_minor": 2
}
