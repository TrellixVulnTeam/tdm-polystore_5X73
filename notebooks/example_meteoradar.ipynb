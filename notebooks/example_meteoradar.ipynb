{
 "cells": [
  {
   "cell_type": "code",
   "execution_count": null,
   "metadata": {},
   "outputs": [],
   "source": [
    "!pip3 install numpy tifffile --user"
   ]
  },
  {
   "cell_type": "code",
   "execution_count": 1,
   "metadata": {},
   "outputs": [],
   "source": [
    "import requests\n",
    "import json\n",
    "import numpy as np\n",
    "import tifffile as tiff\n",
    "import math\n",
    "import tempfile\n",
    "import os\n",
    "import tiledb\n",
    "import uuid\n",
    "\n",
    "from datetime import datetime, timedelta"
   ]
  },
  {
   "cell_type": "code",
   "execution_count": 2,
   "metadata": {},
   "outputs": [],
   "source": [
    "%matplotlib inline\n",
    "from matplotlib import pyplot as plt"
   ]
  },
  {
   "cell_type": "code",
   "execution_count": 3,
   "metadata": {},
   "outputs": [],
   "source": [
    "# tdmq constants\n",
    "TDMQ_BASE_URL = 'http://web:8000/api/v0.0'\n",
    "TILEDB_HDFS_ROOT = 'hdfs://hdfs:9000/arrays'\n",
    "TDMQ_NAMESPACE_UUID = uuid.UUID('367b5aee-8609-3c20-b130-4eb927a2d62b')\n",
    "TILEDB_CTX = tiledb.Ctx({'vfs.hdfs.username': 'root'})"
   ]
  },
  {
   "cell_type": "code",
   "execution_count": 4,
   "metadata": {},
   "outputs": [],
   "source": [
    "dpc_meteoradar_mosaic_type = {\n",
    "    \"code\": \"0fd67c67-c9be-45c6-9719-4c4eada4ffff\",\n",
    "    \"type\": \"meteoRadar\",\n",
    "    \"name\": \"Mosaic of dpc meteo radars\",\n",
    "    \"brandName\": \"DPC\",\n",
    "    \"modelName\": \"dpc-radar-mosaic\",\n",
    "    \"manufacturerName\": \"Dipartimento Protezione Civile\",\n",
    "    \"category\": [\"sensor\"],\n",
    "    \"function\": [\"sensing\"],\n",
    "    \"controlledProperty\": [\"VMI\", \"SRI\"], \n",
    "    # FIXME no units? Are they defined by the fact that it is a meteoRadar?\n",
    "    \"reference\": '/'.join([\"http://www.protezionecivile.gov.it\",\n",
    "                           \"attivita-rischi/meteo-idro/attivita/previsione-prevenzione\",\n",
    "                           \"centro-funzionale-centrale-rischio-meteo-idrogeologico\",\n",
    "                           \"monitoraggio-sorveglianza/mappa-radar\"]),\n",
    "}\n",
    "\n"
   ]
  },
  {
   "cell_type": "code",
   "execution_count": 5,
   "metadata": {},
   "outputs": [],
   "source": [
    "dpc_temperature_mosaic_type = {\n",
    "    \"code\": \"0fd67c67-c9be-45c6-9719-4c4eada4bbbb\",\n",
    "    \"type\": \"temperatureSensorNetwork\",\n",
    "    \"name\": \"Mosaic of dpc temperature sensors\",\n",
    "    \"brandName\": \"DPC\",\n",
    "    \"modelName\": \"dpc-temperature-mosaic\",\n",
    "    \"manufacturerName\": \"Dipartimento Protezione Civile\",\n",
    "    \"category\": [\"sensor\"],\n",
    "    \"function\": [\"sensing\"],\n",
    "    \"controlledProperty\": [\"TEMP\"], \n",
    "    # FIXME no units? Celsius\n",
    "    \"reference\": '/'.join([\"http://www.protezionecivile.gov.it\",\n",
    "                           \"attivita-rischi/meteo-idro/attivita/previsione-prevenzione\",\n",
    "                           \"centro-funzionale-centrale-rischio-meteo-idrogeologico\",\n",
    "                           \"monitoraggio-sorveglianza/mappa-radar\"]),\n",
    "}\n"
   ]
  },
  {
   "cell_type": "code",
   "execution_count": 6,
   "metadata": {},
   "outputs": [],
   "source": [
    "dpc_url='http://www.protezionecivile.gov.it/wide-api/wide/product/downloadProduct'\n",
    "\n",
    "def extract_data(tif):\n",
    "    page = tif.pages[0]\n",
    "    data = page.asarray()\n",
    "    # zeroout nan, force mask value to -9999.0\n",
    "    data[np.isnan(data)] = -9999.0\n",
    "    return page.geotiff_tags, data\n",
    "\n",
    "def gather_data(t, field):\n",
    "    product_date = math.floor(t.timestamp() * 1000)\n",
    "    payload = {'productType': field, 'productDate': product_date}\n",
    "    r = requests.post(dpc_url, json=payload)\n",
    "    if r.status_code != 200:\n",
    "        raise ValueError(\"Bad return code: %s\" % r.status_code)\n",
    "    # FIXME find a cleaner way to handle the returned tif file.\n",
    "    handle, fpath = tempfile.mkstemp()\n",
    "    with open(fpath, 'wb') as f:\n",
    "        f.write(r.content)\n",
    "    tif = tiff.TiffFile(fpath)\n",
    "    os.unlink(fpath)\n",
    "    return extract_data(tif)\n",
    "\n",
    "def create_sensor_description(sensor_type_desc, name, controlled_properties, time_base, time_delta):\n",
    "    geotiff_tags, data = gather_data(time_base, controlled_properties[0]) # just to get the data shape\n",
    "    T = np.array(geotiff_tags['ModelTransformation']).reshape(4, 4)\n",
    "    ysize, xsize = data.shape\n",
    "    # Note the nesting level http://wiki.geojson.org/GeoJSON_draft_version_6#Polygon\n",
    "    coordinates = [[T.dot(v).tolist() for v in [[0, 0, 0, 1], [0, ysize, 0, 1], [xsize, ysize, 0, 1],\n",
    "                                               [xsize, 0, 0, 1], [0, 0, 0, 1]]]]\n",
    "    stypecode = uuid.UUID(sensor_type_desc['code'])\n",
    "    description = {\n",
    "        \"name\": name,\n",
    "        \"code\": str(uuid.uuid3(stypecode, name)),\n",
    "        \"stypecode\": str(stypecode),\n",
    "        # FIXME not used\n",
    "        \"nodecode\": \"0fd67ccc-c9be-45c6-9719-4c4eada4beaa\",\n",
    "        \"geometry\": {\"type\": \"Polygon\", \"coordinates\": coordinates},\n",
    "        \"controlledProperty\": controlled_properties,\n",
    "        \"timebase\": time_base.strftime('%Y-%m-%dT%H:%M:%SZ'),\n",
    "        \"timedelta\": time_delta.total_seconds(),\n",
    "        \"geotiff_tags\": geotiff_tags,\n",
    "        \"grid\": {\"ysize\": ysize, \"xsize\": xsize},\n",
    "    }\n",
    "    return description"
   ]
  },
  {
   "cell_type": "code",
   "execution_count": 7,
   "metadata": {},
   "outputs": [],
   "source": [
    "# FIXME remember to initialize the db first:\n",
    "# docker-compose exec web flask db init\n",
    "def register_thing(thing, description):\n",
    "    assert isinstance(description, dict)\n",
    "    # FIXME check if thing already exists and manage errors\n",
    "    r = requests.post(f'{TDMQ_BASE_URL}/{thing}', json=[description])\n",
    "    if r.status_code == 500:\n",
    "        raise ValueError('Illegal value')\n",
    "    return r.json()\n",
    "\n",
    "\n",
    "def register_sensor_type(description):\n",
    "    return register_thing('sensor_types', description)\n",
    "\n",
    "def register_sensor(description):\n",
    "    return register_thing('sensors', description)\n",
    "\n",
    "def register_measure(measure):\n",
    "    assert isinstance(measure, dict)\n",
    "    # FIXME check if thing already exists and manage errors\n",
    "    r = requests.post(f'{TDMQ_BASE_URL}/measures', json=[measure])\n",
    "    if r.status_code == 500:\n",
    "        raise ValueError('Illegal value')\n",
    "    return r.json()"
   ]
  },
  {
   "cell_type": "code",
   "execution_count": 8,
   "metadata": {},
   "outputs": [],
   "source": [
    "def create_meteo_sensor_tiledb_array(description):\n",
    "    array_name = os.path.join(TILEDB_HDFS_ROOT, description['code'])\n",
    "    if tiledb.object_type(array_name) is not None:\n",
    "        raise ValueError('duplicate object with path %s' % array_name)\n",
    "    n_rows, n_cols = description['grid']['ysize'], description['grid']['xsize']\n",
    "    dom = tiledb.Domain(tiledb.Dim(name=\"delta_t\", domain=(0, 12 * 24 * 10 * 365), tile=1, dtype=np.int32),\n",
    "                        tiledb.Dim(name=\"rows\", domain=(0, n_rows - 1), tile=n_rows, dtype=np.int32),\n",
    "                        tiledb.Dim(name=\"cols\", domain=(0, n_cols - 1), tile=n_cols, dtype=np.int32),\n",
    "                        ctx=TILEDB_CTX)\n",
    "    attrs = [tiledb.Attr(name=aname, dtype=np.float32)\n",
    "             for aname in description['controlledProperty']]\n",
    "    schema = tiledb.ArraySchema(domain=dom, sparse=False, attrs=attrs, ctx=TILEDB_CTX)\n",
    "    # Create the (empty) array on disk.\n",
    "    tiledb.DenseArray.create(array_name, schema)\n",
    "    return array_name"
   ]
  },
  {
   "cell_type": "code",
   "execution_count": 9,
   "metadata": {},
   "outputs": [
    {
     "name": "stdout",
     "output_type": "stream",
     "text": [
      "Deleted hdfs://hdfs:9000/arrays\r\n"
     ]
    }
   ],
   "source": [
    "!HADOOP_USER_NAME=root hdfs dfs -rm -r hdfs://hdfs:9000/arrays   "
   ]
  },
  {
   "cell_type": "code",
   "execution_count": 10,
   "metadata": {},
   "outputs": [],
   "source": [
    "!HADOOP_USER_NAME=root hdfs dfs -mkdir hdfs://hdfs:9000/arrays"
   ]
  },
  {
   "cell_type": "code",
   "execution_count": 13,
   "metadata": {},
   "outputs": [],
   "source": [
    "# FIXME: time_base should be not earlier that 1 week ago and it should align with the 1 hr boundary\n",
    "now = datetime.now()\n",
    "time_base = datetime(now.year, now.month, now.day, now.hour) - timedelta(seconds=7*24*3600)\n",
    "time_delta_radar = timedelta(seconds=300)\n",
    "time_delta_temp = timedelta(seconds=3600)\n",
    "\n",
    "radar_desc = create_sensor_description(dpc_meteoradar_mosaic_type, 'dpc_meteoradar_mosaic', \n",
    "                                       ['VMI', 'SRI'], time_base, time_delta_radar)\n",
    "temp_desc  = create_sensor_description(dpc_temperature_mosaic_type, 'dpc_temperature_mosaic', \n",
    "                                       ['TEMP'], time_base, time_delta_temp)"
   ]
  },
  {
   "cell_type": "code",
   "execution_count": 14,
   "metadata": {},
   "outputs": [
    {
     "data": {
      "text/plain": [
       "[{'brandName': 'DPC',\n",
       "  'category': ['sensor'],\n",
       "  'code': '0fd67c67-c9be-45c6-9719-4c4eada4ffff',\n",
       "  'controlledProperty': ['VMI', 'SRI'],\n",
       "  'function': ['sensing'],\n",
       "  'manufacturerName': 'Dipartimento Protezione Civile',\n",
       "  'modelName': 'dpc-radar-mosaic',\n",
       "  'name': 'Mosaic of dpc meteo radars',\n",
       "  'reference': 'http://www.protezionecivile.gov.it/attivita-rischi/meteo-idro/attivita/previsione-prevenzione/centro-funzionale-centrale-rischio-meteo-idrogeologico/monitoraggio-sorveglianza/mappa-radar',\n",
       "  'type': 'meteoRadar'},\n",
       " {'brandName': 'DPC',\n",
       "  'category': ['sensor'],\n",
       "  'code': '0fd67c67-c9be-45c6-9719-4c4eada4bbbb',\n",
       "  'controlledProperty': ['TEMP'],\n",
       "  'function': ['sensing'],\n",
       "  'manufacturerName': 'Dipartimento Protezione Civile',\n",
       "  'modelName': 'dpc-temperature-mosaic',\n",
       "  'name': 'Mosaic of dpc temperature sensors',\n",
       "  'reference': 'http://www.protezionecivile.gov.it/attivita-rischi/meteo-idro/attivita/previsione-prevenzione/centro-funzionale-centrale-rischio-meteo-idrogeologico/monitoraggio-sorveglianza/mappa-radar',\n",
       "  'type': 'temperatureSensorNetwork'}]"
      ]
     },
     "execution_count": 14,
     "metadata": {},
     "output_type": "execute_result"
    }
   ],
   "source": [
    "try:\n",
    "    register_sensor_type(dpc_meteoradar_mosaic_type)\n",
    "except ValueError as e:\n",
    "    print(e)\n",
    "try:\n",
    "    register_sensor_type(dpc_temperature_mosaic_type)\n",
    "except ValueError as e:\n",
    "    print(e)\n",
    "requests.get(f'{TDMQ_BASE_URL}/sensor_types').json()"
   ]
  },
  {
   "cell_type": "code",
   "execution_count": 15,
   "metadata": {},
   "outputs": [],
   "source": [
    "def register_dpc_meteo_sensor(desc):\n",
    "    try:\n",
    "        register_sensor(desc)\n",
    "    except ValueError as e:\n",
    "        print(e)\n",
    "    try:\n",
    "        return create_meteo_sensor_tiledb_array(desc)\n",
    "    except ValueError as e:\n",
    "        print(e)"
   ]
  },
  {
   "cell_type": "code",
   "execution_count": 16,
   "metadata": {},
   "outputs": [],
   "source": [
    "\n",
    "def ingest_dpc_meteo_acquisition(desc, t):\n",
    "    array_path = os.path.join(TILEDB_HDFS_ROOT, desc['code'])\n",
    "    assert tiledb.object_type(array_path) is 'array'\n",
    "    time_base = datetime.strptime(desc['timebase'], '%Y-%m-%dT%H:%M:%SZ')\n",
    "    i = math.floor((t - time_base).total_seconds() / desc['timedelta'])\n",
    "    # FIXME: we are assuming that within a sensor all measures use the same mask\n",
    "    data = {}\n",
    "    for fname in desc['controlledProperty']:\n",
    "        print(t, fname, i)\n",
    "        geotiff_tags, field = gather_data(t, fname)\n",
    "        data[fname] = field\n",
    "    with tiledb.DenseArray(array_path, mode='w', ctx=TILEDB_CTX) as A:\n",
    "       A[i:i+1, :, :] = data\n",
    "    return register_measure({'time': t.strftime('%Y-%m-%dT%H:%M:%SZ'), \n",
    "                             'sensorcode': desc['code'], \n",
    "                             'measure': {'reference': array_path, 'index': i}})"
   ]
  },
  {
   "cell_type": "code",
   "execution_count": 17,
   "metadata": {},
   "outputs": [
    {
     "data": {
      "text/plain": [
       "[{'code': '54d2c631-60ff-3f9a-879d-7b2a90b86184',\n",
       "  'controlledProperty': ['VMI', 'SRI'],\n",
       "  'geometry': {'coordinates': [[[4.537000517753033,\n",
       "      47.856095810774605,\n",
       "      0.0,\n",
       "      1.0],\n",
       "     [4.537000517753033, 35.07686201381699, 0.0, 1.0],\n",
       "     [20.436762466677894, 35.07686201381699, 0.0, 1.0],\n",
       "     [20.436762466677894, 47.856095810774605, 0.0, 1.0],\n",
       "     [4.537000517753033, 47.856095810774605, 0.0, 1.0]]],\n",
       "   'type': 'Polygon'},\n",
       "  'geotiff_tags': {'GTModelTypeGeoKey': 2,\n",
       "   'GTRasterTypeGeoKey': 1,\n",
       "   'GeographicTypeGeoKey': 4326,\n",
       "   'KeyDirectoryVersion': 1,\n",
       "   'KeyRevision': 1,\n",
       "   'KeyRevisionMinor': 2,\n",
       "   'ModelTransformation': [[0.013249801624104052, 0.0, 0.0, 4.537000517753033],\n",
       "    [0.0, -0.009128024140684008, 0.0, 47.856095810774605],\n",
       "    [0.0, 0.0, 0.0, 0.0],\n",
       "    [0.0, 0.0, 0.0, 1.0]]},\n",
       "  'grid': {'xsize': 1200, 'ysize': 1400},\n",
       "  'name': 'dpc_meteoradar_mosaic',\n",
       "  'nodecode': '0fd67ccc-c9be-45c6-9719-4c4eada4beaa',\n",
       "  'stypecode': '0fd67c67-c9be-45c6-9719-4c4eada4ffff',\n",
       "  'timebase': '2019-06-10T13:00:00Z',\n",
       "  'timedelta': 300.0},\n",
       " {'code': 'cb28c134-6d81-3ffb-8929-321f9d0bedf5',\n",
       "  'controlledProperty': ['TEMP'],\n",
       "  'geometry': {'coordinates': [[[6.0, 47.50026321411133, 0.0, 1.0],\n",
       "     [6.0, 35.990049599775915, 0.0, 1.0],\n",
       "     [18.60927915042647, 35.990049599775915, 0.0, 1.0],\n",
       "     [18.60927915042647, 47.50026321411133, 0.0, 1.0],\n",
       "     [6.0, 47.50026321411133, 0.0, 1.0]]],\n",
       "   'type': 'Polygon'},\n",
       "  'geotiff_tags': {'GTModelTypeGeoKey': 2,\n",
       "   'GTRasterTypeGeoKey': 1,\n",
       "   'GeographicTypeGeoKey': 4326,\n",
       "   'KeyDirectoryVersion': 1,\n",
       "   'KeyRevision': 1,\n",
       "   'KeyRevisionMinor': 2,\n",
       "   'ModelTransformation': [[0.019983009747110096, 0.0, 0.0, 6.0],\n",
       "    [0.0, -0.019983009747110096, 0.0, 47.50026321411133],\n",
       "    [0.0, 0.0, 0.0, 0.0],\n",
       "    [0.0, 0.0, 0.0, 1.0]]},\n",
       "  'grid': {'xsize': 631, 'ysize': 576},\n",
       "  'name': 'dpc_temperature_mosaic',\n",
       "  'nodecode': '0fd67ccc-c9be-45c6-9719-4c4eada4beaa',\n",
       "  'stypecode': '0fd67c67-c9be-45c6-9719-4c4eada4bbbb',\n",
       "  'timebase': '2019-06-10T13:00:00Z',\n",
       "  'timedelta': 3600.0}]"
      ]
     },
     "execution_count": 17,
     "metadata": {},
     "output_type": "execute_result"
    }
   ],
   "source": [
    "radar_array = register_dpc_meteo_sensor(radar_desc)\n",
    "temp_array = register_dpc_meteo_sensor(temp_desc)\n",
    "requests.get(f'{TDMQ_BASE_URL}/sensors').json()"
   ]
  },
  {
   "cell_type": "code",
   "execution_count": 18,
   "metadata": {},
   "outputs": [
    {
     "name": "stdout",
     "output_type": "stream",
     "text": [
      "2019-06-10 13:00:00 VMI 0\n",
      "2019-06-10 13:00:00 SRI 0\n"
     ]
    },
    {
     "data": {
      "text/plain": [
       "{'loaded': 1}"
      ]
     },
     "execution_count": 18,
     "metadata": {},
     "output_type": "execute_result"
    }
   ],
   "source": [
    "ingest_dpc_meteo_acquisition(radar_desc, time_base)"
   ]
  },
  {
   "cell_type": "code",
   "execution_count": 19,
   "metadata": {},
   "outputs": [
    {
     "name": "stdout",
     "output_type": "stream",
     "text": [
      "2019-06-10 13:00:00 TEMP 0\n"
     ]
    },
    {
     "data": {
      "text/plain": [
       "{'loaded': 1}"
      ]
     },
     "execution_count": 19,
     "metadata": {},
     "output_type": "execute_result"
    }
   ],
   "source": [
    "ingest_dpc_meteo_acquisition(temp_desc, time_base)"
   ]
  },
  {
   "cell_type": "code",
   "execution_count": 20,
   "metadata": {},
   "outputs": [
    {
     "name": "stdout",
     "output_type": "stream",
     "text": [
      "2019-06-10 13:00:00 TEMP 0\n",
      "2019-06-10 14:00:00 TEMP 1\n",
      "2019-06-10 15:00:00 TEMP 2\n",
      "2019-06-10 16:00:00 TEMP 3\n",
      "2019-06-10 17:00:00 TEMP 4\n",
      "2019-06-10 18:00:00 TEMP 5\n",
      "2019-06-10 19:00:00 TEMP 6\n",
      "2019-06-10 20:00:00 TEMP 7\n",
      "2019-06-10 21:00:00 TEMP 8\n",
      "2019-06-10 22:00:00 TEMP 9\n"
     ]
    }
   ],
   "source": [
    "t = time_base\n",
    "for i in range(10):\n",
    "    ingest_dpc_meteo_acquisition(temp_desc, t)\n",
    "    t += time_delta_temp"
   ]
  },
  {
   "cell_type": "code",
   "execution_count": 21,
   "metadata": {},
   "outputs": [
    {
     "name": "stdout",
     "output_type": "stream",
     "text": [
      "2019-06-10 13:00:00 VMI 0\n",
      "2019-06-10 13:00:00 SRI 0\n",
      "2019-06-10 13:05:00 VMI 1\n",
      "2019-06-10 13:05:00 SRI 1\n",
      "2019-06-10 13:10:00 VMI 2\n",
      "2019-06-10 13:10:00 SRI 2\n",
      "2019-06-10 13:15:00 VMI 3\n",
      "2019-06-10 13:15:00 SRI 3\n",
      "2019-06-10 13:20:00 VMI 4\n",
      "2019-06-10 13:20:00 SRI 4\n",
      "2019-06-10 13:25:00 VMI 5\n",
      "2019-06-10 13:25:00 SRI 5\n",
      "2019-06-10 13:30:00 VMI 6\n",
      "2019-06-10 13:30:00 SRI 6\n",
      "2019-06-10 13:35:00 VMI 7\n",
      "2019-06-10 13:35:00 SRI 7\n",
      "2019-06-10 13:40:00 VMI 8\n",
      "2019-06-10 13:40:00 SRI 8\n",
      "2019-06-10 13:45:00 VMI 9\n",
      "2019-06-10 13:45:00 SRI 9\n"
     ]
    }
   ],
   "source": [
    "t = time_base\n",
    "for i in range(10):\n",
    "    ingest_dpc_meteo_acquisition(radar_desc, t)\n",
    "    t += time_delta_radar"
   ]
  },
  {
   "cell_type": "code",
   "execution_count": 22,
   "metadata": {},
   "outputs": [],
   "source": [
    "with tiledb.DenseArray(temp_array, mode='r', ctx=TILEDB_CTX) as A:\n",
    "    data = A[0:10,:,:]"
   ]
  },
  {
   "cell_type": "code",
   "execution_count": 23,
   "metadata": {},
   "outputs": [],
   "source": [
    "T = data['TEMP']"
   ]
  },
  {
   "cell_type": "code",
   "execution_count": 24,
   "metadata": {},
   "outputs": [
    {
     "data": {
      "text/plain": [
       "<matplotlib.image.AxesImage at 0x7f5a3cb2df60>"
      ]
     },
     "execution_count": 24,
     "metadata": {},
     "output_type": "execute_result"
    },
    {
     "data": {
      "image/png": "[encoded data removed]",
      "text/plain": [
       "<Figure size 432x288 with 1 Axes>"
      ]
     },
     "metadata": {
      "needs_background": "light"
     },
     "output_type": "display_data"
    }
   ],
   "source": [
    "plt.imshow(T[5, :, :] * (T[5, :, :] > -9999.0))"
   ]
  },
  {
   "cell_type": "code",
   "execution_count": 25,
   "metadata": {},
   "outputs": [],
   "source": [
    "with tiledb.DenseArray(radar_array, mode='r', ctx=TILEDB_CTX) as A:\n",
    "    data = A[0:10,:,:]"
   ]
  },
  {
   "cell_type": "code",
   "execution_count": 26,
   "metadata": {},
   "outputs": [],
   "source": [
    "vmi = data['VMI'] * (data['VMI'] > -9000.0)\n",
    "sri = data['SRI'] * (data['SRI'] > -9000.0)"
   ]
  },
  {
   "cell_type": "code",
   "execution_count": 27,
   "metadata": {},
   "outputs": [
    {
     "data": {
      "text/plain": [
       "<matplotlib.image.AxesImage at 0x7f5a3c7ecd30>"
      ]
     },
     "execution_count": 27,
     "metadata": {},
     "output_type": "execute_result"
    },
    {
     "data": {
      "image/png": "[encoded data removed]",
      "text/plain": [
       "<Figure size 432x288 with 1 Axes>"
      ]
     },
     "metadata": {
      "needs_background": "light"
     },
     "output_type": "display_data"
    }
   ],
   "source": [
    "plt.imshow(vmi[0])"
   ]
  },
  {
   "cell_type": "code",
   "execution_count": null,
   "metadata": {},
   "outputs": [],
   "source": []
  }
 ],
 "metadata": {
  "kernelspec": {
   "display_name": "Python 3",
   "language": "python",
   "name": "python3"
  },
  "language_info": {
   "codemirror_mode": {
    "name": "ipython",
    "version": 3
   },
   "file_extension": ".py",
   "mimetype": "text/x-python",
   "name": "python",
   "nbconvert_exporter": "python",
   "pygments_lexer": "ipython3",
   "version": "3.6.8"
  }
 },
 "nbformat": 4,
 "nbformat_minor": 2
}
