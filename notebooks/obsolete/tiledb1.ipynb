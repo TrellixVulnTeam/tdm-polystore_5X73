{
 "cells": [
  {
   "cell_type": "markdown",
   "metadata": {},
   "source": [
    "This example is based on the [quickstart_dense](https://github.com/TileDB-Inc/TileDB-Py/blob/dev/examples/quickstart_dense.py) example."
   ]
  },
  {
   "cell_type": "code",
   "execution_count": null,
   "metadata": {},
   "outputs": [],
   "source": [
    "import numpy as np\n",
    "import tiledb"
   ]
  },
  {
   "cell_type": "code",
   "execution_count": null,
   "metadata": {},
   "outputs": [],
   "source": [
    "def create_array(ctx, array_name):\n",
    "    # The array will be 4x4 with dimensions \"rows\" and \"cols\", with domain [1,4].\n",
    "    dom = tiledb.Domain(ctx,\n",
    "                        tiledb.Dim(ctx, name=\"rows\", domain=(0, 3), tile=4, dtype=np.int32),\n",
    "                        tiledb.Dim(ctx, name=\"cols\", domain=(0, 3), tile=4, dtype=np.int32))\n",
    "    # The array will be dense with a single attribute \"a\" so each (i,j) cell can store an integer.\n",
    "    schema = tiledb.ArraySchema(ctx, domain=dom, sparse=False,\n",
    "                                attrs=[tiledb.Attr(ctx, name=\"a\", dtype=np.int32)])\n",
    "    # Create the (empty) array on disk.\n",
    "    tiledb.DenseArray.create(array_name, schema)\n",
    "    \n",
    "def write_array(ctx, array_name):\n",
    "    # Open the array and write to it.\n",
    "    with tiledb.DenseArray(ctx, array_name, mode='w') as A:\n",
    "        data = np.array(([1, 2, 3, 4],\n",
    "                         [5, 6, 7, 8],\n",
    "                         [9, 10, 11, 12],\n",
    "                         [13, 14, 15, 16]))\n",
    "        A[:] = data\n",
    "\n",
    "def read_array(ctx, array_name):\n",
    "    # Open the array and read from it.\n",
    "    with tiledb.DenseArray(ctx, array_name, mode='r') as A:\n",
    "        # Slice only rows 1, 2 and cols 2, 3, 4.\n",
    "        data = A[0:3, 2:5]\n",
    "        print(data[\"a\"])"
   ]
  },
  {
   "cell_type": "code",
   "execution_count": null,
   "metadata": {},
   "outputs": [],
   "source": [
    "ctx = tiledb.Ctx({'vfs.hdfs.username': 'root'})"
   ]
  },
  {
   "cell_type": "code",
   "execution_count": null,
   "metadata": {},
   "outputs": [],
   "source": [
    "vfs = tiledb.VFS(ctx)"
   ]
  },
  {
   "cell_type": "code",
   "execution_count": null,
   "metadata": {},
   "outputs": [],
   "source": [
    "vfs.supports('hdfs')"
   ]
  },
  {
   "cell_type": "code",
   "execution_count": null,
   "metadata": {},
   "outputs": [],
   "source": [
    "vfs.is_dir('hdfs://hdfs:9000/')"
   ]
  },
  {
   "cell_type": "code",
   "execution_count": null,
   "metadata": {},
   "outputs": [],
   "source": [
    "array_name = 'hdfs://hdfs:9000/dummy'"
   ]
  },
  {
   "cell_type": "code",
   "execution_count": null,
   "metadata": {},
   "outputs": [],
   "source": [
    "print(tiledb.object_type(ctx, array_name))"
   ]
  },
  {
   "cell_type": "code",
   "execution_count": null,
   "metadata": {},
   "outputs": [],
   "source": [
    "create_array(ctx, array_name)"
   ]
  },
  {
   "cell_type": "code",
   "execution_count": null,
   "metadata": {},
   "outputs": [],
   "source": [
    "print(tiledb.object_type(ctx, array_name))"
   ]
  },
  {
   "cell_type": "code",
   "execution_count": null,
   "metadata": {},
   "outputs": [],
   "source": [
    "write_array(ctx, array_name)"
   ]
  },
  {
   "cell_type": "code",
   "execution_count": null,
   "metadata": {},
   "outputs": [],
   "source": [
    "read_array(ctx, array_name)"
   ]
  },
  {
   "cell_type": "code",
   "execution_count": null,
   "metadata": {},
   "outputs": [],
   "source": []
  }
 ],
 "metadata": {
  "kernelspec": {
   "display_name": "Python 3",
   "language": "python",
   "name": "python3"
  },
  "language_info": {
   "codemirror_mode": {
    "name": "ipython",
    "version": 3
   },
   "file_extension": ".py",
   "mimetype": "text/x-python",
   "name": "python",
   "nbconvert_exporter": "python",
   "pygments_lexer": "ipython3",
   "version": "3.6.7"
  }
 },
 "nbformat": 4,
 "nbformat_minor": 2
}
