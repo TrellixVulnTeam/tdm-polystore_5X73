{
 "cells": [
  {
   "cell_type": "markdown",
   "metadata": {},
   "source": [
    "# Some timeseries scenarios"
   ]
  },
  {
   "cell_type": "code",
   "execution_count": 1,
   "metadata": {},
   "outputs": [
    {
     "name": "stderr",
     "output_type": "stream",
     "text": [
      "/usr/local/lib/python3.6/dist-packages/psycopg2/__init__.py:144: UserWarning: The psycopg2 wheel package will be renamed from release 2.8; in order to keep installing from binary please use \"pip install psycopg2-binary\" instead. For details see: <http://initd.org/psycopg/docs/install.html#binary-install-from-pypi>.\n",
      "  \"\"\")\n"
     ]
    }
   ],
   "source": [
    "import psycopg2 as psy\n",
    "from datetime import datetime, timedelta\n",
    "import json\n",
    "\n",
    "from osgeo import ogr\n",
    "from osgeo import osr\n",
    "\n",
    "import numpy as np\n",
    "import tiledb\n",
    "import os\n"
   ]
  },
  {
   "cell_type": "markdown",
   "metadata": {},
   "source": [
    "## Setting thing up"
   ]
  },
  {
   "cell_type": "markdown",
   "metadata": {},
   "source": [
    "### Setup databases"
   ]
  },
  {
   "cell_type": "code",
   "execution_count": 2,
   "metadata": {},
   "outputs": [],
   "source": [
    "# create testdb\n",
    "from psycopg2.extensions import ISOLATION_LEVEL_AUTOCOMMIT\n",
    "\n",
    "con = psy.connect(\"dbname=postgres host=timescaledb user=postgres password=foobar\")\n",
    "\n",
    "with con:\n",
    "    con.set_isolation_level(ISOLATION_LEVEL_AUTOCOMMIT)\n",
    "    with con.cursor() as cur:\n",
    "        cur.execute(\"DROP DATABASE IF EXISTS testdb;\")\n",
    "        cur.execute('CREATE DATABASE testdb')\n",
    "\n",
    "# not sure if the AUTOCOMMIT is needed\n",
    "with con:\n",
    "    con.set_isolation_level(ISOLATION_LEVEL_AUTOCOMMIT)\n",
    "    with con.cursor() as cur:   \n",
    "        cur.execute(\"CREATE EXTENSION IF NOT EXISTS timescaledb CASCADE;\")\n",
    "con.close()"
   ]
  },
  {
   "cell_type": "code",
   "execution_count": 3,
   "metadata": {},
   "outputs": [
    {
     "name": "stdout",
     "output_type": "stream",
     "text": [
      "[('2.5 USE_GEOS=1 USE_PROJ=1 USE_STATS=1',)]\n",
      "(3819, 'EPSG', '+proj=longlat +ellps=bessel +towgs84=595.48,121.69,515.35,4.115,-2.9383,0.853,-3.408 +no_defs ')\n",
      "(3821, 'EPSG', '+proj=longlat +ellps=aust_SA +no_defs ')\n",
      "(3824, 'EPSG', '+proj=longlat +ellps=GRS80 +towgs84=0,0,0,0,0,0,0 +no_defs ')\n",
      "[(3003, 'EPSG', '+proj=tmerc +lat_0=0 +lon_0=9 +k=0.9996 +x_0=1500000 +y_0=0 +ellps=intl +towgs84=-104.1,-49.1,-9.9,0.971,-2.917,0.714,-11.68 +units=m +no_defs ')]\n"
     ]
    }
   ],
   "source": [
    "con = psy.connect(\"dbname=testdb host=timescaledb user=postgres password=foobar\")\n",
    "\n",
    "with con:\n",
    "    with con.cursor() as cur:   \n",
    "        cur.execute(\"CREATE EXTENSION IF NOT EXISTS postgis;\")\n",
    "        cur.execute(\"SELECT postgis_version();\")\n",
    "        print(cur.fetchall())\n",
    "        cur.execute(\"SELECT srid, auth_name, proj4text FROM spatial_ref_sys LIMIT 3;\")\n",
    "        for x in cur.fetchall():\n",
    "            print(x)\n",
    "        cur.execute(\"SELECT srid, auth_name, proj4text FROM spatial_ref_sys WHERE srid = 3003\")\n",
    "        print(cur.fetchall())\n",
    "con.close()"
   ]
  },
  {
   "cell_type": "markdown",
   "metadata": {},
   "source": [
    "### Prepare a generic sensor table"
   ]
  },
  {
   "cell_type": "code",
   "execution_count": 4,
   "metadata": {},
   "outputs": [],
   "source": [
    "source = osr.SpatialReference()\n",
    "source.ImportFromEPSG(4326)\n",
    "\n",
    "target = osr.SpatialReference()\n",
    "target.ImportFromEPSG(3003)\n",
    "\n",
    "transform = osr.CoordinateTransformation(source, target)\n",
    "\n",
    "def map_to_monte_mario(wkt):\n",
    "    geom = ogr.CreateGeometryFromWkt(wkt)\n",
    "    geom.Transform(transform)\n",
    "    return geom.ExportToWkt()\n",
    "\n",
    "def create_sensors_index_table(conn):\n",
    "    query = \"\"\"\n",
    "        CREATE TABLE sensors_index (\n",
    "            id int4 primary key,\n",
    "            name VARCHAR(20),\n",
    "            type VARCHAR(20),\n",
    "            category VARCHAR(20),\n",
    "            geom geometry,\n",
    "            precision REAL\n",
    "        );\n",
    "    \"\"\"\n",
    "    with conn:\n",
    "        with conn.cursor() as cur:\n",
    "            cur.execute(query)"
   ]
  },
  {
   "cell_type": "code",
   "execution_count": 5,
   "metadata": {},
   "outputs": [],
   "source": [
    "con = psy.connect(\"dbname=testdb host=timescaledb user=postgres password=foobar\")\n",
    "create_sensors_index_table(con)"
   ]
  },
  {
   "cell_type": "markdown",
   "metadata": {},
   "source": [
    "## Manage point sensors"
   ]
  },
  {
   "cell_type": "code",
   "execution_count": 6,
   "metadata": {},
   "outputs": [],
   "source": [
    "class point_sensor_description:\n",
    "    def __init__(self, stype, sensors):\n",
    "        self.desc = {'type': stype, 'category': [\"meteosensor\"]}\n",
    "        self.desc['controlledProperty'] = sensors\n",
    "        self.desc['footprint'] = {'fixed': True, 'geometry': 'point3D'}\n",
    "        \n",
    "    def to_json(self):\n",
    "        return json.dumps(self.desc)"
   ]
  },
  {
   "cell_type": "code",
   "execution_count": 7,
   "metadata": {},
   "outputs": [],
   "source": [
    "def create_point_sensor_table(conn, desc):\n",
    "    conv = {'float32': 'REAL', 'int32': 'INTEGER'}\n",
    "    def create_field(k, v):\n",
    "        return \"{} {} NULL\".format(k, conv[v])\n",
    "    fields = ',\\n'.join(create_field(k, v) for k, v in desc['controlledProperty'])\n",
    "    SQL = \"\"\"\n",
    "    CREATE TABLE {} (\n",
    "       time     TIMESTAMPTZ   NOT NULL,\n",
    "       id       int4          NOT NULL,\n",
    "       {}\n",
    "    );\n",
    "    \"\"\".format(desc['type'], fields)\n",
    "    with conn:\n",
    "        with conn.cursor() as cur:\n",
    "            cur.execute(SQL)\n",
    "    SQL = \"SELECT create_hypertable('{}', 'time');\".format(desc['type'])\n",
    "    with conn:\n",
    "        with conn.cursor() as cur:\n",
    "            cur.execute(SQL)\n",
    "\n",
    "def register_point_sensor(conn, sid, stype, sname, scategory, longitude, latitude):\n",
    "    SQL = \"\"\"INSERT INTO sensors_index (id, name, type, category, geom, precision)\n",
    "             VALUES (%s, %s, %s, %s, ST_GeomFromText(%s, 3003), 10);\"\"\"\n",
    "    with conn:\n",
    "        with conn.cursor() as cur:\n",
    "            cur.execute(SQL,\n",
    "                        (sid, stype, sname, scategory, \n",
    "                         map_to_monte_mario(\"POINT (%s %s)\" % (longitude, latitude))))\n",
    "            \n",
    "def insert_point_sensor_data(conn, desc, sid, values):\n",
    "    SQL = \"INSERT INTO {} (time, id, {}) VALUES (%s, {}, {})\".format(\n",
    "        desc['type'], \", \".join(k for k, v in desc['controlledProperty']),\n",
    "        sid, \", \".join([\"%s\"] * len(desc['controlledProperty'])))\n",
    "    with conn:\n",
    "        for v in values:\n",
    "            with conn.cursor() as cur:\n",
    "                cur.execute(SQL, v)"
   ]
  },
  {
   "cell_type": "markdown",
   "metadata": {},
   "source": [
    "This is the description of the point_sensor class 'meteo_station1'."
   ]
  },
  {
   "cell_type": "code",
   "execution_count": 8,
   "metadata": {},
   "outputs": [],
   "source": [
    "sd = point_sensor_description('meteo_station1', \n",
    "         sensors=[('temperature', 'float32'), ('pressure', 'float32'), ('humidity', 'float32')],\n",
    "     )"
   ]
  },
  {
   "cell_type": "code",
   "execution_count": 9,
   "metadata": {},
   "outputs": [
    {
     "data": {
      "text/plain": [
       "{'type': 'meteo_station1',\n",
       " 'category': ['meteosensor'],\n",
       " 'controlledProperty': [('temperature', 'float32'),\n",
       "  ('pressure', 'float32'),\n",
       "  ('humidity', 'float32')],\n",
       " 'footprint': {'fixed': True, 'geometry': 'point3D'}}"
      ]
     },
     "execution_count": 9,
     "metadata": {},
     "output_type": "execute_result"
    }
   ],
   "source": [
    "sd.desc"
   ]
  },
  {
   "cell_type": "markdown",
   "metadata": {},
   "source": [
    "Register two sensors of the 'meteo_station1' class and create a table to store data from that class of sensors."
   ]
  },
  {
   "cell_type": "code",
   "execution_count": 10,
   "metadata": {},
   "outputs": [],
   "source": [
    "register_point_sensor(con, 167, 'meteo_station1', 'rupert001', 'meteosensor', longitude=9.121661, latitude=39.224841)\n",
    "register_point_sensor(con, 191, 'meteo_station1', 'rupert002', 'meteosensor', longitude=9.121661, latitude=39.223971)\n",
    "create_point_sensor_table(con, sd.desc)"
   ]
  },
  {
   "cell_type": "markdown",
   "metadata": {},
   "source": [
    "List all currently known sensors."
   ]
  },
  {
   "cell_type": "code",
   "execution_count": 11,
   "metadata": {},
   "outputs": [
    {
     "name": "stdout",
     "output_type": "stream",
     "text": [
      "(167, 'POINT(9.12166100720147 39.2248410015303)')\n",
      "(191, 'POINT(9.12166100720134 39.2239710015304)')\n"
     ]
    }
   ],
   "source": [
    "with con:\n",
    "    with con.cursor() as cur:\n",
    "        cur.execute(\"SELECT id, ST_AsText(ST_Transform(geom,4326)) from sensors_index;\")\n",
    "        for x in cur.fetchall():\n",
    "            print(x)"
   ]
  },
  {
   "cell_type": "markdown",
   "metadata": {},
   "source": [
    "Insert data associated to the sensors."
   ]
  },
  {
   "cell_type": "code",
   "execution_count": 12,
   "metadata": {},
   "outputs": [],
   "source": [
    "def generate_time_series(tstart, delta, n):\n",
    "    return [(tstart + i * delta, np.random.normal(283, 10), np.random.normal(1050, 30), np.random.normal(0.35, 0.1))\n",
    "            for i in range(n)]"
   ]
  },
  {
   "cell_type": "code",
   "execution_count": 13,
   "metadata": {},
   "outputs": [],
   "source": [
    "insert_point_sensor_data(con, sd.desc, 167, generate_time_series(datetime.now(), timedelta(seconds=60), 10))\n",
    "insert_point_sensor_data(con, sd.desc, 191, generate_time_series(datetime.now(), timedelta(seconds=60), 10))"
   ]
  },
  {
   "cell_type": "code",
   "execution_count": 14,
   "metadata": {},
   "outputs": [
    {
     "name": "stdout",
     "output_type": "stream",
     "text": [
      "(167, datetime.datetime(2019, 3, 14, 17, 41, 14, 998005, tzinfo=psycopg2.tz.FixedOffsetTimezone(offset=0, name=None)), 275.83)\n",
      "(167, datetime.datetime(2019, 3, 14, 17, 42, 14, 998005, tzinfo=psycopg2.tz.FixedOffsetTimezone(offset=0, name=None)), 292.271)\n",
      "(167, datetime.datetime(2019, 3, 14, 17, 43, 14, 998005, tzinfo=psycopg2.tz.FixedOffsetTimezone(offset=0, name=None)), 295.621)\n"
     ]
    }
   ],
   "source": [
    "with con:\n",
    "    with con.cursor() as cur:\n",
    "        cur.execute(\"SELECT id, time, temperature from meteo_station1 where id = 167 LIMIT 3;\")\n",
    "        for x in cur.fetchall():\n",
    "            print(x)"
   ]
  },
  {
   "cell_type": "markdown",
   "metadata": {},
   "source": [
    "Find all sensors within 100 meters from a given point."
   ]
  },
  {
   "cell_type": "code",
   "execution_count": 15,
   "metadata": {},
   "outputs": [
    {
     "name": "stdout",
     "output_type": "stream",
     "text": [
      "(191, 'POINT(9.12166100720134 39.2239710015304)')\n"
     ]
    }
   ],
   "source": [
    "with con:\n",
    "    with con.cursor() as cur:\n",
    "        cur.execute(\"\"\"\n",
    "        SELECT id, ST_AsText(ST_Transform(geom,4326)) from sensors_index\n",
    "        WHERE ST_DWithin(geom, ST_GeomFromText(%s, 3003), 100);\n",
    "        \"\"\", (map_to_monte_mario('POINT(9.121661 39.223841)'), ))\n",
    "        for x in cur.fetchall():\n",
    "            print(x)"
   ]
  },
  {
   "cell_type": "markdown",
   "metadata": {},
   "source": [
    "Find all sensors within 1000 meters from a given point."
   ]
  },
  {
   "cell_type": "code",
   "execution_count": 16,
   "metadata": {},
   "outputs": [
    {
     "name": "stdout",
     "output_type": "stream",
     "text": [
      "(167, 'POINT(9.12166100720147 39.2248410015303)')\n",
      "(191, 'POINT(9.12166100720134 39.2239710015304)')\n"
     ]
    }
   ],
   "source": [
    "with con:\n",
    "    with con.cursor() as cur:\n",
    "        cur.execute(\"\"\"\n",
    "        SELECT id, ST_AsText(ST_Transform(geom,4326)) from sensors_index\n",
    "        WHERE ST_DWithin(geom, ST_GeomFromText(%s, 3003), 1000);\n",
    "        \"\"\", (map_to_monte_mario('POINT(9.121661 39.223841)'), ))\n",
    "        for x in cur.fetchall():\n",
    "            print(x)"
   ]
  },
  {
   "cell_type": "markdown",
   "metadata": {},
   "source": [
    "Completely gratuituos experiment with folium."
   ]
  },
  {
   "cell_type": "code",
   "execution_count": 17,
   "metadata": {},
   "outputs": [
    {
     "data": {
      "text/html": [
       "<div style=\"width:100%;\"><div style=\"position:relative;width:100%;height:0;padding-bottom:60%;\"><iframe src=\"data:text/html;charset=utf-8;base64,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\" style=\"position:absolute;width:100%;height:100%;left:0;top:0;border:none !important;\" allowfullscreen webkitallowfullscreen mozallowfullscreen></iframe></div></div>"
      ],
      "text/plain": [
       "<folium.folium.Map at 0x7f07f8d00e80>"
      ]
     },
     "execution_count": 17,
     "metadata": {},
     "output_type": "execute_result"
    }
   ],
   "source": [
    "# more or less direct cut&paste from a folium example.\n",
    "import folium\n",
    "import folium.plugins\n",
    "map_1 = folium.Map(location=[39.223841,  9.121661], zoom_start=17,tiles=None)\n",
    "map_1.add_tile_layer()\n",
    "data_sites = [{\"status\": \"is_active\", \"coordinates\" : [39.224841, 9.121661]},\n",
    "              {\"status\": \"is_active\", \"coordinates\" : [39.223971, 9.121661]},\n",
    "              {\"status\": \"not_active\", \"coordinates\" : [39.223824, 9.121661]}, \n",
    "              {\"status\": \"not_active\", \"coordinates\" : [39.223810, 9.121661]}]\n",
    "feature_group_active = folium.FeatureGroup(name='Active')\n",
    "feature_group_unactive = folium.FeatureGroup(name='Unactive')\n",
    "marker_cluster_active = folium.plugins.MarkerCluster()\n",
    "marker_cluster_unactive =folium.plugins.MarkerCluster()\n",
    "for site in data_sites:\n",
    "    if(site[\"status\"]==\"is_active\"):\n",
    "        marker_active = folium.Marker(site[\"coordinates\"],popup=\"OK\",\n",
    "                                      icon = folium.Icon(color='green',icon='ok-sign'))\n",
    "        marker_cluster_active.add_child(marker_active)\n",
    "    else:\n",
    "        marker_unactive = folium.Marker(site[\"coordinates\"],popup=\"KO\",\n",
    "                                        icon = folium.Icon(color='red',icon='exclamation-sign'))\n",
    "        marker_cluster_unactive.add_child(marker_unactive)\n",
    "feature_group_active.add_child(marker_cluster_active)\n",
    "feature_group_unactive.add_child(marker_cluster_unactive)\n",
    "map_1.add_child(feature_group_active)\n",
    "map_1.add_child(feature_group_unactive)"
   ]
  },
  {
   "cell_type": "markdown",
   "metadata": {},
   "source": [
    "## Manage area sensors"
   ]
  },
  {
   "cell_type": "code",
   "execution_count": 18,
   "metadata": {},
   "outputs": [],
   "source": [
    "class area_sensor_description:\n",
    "    def __init__(self, stype, sensors):\n",
    "        self.desc = {'type': stype, 'category': [\"meteosensor\"]}\n",
    "        self.desc['controlledProperty'] = sensors\n",
    "        self.desc['footprint'] = {'fixed': True, 'geometry': 'polygon'}\n",
    "        \n",
    "    def to_json(self):\n",
    "        return json.dumps(self.desc)"
   ]
  },
  {
   "cell_type": "code",
   "execution_count": 19,
   "metadata": {},
   "outputs": [],
   "source": [
    "def create_area_sensor_table(conn, desc):\n",
    "    SQL = \"\"\"\n",
    "    CREATE TABLE {} (\n",
    "       time     TIMESTAMPTZ   NOT NULL,\n",
    "       id       int4          NOT NULL,\n",
    "       dataset  TEXT          NULL,\n",
    "       frame    int4          NULL\n",
    "    );\n",
    "    \"\"\".format(desc['type'])\n",
    "    with conn:\n",
    "        with conn.cursor() as cur:\n",
    "            cur.execute(SQL)\n",
    "    SQL = \"SELECT create_hypertable('{}', 'time');\".format(desc['type'])\n",
    "    with conn:\n",
    "        with conn.cursor() as cur:\n",
    "            cur.execute(SQL)\n",
    "\n",
    "\n",
    "def register_area_sensor(conn, sid, stype, sname, scategory, polygon):\n",
    "    polygon = \"POLYGON(({}))\".format(\", \".join(\"{} {}\".format(lon, lat) for lon, lat in polygon))\n",
    "    SQL = \"\"\"INSERT INTO sensors_index (id, name, type, category, geom, precision)\n",
    "             VALUES (%s, %s, %s, %s, ST_GeomFromText(%s, 3003), 10);\"\"\"\n",
    "    with conn:\n",
    "        with conn.cursor() as cur:\n",
    "            cur.execute(SQL,\n",
    "                        (sid, stype, sname, scategory, \n",
    "                         map_to_monte_mario(polygon)))\n"
   ]
  },
  {
   "cell_type": "markdown",
   "metadata": {},
   "source": [
    "### Create data arrays"
   ]
  },
  {
   "cell_type": "markdown",
   "metadata": {},
   "source": [
    "Please note that we are using the tiledb dev branch API which is **NOT** consistent with the official documentation. "
   ]
  },
  {
   "cell_type": "code",
   "execution_count": 20,
   "metadata": {},
   "outputs": [],
   "source": [
    "ctx = tiledb.Ctx({'vfs.hdfs.username': 'root'})\n",
    "#ctx = tiledb.Ctx()"
   ]
  },
  {
   "cell_type": "code",
   "execution_count": 21,
   "metadata": {},
   "outputs": [],
   "source": [
    "top = tiledb.group_create(\"hdfs://hdfs:9000/radar01\", ctx)\n",
    "#top = tiledb.group_create(\"radar00\")"
   ]
  },
  {
   "cell_type": "code",
   "execution_count": 22,
   "metadata": {},
   "outputs": [],
   "source": [
    "coords = tiledb.group_create(os.path.join(top, \"coords\"), ctx)"
   ]
  },
  {
   "cell_type": "code",
   "execution_count": 23,
   "metadata": {},
   "outputs": [],
   "source": [
    "tdim = tiledb.Dim('time', domain=(0, 60*24*365*10), dtype=np.int32, tile=1, ctx=ctx)\n",
    "xdim = tiledb.Dim('x', domain=(0, 1023), dtype=np.int32, tile=1023, ctx=ctx)\n",
    "ydim = tiledb.Dim('y', domain=(0, 1023), dtype=np.int32, tile=1023, ctx=ctx)\n",
    "\n",
    "tschema = tiledb.ArraySchema(domain=tiledb.Domain(tdim), \n",
    "                             sparse=False, \n",
    "                             attrs=[tiledb.Attr(name='T', dtype=np.float64)],\n",
    "                             ctx=ctx) # seconds from reference\n",
    "xschema = tiledb.ArraySchema(domain=tiledb.Domain(xdim), \n",
    "                             sparse=False, \n",
    "                             attrs=[tiledb.Attr(name='X', dtype=np.float32)], \n",
    "                             ctx=ctx) # monte mario X coordinates of point\n",
    "yschema = tiledb.ArraySchema(domain=tiledb.Domain(ydim), \n",
    "                             sparse=False, \n",
    "                             attrs=[tiledb.Attr(name='Y', dtype=np.float32)],\n",
    "                             ctx=ctx) # monte mario Y coordinates of point\n",
    "tiledb.DenseArray.create(os.path.join(coords, \"time\"), tschema)\n",
    "tiledb.DenseArray.create(os.path.join(coords, \"X\"), xschema)\n",
    "tiledb.DenseArray.create(os.path.join(coords, \"Y\"), yschema)\n",
    "\n",
    "dom = tiledb.Domain(tdim, xdim, ydim, ctx=ctx)\n",
    "p = tiledb.Attr(name='precipitation', dtype=np.float32)\n",
    "schema = tiledb.ArraySchema(domain=dom, sparse=False, attrs=[p], ctx=ctx)\n",
    "tiledb.DenseArray.create(os.path.join(top, \"variables\"), schema) # it does not map directly to netcdf4 "
   ]
  },
  {
   "cell_type": "code",
   "execution_count": 24,
   "metadata": {},
   "outputs": [],
   "source": [
    "asd = area_sensor_description('radar_mark0', ['precipitation'])"
   ]
  },
  {
   "cell_type": "code",
   "execution_count": 25,
   "metadata": {},
   "outputs": [
    {
     "data": {
      "text/plain": [
       "{'type': 'radar_mark0',\n",
       " 'category': ['meteosensor'],\n",
       " 'controlledProperty': ['precipitation'],\n",
       " 'footprint': {'fixed': True, 'geometry': 'polygon'}}"
      ]
     },
     "execution_count": 25,
     "metadata": {},
     "output_type": "execute_result"
    }
   ],
   "source": [
    "asd.desc"
   ]
  },
  {
   "cell_type": "code",
   "execution_count": 26,
   "metadata": {},
   "outputs": [],
   "source": [
    "create_area_sensor_table(con, asd.desc)"
   ]
  },
  {
   "cell_type": "code",
   "execution_count": 27,
   "metadata": {},
   "outputs": [],
   "source": [
    "polygon = [(8.752247222222222, 39.5049278), (8.75418611111111, 38.9513111), (9.463199999999999, 38.9506528),\n",
    "           (9.466852777777778, 39.5042528), (8.752247222222222, 39.5049278)]"
   ]
  },
  {
   "cell_type": "code",
   "execution_count": 28,
   "metadata": {},
   "outputs": [],
   "source": [
    "register_area_sensor(con, 200, 'radar_mark0', 'radar@unica', 'meteosensor', polygon)"
   ]
  },
  {
   "cell_type": "markdown",
   "metadata": {},
   "source": [
    "Check what we have registered."
   ]
  },
  {
   "cell_type": "code",
   "execution_count": 29,
   "metadata": {},
   "outputs": [
    {
     "name": "stdout",
     "output_type": "stream",
     "text": [
      "(167, 'POINT(9.12166100720147 39.2248410015303)')\n",
      "(191, 'POINT(9.12166100720134 39.2239710015304)')\n",
      "(200, 'POLYGON((8.75224722959804 39.5049278015358,8.7541861184325 38.951311101573,9.46320000703916 38.9506528015271,9.46685278486905 39.504252801489,8.75224722959804 39.5049278015358))')\n"
     ]
    }
   ],
   "source": [
    "with con:\n",
    "    with con.cursor() as cur:\n",
    "        cur.execute(\"SELECT id, ST_AsText(ST_Transform(geom,4326)) from sensors_index;\")\n",
    "        for x in cur.fetchall():\n",
    "            print(x)"
   ]
  },
  {
   "cell_type": "code",
   "execution_count": 30,
   "metadata": {},
   "outputs": [
    {
     "name": "stdout",
     "output_type": "stream",
     "text": [
      "(167, 'POINT(9.12166100720147 39.2248410015303)')\n",
      "(191, 'POINT(9.12166100720134 39.2239710015304)')\n",
      "(200, 'POLYGON((8.75224722959804 39.5049278015358,8.7541861184325 38.951311101573,9.46320000703916 38.9506528015271,9.46685278486905 39.504252801489,8.75224722959804 39.5049278015358))')\n"
     ]
    }
   ],
   "source": [
    "with con:\n",
    "    with con.cursor() as cur:\n",
    "        cur.execute(\"\"\"\n",
    "        SELECT id, ST_AsText(ST_Transform(geom,4326)) from sensors_index\n",
    "        WHERE ST_DWithin(geom, ST_GeomFromText(%s, 3003), 1000);\n",
    "        \"\"\", (map_to_monte_mario('POINT(9.121661 39.223841)'), ))\n",
    "        for x in cur.fetchall():\n",
    "            print(x)"
   ]
  },
  {
   "cell_type": "markdown",
   "metadata": {},
   "source": [
    "### Insert some radar data\n",
    "\n",
    "This is a rather basic example. "
   ]
  },
  {
   "cell_type": "code",
   "execution_count": 31,
   "metadata": {},
   "outputs": [],
   "source": [
    "def insert_area_sensor_data_sql(conn, tstamp, sid, dataset, frame):\n",
    "    SQL = \"INSERT INTO radar_mark0 (time, id, dataset, frame) VALUES ('{}', {}, '{}', {})\".format(\n",
    "        tstamp, sid, dataset, frame)\n",
    "    with conn:\n",
    "        with conn.cursor() as cur:\n",
    "            cur.execute(SQL)\n",
    "\n",
    "def insert_area_sensor_data_tiledb(ctx, delta_sec, dataset, idx, data):\n",
    "    var = os.path.join(dataset, 'variables')\n",
    "    time = os.path.join(dataset, 'coords/time')\n",
    "    with tiledb.DenseArray(time, mode='w', ctx=ctx) as T:\n",
    "        T[idx:(idx+1)] = delta_sec\n",
    "    print('saved T')\n",
    "    with tiledb.DenseArray(var, mode='w', ctx=ctx) as A:\n",
    "        A[idx:(idx+1), ...] = data\n",
    "    #\n",
    "\n",
    "def insert_area_sensor_data(conn, ctx, sid, tstamp, frame, data):\n",
    "    dataset = top\n",
    "    delta_sec = (tstamp - start).total_seconds()\n",
    "    print('ready to save array')\n",
    "    insert_area_sensor_data_tiledb(ctx, delta_sec, dataset, frame, data)\n",
    "    print('ready to save sql')\n",
    "    insert_area_sensor_data_sql(conn, tstamp, sid, dataset, frame)"
   ]
  },
  {
   "cell_type": "code",
   "execution_count": 32,
   "metadata": {},
   "outputs": [],
   "source": [
    "start = datetime.now()"
   ]
  },
  {
   "cell_type": "code",
   "execution_count": 33,
   "metadata": {},
   "outputs": [],
   "source": [
    "data = np.zeros((1024, 1024), dtype=np.float32)"
   ]
  },
  {
   "cell_type": "code",
   "execution_count": 34,
   "metadata": {},
   "outputs": [
    {
     "name": "stdout",
     "output_type": "stream",
     "text": [
      "ready to save array\n",
      "saved T\n",
      "ready to save sql\n"
     ]
    }
   ],
   "source": [
    "insert_area_sensor_data(con, ctx, 200, start + timedelta(seconds=60), 0, data)"
   ]
  },
  {
   "cell_type": "code",
   "execution_count": null,
   "metadata": {},
   "outputs": [],
   "source": []
  }
 ],
 "metadata": {
  "kernelspec": {
   "display_name": "Python 3",
   "language": "python",
   "name": "python3"
  },
  "language_info": {
   "codemirror_mode": {
    "name": "ipython",
    "version": 3
   },
   "file_extension": ".py",
   "mimetype": "text/x-python",
   "name": "python",
   "nbconvert_exporter": "python",
   "pygments_lexer": "ipython3",
   "version": "3.6.7"
  }
 },
 "nbformat": 4,
 "nbformat_minor": 2
}
