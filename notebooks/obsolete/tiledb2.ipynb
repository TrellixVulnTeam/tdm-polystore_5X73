{
 "cells": [
  {
   "cell_type": "code",
   "execution_count": null,
   "metadata": {},
   "outputs": [],
   "source": [
    "import numpy as np\n",
    "import tiledb"
   ]
  },
  {
   "cell_type": "code",
   "execution_count": null,
   "metadata": {},
   "outputs": [],
   "source": [
    "ctx = tiledb.Ctx()"
   ]
  },
  {
   "cell_type": "code",
   "execution_count": null,
   "metadata": {},
   "outputs": [],
   "source": [
    "xdim = tiledb.Dim(ctx, 'X', domain=(0, 3), dtype=np.int32, tile=4)\n",
    "ydim = tiledb.Dim(ctx, 'Y', domain=(0, 9), dtype=np.int32, tile=5)"
   ]
  },
  {
   "cell_type": "code",
   "execution_count": null,
   "metadata": {},
   "outputs": [],
   "source": [
    "xdim.shape, ydim.shape"
   ]
  },
  {
   "cell_type": "code",
   "execution_count": null,
   "metadata": {},
   "outputs": [],
   "source": [
    "dom = tiledb.Domain(ctx, xdim, ydim)"
   ]
  },
  {
   "cell_type": "code",
   "execution_count": null,
   "metadata": {},
   "outputs": [],
   "source": [
    "dom.shape, dom.ndim, dom.dim(0)"
   ]
  },
  {
   "cell_type": "code",
   "execution_count": null,
   "metadata": {},
   "outputs": [],
   "source": [
    "dom2 = tiledb.Domain(ctx, xdim, ydim, ydim)"
   ]
  },
  {
   "cell_type": "code",
   "execution_count": null,
   "metadata": {},
   "outputs": [],
   "source": [
    "dom2.shape"
   ]
  },
  {
   "cell_type": "code",
   "execution_count": null,
   "metadata": {},
   "outputs": [],
   "source": [
    "p = tiledb.Attr(ctx, name='pressure', dtype=np.float32)\n",
    "u = tiledb.Attr(ctx, name='u', dtype=np.float32)\n",
    "v = tiledb.Attr(ctx, name='v', dtype=np.float32)"
   ]
  },
  {
   "cell_type": "code",
   "execution_count": null,
   "metadata": {},
   "outputs": [],
   "source": [
    "p.dtype"
   ]
  },
  {
   "cell_type": "code",
   "execution_count": null,
   "metadata": {},
   "outputs": [],
   "source": [
    "p.name"
   ]
  },
  {
   "cell_type": "code",
   "execution_count": null,
   "metadata": {},
   "outputs": [],
   "source": [
    "schema = tiledb.ArraySchema(ctx, domain=dom, sparse=False,\n",
    "                            attrs=[p, u, v])"
   ]
  },
  {
   "cell_type": "code",
   "execution_count": null,
   "metadata": {},
   "outputs": [],
   "source": [
    "schema.shape"
   ]
  },
  {
   "cell_type": "code",
   "execution_count": null,
   "metadata": {},
   "outputs": [],
   "source": [
    "for i in range(schema.nattr):\n",
    "    print(schema.attr(i).name)"
   ]
  },
  {
   "cell_type": "code",
   "execution_count": null,
   "metadata": {},
   "outputs": [],
   "source": [
    "aname = 'foo1'"
   ]
  },
  {
   "cell_type": "code",
   "execution_count": null,
   "metadata": {},
   "outputs": [],
   "source": [
    "tiledb.DenseArray.create(aname, schema)"
   ]
  },
  {
   "cell_type": "code",
   "execution_count": null,
   "metadata": {},
   "outputs": [],
   "source": [
    "data = np.zeros((4, 10), dtype=np.float32)"
   ]
  },
  {
   "cell_type": "code",
   "execution_count": null,
   "metadata": {},
   "outputs": [],
   "source": [
    "data.shape"
   ]
  },
  {
   "cell_type": "code",
   "execution_count": null,
   "metadata": {},
   "outputs": [],
   "source": [
    "A = tiledb.DenseArray(ctx, aname, mode='w')"
   ]
  },
  {
   "cell_type": "code",
   "execution_count": null,
   "metadata": {},
   "outputs": [],
   "source": [
    "A[:] = {'pressure': data, 'u': data, 'v': data}"
   ]
  },
  {
   "cell_type": "code",
   "execution_count": null,
   "metadata": {},
   "outputs": [],
   "source": [
    "A.close()"
   ]
  },
  {
   "cell_type": "code",
   "execution_count": null,
   "metadata": {},
   "outputs": [],
   "source": [
    "with tiledb.DenseArray(ctx, aname, mode='w') as A:\n",
    "    A[:] = {'pressure': data, 'u': data, 'v': data}"
   ]
  },
  {
   "cell_type": "code",
   "execution_count": null,
   "metadata": {},
   "outputs": [],
   "source": [
    "with tiledb.DenseArray(ctx, aname, mode='r') as A:\n",
    "    d = A[0:4,0:10]\n",
    "    print(d['pressure'])"
   ]
  },
  {
   "cell_type": "code",
   "execution_count": null,
   "metadata": {},
   "outputs": [],
   "source": [
    "with tiledb.DenseArray(ctx, aname, mode='w') as A:\n",
    "    A[1:3,2:7] = {'pressure': 1 + data[1:3, 2:7],\n",
    "                  'u': -1 + data[1:3, 2:7], \n",
    "                  'v': 3 + data[1:3, 2:7]}"
   ]
  },
  {
   "cell_type": "code",
   "execution_count": null,
   "metadata": {},
   "outputs": [],
   "source": [
    "with tiledb.DenseArray(ctx, aname, mode='r') as A:\n",
    "    d = A[:]\n",
    "    print(d['pressure'])\n",
    "    print(d['u'])\n",
    "    print(d['v'])"
   ]
  },
  {
   "cell_type": "code",
   "execution_count": null,
   "metadata": {},
   "outputs": [],
   "source": [
    "with tiledb.DenseArray(ctx, aname, mode='r') as A:\n",
    "    d = A.query(attrs=['pressure'])[1, 2:5]\n",
    "    print(d['pressure'])"
   ]
  },
  {
   "cell_type": "code",
   "execution_count": null,
   "metadata": {},
   "outputs": [],
   "source": [
    "bname = 'bar1'"
   ]
  },
  {
   "cell_type": "code",
   "execution_count": null,
   "metadata": {},
   "outputs": [],
   "source": [
    "tiledb.DenseArray.create(bname, schema)"
   ]
  },
  {
   "cell_type": "code",
   "execution_count": null,
   "metadata": {},
   "outputs": [],
   "source": [
    "with tiledb.DenseArray(ctx, bname, mode='w') as A:\n",
    "    A[1:3, 4:8] = {'pressure': data[1:3, 4:8], \n",
    "                   'u': data[1:3, 4:8], \n",
    "                   'v': data[1:3, 4:8]}"
   ]
  },
  {
   "cell_type": "code",
   "execution_count": null,
   "metadata": {},
   "outputs": [],
   "source": [
    "with tiledb.DenseArray(ctx, bname, mode='r') as A:\n",
    "    d = A.query(attrs=['pressure'])[:]\n",
    "    print(d['pressure'])"
   ]
  },
  {
   "cell_type": "code",
   "execution_count": null,
   "metadata": {},
   "outputs": [],
   "source": [
    "kvname = 'kvname'\n",
    "kvschema = tiledb.KVSchema(ctx, \n",
    "                           attrs=[tiledb.Attr(ctx, name=\"a1\", \n",
    "                                              dtype=bytes)])\n",
    "kv = tiledb.KV.create(ctx, kvname, kvschema)"
   ]
  },
  {
   "cell_type": "code",
   "execution_count": null,
   "metadata": {},
   "outputs": [],
   "source": [
    "with tiledb.KV(ctx, kvname, mode='w') as KV:\n",
    "    KV['foo'] = 'foo!'\n",
    "    KV['ss.dd'] = '0.33'"
   ]
  },
  {
   "cell_type": "code",
   "execution_count": null,
   "metadata": {},
   "outputs": [],
   "source": [
    "with tiledb.KV(ctx, kvname, mode='r') as KV:\n",
    "    for k in KV:\n",
    "        print(k)\n",
    "   "
   ]
  },
  {
   "cell_type": "code",
   "execution_count": null,
   "metadata": {},
   "outputs": [],
   "source": []
  }
 ],
 "metadata": {
  "kernelspec": {
   "display_name": "Python 3",
   "language": "python",
   "name": "python3"
  },
  "language_info": {
   "codemirror_mode": {
    "name": "ipython",
    "version": 3
   },
   "file_extension": ".py",
   "mimetype": "text/x-python",
   "name": "python",
   "nbconvert_exporter": "python",
   "pygments_lexer": "ipython3",
   "version": "3.6.7"
  }
 },
 "nbformat": 4,
 "nbformat_minor": 2
}
