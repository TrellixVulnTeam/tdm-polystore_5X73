{
 "cells": [
  {
   "cell_type": "code",
   "execution_count": 1,
   "metadata": {},
   "outputs": [],
   "source": [
    "import requests\n",
    "import os\n",
    "import uuid\n",
    "import re\n",
    "import datetime"
   ]
  },
  {
   "cell_type": "code",
   "execution_count": 2,
   "metadata": {},
   "outputs": [],
   "source": [
    "base_url = 'http://localhost:8000/api/v0.0'\n",
    "ngsi_msg = {\n",
    "  \"headers\": [\n",
    "    {\n",
    "      \"fiware-service\": \"tdm\"\n",
    "    },\n",
    "    {\n",
    "      \"fiware-servicePath\": \"/cagliari/edge/meteo\"\n",
    "    },\n",
    "    {\n",
    "      \"timestamp\": 1531774294021\n",
    "    }\n",
    "  ],\n",
    "  \"body\": {\n",
    "    \"attributes\": [\n",
    "      {\n",
    "        \"name\": \"altitude\",\n",
    "        \"type\": \"float\",\n",
    "        \"value\": \" \"\n",
    "      },\n",
    "      {\n",
    "        \"name\": \"dateObserved\",\n",
    "        \"type\": \"String\",\n",
    "        \"value\": \"2018-07-16T20:51:33+00:00\"\n",
    "      },\n",
    "      {\n",
    "        \"name\": \"location\",\n",
    "        \"type\": \"geo:point\",\n",
    "        \"value\": \"39.2479168, 9.1329701\"\n",
    "      },\n",
    "      {\n",
    "        \"name\": \"timestamp\",\n",
    "        \"type\": \"Integer\",\n",
    "        \"value\": \"1531774293\"\n",
    "      },\n",
    "      {\n",
    "        \"name\": \"windDirection\",\n",
    "        \"type\": \"Float\",\n",
    "        \"value\": \"174.545\"\n",
    "      },\n",
    "      {\n",
    "        \"name\": \"windSpeed\",\n",
    "        \"type\": \"Float\",\n",
    "        \"value\": \"1.000\"\n",
    "      },\n",
    "      {\n",
    "        \"name\": \"latitude\",\n",
    "        \"type\": \"string\",\n",
    "        \"value\": \"39.2479168\"\n",
    "      },\n",
    "      {\n",
    "        \"name\": \"longitude\",\n",
    "        \"type\": \"string\",\n",
    "        \"value\": \"9.1329701\"\n",
    "      }\n",
    "    ],\n",
    "    \"type\": \"WeatherObserved\",\n",
    "    \"isPattern\": \"false\",\n",
    "    \"id\": \"WeatherObserved:Edge-CFA703F4.esp8266-7806085.Davis\"\n",
    "  }\n",
    "}"
   ]
  },
  {
   "cell_type": "code",
   "execution_count": 3,
   "metadata": {},
   "outputs": [
    {
     "data": {
      "text/plain": [
       "('WeatherObserved', 'Edge-CFA703F4', 'esp8266-7806085', 'Davis')"
      ]
     },
     "execution_count": 3,
     "metadata": {},
     "output_type": "execute_result"
    }
   ],
   "source": [
    "p = re.compile(r'(?P<Type>\\w+):(?P<Edge>[a-zA-Z0-9_-]+)\\.(?P<Node>[a-zA-Z0-9_-]+)\\.(?P<Sensor>[a-zA-Z0-9_-]+)')\n",
    "msg_type, node_name, station_name, sensor_type_name = p.search(ngsi_msg['body']['id']).groups()\n",
    "msg_type, node_name, station_name, sensor_type_name"
   ]
  },
  {
   "cell_type": "code",
   "execution_count": 4,
   "metadata": {},
   "outputs": [
    {
     "data": {
      "text/plain": [
       "'esp8266-7806085.Davis'"
      ]
     },
     "execution_count": 4,
     "metadata": {},
     "output_type": "execute_result"
    }
   ],
   "source": [
    "sensor_name = '{}.{}'.format(station_name, sensor_type_name)\n",
    "sensor_name"
   ]
  },
  {
   "cell_type": "code",
   "execution_count": 5,
   "metadata": {},
   "outputs": [],
   "source": [
    "def get_geometry(attributes):\n",
    "    geom = {}\n",
    "    for attr in attributes:\n",
    "        if attr['name'] in {'latitude', 'longitude'}:\n",
    "            geom[attr['name']] = float(attr['value'])\n",
    "    return [geom['longitude'], geom['latitude']]   "
   ]
  },
  {
   "cell_type": "code",
   "execution_count": 6,
   "metadata": {},
   "outputs": [
    {
     "data": {
      "text/plain": [
       "{'type': 'Point', 'coordinates': [9.1329701, 39.2479168]}"
      ]
     },
     "execution_count": 6,
     "metadata": {},
     "output_type": "execute_result"
    }
   ],
   "source": [
    "geometry = {\"type\": \"Point\", \"coordinates\": get_geometry(ngsi_msg['body']['attributes'])}\n",
    "geometry"
   ]
  },
  {
   "cell_type": "code",
   "execution_count": 7,
   "metadata": {},
   "outputs": [
    {
     "data": {
      "text/plain": [
       "{'type': 'WeatherObserved',\n",
       " 'name': 'Davis',\n",
       " 'category': ['sensor'],\n",
       " 'function': ['sensing'],\n",
       " 'controlledProperty': ['altitude', 'windDirection', 'windSpeed']}"
      ]
     },
     "execution_count": 7,
     "metadata": {},
     "output_type": "execute_result"
    }
   ],
   "source": [
    "non_properties = {'latitude', 'longitude', 'timestamp', 'dateObserved', 'location'}\n",
    "properties = [ attr['name'] for attr in ngsi_msg['body']['attributes'] if attr['name'] not in non_properties]\n",
    "sensor_type = {\n",
    "        \"type\": msg_type,\n",
    "        \"name\": sensor_type_name,\n",
    "        \"category\": [\"sensor\"],\n",
    "        \"function\": [\"sensing\"],\n",
    "        \"controlledProperty\": properties\n",
    "}\n",
    "sensor_type"
   ]
  },
  {
   "cell_type": "code",
   "execution_count": 8,
   "metadata": {},
   "outputs": [
    {
     "data": {
      "text/plain": [
       "['a47d9dd5-9491-5e86-a908-ac698dc4cca0']"
      ]
     },
     "execution_count": 8,
     "metadata": {},
     "output_type": "execute_result"
    }
   ],
   "source": [
    "codes = requests.post(os.path.join(base_url, 'sensor_types'), json=[sensor_type]).json()\n",
    "codes"
   ]
  },
  {
   "cell_type": "code",
   "execution_count": 9,
   "metadata": {},
   "outputs": [
    {
     "data": {
      "text/plain": [
       "'a47d9dd5-9491-5e86-a908-ac698dc4cca0'"
      ]
     },
     "execution_count": 9,
     "metadata": {},
     "output_type": "execute_result"
    }
   ],
   "source": [
    "stypecode = codes[0]\n",
    "stypecode"
   ]
  },
  {
   "cell_type": "code",
   "execution_count": 11,
   "metadata": {},
   "outputs": [
    {
     "data": {
      "text/plain": [
       "[{'name': 'esp8266-7806085.Davis.altitude',\n",
       "  'type': 'Davis',\n",
       "  'node': 'Edge-CFA703F4',\n",
       "  'geometry': {'type': 'Point', 'coordinates': [9.1329701, 39.2479168]},\n",
       "  'controlledProperty': 'altitude'},\n",
       " {'name': 'esp8266-7806085.Davis.windDirection',\n",
       "  'type': 'Davis',\n",
       "  'node': 'Edge-CFA703F4',\n",
       "  'geometry': {'type': 'Point', 'coordinates': [9.1329701, 39.2479168]},\n",
       "  'controlledProperty': 'windDirection'},\n",
       " {'name': 'esp8266-7806085.Davis.windSpeed',\n",
       "  'type': 'Davis',\n",
       "  'node': 'Edge-CFA703F4',\n",
       "  'geometry': {'type': 'Point', 'coordinates': [9.1329701, 39.2479168]},\n",
       "  'controlledProperty': 'windSpeed'}]"
      ]
     },
     "execution_count": 11,
     "metadata": {},
     "output_type": "execute_result"
    }
   ],
   "source": [
    "sensors = [{\n",
    "    'name': f\"{sensor_name}.{prop}\",\n",
    "    'type': sensor_type_name,\n",
    "    'node': node_name,\n",
    "    'geometry': geometry,\n",
    "    'controlledProperty': prop\n",
    "    } for prop in properties]\n",
    "sensors"
   ]
  },
  {
   "cell_type": "code",
   "execution_count": 12,
   "metadata": {},
   "outputs": [
    {
     "data": {
      "text/plain": [
       "['c71435dc-c644-5a19-932a-5737bdfdb5bd',\n",
       " '13a87b2f-9723-508e-8780-1dfdd8112f45',\n",
       " 'd74b6f7e-6c99-5f32-89a4-6d060c134a3c']"
      ]
     },
     "execution_count": 12,
     "metadata": {},
     "output_type": "execute_result"
    }
   ],
   "source": [
    "codes = requests.post(os.path.join(base_url, 'sensors'), json=sensors).json()\n",
    "codes"
   ]
  },
  {
   "cell_type": "code",
   "execution_count": 15,
   "metadata": {},
   "outputs": [
    {
     "data": {
      "text/plain": [
       "{'dateObserved', 'latitude', 'location', 'longitude', 'timestamp'}"
      ]
     },
     "execution_count": 15,
     "metadata": {},
     "output_type": "execute_result"
    }
   ],
   "source": [
    "non_properties"
   ]
  },
  {
   "cell_type": "code",
   "execution_count": 20,
   "metadata": {},
   "outputs": [
    {
     "data": {
      "text/plain": [
       "(datetime.datetime(2018, 7, 16, 22, 51, 33),\n",
       " {'windDirection': 174.545, 'windSpeed': 1.0})"
      ]
     },
     "execution_count": 20,
     "metadata": {},
     "output_type": "execute_result"
    }
   ],
   "source": [
    "measures = {}\n",
    "time = None\n",
    "to_skip = {'dateObserved', 'location', 'latitude', 'longitude'}\n",
    "for attr in ngsi_msg['body']['attributes']:\n",
    "    name = attr['name']\n",
    "    value = attr['value']\n",
    "    if value is not None and str(value).strip() and name not in to_skip:\n",
    "        if name == 'timestamp':\n",
    "            time = datetime.datetime.fromtimestamp(float(value))\n",
    "        else:             \n",
    "            measures[name] = float(value)\n",
    "time, measures"
   ]
  },
  {
   "cell_type": "code",
   "execution_count": 21,
   "metadata": {},
   "outputs": [
    {
     "data": {
      "text/plain": [
       "'2018-07-16T22:51:33Z'"
      ]
     },
     "execution_count": 21,
     "metadata": {},
     "output_type": "execute_result"
    }
   ],
   "source": [
    "dtime = time.strftime('%Y-%m-%dT%H:%M:%SZ')\n",
    "dtime"
   ]
  },
  {
   "cell_type": "code",
   "execution_count": 23,
   "metadata": {},
   "outputs": [
    {
     "data": {
      "text/plain": [
       "[{'time': '2018-07-16T22:51:33Z',\n",
       "  'sensor': 'esp8266-7806085.Davis.windDirection',\n",
       "  'measure': {'value': 174.545}},\n",
       " {'time': '2018-07-16T22:51:33Z',\n",
       "  'sensor': 'esp8266-7806085.Davis.windSpeed',\n",
       "  'measure': {'value': 1.0}}]"
      ]
     },
     "execution_count": 23,
     "metadata": {},
     "output_type": "execute_result"
    }
   ],
   "source": [
    "json_measures = [\n",
    "    {\"time\": dtime, \"sensor\": f\"{sensor_name}.{p}\", \"measure\": {\"value\": measures[p]}}\n",
    "    for p in measures\n",
    "]\n",
    "json_measures"
   ]
  },
  {
   "cell_type": "code",
   "execution_count": 24,
   "metadata": {},
   "outputs": [
    {
     "data": {
      "text/plain": [
       "{'loaded': 2}"
      ]
     },
     "execution_count": 24,
     "metadata": {},
     "output_type": "execute_result"
    }
   ],
   "source": [
    "requests.post(os.path.join(base_url, 'measures'), json=json_measures).json()"
   ]
  },
  {
   "cell_type": "code",
   "execution_count": 25,
   "metadata": {},
   "outputs": [
    {
     "name": "stdout",
     "output_type": "stream",
     "text": [
      "{'data': [], 'timebase': '2018-01-01T00:00:00Z', 'timedelta': []}\n",
      "{'data': [174.545], 'timebase': '2018-01-01T00:00:00Z', 'timedelta': [17016693.0]}\n",
      "{'data': [1.0], 'timebase': '2018-01-01T00:00:00Z', 'timedelta': [17016693.0]}\n"
     ]
    }
   ],
   "source": [
    "args = {\n",
    "    'after': '2018-01-01T00:00:00Z',\n",
    "    'before':'2019-01-01T00:00:00Z'\n",
    "}\n",
    "for c in codes:\n",
    "    print(requests.get(os.path.join(base_url, 'sensors', c,'timeseries'), params=args).json())"
   ]
  }
 ],
 "metadata": {
  "kernelspec": {
   "display_name": "Python 3",
   "language": "python",
   "name": "python3"
  },
  "language_info": {
   "codemirror_mode": {
    "name": "ipython",
    "version": 3
   },
   "file_extension": ".py",
   "mimetype": "text/x-python",
   "name": "python",
   "nbconvert_exporter": "python",
   "pygments_lexer": "ipython3",
   "version": "3.6.8"
  }
 },
 "nbformat": 4,
 "nbformat_minor": 2
}
