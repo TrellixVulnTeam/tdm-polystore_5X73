{
 "cells": [
  {
   "cell_type": "code",
   "execution_count": 3,
   "metadata": {
    "collapsed": true
   },
   "outputs": [],
   "source": [
    "import requests\n",
    "import os\n",
    "import uuid\n",
    "import re\n",
    "base_url = 'http://localhost:8000/api/v0.0'\n"
   ]
  },
  {
   "cell_type": "code",
   "execution_count": 23,
   "metadata": {},
   "outputs": [],
   "source": [
    "ngsi_msg = {\n",
    "  \"headers\": [\n",
    "    {\n",
    "      \"fiware-service\": \"tdm\"\n",
    "    },\n",
    "    {\n",
    "      \"fiware-servicePath\": \"/cagliari/edge/meteo\"\n",
    "    },\n",
    "    {\n",
    "      \"timestamp\": 1531774294021\n",
    "    }\n",
    "  ],\n",
    "  \"body\": {\n",
    "    \"attributes\": [\n",
    "      {\n",
    "        \"name\": \"altitude\",\n",
    "        \"type\": \"float\",\n",
    "        \"value\": \" \"\n",
    "      },\n",
    "      {\n",
    "        \"name\": \"dateObserved\",\n",
    "        \"type\": \"String\",\n",
    "        \"value\": \"2018-07-16T20:51:33+00:00\"\n",
    "      },\n",
    "      {\n",
    "        \"name\": \"location\",\n",
    "        \"type\": \"geo:point\",\n",
    "        \"value\": \"39.2479168, 9.1329701\"\n",
    "      },\n",
    "      {\n",
    "        \"name\": \"timestamp\",\n",
    "        \"type\": \"Integer\",\n",
    "        \"value\": \"1531774293\"\n",
    "      },\n",
    "      {\n",
    "        \"name\": \"windDirection\",\n",
    "        \"type\": \"Float\",\n",
    "        \"value\": \"174.545\"\n",
    "      },\n",
    "      {\n",
    "        \"name\": \"windSpeed\",\n",
    "        \"type\": \"Float\",\n",
    "        \"value\": \"1.000\"\n",
    "      },\n",
    "      {\n",
    "        \"name\": \"latitude\",\n",
    "        \"type\": \"string\",\n",
    "        \"value\": \"39.2479168\"\n",
    "      },\n",
    "      {\n",
    "        \"name\": \"longitude\",\n",
    "        \"type\": \"string\",\n",
    "        \"value\": \"9.1329701\"\n",
    "      }\n",
    "    ],\n",
    "    \"type\": \"WeatherObserved\",\n",
    "    \"isPattern\": \"false\",\n",
    "    \"id\": \"WeatherObserved:Edge-CFA703F4.esp8266-7806085.Davis\"\n",
    "  }\n",
    "}\n",
    "\n",
    "\n"
   ]
  },
  {
   "cell_type": "code",
   "execution_count": 24,
   "metadata": {},
   "outputs": [],
   "source": [
    "p = re.compile(r'(?P<Type>)\\w+:(?P<Edge>[a-zA-Z0-9_-]+)\\.(?P<Node>[a-zA-Z0-9_-]+)\\.(?P<Sensor>[a-zA-Z0-9_-]+)')\n",
    "sensor_type_type, edge, node_name, sensor_type_name = p.search(ngsi_msg['body']['id']).groups()\n",
    "sensor_name = '{}.{}'.format(node_name, sensor_type_name)\n",
    "\n",
    "\n"
   ]
  },
  {
   "cell_type": "code",
   "execution_count": 25,
   "metadata": {},
   "outputs": [],
   "source": [
    "def get_geometry(attributes):\n",
    "    geom = {}\n",
    "    for attr in attributes:\n",
    "        if attr['name'] in {'latitude', 'longitude'}:\n",
    "            geom[attr['name']] = float(attr['value'])\n",
    "    return [geom['latitude'], geom['longitude']]\n",
    "        "
   ]
  },
  {
   "cell_type": "code",
   "execution_count": 26,
   "metadata": {},
   "outputs": [],
   "source": [
    "geometry = {\"type\": \"Point\", \"coordinates\": get_geometry(ngsi_msg['body']['attributes'])}"
   ]
  },
  {
   "cell_type": "code",
   "execution_count": 27,
   "metadata": {},
   "outputs": [],
   "source": [
    "non_properties = {'latitude', 'longitude', 'timestamp', 'dateObserved', 'location'}\n",
    "properties = [ attr['name'] for attr in ngsi_msg['body']['attributes'] if attr['name'] not in non_properties]\n",
    "sensor_type = {\n",
    "        \"code\": str(uuid.uuid4()),\n",
    "        \"type\": sensor_type_type,\n",
    "        \"name\": sensor_type_name,\n",
    "        \"category\": [\"sensor\"],\n",
    "        \"function\": [\"sensing\"],\n",
    "        \"controlledProperty\": properties\n",
    "    }"
   ]
  },
  {
   "cell_type": "code",
   "execution_count": 15,
   "metadata": {},
   "outputs": [
    {
     "data": {
      "text/plain": [
       "<Response [200]>"
      ]
     },
     "execution_count": 15,
     "metadata": {},
     "output_type": "execute_result"
    }
   ],
   "source": [
    "requests.post(os.path.join(base_url, 'sensor_types'), json=[sensor_type])"
   ]
  },
  {
   "cell_type": "code",
   "execution_count": 16,
   "metadata": {},
   "outputs": [
    {
     "data": {
      "text/plain": [
       "<Response [404]>"
      ]
     },
     "execution_count": 16,
     "metadata": {},
     "output_type": "execute_result"
    }
   ],
   "source": [
    "requests.post(os.path.join(base_url, 'nodes'), json=[node])"
   ]
  },
  {
   "cell_type": "code",
   "execution_count": 40,
   "metadata": {},
   "outputs": [],
   "source": [
    "stypecode = requests.get(os.path.join(base_url, 'sensor_types'), params={'name': sensor_type_name}).json()[0]['code']"
   ]
  },
  {
   "cell_type": "code",
   "execution_count": 41,
   "metadata": {
    "collapsed": true
   },
   "outputs": [],
   "source": [
    "sensor = {\n",
    "    'code': str(uuid.uuid4()),\n",
    "    'stypecode': stypecode,\n",
    "    'geometry': geometry,\n",
    "    'nodecode': str(uuid.uuid4()),\n",
    "    'name': sensor_name\n",
    "   \n",
    "}"
   ]
  },
  {
   "cell_type": "code",
   "execution_count": 42,
   "metadata": {},
   "outputs": [
    {
     "data": {
      "text/plain": [
       "<Response [200]>"
      ]
     },
     "execution_count": 42,
     "metadata": {},
     "output_type": "execute_result"
    }
   ],
   "source": [
    "requests.post(os.path.join(base_url, 'sensors'), json=[sensor])"
   ]
  },
  {
   "cell_type": "code",
   "execution_count": null,
   "metadata": {},
   "outputs": [],
   "source": []
  }
 ],
 "metadata": {
  "kernelspec": {
   "display_name": "Python 3",
   "language": "python",
   "name": "python3"
  },
  "language_info": {
   "codemirror_mode": {
    "name": "ipython",
    "version": 2
   },
   "file_extension": ".py",
   "mimetype": "text/x-python",
   "name": "python",
   "nbconvert_exporter": "python",
   "pygments_lexer": "ipython2",
   "version": "2.7.15rc1"
  }
 },
 "nbformat": 4,
 "nbformat_minor": 2
}
