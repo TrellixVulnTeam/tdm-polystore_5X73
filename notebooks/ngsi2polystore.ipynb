{
 "cells": [
  {
   "cell_type": "code",
   "execution_count": 1,
   "metadata": {},
   "outputs": [
    {
     "name": "stderr",
     "output_type": "stream",
     "text": [
      "INFO:tdmq.client.client:Logging is active.\n"
     ]
    }
   ],
   "source": [
    "from tdmq.client import Client"
   ]
  },
  {
   "cell_type": "code",
   "execution_count": 2,
   "metadata": {},
   "outputs": [],
   "source": [
    "ngsi_msg = {\n",
    "  \"headers\": [\n",
    "    {\n",
    "      \"fiware-service\": \"tdm\"\n",
    "    },\n",
    "    {\n",
    "      \"fiware-servicePath\": \"/cagliari/edge/meteo\"\n",
    "    },\n",
    "    {\n",
    "      \"timestamp\": 1531774294021\n",
    "    }\n",
    "  ],\n",
    "  \"body\": {\n",
    "    \"attributes\": [\n",
    "      {\n",
    "        \"name\": \"altitude\",\n",
    "        \"type\": \"float\",\n",
    "        \"value\": \" \"\n",
    "      },\n",
    "      {\n",
    "        \"name\": \"dateObserved\",\n",
    "        \"type\": \"String\",\n",
    "        \"value\": \"2018-07-16T20:51:33+00:00\"\n",
    "      },\n",
    "      {\n",
    "        \"name\": \"location\",\n",
    "        \"type\": \"geo:point\",\n",
    "        \"value\": \"39.2479168, 9.1329701\"\n",
    "      },\n",
    "      {\n",
    "        \"name\": \"timestamp\",\n",
    "        \"type\": \"Integer\",\n",
    "        \"value\": \"1531774293\"\n",
    "      },\n",
    "      {\n",
    "        \"name\": \"windDirection\",\n",
    "        \"type\": \"Float\",\n",
    "        \"value\": \"174.545\"\n",
    "      },\n",
    "      {\n",
    "        \"name\": \"windSpeed\",\n",
    "        \"type\": \"Float\",\n",
    "        \"value\": \"1.000\"\n",
    "      },\n",
    "      {\n",
    "        \"name\": \"latitude\",\n",
    "        \"type\": \"string\",\n",
    "        \"value\": \"39.2479168\"\n",
    "      },\n",
    "      {\n",
    "        \"name\": \"longitude\",\n",
    "        \"type\": \"string\",\n",
    "        \"value\": \"9.1329701\"\n",
    "      }\n",
    "    ],\n",
    "    \"type\": \"WeatherObserved\",\n",
    "    \"isPattern\": \"false\",\n",
    "    \"id\": \"WeatherObserved:Edge-CFA703F4.esp8266-7806085.Davis\"\n",
    "  }\n",
    "}"
   ]
  },
  {
   "cell_type": "code",
   "execution_count": 3,
   "metadata": {},
   "outputs": [],
   "source": [
    "def create_src_desc(msg):\n",
    "    headers = msg['headers']\n",
    "    body = msg['body']\n",
    "    attrs = dict((_['name'], _['value']) for _ in body['attributes'])\n",
    "    desc = {}\n",
    "    desc['id'] = body['id']\n",
    "    # FIXME this is very fragile\n",
    "    if body['type'] == 'WeatherObserved':\n",
    "        desc['entity_type'] = 'PointWeatherObserver'\n",
    "        desc['entity_category'] = 'Station'\n",
    "    else:\n",
    "        assert False\n",
    "    desc['default_footprint'] = {\n",
    "        'type': 'Point',\n",
    "        'coordinates': [attrs['longitude'], attrs['latitude']]\n",
    "    }\n",
    "    desc['stationary'] = True\n",
    "    desc['shape'] = []\n",
    "    if body['id'].endswith(\".Davis\"):\n",
    "        desc['controlledProperties'] = [\"windDirection\", \"windSpeed\"]\n",
    "    else:\n",
    "        assert False\n",
    "    desc['description'] = {\n",
    "        # random text\n",
    "        \"type\": \"multisensor\",\n",
    "        \"brandName\": \"Davis\",\n",
    "        \"modelName\": \"XXX\",\n",
    "        \"manufacturerName\": \"Davis\"\n",
    "    }\n",
    "    return desc"
   ]
  },
  {
   "cell_type": "code",
   "execution_count": 4,
   "metadata": {},
   "outputs": [],
   "source": [
    "from datetime import datetime\n",
    "def create_record(s, msg):\n",
    "    headers = msg['headers']\n",
    "    body = msg['body']\n",
    "    attrs = dict((_['name'], _['value']) for _ in body['attributes'])\n",
    "    t = datetime.fromtimestamp(float(attrs['timestamp']))\n",
    "    data = dict((k, float(attrs[k])) for k in attrs if k in s.controlled_properties)\n",
    "    return t, data"
   ]
  },
  {
   "cell_type": "code",
   "execution_count": 5,
   "metadata": {},
   "outputs": [],
   "source": [
    "c = Client()"
   ]
  },
  {
   "cell_type": "code",
   "execution_count": 6,
   "metadata": {},
   "outputs": [],
   "source": [
    "srcs = c.get_sources({'id': ngsi_msg['body']['id']})"
   ]
  },
  {
   "cell_type": "code",
   "execution_count": 7,
   "metadata": {},
   "outputs": [],
   "source": [
    "if len(srcs) == 0:\n",
    "    s = c.register_source(create_src_desc(ngsi_msg))\n",
    "else:\n",
    "    assert len(srcs) == 1\n",
    "    s = srcs[0]\n",
    "t, data = create_record(s, ngsi_msg) \n",
    "s.ingest(t, data)"
   ]
  },
  {
   "cell_type": "code",
   "execution_count": 8,
   "metadata": {},
   "outputs": [],
   "source": [
    "ts = s.timeseries()"
   ]
  },
  {
   "cell_type": "code",
   "execution_count": 9,
   "metadata": {},
   "outputs": [],
   "source": [
    "time, data = ts[:]"
   ]
  },
  {
   "cell_type": "code",
   "execution_count": 10,
   "metadata": {},
   "outputs": [
    {
     "name": "stdout",
     "output_type": "stream",
     "text": [
      "[datetime.datetime(2018, 7, 16, 20, 51, 33)]\n",
      "{'windDirection': array([174.545]), 'windSpeed': array([1.])}\n"
     ]
    }
   ],
   "source": [
    "print(time)\n",
    "print(data)"
   ]
  }
 ],
 "metadata": {
  "kernelspec": {
   "display_name": "Python 3",
   "language": "python",
   "name": "python3"
  },
  "language_info": {
   "codemirror_mode": {
    "name": "ipython",
    "version": 3
   },
   "file_extension": ".py",
   "mimetype": "text/x-python",
   "name": "python",
   "nbconvert_exporter": "python",
   "pygments_lexer": "ipython3",
   "version": "3.6.8"
  }
 },
 "nbformat": 4,
 "nbformat_minor": 2
}
