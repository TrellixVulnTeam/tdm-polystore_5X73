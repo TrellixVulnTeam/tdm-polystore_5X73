{
 "cells": [
  {
   "cell_type": "code",
   "execution_count": 1,
   "metadata": {
    "collapsed": true
   },
   "outputs": [],
   "source": [
    "import requests\n",
    "import os\n",
    "import uuid\n",
    "import re\n",
    "import datetime\n",
    "base_url = 'http://localhost:8000/api/v0.0'\n"
   ]
  },
  {
   "cell_type": "code",
   "execution_count": 2,
   "metadata": {},
   "outputs": [],
   "source": [
    "ngsi_msg = {\n",
    "  \"headers\": [\n",
    "    {\n",
    "      \"fiware-service\": \"tdm\"\n",
    "    },\n",
    "    {\n",
    "      \"fiware-servicePath\": \"/cagliari/edge/meteo\"\n",
    "    },\n",
    "    {\n",
    "      \"timestamp\": 1531774294021\n",
    "    }\n",
    "  ],\n",
    "  \"body\": {\n",
    "    \"attributes\": [\n",
    "      {\n",
    "        \"name\": \"altitude\",\n",
    "        \"type\": \"float\",\n",
    "        \"value\": \" \"\n",
    "      },\n",
    "      {\n",
    "        \"name\": \"dateObserved\",\n",
    "        \"type\": \"String\",\n",
    "        \"value\": \"2018-07-16T20:51:33+00:00\"\n",
    "      },\n",
    "      {\n",
    "        \"name\": \"location\",\n",
    "        \"type\": \"geo:point\",\n",
    "        \"value\": \"39.2479168, 9.1329701\"\n",
    "      },\n",
    "      {\n",
    "        \"name\": \"timestamp\",\n",
    "        \"type\": \"Integer\",\n",
    "        \"value\": \"1531774293\"\n",
    "      },\n",
    "      {\n",
    "        \"name\": \"windDirection\",\n",
    "        \"type\": \"Float\",\n",
    "        \"value\": \"174.545\"\n",
    "      },\n",
    "      {\n",
    "        \"name\": \"windSpeed\",\n",
    "        \"type\": \"Float\",\n",
    "        \"value\": \"1.000\"\n",
    "      },\n",
    "      {\n",
    "        \"name\": \"latitude\",\n",
    "        \"type\": \"string\",\n",
    "        \"value\": \"39.2479168\"\n",
    "      },\n",
    "      {\n",
    "        \"name\": \"longitude\",\n",
    "        \"type\": \"string\",\n",
    "        \"value\": \"9.1329701\"\n",
    "      }\n",
    "    ],\n",
    "    \"type\": \"WeatherObserved\",\n",
    "    \"isPattern\": \"false\",\n",
    "    \"id\": \"WeatherObserved:Edge-CFA703F4.esp8266-7806085.Davis\"\n",
    "  }\n",
    "}\n",
    "\n",
    "\n"
   ]
  },
  {
   "cell_type": "code",
   "execution_count": 8,
   "metadata": {},
   "outputs": [],
   "source": [
    "p = re.compile(r'(?P<Type>\\w+):(?P<Edge>[a-zA-Z0-9_-]+)\\.(?P<Node>[a-zA-Z0-9_-]+)\\.(?P<Sensor>[a-zA-Z0-9_-]+)')\n",
    "msg_type, edge, node_name, sensor_type_name = p.search(ngsi_msg['body']['id']).groups()\n",
    "sensor_name = '{}.{}'.format(node_name, sensor_type_name)"
   ]
  },
  {
   "cell_type": "code",
   "execution_count": 9,
   "metadata": {},
   "outputs": [],
   "source": [
    "def get_geometry(attributes):\n",
    "    geom = {}\n",
    "    for attr in attributes:\n",
    "        if attr['name'] in {'latitude', 'longitude'}:\n",
    "            geom[attr['name']] = float(attr['value'])\n",
    "    return [geom['longitude'], geom['latitude']]\n",
    "        "
   ]
  },
  {
   "cell_type": "code",
   "execution_count": 10,
   "metadata": {},
   "outputs": [],
   "source": [
    "geometry = {\"type\": \"Point\", \"coordinates\": get_geometry(ngsi_msg['body']['attributes'])}"
   ]
  },
  {
   "cell_type": "code",
   "execution_count": 15,
   "metadata": {},
   "outputs": [],
   "source": [
    "non_properties = {'latitude', 'longitude', 'timestamp', 'dateObserved', 'location'}\n",
    "properties = [ attr['name'] for attr in ngsi_msg['body']['attributes'] if attr['name'] not in non_properties]\n",
    "sensor_type = {\n",
    "        \"code\": str(uuid.uuid4()),\n",
    "        \"type\": msg_type,\n",
    "        \"name\": sensor_type_name,\n",
    "        \"category\": [\"sensor\"],\n",
    "        \"function\": [\"sensing\"],\n",
    "        \"controlledProperty\": properties\n",
    "    }"
   ]
  },
  {
   "cell_type": "code",
   "execution_count": 16,
   "metadata": {},
   "outputs": [
    {
     "data": {
      "text/plain": [
       "<Response [200]>"
      ]
     },
     "execution_count": 16,
     "metadata": {},
     "output_type": "execute_result"
    }
   ],
   "source": [
    "requests.post(os.path.join(base_url, 'sensor_types'), json=[sensor_type])"
   ]
  },
  {
   "cell_type": "code",
   "execution_count": 17,
   "metadata": {},
   "outputs": [],
   "source": [
    "stypecode = requests.get(os.path.join(base_url, 'sensor_types'), params={'name': sensor_type_name}).json()[0]['code']"
   ]
  },
  {
   "cell_type": "code",
   "execution_count": 18,
   "metadata": {
    "collapsed": true
   },
   "outputs": [
    {
     "data": {
      "text/plain": [
       "[{'code': 'e9eca18e-1d7d-4f11-ac55-4e06f135811c',\n",
       "  'controlledProperty': 'altitude',\n",
       "  'geometry': {'coordinates': [9.1329701, 39.2479168], 'type': 'Point'},\n",
       "  'name': 'esp8266-7806085.Davis',\n",
       "  'nodecode': '6718dfd1-ee3e-41e3-8274-cd84145b4f2a',\n",
       "  'stypecode': u'6e56152f-e61a-473f-b284-79b46faa8e83'},\n",
       " {'code': 'a809c342-3679-4b09-87f4-e1159fb41964',\n",
       "  'controlledProperty': 'windDirection',\n",
       "  'geometry': {'coordinates': [9.1329701, 39.2479168], 'type': 'Point'},\n",
       "  'name': 'esp8266-7806085.Davis',\n",
       "  'nodecode': 'c10bb2f6-aaaa-4263-87b8-311be2186690',\n",
       "  'stypecode': u'6e56152f-e61a-473f-b284-79b46faa8e83'},\n",
       " {'code': 'f28317e9-96db-46a5-86ad-f4249d41dfa7',\n",
       "  'controlledProperty': 'windSpeed',\n",
       "  'geometry': {'coordinates': [9.1329701, 39.2479168], 'type': 'Point'},\n",
       "  'name': 'esp8266-7806085.Davis',\n",
       "  'nodecode': '4a9d82b2-ede5-4a04-89a0-5b4bad4eb77b',\n",
       "  'stypecode': u'6e56152f-e61a-473f-b284-79b46faa8e83'}]"
      ]
     },
     "execution_count": 18,
     "metadata": {},
     "output_type": "execute_result"
    }
   ],
   "source": [
    "sensors = [{\n",
    "    'code': str(uuid.uuid4()),\n",
    "    'stypecode': stypecode,\n",
    "    'geometry': geometry,\n",
    "    'nodecode': str(uuid.uuid4()),\n",
    "    'name': sensor_name,\n",
    "    'controlledProperty': prop}\n",
    "   for prop in properties\n",
    "]\n",
    "sensors"
   ]
  },
  {
   "cell_type": "code",
   "execution_count": 19,
   "metadata": {},
   "outputs": [],
   "source": [
    "for sensor in sensors: \n",
    "    requests.post(os.path.join(base_url, 'sensors'), json=[sensor]).json()"
   ]
  },
  {
   "cell_type": "code",
   "execution_count": 20,
   "metadata": {},
   "outputs": [
    {
     "data": {
      "text/plain": [
       "{'windDirection': 174.545, 'windSpeed': 1.0}"
      ]
     },
     "execution_count": 20,
     "metadata": {},
     "output_type": "execute_result"
    }
   ],
   "source": [
    "measures = {}\n",
    "time = None\n",
    "for attr in ngsi_msg['body']['attributes']:\n",
    "    name = attr['name']\n",
    "    value = attr['value']\n",
    "    if value is not None and str(value).strip() and \\\n",
    "                        name not in ('dateObserved', 'location', 'latitude', 'longitude'):\n",
    "        if name == 'timestamp':\n",
    "            time = datetime.datetime.fromtimestamp(float(value))\n",
    "        else:             \n",
    "            measures[name] = float(value)\n",
    "measures         "
   ]
  },
  {
   "cell_type": "code",
   "execution_count": 21,
   "metadata": {},
   "outputs": [],
   "source": [
    "sensorcodes = []\n",
    "for prop, value in measures.items():\n",
    "    sensorcode = requests.get(os.path.join(base_url, 'sensors'), params={'name': sensor_name, 'controlledProperty': prop}).json()[0]['code']\n",
    "    sensorcodes.append(sensorcode)\n",
    "    requests.post(os.path.join(base_url, 'measures'), json=[{'time': time.strftime('%Y-%m-%dT%H:%M:%SZ'), 'sensorcode': sensorcode, 'measure': {'value': value} }])\n"
   ]
  },
  {
   "cell_type": "code",
   "execution_count": 22,
   "metadata": {},
   "outputs": [
    {
     "name": "stdout",
     "output_type": "stream",
     "text": [
      "{u'timebase': u'2018-01-01T00:00:00Z', u'data': [1.0], u'timedelta': [17016693.0]}\n",
      "{u'timebase': u'2018-01-01T00:00:00Z', u'data': [174.545], u'timedelta': [17016693.0]}\n"
     ]
    }
   ],
   "source": [
    "args = {\n",
    "    'after': '2018-01-01T00:00:00Z',\n",
    "    'before':'2019-01-01T00:00:00Z'\n",
    "}\n",
    "for sensorcode in sensorcodes:\n",
    "    print(requests.get(os.path.join(base_url, 'sensors', sensorcode,'timeseries'), params=args).json())"
   ]
  },
  {
   "cell_type": "code",
   "execution_count": null,
   "metadata": {},
   "outputs": [],
   "source": []
  },
  {
   "cell_type": "code",
   "execution_count": null,
   "metadata": {},
   "outputs": [],
   "source": []
  }
 ],
 "metadata": {
  "kernelspec": {
   "display_name": "Python 3",
   "language": "python",
   "name": "python3"
  },
  "language_info": {
   "codemirror_mode": {
    "name": "ipython",
    "version": 2
   },
   "file_extension": ".py",
   "mimetype": "text/x-python",
   "name": "python",
   "nbconvert_exporter": "python",
   "pygments_lexer": "ipython2",
   "version": "2.7.15rc1"
  }
 },
 "nbformat": 4,
 "nbformat_minor": 2
}
