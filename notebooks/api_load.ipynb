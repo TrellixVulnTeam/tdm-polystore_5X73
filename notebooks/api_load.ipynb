{
 "cells": [
  {
   "cell_type": "markdown",
   "metadata": {},
   "source": [
    "# Load data via the API\n",
    "\n",
    "\n",
    "Before running this notebook, initialize the database:\n",
    "\n",
    "```\n",
    "docker-compose exec web flask db init\n",
    "```"
   ]
  },
  {
   "cell_type": "code",
   "execution_count": 1,
   "metadata": {},
   "outputs": [],
   "source": [
    "import requests\n",
    "import json\n",
    "import os"
   ]
  },
  {
   "cell_type": "code",
   "execution_count": 2,
   "metadata": {},
   "outputs": [],
   "source": [
    "BASE_URL = \"http://web:8000/api/v0.0\"\n",
    "data_dir = os.getenv(\"DATA_DIR\")"
   ]
  },
  {
   "cell_type": "markdown",
   "metadata": {},
   "source": [
    "## Query for constants"
   ]
  },
  {
   "cell_type": "code",
   "execution_count": 3,
   "metadata": {},
   "outputs": [
    {
     "data": {
      "text/plain": [
       "[{'entity_category': 'Radar',\n",
       "  'entity_type': 'MeteoRadarMosaic',\n",
       "  'schema': None},\n",
       " {'entity_category': 'Station',\n",
       "  'entity_type': 'PointWeatherObserver',\n",
       "  'schema': None},\n",
       " {'entity_category': 'Station',\n",
       "  'entity_type': 'TemperatureMosaic',\n",
       "  'schema': None},\n",
       " {'entity_category': 'Station',\n",
       "  'entity_type': 'EnergyConsumptionMonitor',\n",
       "  'schema': None}]"
      ]
     },
     "execution_count": 3,
     "metadata": {},
     "output_type": "execute_result"
    }
   ],
   "source": [
    "response = requests.get(f'{BASE_URL}/entity_types')\n",
    "response.raise_for_status()\n",
    "response.json()"
   ]
  },
  {
   "cell_type": "markdown",
   "metadata": {},
   "source": [
    "## Load sources"
   ]
  },
  {
   "cell_type": "code",
   "execution_count": 4,
   "metadata": {},
   "outputs": [],
   "source": [
    "with open(os.path.join(data_dir, 'sources.json')) as f:\n",
    "    data = json.load(f)['sources']"
   ]
  },
  {
   "cell_type": "code",
   "execution_count": 5,
   "metadata": {},
   "outputs": [],
   "source": [
    "response = requests.post(f'{BASE_URL}/sources', json=data)\n",
    "response.raise_for_status()\n",
    "tdmq_ids = response.json()"
   ]
  },
  {
   "cell_type": "code",
   "execution_count": 6,
   "metadata": {},
   "outputs": [
    {
     "data": {
      "text/plain": [
       "['e5a2f652-ea6f-5139-8bb3-b7a69f1b94c6',\n",
       " '2bb83248-27f4-53c9-b149-ca74c8c283ee',\n",
       " '42608b02-a82a-58ae-84fb-f358bf9b7494',\n",
       " '8b53505d-79b8-548d-b160-777d116cb6b2',\n",
       " '5df07546-b1d6-517f-8798-5abd79e7ebb1']"
      ]
     },
     "execution_count": 6,
     "metadata": {},
     "output_type": "execute_result"
    }
   ],
   "source": [
    "tdmq_ids"
   ]
  },
  {
   "cell_type": "code",
   "execution_count": 7,
   "metadata": {},
   "outputs": [],
   "source": [
    "response = requests.get(f'{BASE_URL}/sources')\n",
    "response.raise_for_status()\n",
    "sources = response.json()"
   ]
  },
  {
   "cell_type": "code",
   "execution_count": 8,
   "metadata": {},
   "outputs": [
    {
     "data": {
      "text/plain": [
       "[{'default_footprint': {'coordinates': [9.22100000642642, 30.0000000019687],\n",
       "   'type': 'Point'},\n",
       "  'entity_category': 'Station',\n",
       "  'entity_type': 'PointWeatherObserver',\n",
       "  'external_id': 'tdm/sensor_0',\n",
       "  'tdmq_id': 'e5a2f652-ea6f-5139-8bb3-b7a69f1b94c6'},\n",
       " {'default_footprint': {'coordinates': [9.22200000642623, 30.0030000019686],\n",
       "   'type': 'Point'},\n",
       "  'entity_category': 'Station',\n",
       "  'entity_type': 'PointWeatherObserver',\n",
       "  'external_id': 'tdm/sensor_1',\n",
       "  'tdmq_id': '2bb83248-27f4-53c9-b149-ca74c8c283ee'},\n",
       " {'default_footprint': {'coordinates': [9.55100000643269, 32.0000000018894],\n",
       "   'type': 'Point'},\n",
       "  'entity_category': 'Station',\n",
       "  'entity_type': 'EnergyConsumptionMonitor',\n",
       "  'external_id': 'tdm/sensor_3',\n",
       "  'tdmq_id': '42608b02-a82a-58ae-84fb-f358bf9b7494'},\n",
       " {'default_footprint': {'coordinates': [9.34300000645912, 31.2000000019276],\n",
       "   'type': 'Point'},\n",
       "  'entity_category': 'Station',\n",
       "  'entity_type': 'PointWeatherObserver',\n",
       "  'external_id': 'tdm/sensor_4',\n",
       "  'tdmq_id': '8b53505d-79b8-548d-b160-777d116cb6b2'},\n",
       " {'default_footprint': {'coordinates': [9.11900000640193, 29.0000000019969],\n",
       "   'type': 'Point'},\n",
       "  'entity_category': 'Station',\n",
       "  'entity_type': 'PointWeatherObserver',\n",
       "  'external_id': 'tdm/sensor_5',\n",
       "  'tdmq_id': '5df07546-b1d6-517f-8798-5abd79e7ebb1'}]"
      ]
     },
     "execution_count": 8,
     "metadata": {},
     "output_type": "execute_result"
    }
   ],
   "source": [
    "sources"
   ]
  },
  {
   "cell_type": "code",
   "execution_count": 9,
   "metadata": {
    "scrolled": false
   },
   "outputs": [
    {
     "name": "stdout",
     "output_type": "stream",
     "text": [
      "********************\n",
      "{\n",
      "    \"default_footprint\": {\n",
      "        \"coordinates\": [\n",
      "            9.22100000642642,\n",
      "            30.0000000019687\n",
      "        ],\n",
      "        \"type\": \"Point\"\n",
      "    },\n",
      "    \"description\": {\n",
      "        \"alias\": \"my desk\",\n",
      "        \"controlledProperties\": [\n",
      "            \"temperature\",\n",
      "            \"humidity\"\n",
      "        ],\n",
      "        \"default_footprint\": {\n",
      "            \"coordinates\": [\n",
      "                9.221,\n",
      "                30.0\n",
      "            ],\n",
      "            \"type\": \"Point\"\n",
      "        },\n",
      "        \"description\": {\n",
      "            \"brandName\": \"ProSensor\",\n",
      "            \"manufacturerName\": \"CRS4\",\n",
      "            \"modelName\": \"R2D2\",\n",
      "            \"type\": \"multisensor\"\n",
      "        },\n",
      "        \"entity_category\": \"Station\",\n",
      "        \"entity_type\": \"PointWeatherObserver\",\n",
      "        \"id\": \"tdm/sensor_0\",\n",
      "        \"shape\": [],\n",
      "        \"stationary\": true\n",
      "    },\n",
      "    \"entity_category\": \"Station\",\n",
      "    \"entity_type\": \"PointWeatherObserver\",\n",
      "    \"external_id\": \"tdm/sensor_0\",\n",
      "    \"stationary\": true,\n",
      "    \"tdmq_id\": \"e5a2f652-ea6f-5139-8bb3-b7a69f1b94c6\"\n",
      "}\n",
      "********************\n",
      "{\n",
      "    \"default_footprint\": {\n",
      "        \"coordinates\": [\n",
      "            9.22200000642623,\n",
      "            30.0030000019686\n",
      "        ],\n",
      "        \"type\": \"Point\"\n",
      "    },\n",
      "    \"description\": {\n",
      "        \"alias\": \"B221\",\n",
      "        \"controlledProperties\": [\n",
      "            \"humidity\",\n",
      "            \"temperature\"\n",
      "        ],\n",
      "        \"default_footprint\": {\n",
      "            \"coordinates\": [\n",
      "                9.222,\n",
      "                30.003\n",
      "            ],\n",
      "            \"type\": \"Point\"\n",
      "        },\n",
      "        \"description\": {\n",
      "            \"brandName\": \"ProSensor\",\n",
      "            \"manufacturerName\": \"CRS4\",\n",
      "            \"modelName\": \"R2D2\",\n",
      "            \"type\": \"multisensor\"\n",
      "        },\n",
      "        \"entity_category\": \"Station\",\n",
      "        \"entity_type\": \"PointWeatherObserver\",\n",
      "        \"id\": \"tdm/sensor_1\",\n",
      "        \"shape\": []\n",
      "    },\n",
      "    \"entity_category\": \"Station\",\n",
      "    \"entity_type\": \"PointWeatherObserver\",\n",
      "    \"external_id\": \"tdm/sensor_1\",\n",
      "    \"stationary\": true,\n",
      "    \"tdmq_id\": \"2bb83248-27f4-53c9-b149-ca74c8c283ee\"\n",
      "}\n",
      "********************\n",
      "{\n",
      "    \"default_footprint\": {\n",
      "        \"coordinates\": [\n",
      "            9.55100000643269,\n",
      "            32.0000000018894\n",
      "        ],\n",
      "        \"type\": \"Point\"\n",
      "    },\n",
      "    \"description\": {\n",
      "        \"controlledProperties\": [\n",
      "            \"power\"\n",
      "        ],\n",
      "        \"default_footprint\": {\n",
      "            \"coordinates\": [\n",
      "                9.551,\n",
      "                32.0\n",
      "            ],\n",
      "            \"type\": \"Point\"\n",
      "        },\n",
      "        \"description\": {\n",
      "            \"brandName\": \"ProSensor\",\n",
      "            \"manufacturerName\": \"CRS4\",\n",
      "            \"modelName\": \"C3PO\",\n",
      "            \"type\": \"power sensor\"\n",
      "        },\n",
      "        \"entity_category\": \"Station\",\n",
      "        \"entity_type\": \"EnergyConsumptionMonitor\",\n",
      "        \"id\": \"tdm/sensor_3\",\n",
      "        \"shape\": []\n",
      "    },\n",
      "    \"entity_category\": \"Station\",\n",
      "    \"entity_type\": \"EnergyConsumptionMonitor\",\n",
      "    \"external_id\": \"tdm/sensor_3\",\n",
      "    \"stationary\": true,\n",
      "    \"tdmq_id\": \"42608b02-a82a-58ae-84fb-f358bf9b7494\"\n",
      "}\n",
      "********************\n",
      "{\n",
      "    \"default_footprint\": {\n",
      "        \"coordinates\": [\n",
      "            9.34300000645912,\n",
      "            31.2000000019276\n",
      "        ],\n",
      "        \"type\": \"Point\"\n",
      "    },\n",
      "    \"description\": {\n",
      "        \"controlledProperties\": [\n",
      "            \"temperature\"\n",
      "        ],\n",
      "        \"default_footprint\": {\n",
      "            \"coordinates\": [\n",
      "                9.343,\n",
      "                31.2\n",
      "            ],\n",
      "            \"type\": \"Point\"\n",
      "        },\n",
      "        \"description\": {\n",
      "            \"brandName\": \"Acme\",\n",
      "            \"manufacturerName\": \"Acme Inc.\",\n",
      "            \"modelName\": \"Acme multisensor DHT11\",\n",
      "            \"type\": \"TemperatureSensorDTH11\"\n",
      "        },\n",
      "        \"entity_category\": \"Station\",\n",
      "        \"entity_type\": \"PointWeatherObserver\",\n",
      "        \"id\": \"tdm/sensor_4\",\n",
      "        \"shape\": []\n",
      "    },\n",
      "    \"entity_category\": \"Station\",\n",
      "    \"entity_type\": \"PointWeatherObserver\",\n",
      "    \"external_id\": \"tdm/sensor_4\",\n",
      "    \"stationary\": true,\n",
      "    \"tdmq_id\": \"8b53505d-79b8-548d-b160-777d116cb6b2\"\n",
      "}\n",
      "********************\n",
      "{\n",
      "    \"default_footprint\": {\n",
      "        \"coordinates\": [\n",
      "            9.11900000640193,\n",
      "            29.0000000019969\n",
      "        ],\n",
      "        \"type\": \"Point\"\n",
      "    },\n",
      "    \"description\": {\n",
      "        \"alias\": \"Mobile sensor\",\n",
      "        \"controlledProperties\": [\n",
      "            \"humidity\"\n",
      "        ],\n",
      "        \"default_footprint\": {\n",
      "            \"coordinates\": [\n",
      "                9.119,\n",
      "                29.0\n",
      "            ],\n",
      "            \"type\": \"Point\"\n",
      "        },\n",
      "        \"description\": {\n",
      "            \"brandName\": \"Acme\",\n",
      "            \"manufacturerName\": \"Acme Inc.\",\n",
      "            \"modelName\": \"Acme multisensor DHT11\",\n",
      "            \"type\": \"HumiditySensorDHT11\"\n",
      "        },\n",
      "        \"entity_category\": \"Station\",\n",
      "        \"entity_type\": \"PointWeatherObserver\",\n",
      "        \"id\": \"tdm/sensor_5\",\n",
      "        \"shape\": [],\n",
      "        \"stationary\": false\n",
      "    },\n",
      "    \"entity_category\": \"Station\",\n",
      "    \"entity_type\": \"PointWeatherObserver\",\n",
      "    \"external_id\": \"tdm/sensor_5\",\n",
      "    \"stationary\": false,\n",
      "    \"tdmq_id\": \"5df07546-b1d6-517f-8798-5abd79e7ebb1\"\n",
      "}\n"
     ]
    }
   ],
   "source": [
    "for s in sources:\n",
    "    response = requests.get(f'{BASE_URL}/sources/{s[\"tdmq_id\"]}')\n",
    "    response.raise_for_status()\n",
    "    print('*'*20)\n",
    "    print(json.dumps(response.json(), indent=4))"
   ]
  },
  {
   "cell_type": "markdown",
   "metadata": {},
   "source": [
    "## Load records"
   ]
  },
  {
   "cell_type": "code",
   "execution_count": 10,
   "metadata": {},
   "outputs": [],
   "source": [
    "with open(os.path.join(data_dir, 'records.json')) as f:\n",
    "    data = json.load(f)['records']"
   ]
  },
  {
   "cell_type": "code",
   "execution_count": 11,
   "metadata": {},
   "outputs": [],
   "source": [
    "response = requests.post(f'{BASE_URL}/records', json=data)\n",
    "response.raise_for_status()\n",
    "tdmq_ids = response.json()"
   ]
  },
  {
   "cell_type": "markdown",
   "metadata": {},
   "source": [
    "## Run some queries"
   ]
  },
  {
   "cell_type": "code",
   "execution_count": 12,
   "metadata": {},
   "outputs": [],
   "source": [
    "def query(url):\n",
    "    response = requests.get(f'{BASE_URL}{url}')\n",
    "    response.raise_for_status()\n",
    "    print(json.dumps(response.json(), indent=4))"
   ]
  },
  {
   "cell_type": "code",
   "execution_count": 13,
   "metadata": {},
   "outputs": [
    {
     "name": "stdout",
     "output_type": "stream",
     "text": [
      "[\n",
      "    {\n",
      "        \"default_footprint\": {\n",
      "            \"coordinates\": [\n",
      "                9.55100000643269,\n",
      "                32.0000000018894\n",
      "            ],\n",
      "            \"type\": \"Point\"\n",
      "        },\n",
      "        \"entity_category\": \"Station\",\n",
      "        \"entity_type\": \"EnergyConsumptionMonitor\",\n",
      "        \"external_id\": \"tdm/sensor_3\",\n",
      "        \"tdmq_id\": \"42608b02-a82a-58ae-84fb-f358bf9b7494\"\n",
      "    }\n",
      "]\n"
     ]
    }
   ],
   "source": [
    "query('/sources?id=tdm/sensor_3')"
   ]
  },
  {
   "cell_type": "code",
   "execution_count": 14,
   "metadata": {},
   "outputs": [
    {
     "name": "stdout",
     "output_type": "stream",
     "text": [
      "[\n",
      "    {\n",
      "        \"default_footprint\": {\n",
      "            \"coordinates\": [\n",
      "                9.22100000642642,\n",
      "                30.0000000019687\n",
      "            ],\n",
      "            \"type\": \"Point\"\n",
      "        },\n",
      "        \"entity_category\": \"Station\",\n",
      "        \"entity_type\": \"PointWeatherObserver\",\n",
      "        \"external_id\": \"tdm/sensor_0\",\n",
      "        \"tdmq_id\": \"e5a2f652-ea6f-5139-8bb3-b7a69f1b94c6\"\n",
      "    },\n",
      "    {\n",
      "        \"default_footprint\": {\n",
      "            \"coordinates\": [\n",
      "                9.22200000642623,\n",
      "                30.0030000019686\n",
      "            ],\n",
      "            \"type\": \"Point\"\n",
      "        },\n",
      "        \"entity_category\": \"Station\",\n",
      "        \"entity_type\": \"PointWeatherObserver\",\n",
      "        \"external_id\": \"tdm/sensor_1\",\n",
      "        \"tdmq_id\": \"2bb83248-27f4-53c9-b149-ca74c8c283ee\"\n",
      "    },\n",
      "    {\n",
      "        \"default_footprint\": {\n",
      "            \"coordinates\": [\n",
      "                9.55100000643269,\n",
      "                32.0000000018894\n",
      "            ],\n",
      "            \"type\": \"Point\"\n",
      "        },\n",
      "        \"entity_category\": \"Station\",\n",
      "        \"entity_type\": \"EnergyConsumptionMonitor\",\n",
      "        \"external_id\": \"tdm/sensor_3\",\n",
      "        \"tdmq_id\": \"42608b02-a82a-58ae-84fb-f358bf9b7494\"\n",
      "    },\n",
      "    {\n",
      "        \"default_footprint\": {\n",
      "            \"coordinates\": [\n",
      "                9.34300000645912,\n",
      "                31.2000000019276\n",
      "            ],\n",
      "            \"type\": \"Point\"\n",
      "        },\n",
      "        \"entity_category\": \"Station\",\n",
      "        \"entity_type\": \"PointWeatherObserver\",\n",
      "        \"external_id\": \"tdm/sensor_4\",\n",
      "        \"tdmq_id\": \"8b53505d-79b8-548d-b160-777d116cb6b2\"\n",
      "    },\n",
      "    {\n",
      "        \"default_footprint\": {\n",
      "            \"coordinates\": [\n",
      "                9.11900000640193,\n",
      "                29.0000000019969\n",
      "            ],\n",
      "            \"type\": \"Point\"\n",
      "        },\n",
      "        \"entity_category\": \"Station\",\n",
      "        \"entity_type\": \"PointWeatherObserver\",\n",
      "        \"external_id\": \"tdm/sensor_5\",\n",
      "        \"tdmq_id\": \"5df07546-b1d6-517f-8798-5abd79e7ebb1\"\n",
      "    }\n",
      "]\n"
     ]
    }
   ],
   "source": [
    "query('/sources?entity_category=Station')"
   ]
  },
  {
   "cell_type": "code",
   "execution_count": 15,
   "metadata": {},
   "outputs": [
    {
     "name": "stdout",
     "output_type": "stream",
     "text": [
      "[\n",
      "    {\n",
      "        \"default_footprint\": {\n",
      "            \"coordinates\": [\n",
      "                9.55100000643269,\n",
      "                32.0000000018894\n",
      "            ],\n",
      "            \"type\": \"Point\"\n",
      "        },\n",
      "        \"entity_category\": \"Station\",\n",
      "        \"entity_type\": \"EnergyConsumptionMonitor\",\n",
      "        \"external_id\": \"tdm/sensor_3\",\n",
      "        \"tdmq_id\": \"42608b02-a82a-58ae-84fb-f358bf9b7494\"\n",
      "    }\n",
      "]\n"
     ]
    }
   ],
   "source": [
    "query('/sources?entity_type=EnergyConsumptionMonitor')"
   ]
  },
  {
   "cell_type": "code",
   "execution_count": 16,
   "metadata": {},
   "outputs": [
    {
     "name": "stdout",
     "output_type": "stream",
     "text": [
      "[\n",
      "    {\n",
      "        \"default_footprint\": {\n",
      "            \"coordinates\": [\n",
      "                9.22100000642642,\n",
      "                30.0000000019687\n",
      "            ],\n",
      "            \"type\": \"Point\"\n",
      "        },\n",
      "        \"entity_category\": \"Station\",\n",
      "        \"entity_type\": \"PointWeatherObserver\",\n",
      "        \"external_id\": \"tdm/sensor_0\",\n",
      "        \"tdmq_id\": \"e5a2f652-ea6f-5139-8bb3-b7a69f1b94c6\"\n",
      "    },\n",
      "    {\n",
      "        \"default_footprint\": {\n",
      "            \"coordinates\": [\n",
      "                9.22200000642623,\n",
      "                30.0030000019686\n",
      "            ],\n",
      "            \"type\": \"Point\"\n",
      "        },\n",
      "        \"entity_category\": \"Station\",\n",
      "        \"entity_type\": \"PointWeatherObserver\",\n",
      "        \"external_id\": \"tdm/sensor_1\",\n",
      "        \"tdmq_id\": \"2bb83248-27f4-53c9-b149-ca74c8c283ee\"\n",
      "    },\n",
      "    {\n",
      "        \"default_footprint\": {\n",
      "            \"coordinates\": [\n",
      "                9.34300000645912,\n",
      "                31.2000000019276\n",
      "            ],\n",
      "            \"type\": \"Point\"\n",
      "        },\n",
      "        \"entity_category\": \"Station\",\n",
      "        \"entity_type\": \"PointWeatherObserver\",\n",
      "        \"external_id\": \"tdm/sensor_4\",\n",
      "        \"tdmq_id\": \"8b53505d-79b8-548d-b160-777d116cb6b2\"\n",
      "    }\n",
      "]\n"
     ]
    }
   ],
   "source": [
    "query('/sources?controlledProperties=temperature')"
   ]
  },
  {
   "cell_type": "code",
   "execution_count": 17,
   "metadata": {},
   "outputs": [
    {
     "name": "stdout",
     "output_type": "stream",
     "text": [
      "[\n",
      "    {\n",
      "        \"default_footprint\": {\n",
      "            \"coordinates\": [\n",
      "                9.22100000642642,\n",
      "                30.0000000019687\n",
      "            ],\n",
      "            \"type\": \"Point\"\n",
      "        },\n",
      "        \"entity_category\": \"Station\",\n",
      "        \"entity_type\": \"PointWeatherObserver\",\n",
      "        \"external_id\": \"tdm/sensor_0\",\n",
      "        \"tdmq_id\": \"e5a2f652-ea6f-5139-8bb3-b7a69f1b94c6\"\n",
      "    },\n",
      "    {\n",
      "        \"default_footprint\": {\n",
      "            \"coordinates\": [\n",
      "                9.22200000642623,\n",
      "                30.0030000019686\n",
      "            ],\n",
      "            \"type\": \"Point\"\n",
      "        },\n",
      "        \"entity_category\": \"Station\",\n",
      "        \"entity_type\": \"PointWeatherObserver\",\n",
      "        \"external_id\": \"tdm/sensor_1\",\n",
      "        \"tdmq_id\": \"2bb83248-27f4-53c9-b149-ca74c8c283ee\"\n",
      "    }\n",
      "]\n"
     ]
    }
   ],
   "source": [
    "query('/sources?controlledProperties=temperature,humidity')"
   ]
  },
  {
   "cell_type": "code",
   "execution_count": 18,
   "metadata": {},
   "outputs": [
    {
     "name": "stdout",
     "output_type": "stream",
     "text": [
      "[\n",
      "    {\n",
      "        \"default_footprint\": {\n",
      "            \"coordinates\": [\n",
      "                9.22100000642642,\n",
      "                30.0000000019687\n",
      "            ],\n",
      "            \"type\": \"Point\"\n",
      "        },\n",
      "        \"entity_category\": \"Station\",\n",
      "        \"entity_type\": \"PointWeatherObserver\",\n",
      "        \"external_id\": \"tdm/sensor_0\",\n",
      "        \"tdmq_id\": \"e5a2f652-ea6f-5139-8bb3-b7a69f1b94c6\"\n",
      "    }\n",
      "]\n"
     ]
    }
   ],
   "source": [
    "query('/sources?after=2019-05-02T11:00:20Z')"
   ]
  },
  {
   "cell_type": "code",
   "execution_count": 19,
   "metadata": {},
   "outputs": [
    {
     "name": "stdout",
     "output_type": "stream",
     "text": [
      "[\n",
      "    {\n",
      "        \"default_footprint\": {\n",
      "            \"coordinates\": [\n",
      "                9.11900000640193,\n",
      "                29.0000000019969\n",
      "            ],\n",
      "            \"type\": \"Point\"\n",
      "        },\n",
      "        \"entity_category\": \"Station\",\n",
      "        \"entity_type\": \"PointWeatherObserver\",\n",
      "        \"external_id\": \"tdm/sensor_5\",\n",
      "        \"tdmq_id\": \"5df07546-b1d6-517f-8798-5abd79e7ebb1\"\n",
      "    }\n",
      "]\n"
     ]
    }
   ],
   "source": [
    "query('/sources?stationary=false')"
   ]
  },
  {
   "cell_type": "code",
   "execution_count": 20,
   "metadata": {},
   "outputs": [
    {
     "name": "stdout",
     "output_type": "stream",
     "text": [
      "[\n",
      "    {\n",
      "        \"default_footprint\": {\n",
      "            \"coordinates\": [\n",
      "                9.22100000642642,\n",
      "                30.0000000019687\n",
      "            ],\n",
      "            \"type\": \"Point\"\n",
      "        },\n",
      "        \"entity_category\": \"Station\",\n",
      "        \"entity_type\": \"PointWeatherObserver\",\n",
      "        \"external_id\": \"tdm/sensor_0\",\n",
      "        \"tdmq_id\": \"e5a2f652-ea6f-5139-8bb3-b7a69f1b94c6\"\n",
      "    },\n",
      "    {\n",
      "        \"default_footprint\": {\n",
      "            \"coordinates\": [\n",
      "                9.22200000642623,\n",
      "                30.0030000019686\n",
      "            ],\n",
      "            \"type\": \"Point\"\n",
      "        },\n",
      "        \"entity_category\": \"Station\",\n",
      "        \"entity_type\": \"PointWeatherObserver\",\n",
      "        \"external_id\": \"tdm/sensor_1\",\n",
      "        \"tdmq_id\": \"2bb83248-27f4-53c9-b149-ca74c8c283ee\"\n",
      "    },\n",
      "    {\n",
      "        \"default_footprint\": {\n",
      "            \"coordinates\": [\n",
      "                9.55100000643269,\n",
      "                32.0000000018894\n",
      "            ],\n",
      "            \"type\": \"Point\"\n",
      "        },\n",
      "        \"entity_category\": \"Station\",\n",
      "        \"entity_type\": \"EnergyConsumptionMonitor\",\n",
      "        \"external_id\": \"tdm/sensor_3\",\n",
      "        \"tdmq_id\": \"42608b02-a82a-58ae-84fb-f358bf9b7494\"\n",
      "    },\n",
      "    {\n",
      "        \"default_footprint\": {\n",
      "            \"coordinates\": [\n",
      "                9.34300000645912,\n",
      "                31.2000000019276\n",
      "            ],\n",
      "            \"type\": \"Point\"\n",
      "        },\n",
      "        \"entity_category\": \"Station\",\n",
      "        \"entity_type\": \"PointWeatherObserver\",\n",
      "        \"external_id\": \"tdm/sensor_4\",\n",
      "        \"tdmq_id\": \"8b53505d-79b8-548d-b160-777d116cb6b2\"\n",
      "    }\n",
      "]\n"
     ]
    }
   ],
   "source": [
    "query('/sources?stationary=true')"
   ]
  },
  {
   "cell_type": "code",
   "execution_count": 21,
   "metadata": {},
   "outputs": [
    {
     "name": "stdout",
     "output_type": "stream",
     "text": [
      "[\n",
      "    {\n",
      "        \"default_footprint\": {\n",
      "            \"coordinates\": [\n",
      "                9.34300000645912,\n",
      "                31.2000000019276\n",
      "            ],\n",
      "            \"type\": \"Point\"\n",
      "        },\n",
      "        \"entity_category\": \"Station\",\n",
      "        \"entity_type\": \"PointWeatherObserver\",\n",
      "        \"external_id\": \"tdm/sensor_4\",\n",
      "        \"tdmq_id\": \"8b53505d-79b8-548d-b160-777d116cb6b2\"\n",
      "    },\n",
      "    {\n",
      "        \"default_footprint\": {\n",
      "            \"coordinates\": [\n",
      "                9.11900000640193,\n",
      "                29.0000000019969\n",
      "            ],\n",
      "            \"type\": \"Point\"\n",
      "        },\n",
      "        \"entity_category\": \"Station\",\n",
      "        \"entity_type\": \"PointWeatherObserver\",\n",
      "        \"external_id\": \"tdm/sensor_5\",\n",
      "        \"tdmq_id\": \"5df07546-b1d6-517f-8798-5abd79e7ebb1\"\n",
      "    }\n",
      "]\n"
     ]
    }
   ],
   "source": [
    "query('/sources?brandName=Acme')"
   ]
  },
  {
   "cell_type": "code",
   "execution_count": 22,
   "metadata": {},
   "outputs": [],
   "source": [
    "def query_timeseries(dev, args=None):\n",
    "    uri = f'{BASE_URL}/sources/{dev}/timeseries?' + '&'.join( f'{k}={v}' for k, v in (args or {}).items() )\n",
    "    response = requests.get(uri)\n",
    "    response.raise_for_status()\n",
    "    print(json.dumps(response.json(), indent=4))"
   ]
  },
  {
   "cell_type": "code",
   "execution_count": 23,
   "metadata": {},
   "outputs": [
    {
     "name": "stdout",
     "output_type": "stream",
     "text": [
      "[\n",
      "    {\n",
      "        \"default_footprint\": {\n",
      "            \"coordinates\": [\n",
      "                9.22100000642642,\n",
      "                30.0000000019687\n",
      "            ],\n",
      "            \"type\": \"Point\"\n",
      "        },\n",
      "        \"entity_category\": \"Station\",\n",
      "        \"entity_type\": \"PointWeatherObserver\",\n",
      "        \"external_id\": \"tdm/sensor_0\",\n",
      "        \"tdmq_id\": \"e5a2f652-ea6f-5139-8bb3-b7a69f1b94c6\"\n",
      "    }\n",
      "]\n"
     ]
    }
   ],
   "source": [
    "query('/sources?after=2019-05-02T11:00:20Z')"
   ]
  },
  {
   "cell_type": "code",
   "execution_count": 24,
   "metadata": {},
   "outputs": [
    {
     "name": "stdout",
     "output_type": "stream",
     "text": [
      "e5a2f652-ea6f-5139-8bb3-b7a69f1b94c6\n"
     ]
    }
   ],
   "source": [
    "d1 = sources[0]['tdmq_id']\n",
    "print(d1)"
   ]
  },
  {
   "cell_type": "code",
   "execution_count": 25,
   "metadata": {},
   "outputs": [
    {
     "name": "stdout",
     "output_type": "stream",
     "text": [
      "{\n",
      "    \"data\": {\n",
      "        \"humidity\": [\n",
      "            0.022,\n",
      "            0.122,\n",
      "            0.222,\n",
      "            0.322,\n",
      "            0.422,\n",
      "            0.522\n",
      "        ],\n",
      "        \"temperature\": [\n",
      "            22,\n",
      "            22,\n",
      "            23,\n",
      "            23,\n",
      "            24,\n",
      "            24\n",
      "        ]\n",
      "    },\n",
      "    \"footprints\": [\n",
      "        null,\n",
      "        null,\n",
      "        null,\n",
      "        null,\n",
      "        null,\n",
      "        null\n",
      "    ],\n",
      "    \"times\": [\n",
      "        1556794800.0,\n",
      "        1556794805.0,\n",
      "        1556794810.0,\n",
      "        1556794815.0,\n",
      "        1556794820.0,\n",
      "        1556794825.0\n",
      "    ]\n",
      "}\n"
     ]
    }
   ],
   "source": [
    "query_timeseries(d1)"
   ]
  },
  {
   "cell_type": "code",
   "execution_count": 26,
   "metadata": {},
   "outputs": [
    {
     "name": "stdout",
     "output_type": "stream",
     "text": [
      "{\n",
      "    \"data\": {\n",
      "        \"temperature\": [\n",
      "            22,\n",
      "            22,\n",
      "            23,\n",
      "            23,\n",
      "            24,\n",
      "            24\n",
      "        ]\n",
      "    },\n",
      "    \"footprints\": [\n",
      "        null,\n",
      "        null,\n",
      "        null,\n",
      "        null,\n",
      "        null,\n",
      "        null\n",
      "    ],\n",
      "    \"times\": [\n",
      "        1556794800.0,\n",
      "        1556794805.0,\n",
      "        1556794810.0,\n",
      "        1556794815.0,\n",
      "        1556794820.0,\n",
      "        1556794825.0\n",
      "    ]\n",
      "}\n"
     ]
    }
   ],
   "source": [
    "query_timeseries(d1, dict(fields='temperature'))"
   ]
  },
  {
   "cell_type": "code",
   "execution_count": 27,
   "metadata": {},
   "outputs": [
    {
     "name": "stdout",
     "output_type": "stream",
     "text": [
      "{\n",
      "    \"data\": {\n",
      "        \"humidity\": [\n",
      "            0.022,\n",
      "            0.122\n",
      "        ],\n",
      "        \"temperature\": [\n",
      "            22,\n",
      "            22\n",
      "        ]\n",
      "    },\n",
      "    \"footprints\": [\n",
      "        null,\n",
      "        null\n",
      "    ],\n",
      "    \"times\": [\n",
      "        1556794800.0,\n",
      "        1556794805.0\n",
      "    ]\n",
      "}\n"
     ]
    }
   ],
   "source": [
    "query_timeseries(d1, dict(fields='temperature,humidity', before='2019-05-02T11:00:10Z'))"
   ]
  },
  {
   "cell_type": "code",
   "execution_count": 28,
   "metadata": {},
   "outputs": [
    {
     "name": "stdout",
     "output_type": "stream",
     "text": [
      "{\n",
      "    \"data\": {\n",
      "        \"humidity\": [\n",
      "            0.0720000006258488,\n",
      "            0.271999999880791,\n",
      "            0.472000002861023\n",
      "        ],\n",
      "        \"temperature\": [\n",
      "            22.0,\n",
      "            23.0,\n",
      "            24.0\n",
      "        ]\n",
      "    },\n",
      "    \"footprints\": [\n",
      "        null,\n",
      "        null,\n",
      "        null\n",
      "    ],\n",
      "    \"times\": [\n",
      "        1556794800.0,\n",
      "        1556794810.0,\n",
      "        1556794820.0\n",
      "    ]\n",
      "}\n"
     ]
    }
   ],
   "source": [
    "query_timeseries(d1, dict(bucket=10, op='avg'))"
   ]
  },
  {
   "cell_type": "code",
   "execution_count": 29,
   "metadata": {},
   "outputs": [
    {
     "name": "stdout",
     "output_type": "stream",
     "text": [
      "{\n",
      "    \"data\": {\n",
      "        \"humidity\": [\n",
      "            0.0720000006258488,\n",
      "            0.271999999880791,\n",
      "            0.472000002861023\n",
      "        ],\n",
      "        \"temperature\": [\n",
      "            22.0,\n",
      "            23.0,\n",
      "            24.0\n",
      "        ]\n",
      "    },\n",
      "    \"footprints\": [\n",
      "        null,\n",
      "        null,\n",
      "        null\n",
      "    ],\n",
      "    \"times\": [\n",
      "        1556794800.0,\n",
      "        1556794810.0,\n",
      "        1556794820.0\n",
      "    ]\n",
      "}\n"
     ]
    }
   ],
   "source": [
    "query_timeseries(d1, dict(fields='temperature,humidity', bucket=10, op='avg'))"
   ]
  },
  {
   "cell_type": "code",
   "execution_count": 30,
   "metadata": {},
   "outputs": [
    {
     "name": "stdout",
     "output_type": "stream",
     "text": [
      "{\n",
      "    \"data\": {\n",
      "        \"humidity\": [\n",
      "            0.144,\n",
      "            0.544,\n",
      "            0.944\n",
      "        ]\n",
      "    },\n",
      "    \"footprints\": [\n",
      "        null,\n",
      "        null,\n",
      "        null\n",
      "    ],\n",
      "    \"times\": [\n",
      "        1556794800.0,\n",
      "        1556794810.0,\n",
      "        1556794820.0\n",
      "    ]\n",
      "}\n"
     ]
    }
   ],
   "source": [
    "query_timeseries(d1, dict(fields='humidity', bucket=10, op='sum'))"
   ]
  },
  {
   "cell_type": "code",
   "execution_count": 31,
   "metadata": {},
   "outputs": [
    {
     "name": "stdout",
     "output_type": "stream",
     "text": [
      "{\n",
      "    \"data\": {\n",
      "        \"humidity\": [\n",
      "            0.022,\n",
      "            0.122\n",
      "        ],\n",
      "        \"temperature\": [\n",
      "            22,\n",
      "            22\n",
      "        ]\n",
      "    },\n",
      "    \"footprints\": [\n",
      "        null,\n",
      "        null\n",
      "    ],\n",
      "    \"times\": [\n",
      "        1556794800.0,\n",
      "        1556794805.0\n",
      "    ]\n",
      "}\n"
     ]
    }
   ],
   "source": [
    "query_timeseries(d1, dict(fields='temperature,humidity', before='2019-05-02T11:00:10Z'))"
   ]
  },
  {
   "cell_type": "code",
   "execution_count": 32,
   "metadata": {},
   "outputs": [],
   "source": [
    "for s in sources:\n",
    "    response = requests.delete(f'{BASE_URL}/sources/{s[\"tdmq_id\"]}')\n",
    "    response.raise_for_status()"
   ]
  },
  {
   "cell_type": "code",
   "execution_count": 33,
   "metadata": {},
   "outputs": [
    {
     "data": {
      "text/plain": [
       "[]"
      ]
     },
     "execution_count": 33,
     "metadata": {},
     "output_type": "execute_result"
    }
   ],
   "source": [
    "response = requests.get(f'{BASE_URL}/sources')\n",
    "response.raise_for_status()\n",
    "response.json()"
   ]
  },
  {
   "cell_type": "code",
   "execution_count": null,
   "metadata": {},
   "outputs": [],
   "source": []
  },
  {
   "cell_type": "code",
   "execution_count": null,
   "metadata": {},
   "outputs": [],
   "source": []
  }
 ],
 "metadata": {
  "kernelspec": {
   "display_name": "Python 3",
   "language": "python",
   "name": "python3"
  },
  "language_info": {
   "codemirror_mode": {
    "name": "ipython",
    "version": 3
   },
   "file_extension": ".py",
   "mimetype": "text/x-python",
   "name": "python",
   "nbconvert_exporter": "python",
   "pygments_lexer": "ipython3",
   "version": "3.6.8"
  }
 },
 "nbformat": 4,
 "nbformat_minor": 2
}
