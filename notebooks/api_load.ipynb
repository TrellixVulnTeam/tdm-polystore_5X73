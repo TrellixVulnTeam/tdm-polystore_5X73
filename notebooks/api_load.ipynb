{
 "cells": [
  {
   "cell_type": "markdown",
   "metadata": {},
   "source": [
    "# Load data via the API\n",
    "\n",
    "\n",
    "Before running this notebook, initialize the database:\n",
    "\n",
    "```\n",
    "docker-compose exec web flask db init\n",
    "```"
   ]
  },
  {
   "cell_type": "code",
   "execution_count": 1,
   "metadata": {},
   "outputs": [],
   "source": [
    "import requests\n",
    "import json\n",
    "import os"
   ]
  },
  {
   "cell_type": "code",
   "execution_count": 2,
   "metadata": {},
   "outputs": [],
   "source": [
    "BASE_URL = \"http://localhost:8000/api/v0.0\"\n",
    "data_dir = \"../tests/data\""
   ]
  },
  {
   "cell_type": "markdown",
   "metadata": {},
   "source": [
    "## Load sensor types"
   ]
  },
  {
   "cell_type": "code",
   "execution_count": 3,
   "metadata": {},
   "outputs": [
    {
     "data": {
      "text/plain": [
       "['c7afa96b-ca9a-5561-b57b-5187ad005d75',\n",
       " '542c74cb-abcc-503e-abc6-d818284551f4',\n",
       " '7b8f71df-4517-5ffc-b627-f4b37a49b925',\n",
       " '1d48a1f4-9440-5965-8b2d-809bf529d851']"
      ]
     },
     "execution_count": 3,
     "metadata": {},
     "output_type": "execute_result"
    }
   ],
   "source": [
    "with open(os.path.join(data_dir, \"sensor_types.json\")) as f:\n",
    "    data = json.load(f)[\"sensor_types\"]\n",
    "codes = requests.post(f'{BASE_URL}/sensor_types', json=data).json()\n",
    "codes"
   ]
  },
  {
   "cell_type": "code",
   "execution_count": 4,
   "metadata": {},
   "outputs": [],
   "source": [
    "sensor_types = requests.get(f'{BASE_URL}/sensor_types').json()\n",
    "assert set(_[\"code\"] for _ in sensor_types) == set(codes)"
   ]
  },
  {
   "cell_type": "markdown",
   "metadata": {},
   "source": [
    "## Load sensors"
   ]
  },
  {
   "cell_type": "code",
   "execution_count": 5,
   "metadata": {},
   "outputs": [
    {
     "data": {
      "text/plain": [
       "['c034f147-8e54-50bd-97bb-9db1addcdc5a',\n",
       " 'c932ff51-6eec-5b73-abe1-4163f9e72cb3',\n",
       " '65617738-e6b0-5c1d-b643-3175f160ee15',\n",
       " '38a4d439-11d2-5587-b7ae-8047483a6ab3',\n",
       " '005bf7bb-8098-5e06-8fa2-c82430f8df12',\n",
       " 'ff9bb74b-5c03-5e5a-917a-1e8454eb825c']"
      ]
     },
     "execution_count": 5,
     "metadata": {},
     "output_type": "execute_result"
    }
   ],
   "source": [
    "with open(os.path.join(data_dir, \"sensors.json\")) as f:\n",
    "    data = json.load(f)[\"sensors\"]\n",
    "codes = requests.post(f'{BASE_URL}/sensors', json=data).json()\n",
    "codes"
   ]
  },
  {
   "cell_type": "code",
   "execution_count": 6,
   "metadata": {},
   "outputs": [
    {
     "data": {
      "text/plain": [
       "{'code': 'c034f147-8e54-50bd-97bb-9db1addcdc5a',\n",
       " 'geometry': {'coordinates': [9.221, 30.0], 'type': 'Point'},\n",
       " 'name': 'sensor_0',\n",
       " 'node': 'node_0',\n",
       " 'type': 'sensor_type_0'}"
      ]
     },
     "execution_count": 6,
     "metadata": {},
     "output_type": "execute_result"
    }
   ],
   "source": [
    "sensors = requests.get(f'{BASE_URL}/sensors').json()\n",
    "assert set(_[\"code\"] for _ in sensors) == set(codes)\n",
    "requests.get(f'{BASE_URL}/sensors/{codes[0]}').json()"
   ]
  },
  {
   "cell_type": "markdown",
   "metadata": {},
   "source": [
    "## Load measures"
   ]
  },
  {
   "cell_type": "code",
   "execution_count": 7,
   "metadata": {},
   "outputs": [
    {
     "data": {
      "text/plain": [
       "{'loaded': 21}"
      ]
     },
     "execution_count": 7,
     "metadata": {},
     "output_type": "execute_result"
    }
   ],
   "source": [
    "with open(os.path.join(data_dir, \"measures.json\")) as f:\n",
    "    data = json.load(f)[\"measures\"]\n",
    "requests.post(f'{BASE_URL}/measures', json=data).json()"
   ]
  },
  {
   "cell_type": "code",
   "execution_count": 8,
   "metadata": {},
   "outputs": [
    {
     "data": {
      "text/plain": [
       "{'data': [0.022, 0.122, 0.222, 0.322, 0.422, 0.522],\n",
       " 'timebase': '2019-05-02T11:00:00Z',\n",
       " 'timedelta': [0.0, 5.0, 10.0, 15.0, 20.0, 25.0]}"
      ]
     },
     "execution_count": 8,
     "metadata": {},
     "output_type": "execute_result"
    }
   ],
   "source": [
    "code = requests.get(f'{BASE_URL}/sensors').json()[0][\"code\"]\n",
    "args = {\n",
    "    'after': '2019-05-02T11:00:00Z',\n",
    "    'before':'2019-05-02T11:50:25Z'\n",
    "}\n",
    "requests.get(f'{BASE_URL}/sensors/{code}/timeseries', params=args).json()"
   ]
  },
  {
   "cell_type": "code",
   "execution_count": null,
   "metadata": {},
   "outputs": [],
   "source": []
  }
 ],
 "metadata": {
  "kernelspec": {
   "display_name": "Python 3",
   "language": "python",
   "name": "python3"
  },
  "language_info": {
   "codemirror_mode": {
    "name": "ipython",
    "version": 3
   },
   "file_extension": ".py",
   "mimetype": "text/x-python",
   "name": "python",
   "nbconvert_exporter": "python",
   "pygments_lexer": "ipython3",
   "version": "3.6.8"
  }
 },
 "nbformat": 4,
 "nbformat_minor": 2
}
