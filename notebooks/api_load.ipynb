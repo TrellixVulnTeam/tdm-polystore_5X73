{
 "cells": [
  {
   "cell_type": "markdown",
   "metadata": {},
   "source": [
    "# Load data via the API\n",
    "\n",
    "\n",
    "Before running this notebook, initialize the database:\n",
    "\n",
    "```\n",
    "docker-compose exec web flask db init\n",
    "```"
   ]
  },
  {
   "cell_type": "code",
   "execution_count": 1,
   "metadata": {},
   "outputs": [],
   "source": [
    "import requests\n",
    "import json\n",
    "import os"
   ]
  },
  {
   "cell_type": "code",
   "execution_count": 2,
   "metadata": {},
   "outputs": [],
   "source": [
    "BASE_URL = \"http://web:8000/api/v0.0\"\n",
    "data_dir = os.getenv(\"DATA_DIR\")"
   ]
  },
  {
   "cell_type": "markdown",
   "metadata": {},
   "source": [
    "curl http://localhost:8000/api/v0.0/sources\n",
    "curl http://localhost:8000/api/v0.0/sources?tdmq_id=e5a2f652-ea6f-5139-8bb3-b7a69f1b94c6\n",
    "curl http://localhost:8000/api/v0.0/sources?id=\"tdm/sensor_3\"\n",
    "curl http://localhost:8000/api/v0.0/sources?category=Station\n",
    "curl http://localhost:8000/api/v0.0/sources?type=EnergyConsumptionMonitor\n",
    "curl http://localhost:8000/api/v0.0/sources?controlledProperties=temperature\n",
    "curl http://localhost:8000/api/v0.0/sources?controlledProperties=temperature,humidity\n",
    "curl http://localhost:8000/api/v0.0/sources?after=2019-05-02T11:00:30Z\n",
    "curl http://localhost:8000/api/v0.0/sources?stationary=false\n",
    "curl http://localhost:8000/api/v0.0/sources?stationary=true\n",
    "curl http://localhost:8000/api/v0.0/sources?brandName=Acme"
   ]
  },
  {
   "cell_type": "markdown",
   "metadata": {},
   "source": [
    "## Query for constants"
   ]
  },
  {
   "cell_type": "code",
   "execution_count": 3,
   "metadata": {},
   "outputs": [
    {
     "data": {
      "text/plain": [
       "[['Radar', 'MeteoRadarMosaic', None],\n",
       " ['Station', 'PointWeatherObserver', None],\n",
       " ['Station', 'TemperatureMosaic', None],\n",
       " ['Station', 'EnergyConsumptionMonitor', None]]"
      ]
     },
     "execution_count": 3,
     "metadata": {},
     "output_type": "execute_result"
    }
   ],
   "source": [
    "response = requests.get(f'{BASE_URL}/entity_types')\n",
    "response.raise_for_status()\n",
    "response.json()"
   ]
  },
  {
   "cell_type": "markdown",
   "metadata": {},
   "source": [
    "## Load sensor types"
   ]
  },
  {
   "cell_type": "code",
   "execution_count": 4,
   "metadata": {},
   "outputs": [],
   "source": [
    "with open(os.path.join(data_dir, 'sources.json')) as f:\n",
    "    data = json.load(f)['sources']"
   ]
  },
  {
   "cell_type": "code",
   "execution_count": 5,
   "metadata": {},
   "outputs": [],
   "source": [
    "response = requests.post(f'{BASE_URL}/sources', json=data)\n",
    "response.raise_for_status()\n",
    "tdmq_ids = response.json()"
   ]
  },
  {
   "cell_type": "code",
   "execution_count": 6,
   "metadata": {},
   "outputs": [
    {
     "data": {
      "text/plain": [
       "['e5a2f652-ea6f-5139-8bb3-b7a69f1b94c6',\n",
       " '2bb83248-27f4-53c9-b149-ca74c8c283ee',\n",
       " '374480f7-75c1-5747-a824-60676d7153a3',\n",
       " '42608b02-a82a-58ae-84fb-f358bf9b7494',\n",
       " '8b53505d-79b8-548d-b160-777d116cb6b2',\n",
       " '5df07546-b1d6-517f-8798-5abd79e7ebb1']"
      ]
     },
     "execution_count": 6,
     "metadata": {},
     "output_type": "execute_result"
    }
   ],
   "source": [
    "tdmq_ids"
   ]
  },
  {
   "cell_type": "code",
   "execution_count": 7,
   "metadata": {},
   "outputs": [],
   "source": [
    "response = requests.get(f'{BASE_URL}/sources')\n",
    "response.raise_for_status()\n",
    "sources = response.json()"
   ]
  },
  {
   "cell_type": "code",
   "execution_count": 8,
   "metadata": {},
   "outputs": [
    {
     "data": {
      "text/plain": [
       "[{'default_footprint': '{\"type\":\"Point\",\"coordinates\":[9.22100000642642,30.0000000019687]}',\n",
       "  'entity_category': 'Station',\n",
       "  'entity_type': 'PointWeatherObserver',\n",
       "  'external_id': 'tdm/sensor_0',\n",
       "  'tdmq_id': 'e5a2f652-ea6f-5139-8bb3-b7a69f1b94c6'},\n",
       " {'default_footprint': '{\"type\":\"Point\",\"coordinates\":[9.22200000642623,30.0030000019686]}',\n",
       "  'entity_category': 'Station',\n",
       "  'entity_type': 'PointWeatherObserver',\n",
       "  'external_id': 'tdm/sensor_1',\n",
       "  'tdmq_id': '2bb83248-27f4-53c9-b149-ca74c8c283ee'},\n",
       " {'default_footprint': '{\"type\":\"Point\",\"coordinates\":[9.20100000640809,29.6000000019797]}',\n",
       "  'entity_category': 'Station',\n",
       "  'entity_type': 'PointWeatherObserver',\n",
       "  'external_id': 'tdm/sensor_2',\n",
       "  'tdmq_id': '374480f7-75c1-5747-a824-60676d7153a3'},\n",
       " {'default_footprint': '{\"type\":\"Point\",\"coordinates\":[9.55100000643269,32.0000000018894]}',\n",
       "  'entity_category': 'Station',\n",
       "  'entity_type': 'EnergyConsumptionMonitor',\n",
       "  'external_id': 'tdm/sensor_3',\n",
       "  'tdmq_id': '42608b02-a82a-58ae-84fb-f358bf9b7494'},\n",
       " {'default_footprint': '{\"type\":\"Point\",\"coordinates\":[9.34300000645912,31.2000000019276]}',\n",
       "  'entity_category': 'Station',\n",
       "  'entity_type': 'PointWeatherObserver',\n",
       "  'external_id': 'tdm/sensor_4',\n",
       "  'tdmq_id': '8b53505d-79b8-548d-b160-777d116cb6b2'},\n",
       " {'default_footprint': '{\"type\":\"Point\",\"coordinates\":[9.11900000640193,29.0000000019969]}',\n",
       "  'entity_category': 'Station',\n",
       "  'entity_type': 'PointWeatherObserver',\n",
       "  'external_id': 'tdm/sensor_5',\n",
       "  'tdmq_id': '5df07546-b1d6-517f-8798-5abd79e7ebb1'}]"
      ]
     },
     "execution_count": 8,
     "metadata": {},
     "output_type": "execute_result"
    }
   ],
   "source": [
    "sources"
   ]
  },
  {
   "cell_type": "code",
   "execution_count": 10,
   "metadata": {},
   "outputs": [
    {
     "name": "stdout",
     "output_type": "stream",
     "text": [
      "********************\n",
      "{'default_footprint': '{\"type\":\"Point\",\"coordinates\":[9.22100000642642,30.0000000019687]}', 'description': {'category': 'Station', 'controlledProperties': ['temperature'], 'default_footprint': {'coordinates': [9.221, 30.0], 'type': 'Point'}, 'description': {'alias': 'my desk', 'brandName': 'Acme', 'category': ['sensor'], 'function': ['sensing'], 'manufacturerName': 'Acme Inc.', 'modelName': 'Acme multisensor DHT11', 'type': 'TemperatureSensorDTH11'}, 'id': 'tdm/sensor_0', 'stationary': True, 'type': 'PointWeatherObserver'}, 'entity_category': 'Station', 'entity_type': 'PointWeatherObserver', 'external_id': 'tdm/sensor_0', 'stationary': True, 'tdmq_id': 'e5a2f652-ea6f-5139-8bb3-b7a69f1b94c6'}\n",
      "********************\n",
      "{'default_footprint': '{\"type\":\"Point\",\"coordinates\":[9.22200000642623,30.0030000019686]}', 'description': {'category': 'Station', 'controlledProperties': ['humidity'], 'default_footprint': {'coordinates': [9.222, 30.003], 'type': 'Point'}, 'description': {'alias': 'B221', 'brandName': 'Acme', 'category': ['sensor'], 'function': ['sensing'], 'manufacturerName': 'Acme Inc.', 'modelName': 'Acme multisensor DHT11', 'type': 'HumiditySensorDHT11'}, 'id': 'tdm/sensor_1', 'type': 'PointWeatherObserver'}, 'entity_category': 'Station', 'entity_type': 'PointWeatherObserver', 'external_id': 'tdm/sensor_1', 'stationary': True, 'tdmq_id': '2bb83248-27f4-53c9-b149-ca74c8c283ee'}\n",
      "********************\n",
      "{'default_footprint': '{\"type\":\"Point\",\"coordinates\":[9.20100000640809,29.6000000019797]}', 'description': {'category': 'Station', 'controlledProperties': ['humidity', 'temperature'], 'default_footprint': {'coordinates': [9.201, 29.6], 'type': 'Point'}, 'description': {'brandName': 'ProSensor', 'category': ['sensor'], 'function': ['sensing'], 'manufacturerName': 'CRS4', 'modelName': 'R2D2', 'type': 'multisensor'}, 'id': 'tdm/sensor_2', 'type': 'PointWeatherObserver'}, 'entity_category': 'Station', 'entity_type': 'PointWeatherObserver', 'external_id': 'tdm/sensor_2', 'stationary': True, 'tdmq_id': '374480f7-75c1-5747-a824-60676d7153a3'}\n",
      "********************\n",
      "{'default_footprint': '{\"type\":\"Point\",\"coordinates\":[9.55100000643269,32.0000000018894]}', 'description': {'category': 'Station', 'controlledProperties': ['power'], 'default_footprint': {'coordinates': [9.551, 32.0], 'type': 'Point'}, 'description': {'brandName': 'ProSensor', 'category': ['sensor'], 'function': ['sensing'], 'manufacturerName': 'CRS4', 'modelName': 'C3PO', 'type': 'power sensor'}, 'id': 'tdm/sensor_3', 'type': 'EnergyConsumptionMonitor'}, 'entity_category': 'Station', 'entity_type': 'EnergyConsumptionMonitor', 'external_id': 'tdm/sensor_3', 'stationary': True, 'tdmq_id': '42608b02-a82a-58ae-84fb-f358bf9b7494'}\n",
      "********************\n",
      "{'default_footprint': '{\"type\":\"Point\",\"coordinates\":[9.34300000645912,31.2000000019276]}', 'description': {'category': 'Station', 'controlledProperties': ['temperature'], 'default_footprint': {'coordinates': [9.343, 31.2], 'type': 'Point'}, 'description': {'brandName': 'Acme', 'category': ['sensor'], 'function': ['sensing'], 'manufacturerName': 'Acme Inc.', 'modelName': 'Acme multisensor DHT11', 'type': 'TemperatureSensorDTH11'}, 'id': 'tdm/sensor_4', 'type': 'PointWeatherObserver'}, 'entity_category': 'Station', 'entity_type': 'PointWeatherObserver', 'external_id': 'tdm/sensor_4', 'stationary': True, 'tdmq_id': '8b53505d-79b8-548d-b160-777d116cb6b2'}\n",
      "********************\n",
      "{'default_footprint': '{\"type\":\"Point\",\"coordinates\":[9.11900000640193,29.0000000019969]}', 'description': {'category': 'Station', 'controlledProperties': ['humidity'], 'default_footprint': {'coordinates': [9.119, 29.0], 'type': 'Point'}, 'description': {'brandName': 'Acme', 'category': ['sensor'], 'function': ['sensing'], 'manufacturerName': 'Acme Inc.', 'modelName': 'Acme multisensor DHT11', 'type': 'HumiditySensorDHT11'}, 'id': 'tdm/sensor_5', 'stationary': False, 'type': 'PointWeatherObserver'}, 'entity_category': 'Station', 'entity_type': 'PointWeatherObserver', 'external_id': 'tdm/sensor_5', 'stationary': False, 'tdmq_id': '5df07546-b1d6-517f-8798-5abd79e7ebb1'}\n"
     ]
    }
   ],
   "source": [
    "for s in sources:\n",
    "    response = requests.get(f'{BASE_URL}/sources/{s[\"tdmq_id\"]}')\n",
    "    response.raise_for_status()\n",
    "    print('*'*20)\n",
    "    print(response.json())                       "
   ]
  },
  {
   "cell_type": "code",
   "execution_count": 11,
   "metadata": {},
   "outputs": [],
   "source": [
    "for s in sources:\n",
    "    response = requests.delete(f'{BASE_URL}/sources/{s[\"tdmq_id\"]}')\n",
    "    response.raise_for_status()"
   ]
  },
  {
   "cell_type": "code",
   "execution_count": 12,
   "metadata": {},
   "outputs": [
    {
     "data": {
      "text/plain": [
       "[]"
      ]
     },
     "execution_count": 12,
     "metadata": {},
     "output_type": "execute_result"
    }
   ],
   "source": [
    "response = requests.get(f'{BASE_URL}/sources')\n",
    "response.raise_for_status()\n",
    "response.json()"
   ]
  },
  {
   "cell_type": "code",
   "execution_count": null,
   "metadata": {},
   "outputs": [],
   "source": []
  }
 ],
 "metadata": {
  "kernelspec": {
   "display_name": "Python 3",
   "language": "python",
   "name": "python3"
  },
  "language_info": {
   "codemirror_mode": {
    "name": "ipython",
    "version": 3
   },
   "file_extension": ".py",
   "mimetype": "text/x-python",
   "name": "python",
   "nbconvert_exporter": "python",
   "pygments_lexer": "ipython3",
   "version": "3.6.8"
  }
 },
 "nbformat": 4,
 "nbformat_minor": 2
}
