{
 "cells": [
  {
   "cell_type": "markdown",
   "metadata": {},
   "source": [
    "# Load data via the API\n",
    "\n",
    "\n",
    "Before running this notebook, initialize the database:\n",
    "\n",
    "```\n",
    "docker-compose exec web flask db init\n",
    "```"
   ]
  },
  {
   "cell_type": "code",
   "execution_count": 4,
   "metadata": {},
   "outputs": [],
   "source": [
    "import requests\n",
    "import json\n",
    "import os"
   ]
  },
  {
   "cell_type": "code",
   "execution_count": 5,
   "metadata": {},
   "outputs": [],
   "source": [
    "BASE_URL = \"http://web:8000/api/v0.0\"\n",
    "data_dir = os.getenv(\"DATA_DIR\")"
   ]
  },
  {
   "cell_type": "markdown",
   "metadata": {},
   "source": [
    "## Query for constants"
   ]
  },
  {
   "cell_type": "code",
   "execution_count": 6,
   "metadata": {},
   "outputs": [
    {
     "data": {
      "text/plain": [
       "[['Radar', 'MeteoRadarMosaic', None],\n",
       " ['Station', 'PointWeatherObserver', None],\n",
       " ['Station', 'TemperatureMosaic', None],\n",
       " ['Station', 'EnergyConsumptionMonitor', None]]"
      ]
     },
     "execution_count": 6,
     "metadata": {},
     "output_type": "execute_result"
    }
   ],
   "source": [
    "response = requests.get(f'{BASE_URL}/entity_types')\n",
    "response.raise_for_status()\n",
    "response.json()"
   ]
  },
  {
   "cell_type": "markdown",
   "metadata": {},
   "source": [
    "## Load sources"
   ]
  },
  {
   "cell_type": "code",
   "execution_count": 7,
   "metadata": {},
   "outputs": [],
   "source": [
    "with open(os.path.join(data_dir, 'sources.json')) as f:\n",
    "    data = json.load(f)['sources']"
   ]
  },
  {
   "cell_type": "code",
   "execution_count": 11,
   "metadata": {},
   "outputs": [
    {
     "ename": "HTTPError",
     "evalue": "500 Server Error: INTERNAL SERVER ERROR for url: http://web:8000/api/v0.0/sources",
     "output_type": "error",
     "traceback": [
      "\u001b[0;31m---------------------------------------------------------------------------\u001b[0m",
      "\u001b[0;31mHTTPError\u001b[0m                                 Traceback (most recent call last)",
      "\u001b[0;32m<ipython-input-11-3bc584aac94f>\u001b[0m in \u001b[0;36m<module>\u001b[0;34m\u001b[0m\n\u001b[1;32m      1\u001b[0m \u001b[0mresponse\u001b[0m \u001b[0;34m=\u001b[0m \u001b[0mrequests\u001b[0m\u001b[0;34m.\u001b[0m\u001b[0mpost\u001b[0m\u001b[0;34m(\u001b[0m\u001b[0;34mf'{BASE_URL}/sources'\u001b[0m\u001b[0;34m,\u001b[0m \u001b[0mjson\u001b[0m\u001b[0;34m=\u001b[0m\u001b[0mdata\u001b[0m\u001b[0;34m)\u001b[0m\u001b[0;34m\u001b[0m\u001b[0;34m\u001b[0m\u001b[0m\n\u001b[0;32m----> 2\u001b[0;31m \u001b[0mresponse\u001b[0m\u001b[0;34m.\u001b[0m\u001b[0mraise_for_status\u001b[0m\u001b[0;34m(\u001b[0m\u001b[0;34m)\u001b[0m\u001b[0;34m\u001b[0m\u001b[0;34m\u001b[0m\u001b[0m\n\u001b[0m\u001b[1;32m      3\u001b[0m \u001b[0mtdmq_ids\u001b[0m \u001b[0;34m=\u001b[0m \u001b[0mresponse\u001b[0m\u001b[0;34m.\u001b[0m\u001b[0mjson\u001b[0m\u001b[0;34m(\u001b[0m\u001b[0;34m)\u001b[0m\u001b[0;34m\u001b[0m\u001b[0;34m\u001b[0m\u001b[0m\n",
      "\u001b[0;32m/usr/local/lib/python3.6/dist-packages/requests/models.py\u001b[0m in \u001b[0;36mraise_for_status\u001b[0;34m(self)\u001b[0m\n\u001b[1;32m    938\u001b[0m \u001b[0;34m\u001b[0m\u001b[0m\n\u001b[1;32m    939\u001b[0m         \u001b[0;32mif\u001b[0m \u001b[0mhttp_error_msg\u001b[0m\u001b[0;34m:\u001b[0m\u001b[0;34m\u001b[0m\u001b[0;34m\u001b[0m\u001b[0m\n\u001b[0;32m--> 940\u001b[0;31m             \u001b[0;32mraise\u001b[0m \u001b[0mHTTPError\u001b[0m\u001b[0;34m(\u001b[0m\u001b[0mhttp_error_msg\u001b[0m\u001b[0;34m,\u001b[0m \u001b[0mresponse\u001b[0m\u001b[0;34m=\u001b[0m\u001b[0mself\u001b[0m\u001b[0;34m)\u001b[0m\u001b[0;34m\u001b[0m\u001b[0;34m\u001b[0m\u001b[0m\n\u001b[0m\u001b[1;32m    941\u001b[0m \u001b[0;34m\u001b[0m\u001b[0m\n\u001b[1;32m    942\u001b[0m     \u001b[0;32mdef\u001b[0m \u001b[0mclose\u001b[0m\u001b[0;34m(\u001b[0m\u001b[0mself\u001b[0m\u001b[0;34m)\u001b[0m\u001b[0;34m:\u001b[0m\u001b[0;34m\u001b[0m\u001b[0;34m\u001b[0m\u001b[0m\n",
      "\u001b[0;31mHTTPError\u001b[0m: 500 Server Error: INTERNAL SERVER ERROR for url: http://web:8000/api/v0.0/sources"
     ]
    }
   ],
   "source": [
    "response = requests.post(f'{BASE_URL}/sources', json=data)\n",
    "response.raise_for_status()\n",
    "tdmq_ids = response.json()"
   ]
  },
  {
   "cell_type": "code",
   "execution_count": 12,
   "metadata": {},
   "outputs": [
    {
     "ename": "NameError",
     "evalue": "name 'tdmq_ids' is not defined",
     "output_type": "error",
     "traceback": [
      "\u001b[0;31m---------------------------------------------------------------------------\u001b[0m",
      "\u001b[0;31mNameError\u001b[0m                                 Traceback (most recent call last)",
      "\u001b[0;32m<ipython-input-12-316c8ebc1a9e>\u001b[0m in \u001b[0;36m<module>\u001b[0;34m\u001b[0m\n\u001b[0;32m----> 1\u001b[0;31m \u001b[0mtdmq_ids\u001b[0m\u001b[0;34m\u001b[0m\u001b[0;34m\u001b[0m\u001b[0m\n\u001b[0m",
      "\u001b[0;31mNameError\u001b[0m: name 'tdmq_ids' is not defined"
     ]
    }
   ],
   "source": [
    "tdmq_ids"
   ]
  },
  {
   "cell_type": "code",
   "execution_count": 31,
   "metadata": {},
   "outputs": [],
   "source": [
    "response = requests.get(f'{BASE_URL}/sources')\n",
    "response.raise_for_status()\n",
    "sources = response.json()"
   ]
  },
  {
   "cell_type": "code",
   "execution_count": 32,
   "metadata": {},
   "outputs": [
    {
     "data": {
      "text/plain": [
       "[{'default_footprint': '{\"type\":\"Point\",\"coordinates\":[9.22100000642642,30.0000000019687]}',\n",
       "  'entity_category': 'Station',\n",
       "  'entity_type': 'PointWeatherObserver',\n",
       "  'external_id': 'tdm/sensor_0',\n",
       "  'tdmq_id': 'e5a2f652-ea6f-5139-8bb3-b7a69f1b94c6'},\n",
       " {'default_footprint': '{\"type\":\"Point\",\"coordinates\":[9.22200000642623,30.0030000019686]}',\n",
       "  'entity_category': 'Station',\n",
       "  'entity_type': 'PointWeatherObserver',\n",
       "  'external_id': 'tdm/sensor_1',\n",
       "  'tdmq_id': '2bb83248-27f4-53c9-b149-ca74c8c283ee'},\n",
       " {'default_footprint': '{\"type\":\"Point\",\"coordinates\":[9.55100000643269,32.0000000018894]}',\n",
       "  'entity_category': 'Station',\n",
       "  'entity_type': 'EnergyConsumptionMonitor',\n",
       "  'external_id': 'tdm/sensor_3',\n",
       "  'tdmq_id': '42608b02-a82a-58ae-84fb-f358bf9b7494'},\n",
       " {'default_footprint': '{\"type\":\"Point\",\"coordinates\":[9.34300000645912,31.2000000019276]}',\n",
       "  'entity_category': 'Station',\n",
       "  'entity_type': 'PointWeatherObserver',\n",
       "  'external_id': 'tdm/sensor_4',\n",
       "  'tdmq_id': '8b53505d-79b8-548d-b160-777d116cb6b2'},\n",
       " {'default_footprint': '{\"type\":\"Point\",\"coordinates\":[9.11900000640193,29.0000000019969]}',\n",
       "  'entity_category': 'Station',\n",
       "  'entity_type': 'PointWeatherObserver',\n",
       "  'external_id': 'tdm/sensor_5',\n",
       "  'tdmq_id': '5df07546-b1d6-517f-8798-5abd79e7ebb1'}]"
      ]
     },
     "execution_count": 32,
     "metadata": {},
     "output_type": "execute_result"
    }
   ],
   "source": [
    "sources"
   ]
  },
  {
   "cell_type": "code",
   "execution_count": 33,
   "metadata": {},
   "outputs": [
    {
     "name": "stdout",
     "output_type": "stream",
     "text": [
      "********************\n",
      "{'default_footprint': '{\"type\":\"Point\",\"coordinates\":[9.22100000642642,30.0000000019687]}', 'description': {'alias': 'my desk', 'category': 'Station', 'controlledProperties': ['temperature', 'humidity'], 'default_footprint': {'coordinates': [9.221, 30.0], 'type': 'Point'}, 'description': {'brandName': 'ProSensor', 'manufacturerName': 'CRS4', 'modelName': 'R2D2', 'type': 'multisensor'}, 'id': 'tdm/sensor_0', 'stationary': True, 'type': 'PointWeatherObserver'}, 'entity_category': 'Station', 'entity_type': 'PointWeatherObserver', 'external_id': 'tdm/sensor_0', 'stationary': True, 'tdmq_id': 'e5a2f652-ea6f-5139-8bb3-b7a69f1b94c6'}\n",
      "********************\n",
      "{'default_footprint': '{\"type\":\"Point\",\"coordinates\":[9.22200000642623,30.0030000019686]}', 'description': {'alias': 'B221', 'category': 'Station', 'controlledProperties': ['humidity', 'temperature'], 'default_footprint': {'coordinates': [9.222, 30.003], 'type': 'Point'}, 'description': {'brandName': 'ProSensor', 'manufacturerName': 'CRS4', 'modelName': 'R2D2', 'type': 'multisensor'}, 'id': 'tdm/sensor_1', 'type': 'PointWeatherObserver'}, 'entity_category': 'Station', 'entity_type': 'PointWeatherObserver', 'external_id': 'tdm/sensor_1', 'stationary': True, 'tdmq_id': '2bb83248-27f4-53c9-b149-ca74c8c283ee'}\n",
      "********************\n",
      "{'default_footprint': '{\"type\":\"Point\",\"coordinates\":[9.55100000643269,32.0000000018894]}', 'description': {'category': 'Station', 'controlledProperties': ['power'], 'default_footprint': {'coordinates': [9.551, 32.0], 'type': 'Point'}, 'description': {'brandName': 'ProSensor', 'manufacturerName': 'CRS4', 'modelName': 'C3PO', 'type': 'power sensor'}, 'id': 'tdm/sensor_3', 'type': 'EnergyConsumptionMonitor'}, 'entity_category': 'Station', 'entity_type': 'EnergyConsumptionMonitor', 'external_id': 'tdm/sensor_3', 'stationary': True, 'tdmq_id': '42608b02-a82a-58ae-84fb-f358bf9b7494'}\n",
      "********************\n",
      "{'default_footprint': '{\"type\":\"Point\",\"coordinates\":[9.34300000645912,31.2000000019276]}', 'description': {'category': 'Station', 'controlledProperties': ['temperature'], 'default_footprint': {'coordinates': [9.343, 31.2], 'type': 'Point'}, 'description': {'brandName': 'Acme', 'manufacturerName': 'Acme Inc.', 'modelName': 'Acme multisensor DHT11', 'type': 'TemperatureSensorDTH11'}, 'id': 'tdm/sensor_4', 'type': 'PointWeatherObserver'}, 'entity_category': 'Station', 'entity_type': 'PointWeatherObserver', 'external_id': 'tdm/sensor_4', 'stationary': True, 'tdmq_id': '8b53505d-79b8-548d-b160-777d116cb6b2'}\n",
      "********************\n",
      "{'default_footprint': '{\"type\":\"Point\",\"coordinates\":[9.11900000640193,29.0000000019969]}', 'description': {'alias': 'Mobile sensor', 'category': 'Station', 'controlledProperties': ['humidity'], 'default_footprint': {'coordinates': [9.119, 29.0], 'type': 'Point'}, 'description': {'brandName': 'Acme', 'manufacturerName': 'Acme Inc.', 'modelName': 'Acme multisensor DHT11', 'type': 'HumiditySensorDHT11'}, 'id': 'tdm/sensor_5', 'stationary': False, 'type': 'PointWeatherObserver'}, 'entity_category': 'Station', 'entity_type': 'PointWeatherObserver', 'external_id': 'tdm/sensor_5', 'stationary': False, 'tdmq_id': '5df07546-b1d6-517f-8798-5abd79e7ebb1'}\n"
     ]
    }
   ],
   "source": [
    "for s in sources:\n",
    "    response = requests.get(f'{BASE_URL}/sources/{s[\"tdmq_id\"]}')\n",
    "    response.raise_for_status()\n",
    "    print('*'*20)\n",
    "    print(response.json())                       "
   ]
  },
  {
   "cell_type": "markdown",
   "metadata": {},
   "source": [
    "## Load records"
   ]
  },
  {
   "cell_type": "code",
   "execution_count": 16,
   "metadata": {},
   "outputs": [],
   "source": [
    "with open(os.path.join(data_dir, 'records.json')) as f:\n",
    "    data = json.load(f)['records']"
   ]
  },
  {
   "cell_type": "code",
   "execution_count": 17,
   "metadata": {},
   "outputs": [],
   "source": [
    "response = requests.post(f'{BASE_URL}/records', json=data)\n",
    "response.raise_for_status()\n",
    "tdmq_ids = response.json()"
   ]
  },
  {
   "cell_type": "markdown",
   "metadata": {},
   "source": [
    "## Run some queries"
   ]
  },
  {
   "cell_type": "code",
   "execution_count": 18,
   "metadata": {},
   "outputs": [],
   "source": [
    "def query(url):\n",
    "    response = requests.get(f'{BASE_URL}{url}')\n",
    "    response.raise_for_status()\n",
    "    print(json.dumps(response.json(), indent=4))"
   ]
  },
  {
   "cell_type": "code",
   "execution_count": 19,
   "metadata": {},
   "outputs": [
    {
     "name": "stdout",
     "output_type": "stream",
     "text": [
      "[\n",
      "    {\n",
      "        \"default_footprint\": \"{\\\"type\\\":\\\"Point\\\",\\\"coordinates\\\":[9.55100000643269,32.0000000018894]}\",\n",
      "        \"entity_category\": \"Station\",\n",
      "        \"entity_type\": \"EnergyConsumptionMonitor\",\n",
      "        \"external_id\": \"tdm/sensor_3\",\n",
      "        \"tdmq_id\": \"42608b02-a82a-58ae-84fb-f358bf9b7494\"\n",
      "    }\n",
      "]\n"
     ]
    }
   ],
   "source": [
    "query('/sources?id=tdm/sensor_3')"
   ]
  },
  {
   "cell_type": "code",
   "execution_count": 20,
   "metadata": {},
   "outputs": [
    {
     "name": "stdout",
     "output_type": "stream",
     "text": [
      "[\n",
      "    {\n",
      "        \"default_footprint\": \"{\\\"type\\\":\\\"Point\\\",\\\"coordinates\\\":[9.22100000642642,30.0000000019687]}\",\n",
      "        \"entity_category\": \"Station\",\n",
      "        \"entity_type\": \"PointWeatherObserver\",\n",
      "        \"external_id\": \"tdm/sensor_0\",\n",
      "        \"tdmq_id\": \"e5a2f652-ea6f-5139-8bb3-b7a69f1b94c6\"\n",
      "    },\n",
      "    {\n",
      "        \"default_footprint\": \"{\\\"type\\\":\\\"Point\\\",\\\"coordinates\\\":[9.22200000642623,30.0030000019686]}\",\n",
      "        \"entity_category\": \"Station\",\n",
      "        \"entity_type\": \"PointWeatherObserver\",\n",
      "        \"external_id\": \"tdm/sensor_1\",\n",
      "        \"tdmq_id\": \"2bb83248-27f4-53c9-b149-ca74c8c283ee\"\n",
      "    },\n",
      "    {\n",
      "        \"default_footprint\": \"{\\\"type\\\":\\\"Point\\\",\\\"coordinates\\\":[9.55100000643269,32.0000000018894]}\",\n",
      "        \"entity_category\": \"Station\",\n",
      "        \"entity_type\": \"EnergyConsumptionMonitor\",\n",
      "        \"external_id\": \"tdm/sensor_3\",\n",
      "        \"tdmq_id\": \"42608b02-a82a-58ae-84fb-f358bf9b7494\"\n",
      "    },\n",
      "    {\n",
      "        \"default_footprint\": \"{\\\"type\\\":\\\"Point\\\",\\\"coordinates\\\":[9.34300000645912,31.2000000019276]}\",\n",
      "        \"entity_category\": \"Station\",\n",
      "        \"entity_type\": \"PointWeatherObserver\",\n",
      "        \"external_id\": \"tdm/sensor_4\",\n",
      "        \"tdmq_id\": \"8b53505d-79b8-548d-b160-777d116cb6b2\"\n",
      "    },\n",
      "    {\n",
      "        \"default_footprint\": \"{\\\"type\\\":\\\"Point\\\",\\\"coordinates\\\":[9.11900000640193,29.0000000019969]}\",\n",
      "        \"entity_category\": \"Station\",\n",
      "        \"entity_type\": \"PointWeatherObserver\",\n",
      "        \"external_id\": \"tdm/sensor_5\",\n",
      "        \"tdmq_id\": \"5df07546-b1d6-517f-8798-5abd79e7ebb1\"\n",
      "    }\n",
      "]\n"
     ]
    }
   ],
   "source": [
    "query('/sources?category=Station')"
   ]
  },
  {
   "cell_type": "code",
   "execution_count": 21,
   "metadata": {},
   "outputs": [
    {
     "name": "stdout",
     "output_type": "stream",
     "text": [
      "[\n",
      "    {\n",
      "        \"default_footprint\": \"{\\\"type\\\":\\\"Point\\\",\\\"coordinates\\\":[9.55100000643269,32.0000000018894]}\",\n",
      "        \"entity_category\": \"Station\",\n",
      "        \"entity_type\": \"EnergyConsumptionMonitor\",\n",
      "        \"external_id\": \"tdm/sensor_3\",\n",
      "        \"tdmq_id\": \"42608b02-a82a-58ae-84fb-f358bf9b7494\"\n",
      "    }\n",
      "]\n"
     ]
    }
   ],
   "source": [
    "query('/sources?type=EnergyConsumptionMonitor')"
   ]
  },
  {
   "cell_type": "code",
   "execution_count": 22,
   "metadata": {},
   "outputs": [
    {
     "name": "stdout",
     "output_type": "stream",
     "text": [
      "[\n",
      "    {\n",
      "        \"default_footprint\": \"{\\\"type\\\":\\\"Point\\\",\\\"coordinates\\\":[9.22100000642642,30.0000000019687]}\",\n",
      "        \"entity_category\": \"Station\",\n",
      "        \"entity_type\": \"PointWeatherObserver\",\n",
      "        \"external_id\": \"tdm/sensor_0\",\n",
      "        \"tdmq_id\": \"e5a2f652-ea6f-5139-8bb3-b7a69f1b94c6\"\n",
      "    },\n",
      "    {\n",
      "        \"default_footprint\": \"{\\\"type\\\":\\\"Point\\\",\\\"coordinates\\\":[9.22200000642623,30.0030000019686]}\",\n",
      "        \"entity_category\": \"Station\",\n",
      "        \"entity_type\": \"PointWeatherObserver\",\n",
      "        \"external_id\": \"tdm/sensor_1\",\n",
      "        \"tdmq_id\": \"2bb83248-27f4-53c9-b149-ca74c8c283ee\"\n",
      "    },\n",
      "    {\n",
      "        \"default_footprint\": \"{\\\"type\\\":\\\"Point\\\",\\\"coordinates\\\":[9.34300000645912,31.2000000019276]}\",\n",
      "        \"entity_category\": \"Station\",\n",
      "        \"entity_type\": \"PointWeatherObserver\",\n",
      "        \"external_id\": \"tdm/sensor_4\",\n",
      "        \"tdmq_id\": \"8b53505d-79b8-548d-b160-777d116cb6b2\"\n",
      "    }\n",
      "]\n"
     ]
    }
   ],
   "source": [
    "query('/sources?controlledProperties=temperature')"
   ]
  },
  {
   "cell_type": "code",
   "execution_count": 23,
   "metadata": {},
   "outputs": [
    {
     "name": "stdout",
     "output_type": "stream",
     "text": [
      "[\n",
      "    {\n",
      "        \"default_footprint\": \"{\\\"type\\\":\\\"Point\\\",\\\"coordinates\\\":[9.22100000642642,30.0000000019687]}\",\n",
      "        \"entity_category\": \"Station\",\n",
      "        \"entity_type\": \"PointWeatherObserver\",\n",
      "        \"external_id\": \"tdm/sensor_0\",\n",
      "        \"tdmq_id\": \"e5a2f652-ea6f-5139-8bb3-b7a69f1b94c6\"\n",
      "    },\n",
      "    {\n",
      "        \"default_footprint\": \"{\\\"type\\\":\\\"Point\\\",\\\"coordinates\\\":[9.22200000642623,30.0030000019686]}\",\n",
      "        \"entity_category\": \"Station\",\n",
      "        \"entity_type\": \"PointWeatherObserver\",\n",
      "        \"external_id\": \"tdm/sensor_1\",\n",
      "        \"tdmq_id\": \"2bb83248-27f4-53c9-b149-ca74c8c283ee\"\n",
      "    }\n",
      "]\n"
     ]
    }
   ],
   "source": [
    "query('/sources?controlledProperties=temperature,humidity')"
   ]
  },
  {
   "cell_type": "code",
   "execution_count": 24,
   "metadata": {},
   "outputs": [
    {
     "name": "stdout",
     "output_type": "stream",
     "text": [
      "[\n",
      "    {\n",
      "        \"default_footprint\": \"{\\\"type\\\":\\\"Point\\\",\\\"coordinates\\\":[9.22100000642642,30.0000000019687]}\",\n",
      "        \"entity_category\": \"Station\",\n",
      "        \"entity_type\": \"PointWeatherObserver\",\n",
      "        \"external_id\": \"tdm/sensor_0\",\n",
      "        \"tdmq_id\": \"e5a2f652-ea6f-5139-8bb3-b7a69f1b94c6\"\n",
      "    }\n",
      "]\n"
     ]
    }
   ],
   "source": [
    "query('/sources?after=2019-05-02T11:00:20Z')"
   ]
  },
  {
   "cell_type": "code",
   "execution_count": 25,
   "metadata": {},
   "outputs": [
    {
     "name": "stdout",
     "output_type": "stream",
     "text": [
      "[\n",
      "    {\n",
      "        \"default_footprint\": \"{\\\"type\\\":\\\"Point\\\",\\\"coordinates\\\":[9.11900000640193,29.0000000019969]}\",\n",
      "        \"entity_category\": \"Station\",\n",
      "        \"entity_type\": \"PointWeatherObserver\",\n",
      "        \"external_id\": \"tdm/sensor_5\",\n",
      "        \"tdmq_id\": \"5df07546-b1d6-517f-8798-5abd79e7ebb1\"\n",
      "    }\n",
      "]\n"
     ]
    }
   ],
   "source": [
    "query('/sources?stationary=false')"
   ]
  },
  {
   "cell_type": "code",
   "execution_count": 26,
   "metadata": {},
   "outputs": [
    {
     "name": "stdout",
     "output_type": "stream",
     "text": [
      "[\n",
      "    {\n",
      "        \"default_footprint\": \"{\\\"type\\\":\\\"Point\\\",\\\"coordinates\\\":[9.22100000642642,30.0000000019687]}\",\n",
      "        \"entity_category\": \"Station\",\n",
      "        \"entity_type\": \"PointWeatherObserver\",\n",
      "        \"external_id\": \"tdm/sensor_0\",\n",
      "        \"tdmq_id\": \"e5a2f652-ea6f-5139-8bb3-b7a69f1b94c6\"\n",
      "    },\n",
      "    {\n",
      "        \"default_footprint\": \"{\\\"type\\\":\\\"Point\\\",\\\"coordinates\\\":[9.22200000642623,30.0030000019686]}\",\n",
      "        \"entity_category\": \"Station\",\n",
      "        \"entity_type\": \"PointWeatherObserver\",\n",
      "        \"external_id\": \"tdm/sensor_1\",\n",
      "        \"tdmq_id\": \"2bb83248-27f4-53c9-b149-ca74c8c283ee\"\n",
      "    },\n",
      "    {\n",
      "        \"default_footprint\": \"{\\\"type\\\":\\\"Point\\\",\\\"coordinates\\\":[9.55100000643269,32.0000000018894]}\",\n",
      "        \"entity_category\": \"Station\",\n",
      "        \"entity_type\": \"EnergyConsumptionMonitor\",\n",
      "        \"external_id\": \"tdm/sensor_3\",\n",
      "        \"tdmq_id\": \"42608b02-a82a-58ae-84fb-f358bf9b7494\"\n",
      "    },\n",
      "    {\n",
      "        \"default_footprint\": \"{\\\"type\\\":\\\"Point\\\",\\\"coordinates\\\":[9.34300000645912,31.2000000019276]}\",\n",
      "        \"entity_category\": \"Station\",\n",
      "        \"entity_type\": \"PointWeatherObserver\",\n",
      "        \"external_id\": \"tdm/sensor_4\",\n",
      "        \"tdmq_id\": \"8b53505d-79b8-548d-b160-777d116cb6b2\"\n",
      "    }\n",
      "]\n"
     ]
    }
   ],
   "source": [
    "query('/sources?stationary=true')"
   ]
  },
  {
   "cell_type": "code",
   "execution_count": 27,
   "metadata": {},
   "outputs": [
    {
     "name": "stdout",
     "output_type": "stream",
     "text": [
      "[\n",
      "    {\n",
      "        \"default_footprint\": \"{\\\"type\\\":\\\"Point\\\",\\\"coordinates\\\":[9.34300000645912,31.2000000019276]}\",\n",
      "        \"entity_category\": \"Station\",\n",
      "        \"entity_type\": \"PointWeatherObserver\",\n",
      "        \"external_id\": \"tdm/sensor_4\",\n",
      "        \"tdmq_id\": \"8b53505d-79b8-548d-b160-777d116cb6b2\"\n",
      "    },\n",
      "    {\n",
      "        \"default_footprint\": \"{\\\"type\\\":\\\"Point\\\",\\\"coordinates\\\":[9.11900000640193,29.0000000019969]}\",\n",
      "        \"entity_category\": \"Station\",\n",
      "        \"entity_type\": \"PointWeatherObserver\",\n",
      "        \"external_id\": \"tdm/sensor_5\",\n",
      "        \"tdmq_id\": \"5df07546-b1d6-517f-8798-5abd79e7ebb1\"\n",
      "    }\n",
      "]\n"
     ]
    }
   ],
   "source": [
    "query('/sources?brandName=Acme')"
   ]
  },
  {
   "cell_type": "code",
   "execution_count": 35,
   "metadata": {},
   "outputs": [],
   "source": [
    "for s in sources:\n",
    "    response = requests.delete(f'{BASE_URL}/sources/{s[\"tdmq_id\"]}')\n",
    "    response.raise_for_status()"
   ]
  },
  {
   "cell_type": "code",
   "execution_count": 36,
   "metadata": {},
   "outputs": [
    {
     "data": {
      "text/plain": [
       "[]"
      ]
     },
     "execution_count": 36,
     "metadata": {},
     "output_type": "execute_result"
    }
   ],
   "source": [
    "response = requests.get(f'{BASE_URL}/sources')\n",
    "response.raise_for_status()\n",
    "response.json()"
   ]
  },
  {
   "cell_type": "code",
   "execution_count": null,
   "metadata": {},
   "outputs": [],
   "source": []
  },
  {
   "cell_type": "code",
   "execution_count": null,
   "metadata": {},
   "outputs": [],
   "source": []
  }
 ],
 "metadata": {
  "kernelspec": {
   "display_name": "Python 3",
   "language": "python",
   "name": "python3"
  },
  "language_info": {
   "codemirror_mode": {
    "name": "ipython",
    "version": 3
   },
   "file_extension": ".py",
   "mimetype": "text/x-python",
   "name": "python",
   "nbconvert_exporter": "python",
   "pygments_lexer": "ipython3",
   "version": "3.6.8"
  }
 },
 "nbformat": 4,
 "nbformat_minor": 2
}
