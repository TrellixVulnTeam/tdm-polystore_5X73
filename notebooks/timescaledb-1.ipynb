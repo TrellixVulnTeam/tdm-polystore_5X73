{
 "cells": [
  {
   "cell_type": "markdown",
   "metadata": {},
   "source": [
    "# Timescaledb example"
   ]
  },
  {
   "cell_type": "code",
   "execution_count": 1,
   "metadata": {},
   "outputs": [],
   "source": [
    "import psycopg2 as psy\n",
    "from datetime import datetime, timedelta"
   ]
  },
  {
   "cell_type": "code",
   "execution_count": 2,
   "metadata": {},
   "outputs": [],
   "source": [
    "# create testdb\n",
    "from psycopg2.extensions import ISOLATION_LEVEL_AUTOCOMMIT\n",
    "\n",
    "con = psy.connect(\"dbname=postgres host=localhost user=postgres password=foobar\")\n",
    "\n",
    "with con:\n",
    "    con.set_isolation_level(ISOLATION_LEVEL_AUTOCOMMIT)\n",
    "    with con.cursor() as cur:\n",
    "        cur.execute(\"DROP DATABASE IF EXISTS testdb;\")\n",
    "        cur.execute('CREATE DATABASE testdb')\n",
    "\n",
    "# not sure if the AUTOCOMMIT is needed\n",
    "with con:\n",
    "    con.set_isolation_level(ISOLATION_LEVEL_AUTOCOMMIT)\n",
    "    with con.cursor() as cur:   \n",
    "        cur.execute(\"CREATE EXTENSION IF NOT EXISTS timescaledb CASCADE;\")\n",
    "con.close()"
   ]
  },
  {
   "cell_type": "code",
   "execution_count": 3,
   "metadata": {},
   "outputs": [],
   "source": [
    "con = psy.connect(\"dbname=testdb host=localhost user=postgres password=foobar\")\n",
    "\n",
    "with con:\n",
    "    with con.cursor() as cur:\n",
    "        cur.execute(\"\"\"\n",
    "        CREATE TABLE conditions (\n",
    "          time        TIMESTAMPTZ       NOT NULL,\n",
    "          location    TEXT              NOT NULL,\n",
    "          temperature DOUBLE PRECISION  NULL,\n",
    "          humidity    DOUBLE PRECISION  NULL\n",
    "        );\"\"\")\n"
   ]
  },
  {
   "cell_type": "code",
   "execution_count": 4,
   "metadata": {},
   "outputs": [],
   "source": [
    "with con:\n",
    "    with con.cursor() as cur:\n",
    "        cur.execute(\"SELECT create_hypertable('conditions', 'time');\")"
   ]
  },
  {
   "cell_type": "code",
   "execution_count": 5,
   "metadata": {},
   "outputs": [],
   "source": [
    "SQL = \"INSERT INTO conditions(time, location, temperature, humidity) VALUES (%s, %s, %s, %s)\"\n",
    "tstart = datetime.now()\n",
    "tnow = tstart\n",
    "delta = timedelta(seconds=60)\n",
    "with con:\n",
    "    for i in range(1000):\n",
    "        with con.cursor() as cur:\n",
    "            cur.execute(SQL, (tnow, \"here\", i%20, i%35))\n",
    "        tnow = tnow + delta"
   ]
  },
  {
   "cell_type": "code",
   "execution_count": 6,
   "metadata": {},
   "outputs": [
    {
     "name": "stdout",
     "output_type": "stream",
     "text": [
      "(datetime.datetime(2019, 1, 23, 16, 10, 52, 828023, tzinfo=psycopg2.tz.FixedOffsetTimezone(offset=0, name=None)), 'here', 19.0, 19.0)\n",
      "(datetime.datetime(2019, 1, 23, 16, 9, 52, 828023, tzinfo=psycopg2.tz.FixedOffsetTimezone(offset=0, name=None)), 'here', 18.0, 18.0)\n",
      "(datetime.datetime(2019, 1, 23, 16, 8, 52, 828023, tzinfo=psycopg2.tz.FixedOffsetTimezone(offset=0, name=None)), 'here', 17.0, 17.0)\n",
      "(datetime.datetime(2019, 1, 23, 16, 7, 52, 828023, tzinfo=psycopg2.tz.FixedOffsetTimezone(offset=0, name=None)), 'here', 16.0, 16.0)\n",
      "(datetime.datetime(2019, 1, 23, 16, 6, 52, 828023, tzinfo=psycopg2.tz.FixedOffsetTimezone(offset=0, name=None)), 'here', 15.0, 15.0)\n",
      "(datetime.datetime(2019, 1, 23, 16, 5, 52, 828023, tzinfo=psycopg2.tz.FixedOffsetTimezone(offset=0, name=None)), 'here', 14.0, 14.0)\n",
      "(datetime.datetime(2019, 1, 23, 16, 4, 52, 828023, tzinfo=psycopg2.tz.FixedOffsetTimezone(offset=0, name=None)), 'here', 13.0, 13.0)\n",
      "(datetime.datetime(2019, 1, 23, 16, 3, 52, 828023, tzinfo=psycopg2.tz.FixedOffsetTimezone(offset=0, name=None)), 'here', 12.0, 12.0)\n",
      "(datetime.datetime(2019, 1, 23, 16, 2, 52, 828023, tzinfo=psycopg2.tz.FixedOffsetTimezone(offset=0, name=None)), 'here', 11.0, 11.0)\n",
      "(datetime.datetime(2019, 1, 23, 16, 1, 52, 828023, tzinfo=psycopg2.tz.FixedOffsetTimezone(offset=0, name=None)), 'here', 10.0, 10.0)\n"
     ]
    }
   ],
   "source": [
    "with con:\n",
    "    with con.cursor() as cur:\n",
    "        cur.execute(\"SELECT * FROM conditions ORDER BY time DESC LIMIT 10;\")\n",
    "        for x in cur.fetchall():\n",
    "            print(x)"
   ]
  },
  {
   "cell_type": "code",
   "execution_count": 24,
   "metadata": {},
   "outputs": [
    {
     "name": "stdout",
     "output_type": "stream",
     "text": [
      "(datetime.datetime(2019, 1, 22, 23, 30, tzinfo=psycopg2.tz.FixedOffsetTimezone(offset=0, name=None)), 3)\n",
      "(datetime.datetime(2019, 1, 22, 23, 35, tzinfo=psycopg2.tz.FixedOffsetTimezone(offset=0, name=None)), 5)\n",
      "(datetime.datetime(2019, 1, 22, 23, 40, tzinfo=psycopg2.tz.FixedOffsetTimezone(offset=0, name=None)), 5)\n",
      "(datetime.datetime(2019, 1, 22, 23, 45, tzinfo=psycopg2.tz.FixedOffsetTimezone(offset=0, name=None)), 5)\n",
      "(datetime.datetime(2019, 1, 22, 23, 50, tzinfo=psycopg2.tz.FixedOffsetTimezone(offset=0, name=None)), 5)\n"
     ]
    }
   ],
   "source": [
    "SQL= \"\"\"SELECT time_bucket('5 minute', time) AS five_min, count(*)\n",
    "         FROM conditions WHERE time > '%s' GROUP BY five_min ORDER BY five_min LIMIT 5;\"\"\"\n",
    "\n",
    "with con:\n",
    "    with con.cursor() as cur:\n",
    "        # cur.execute(SQL, (tstart))\n",
    "        cur.execute(SQL % tstart)\n",
    "        for x in cur.fetchall():\n",
    "            print(x)"
   ]
  },
  {
   "cell_type": "code",
   "execution_count": null,
   "metadata": {},
   "outputs": [],
   "source": []
  }
 ],
 "metadata": {
  "kernelspec": {
   "display_name": "Python 3",
   "language": "python",
   "name": "python3"
  },
  "language_info": {
   "codemirror_mode": {
    "name": "ipython",
    "version": 3
   },
   "file_extension": ".py",
   "mimetype": "text/x-python",
   "name": "python",
   "nbconvert_exporter": "python",
   "pygments_lexer": "ipython3",
   "version": "3.7.2"
  }
 },
 "nbformat": 4,
 "nbformat_minor": 2
}
