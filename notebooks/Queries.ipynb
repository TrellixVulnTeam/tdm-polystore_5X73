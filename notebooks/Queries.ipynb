{
 "cells": [
  {
   "cell_type": "code",
   "execution_count": 14,
   "metadata": {},
   "outputs": [],
   "source": [
    "import psycopg2 as psy\n",
    "from datetime import datetime, timedelta"
   ]
  },
  {
   "cell_type": "code",
   "execution_count": 4,
   "metadata": {},
   "outputs": [],
   "source": [
    "import itertools as it\n",
    "import psycopg2.sql as sql\n",
    "from osgeo import ogr\n",
    "from osgeo import osr\n",
    "import json\n",
    "\n",
    "source = osr.SpatialReference()\n",
    "source.ImportFromEPSG(4326)\n",
    "\n",
    "target = osr.SpatialReference()\n",
    "target.ImportFromEPSG(3003)\n",
    "\n",
    "transform = osr.CoordinateTransformation(source, target)\n",
    "\n",
    "def map_to_monte_mario(wkt):\n",
    "    geom = ogr.CreateGeometryFromWkt(wkt)\n",
    "    geom.Transform(transform)\n",
    "    return geom.ExportToWkt()"
   ]
  },
  {
   "cell_type": "code",
   "execution_count": 2,
   "metadata": {},
   "outputs": [],
   "source": [
    "con = psy.connect(\"dbname=testdb host=timescaledb user=postgres password=foobar\")"
   ]
  },
  {
   "cell_type": "code",
   "execution_count": null,
   "metadata": {},
   "outputs": [],
   "source": [
    "SQL = \"\"\"\n",
    "SELECT id, stype, ST_AsText(ST_Transform(geom,4326)) AS loc, description from sensors\n",
    "WHERE ST_DWithin(geom, ST_GeomFromText(%s, 3003), %s) LIMIT 10;\n",
    "\"\"\"\n",
    "\n",
    "with con:\n",
    "    with con.cursor() as cur:\n",
    "        cur.execute(SQL, (map_to_monte_mario('POINT(9.121661 39.223841)'), 10000))\n",
    "        for r in cur.fetchall():\n",
    "            print(r)"
   ]
  },
  {
   "cell_type": "code",
   "execution_count": 9,
   "metadata": {},
   "outputs": [
    {
     "name": "stdout",
     "output_type": "stream",
     "text": [
      "('cbca3889-2731-4d2c-b3e9-4b6f1c233bfe', {'key': 'value0'})\n",
      "('ad31e8de-b5de-4b82-b62b-5ef89a346e55', {'key': 'value1'})\n",
      "('d00ffa19-fe36-4e8a-949f-5b58b2fae3db', {'key': 'value2'})\n",
      "('9f92f84d-e4bf-4865-a932-601494245380', {'key': 'value3'})\n",
      "('1f5505d9-0bb9-45d3-ad72-5dec7d936aaa', {'key': 'value4'})\n",
      "('ad414722-4ac5-4585-97c2-df92da9a104a', {'key': 'value5'})\n",
      "('dcf8bc53-4087-4c56-8426-8792c35aa446', {'key': 'value6'})\n",
      "('1e4f8925-1fa8-4c2a-8d46-b1a4a75dee14', {'key': 'value7'})\n",
      "('8f3bc219-3604-4d30-bf50-642ded6638e6', {'key': 'value8'})\n",
      "('dbdeb9e9-e32b-4a79-aa4b-d1fada473dec', {'key': 'value9'})\n",
      "('f4f6f641-a45c-4db8-a0fe-5a0591812daf', {'key': 'value10'})\n",
      "('7d2dd228-f2ff-4135-8ecb-6667e28263fb', {'key': 'value11'})\n",
      "('b8db25e8-2ded-4531-97e6-14cead1fcc0b', {'key': 'value12'})\n",
      "('d11157df-342f-4e8b-a58e-d1dcad7737b4', {'key': 'value13'})\n",
      "('ae466b0f-cc12-4b02-a9ad-9e03caceb6f8', {'key': 'value14'})\n",
      "('362a10d3-0cbd-4a71-b729-54485409907f', {'key': 'value15'})\n",
      "('1b7c6a24-a7c8-47c5-b3a3-df70c07b0497', {'key': 'value16'})\n",
      "('4052fd2f-e036-4344-86f5-a9f46565a1b3', {'key': 'value17'})\n",
      "('7719a858-85c6-4fc7-937b-a32a76e55770', {'key': 'value18'})\n",
      "('a9822781-a13a-4bd0-8faa-37845107e41b', {'key': 'value19'})\n",
      "('d17691db-cc82-4a54-9e52-f59747f38b73', {'key': 'value20'})\n",
      "('59aae29b-0d95-4734-83ee-015ed7fa9fc4', {'key': 'value21'})\n",
      "('52303af9-273a-4ba8-90c1-d0d0e80aedbb', {'key': 'value22'})\n",
      "('d91c4618-b610-4f68-94cf-cf4660adf5a1', {'key': 'value23'})\n",
      "('cd021bdf-f414-4bb7-84a9-0f1d33c49467', {'key': 'value24'})\n",
      "('8a913445-3d0f-40b7-8fab-b9a22675a543', {'key': 'value25'})\n",
      "('f2ef7577-33dd-47f7-86aa-ce83b0eb52d1', {'key': 'value26'})\n",
      "('96a55924-2463-4afd-8875-9276995c0c0b', {'key': 'value27'})\n",
      "('7c165694-5050-4b44-962c-02b559a6efe5', {'key': 'value28'})\n",
      "('ddf6d90f-e575-45b1-bb3f-d36f8b57fb2e', {'key': 'value29'})\n",
      "('4eac8ee2-88cc-4966-803c-7fd3cf306ea9', {'key': 'value30'})\n",
      "('98e7b00e-c3cb-46cb-bc63-7388720a1328', {'key': 'value31'})\n",
      "('b701de3b-108c-4bd7-9af7-e85a9a2fc92a', {'key': 'value32'})\n",
      "('f686217d-811c-49ba-87a0-a1859be581b0', {'key': 'value33'})\n",
      "('6dd928b2-608b-44ef-8260-da5830567785', {'key': 'value34'})\n",
      "('c82b768c-71ab-455c-afb3-cce95d01d2f8', {'key': 'value35'})\n",
      "('ec03bb06-4472-42f5-8a14-8cb1b9e71cfe', {'key': 'value36'})\n",
      "('d23c01ea-84f1-476d-b31c-1d71bb7f78ee', {'key': 'value37'})\n",
      "('d71436b9-b842-4f92-a90e-e66daed34c04', {'key': 'value38'})\n",
      "('b5581687-2523-4dd4-adc7-6abf3eb7310e', {'key': 'value39'})\n",
      "('b9c972b6-9960-4c7a-9808-be15631a6948', {'key': 'value40'})\n",
      "('f30b4f84-e418-4899-9085-f8a76ae7b4c4', {'key': 'value41'})\n",
      "('4a5d48dc-a13e-4f2d-b0c1-6a89fc195738', {'key': 'value42'})\n",
      "('92d45bce-76ad-4080-b843-b219d3fca4bc', {'key': 'value43'})\n",
      "('1d6c80ee-dd30-4784-9281-e50d264c8f31', {'key': 'value44'})\n",
      "('b9d09e83-5a7c-47b8-94b6-9495582d1de5', {'key': 'value45'})\n",
      "('3314ae3f-524d-4af1-85e5-54f4a5d10526', {'key': 'value46'})\n",
      "('3e4a48a6-4dd7-4832-b0cb-56014db36ef2', {'key': 'value47'})\n",
      "('d45d8757-7d55-469b-b77d-77b38f79f8ba', {'key': 'value48'})\n",
      "('50f3eef2-cac5-4a73-86ce-a585d8aeeba5', {'key': 'value49'})\n",
      "('d0b82c89-3438-468a-b261-93cab8480de1', {'key': 'value50'})\n",
      "('fa793cab-4a53-4e41-ab4c-691087f56a3c', {'key': 'value51'})\n",
      "('7aa0b62a-3f07-4542-8b3f-2c16ccb4efc9', {'key': 'value52'})\n",
      "('cf5a3674-06c9-40c4-b60f-055f4025a785', {'key': 'value53'})\n",
      "('74353cfa-8312-40e8-9313-1eec246d5446', {'key': 'value54'})\n",
      "('6689c148-199a-4bca-9718-e51fb67cca6e', {'key': 'value55'})\n",
      "('bf422b70-f083-47ff-b1a7-06df7b82cdc8', {'key': 'value56'})\n",
      "('81340bd1-b58b-4fe0-b075-2e94293d49e1', {'key': 'value57'})\n",
      "('d28ce6d2-f74d-4338-a378-baa8401ae363', {'key': 'value58'})\n",
      "('7c184624-b68a-4fd5-9c0f-4144b7a1f3dc', {'key': 'value59'})\n",
      "('7b13ea6c-a6cc-4532-a69a-a1a21ca86df9', {'key': 'value60'})\n",
      "('304aaa5f-3211-42f8-ae79-a9c074ad76ad', {'key': 'value61'})\n",
      "('76f18b58-fcd6-4228-92df-c32f87b7a448', {'key': 'value62'})\n",
      "('03791d07-5497-4e8c-972d-2871da8d4fad', {'key': 'value63'})\n",
      "('490fe2c7-53d6-4978-b6f4-3e12573d6a0d', {'key': 'value64'})\n",
      "('0d7ea381-5279-47d3-8c30-1fda145ce3f7', {'key': 'value65'})\n",
      "('ca8dc0eb-43b5-4f0f-8232-c55a23e3080a', {'key': 'value66'})\n",
      "('6e9c5f31-abf5-436b-b84c-cd1357c0bc6e', {'key': 'value67'})\n",
      "('452f6e07-b713-4aeb-9c45-61ce66b2527d', {'key': 'value68'})\n",
      "('32b5bf93-2ad6-4799-ae96-b2ac6a87357a', {'key': 'value69'})\n",
      "('571cd042-f415-4d41-a73b-44b141b0909e', {'key': 'value70'})\n",
      "('864a0c98-e918-4445-a845-793f609ebe3f', {'key': 'value71'})\n",
      "('0b72bb54-eec3-4acb-84e6-bfa113eaaca5', {'key': 'value72'})\n",
      "('732f5389-4f76-46ae-82f5-512810651180', {'key': 'value73'})\n",
      "('edd5784a-ff10-41b1-b5a0-50d4fe288ba5', {'key': 'value74'})\n",
      "('5d4ee4bd-d950-4a4c-bef8-e0eb30e32279', {'key': 'value75'})\n",
      "('3a8b03b7-e92d-46cf-8780-1dcee51f149f', {'key': 'value76'})\n",
      "('97f63c53-2c40-4852-bee7-2f97530dfe49', {'key': 'value77'})\n",
      "('7125e4ad-f13a-4387-ad5f-a7efa93ad17e', {'key': 'value78'})\n",
      "('828634c9-f077-42d6-ab9c-392558c9ef07', {'key': 'value79'})\n",
      "('92e12abc-6565-4109-b4b2-f9270183c507', {'key': 'value80'})\n",
      "('e086e431-a532-48bb-9089-c42cef801d01', {'key': 'value81'})\n",
      "('574952bb-314c-4cbe-bc15-0254f505b8f5', {'key': 'value82'})\n",
      "('d02a5cd6-0f00-4efc-b4f9-a719db85b135', {'key': 'value83'})\n",
      "('684dfed5-91af-40bc-bf1a-b19fc827ae65', {'key': 'value84'})\n",
      "('ea4740a7-7198-447c-9e4f-a4442fc1f8db', {'key': 'value85'})\n",
      "('a986f42c-fd89-44a0-af4a-7f3b3bd19c2f', {'key': 'value86'})\n",
      "('7faa0a46-b6e5-49dd-be42-80685b8d7489', {'key': 'value87'})\n",
      "('02506165-d712-4118-9ec2-ced5c1f6950c', {'key': 'value88'})\n",
      "('0e73188a-6cb6-4d55-b4cf-aa2dbf605a19', {'key': 'value89'})\n",
      "('a9169101-d9c7-4b46-b768-2a5b77b250e9', {'key': 'value90'})\n",
      "('54e3f8da-e011-4c40-afcf-aa0ea574ac1c', {'key': 'value91'})\n",
      "('c82b6c4d-cc8c-408c-87ac-c8f061bd38c4', {'key': 'value92'})\n",
      "('3a564443-2fbf-4e04-bc8a-7ec476686461', {'key': 'value93'})\n",
      "('45614e8d-c9af-48df-a24a-dd15297a6c5c', {'key': 'value94'})\n",
      "('8f611520-149f-4c1c-bfcc-bdc9e4c36ad8', {'key': 'value95'})\n",
      "('658f8cbf-0611-4b71-9d08-8d875041b6ea', {'key': 'value96'})\n",
      "('26f4e314-163d-4d8d-bbc2-8b8e0ca67848', {'key': 'value97'})\n",
      "('e602520e-6d03-489e-b8ad-4375ebb563c5', {'key': 'value98'})\n",
      "('43f88754-9838-4e09-9d3f-df5536a45cee', {'key': 'value99'})\n",
      "('0fd67c67-c9be-45c6-9719-4c4eada4be65', {'name': 'jam'})\n",
      "('4671eef5-1df2-4f50-a960-73cf82b3fb18', {'name': 'speed'})\n",
      "('24986c06-99a5-46c6-8214-da807f134a56', {'name': 'flux'})\n",
      "('d17c39fc-564c-404e-8910-4121aa2e6dfd', {'name': 'length'})\n"
     ]
    }
   ],
   "source": [
    "SQL = \"\"\"\n",
    "SELECT tag, description from sensor_types;\n",
    "\"\"\"\n",
    "\n",
    "with con:\n",
    "    with con.cursor() as cur:\n",
    "        cur.execute(SQL)\n",
    "        for r in cur.fetchall():\n",
    "            print(r)"
   ]
  },
  {
   "cell_type": "code",
   "execution_count": 44,
   "metadata": {},
   "outputs": [],
   "source": [
    "def get_sensors_in_timespace(con, center, radius, start, stop):\n",
    "    SQL = \"\"\"\n",
    "    WITH spatial AS (\n",
    "         SELECT id, stype, ST_AsText(ST_Transform(geom,4326)) AS loc, description\n",
    "         FROM sensors \n",
    "         WHERE ST_DWithin(geom, ST_GeomFromText(%s, 3003), %s)\n",
    "        ), selected AS (\n",
    "           SELECT DISTINCT ON (sensor) sensor FROM measures m\n",
    "           WHERE m.time > %s AND m.time < %s\n",
    "                 AND m.sensor IN (SELECT id FROM spatial)\n",
    "        )\n",
    "    SELECT spatial.id, spatial.loc, spatial.description, sensor_types.tag, sensor_types.description \n",
    "    FROM spatial, sensor_types\n",
    "    WHERE  spatial.id in (SELECT sensor FROM selected) AND sensor_types.id = spatial.stype;\n",
    "    \"\"\"\n",
    "\n",
    "    with con:\n",
    "        with con.cursor() as cur:\n",
    "            cur.execute(SQL, (map_to_monte_mario(center), radius, start, stop))\n",
    "            return [r for r in cur.fetchall()]"
   ]
  },
  {
   "cell_type": "code",
   "execution_count": 54,
   "metadata": {},
   "outputs": [],
   "source": [
    "cagliari = 'POINT(9.121661 39.223841)'\n",
    "radius = 10000 # meters\n",
    "start = '2019-02-21'\n",
    "stop = '2019-02-22'"
   ]
  },
  {
   "cell_type": "code",
   "execution_count": 55,
   "metadata": {},
   "outputs": [
    {
     "name": "stdout",
     "output_type": "stream",
     "text": [
      "344 ms ± 4.83 ms per loop (mean ± std. dev. of 7 runs, 1 loop each)\n"
     ]
    }
   ],
   "source": [
    "%timeit sensors = get_sensors_in_timespace(con, cagliari, radius, start, stop)"
   ]
  },
  {
   "cell_type": "code",
   "execution_count": 37,
   "metadata": {},
   "outputs": [],
   "source": [
    "def get_timeseries(con, sensor_id, start=None, stop=None, bucket=None, op=None, isoformat=False):\n",
    "    SQL = \"\"\"\n",
    "    SELECT time, value FROM measures m\n",
    "    WHERE m.sensor = %s;\n",
    "    \"\"\"\n",
    "\n",
    "    with con:\n",
    "        with con.cursor() as cur:\n",
    "            cur.execute(SQL, (5902,))\n",
    "            if isoformat:\n",
    "                return [[r[0].isoformat(), r[1]] for r in cur.fetchall()]"
   ]
  },
  {
   "cell_type": "code",
   "execution_count": 42,
   "metadata": {},
   "outputs": [
    {
     "name": "stdout",
     "output_type": "stream",
     "text": [
      "106 ms ± 1.27 ms per loop (mean ± std. dev. of 7 runs, 10 loops each)\n"
     ]
    }
   ],
   "source": [
    "%timeit s5904 = get_timeseries(5904, isoformat=True)"
   ]
  },
  {
   "cell_type": "code",
   "execution_count": null,
   "metadata": {},
   "outputs": [],
   "source": []
  }
 ],
 "metadata": {
  "kernelspec": {
   "display_name": "Python 3",
   "language": "python",
   "name": "python3"
  },
  "language_info": {
   "codemirror_mode": {
    "name": "ipython",
    "version": 3
   },
   "file_extension": ".py",
   "mimetype": "text/x-python",
   "name": "python",
   "nbconvert_exporter": "python",
   "pygments_lexer": "ipython3",
   "version": "3.6.7"
  }
 },
 "nbformat": 4,
 "nbformat_minor": 2
}
