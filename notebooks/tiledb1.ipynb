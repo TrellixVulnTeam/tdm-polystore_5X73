{
 "cells": [
  {
   "cell_type": "code",
   "execution_count": 1,
   "metadata": {},
   "outputs": [],
   "source": [
    "import pydoop.hdfs as hdfs"
   ]
  },
  {
   "cell_type": "code",
   "execution_count": 2,
   "metadata": {},
   "outputs": [
    {
     "data": {
      "text/plain": [
       "[]"
      ]
     },
     "execution_count": 2,
     "metadata": {},
     "output_type": "execute_result"
    }
   ],
   "source": [
    "hdfs.lsl('hdfs://hdfs:9000/')"
   ]
  },
  {
   "cell_type": "code",
   "execution_count": 3,
   "metadata": {},
   "outputs": [],
   "source": [
    "hdfs.mkdir('hdfs://hdfs:9000/user/jupyter', user='root')"
   ]
  },
  {
   "cell_type": "code",
   "execution_count": 4,
   "metadata": {},
   "outputs": [],
   "source": [
    "hdfs.chown('hdfs://hdfs:9000/user/jupyter', 'jupyter', hdfs_user='root')"
   ]
  },
  {
   "cell_type": "code",
   "execution_count": 5,
   "metadata": {},
   "outputs": [],
   "source": [
    "hdfs.mkdir('hdfs://hdfs:9000/user/jupyter/tiledb_arrays')"
   ]
  },
  {
   "cell_type": "code",
   "execution_count": 6,
   "metadata": {},
   "outputs": [],
   "source": [
    "for x in hdfs.lsl('hdfs://hdfs:9000/user/jupyter/tiledb_arrays'):\n",
    "    hdfs.rmr(x['name'])"
   ]
  },
  {
   "cell_type": "code",
   "execution_count": 21,
   "metadata": {},
   "outputs": [],
   "source": [
    "hdfs.put('../notebooks/data/sensor_data_denorm.csv', 'hdfs://hdfs:9000/user/jupyter/tiledb_arrays/junk2.csv')"
   ]
  },
  {
   "cell_type": "markdown",
   "metadata": {},
   "source": [
    "This example is based on the [quickstart_dense](https://github.com/TileDB-Inc/TileDB-Py/blob/dev/examples/quickstart_dense.py) example."
   ]
  },
  {
   "cell_type": "code",
   "execution_count": 8,
   "metadata": {},
   "outputs": [],
   "source": [
    "import numpy as np\n",
    "import tiledb"
   ]
  },
  {
   "cell_type": "code",
   "execution_count": 9,
   "metadata": {},
   "outputs": [],
   "source": [
    "a_name = 'qdense'"
   ]
  },
  {
   "cell_type": "code",
   "execution_count": 10,
   "metadata": {},
   "outputs": [],
   "source": [
    "ctx = tiledb.Ctx({'vfs.hdfs.username': 'jupyter', 'vfs.hdfs.name_node':'hdfs://hdfs:9000', \n",
    "                  'vfs.hdfs.name_node_uri':'hdfs://hdfs:9000'})"
   ]
  },
  {
   "cell_type": "code",
   "execution_count": 11,
   "metadata": {},
   "outputs": [],
   "source": [
    "vfs = tiledb.VFS(ctx)"
   ]
  },
  {
   "cell_type": "code",
   "execution_count": 12,
   "metadata": {},
   "outputs": [
    {
     "data": {
      "text/plain": [
       "True"
      ]
     },
     "execution_count": 12,
     "metadata": {},
     "output_type": "execute_result"
    }
   ],
   "source": [
    "vfs.supports('hdfs')"
   ]
  },
  {
   "cell_type": "code",
   "execution_count": 18,
   "metadata": {},
   "outputs": [
    {
     "data": {
      "text/plain": [
       "True"
      ]
     },
     "execution_count": 18,
     "metadata": {},
     "output_type": "execute_result"
    }
   ],
   "source": [
    "vfs.is_dir('hdfs://hdfs:9000/user/jupyter/tiledb_arrays')"
   ]
  },
  {
   "cell_type": "code",
   "execution_count": 19,
   "metadata": {},
   "outputs": [],
   "source": [
    "dom = tiledb.Domain(ctx, \n",
    "          tiledb.Dim(ctx, name=\"rows\", domain=(1, 4), tile=4, dtype=np.int32),\n",
    "          tiledb.Dim(ctx, name=\"cols\", domain=(1, 4), tile=4, dtype=np.int32),\n",
    "          )"
   ]
  },
  {
   "cell_type": "code",
   "execution_count": 20,
   "metadata": {},
   "outputs": [],
   "source": [
    "schema = tiledb.ArraySchema(ctx, domain=dom, sparse=False,\n",
    "                            attrs=[tiledb.Attr(ctx, name=\"a\", dtype=np.int32)])"
   ]
  },
  {
   "cell_type": "code",
   "execution_count": 22,
   "metadata": {},
   "outputs": [
    {
     "ename": "TileDBError",
     "evalue": "[TileDB::HDFS] Error: Cannot write to file hdfs://hdfs:9000/user/jupyter/tiledb_arrays/__array_schema.tdb; File closing error",
     "output_type": "error",
     "traceback": [
      "\u001b[0;31m---------------------------------------------------------------------------\u001b[0m",
      "\u001b[0;31mTileDBError\u001b[0m                               Traceback (most recent call last)",
      "\u001b[0;32m<ipython-input-22-6c9cff5f91a2>\u001b[0m in \u001b[0;36m<module>\u001b[0;34m\u001b[0m\n\u001b[1;32m      1\u001b[0m \u001b[0ma_name\u001b[0m \u001b[0;34m=\u001b[0m \u001b[0;34m'hdfs://hdfs:9000/user/jupyter/tiledb_arrays/'\u001b[0m\u001b[0;34m\u001b[0m\u001b[0;34m\u001b[0m\u001b[0m\n\u001b[0;32m----> 2\u001b[0;31m \u001b[0mtiledb\u001b[0m\u001b[0;34m.\u001b[0m\u001b[0mDenseArray\u001b[0m\u001b[0;34m.\u001b[0m\u001b[0mcreate\u001b[0m\u001b[0;34m(\u001b[0m\u001b[0ma_name\u001b[0m\u001b[0;34m,\u001b[0m \u001b[0mschema\u001b[0m\u001b[0;34m)\u001b[0m\u001b[0;34m\u001b[0m\u001b[0;34m\u001b[0m\u001b[0m\n\u001b[0m",
      "\u001b[0;32mtiledb/libtiledb.pyx\u001b[0m in \u001b[0;36mtiledb.libtiledb.Array.create\u001b[0;34m()\u001b[0m\n",
      "\u001b[0;32mtiledb/libtiledb.pyx\u001b[0m in \u001b[0;36mtiledb.libtiledb._raise_ctx_err\u001b[0;34m()\u001b[0m\n",
      "\u001b[0;32mtiledb/libtiledb.pyx\u001b[0m in \u001b[0;36mtiledb.libtiledb._raise_tiledb_error\u001b[0;34m()\u001b[0m\n",
      "\u001b[0;31mTileDBError\u001b[0m: [TileDB::HDFS] Error: Cannot write to file hdfs://hdfs:9000/user/jupyter/tiledb_arrays/__array_schema.tdb; File closing error"
     ]
    }
   ],
   "source": [
    "a_name = 'hdfs://hdfs:9000/user/jupyter/tiledb_arrays/'\n",
    "tiledb.DenseArray.create(a_name, schema)"
   ]
  },
  {
   "cell_type": "code",
   "execution_count": null,
   "metadata": {},
   "outputs": [],
   "source": [
    "tiledb.libtiledb.version()  "
   ]
  },
  {
   "cell_type": "code",
   "execution_count": null,
   "metadata": {},
   "outputs": [],
   "source": [
    "\n",
    "\n",
    "def write_array():\n",
    "    ctx = tiledb.Ctx()\n",
    "    # Open the array and write to it.\n",
    "    with tiledb.DenseArray(ctx, array_name, mode='w') as A:\n",
    "        data = np.array(([1, 2, 3, 4],\n",
    "                         [5, 6, 7, 8],\n",
    "                         [9, 10, 11, 12],\n",
    "                         [13, 14, 15, 16]))\n",
    "        A[:] = data\n",
    "\n",
    "\n",
    "def read_array():\n",
    "    ctx = tiledb.Ctx()\n",
    "    # Open the array and read from it.\n",
    "    with tiledb.DenseArray(ctx, array_name, mode='r') as A:\n",
    "        # Slice only rows 1, 2 and cols 2, 3, 4.\n",
    "        data = A[1:3, 2:5]\n",
    "        print(data[\"a\"])\n",
    "\n",
    "\n",
    "ctx = tiledb.Ctx()\n",
    "if tiledb.object_type(ctx, array_name) != \"array\":\n",
    "    create_array()\n",
    "    write_array()\n",
    "\n",
    "read_array()\n"
   ]
  }
 ],
 "metadata": {
  "kernelspec": {
   "display_name": "Python 3",
   "language": "python",
   "name": "python3"
  },
  "language_info": {
   "codemirror_mode": {
    "name": "ipython",
    "version": 3
   },
   "file_extension": ".py",
   "mimetype": "text/x-python",
   "name": "python",
   "nbconvert_exporter": "python",
   "pygments_lexer": "ipython3",
   "version": "3.6.7"
  }
 },
 "nbformat": 4,
 "nbformat_minor": 2
}
