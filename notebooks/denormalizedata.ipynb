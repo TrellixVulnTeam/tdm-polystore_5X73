{
 "cells": [
  {
   "cell_type": "code",
   "execution_count": 1,
   "metadata": {},
   "outputs": [],
   "source": [
    "import pandas as pd\n",
    "import numpy as np"
   ]
  },
  {
   "cell_type": "code",
   "execution_count": 2,
   "metadata": {},
   "outputs": [],
   "source": [
    "stations = pd.read_pickle(\"./data/Station_dataframe.pickle\")\n",
    "sensors = pd.read_pickle(\"./data/Sensor_dataframe.pickle\")"
   ]
  },
  {
   "cell_type": "code",
   "execution_count": 3,
   "metadata": {},
   "outputs": [
    {
     "data": {
      "text/html": [
       "<div>\n",
       "<style scoped>\n",
       "    .dataframe tbody tr th:only-of-type {\n",
       "        vertical-align: middle;\n",
       "    }\n",
       "\n",
       "    .dataframe tbody tr th {\n",
       "        vertical-align: top;\n",
       "    }\n",
       "\n",
       "    .dataframe thead th {\n",
       "        text-align: right;\n",
       "    }\n",
       "</style>\n",
       "<table border=\"1\" class=\"dataframe\">\n",
       "  <thead>\n",
       "    <tr style=\"text-align: right;\">\n",
       "      <th></th>\n",
       "      <th>latitude</th>\n",
       "      <th>longitude</th>\n",
       "      <th>name</th>\n",
       "      <th>note</th>\n",
       "      <th>station_type</th>\n",
       "      <th>sensor_list</th>\n",
       "    </tr>\n",
       "    <tr>\n",
       "      <th>id</th>\n",
       "      <th></th>\n",
       "      <th></th>\n",
       "      <th></th>\n",
       "      <th></th>\n",
       "      <th></th>\n",
       "      <th></th>\n",
       "    </tr>\n",
       "  </thead>\n",
       "  <tbody>\n",
       "    <tr>\n",
       "      <th>1</th>\n",
       "      <td>39.239953</td>\n",
       "      <td>9.147368</td>\n",
       "      <td>MARCONI_I</td>\n",
       "      <td>Viale Marconi ingresso</td>\n",
       "      <td>2</td>\n",
       "      <td>1,2</td>\n",
       "    </tr>\n",
       "    <tr>\n",
       "      <th>2</th>\n",
       "      <td>39.239910</td>\n",
       "      <td>9.147421</td>\n",
       "      <td>MARCONI_U</td>\n",
       "      <td>Viale Marconi uscita</td>\n",
       "      <td>2</td>\n",
       "      <td>3,4</td>\n",
       "    </tr>\n",
       "    <tr>\n",
       "      <th>3</th>\n",
       "      <td>39.253167</td>\n",
       "      <td>9.113088</td>\n",
       "      <td>PIRRI_I</td>\n",
       "      <td>Circonvallazione Pirri - Via Quasimodo IN</td>\n",
       "      <td>2</td>\n",
       "      <td>5,6</td>\n",
       "    </tr>\n",
       "    <tr>\n",
       "      <th>4</th>\n",
       "      <td>39.253185</td>\n",
       "      <td>9.113191</td>\n",
       "      <td>PIRRI_U</td>\n",
       "      <td>Circonvallazione Pirri - Via Quasimodo OUT</td>\n",
       "      <td>2</td>\n",
       "      <td>7,8</td>\n",
       "    </tr>\n",
       "    <tr>\n",
       "      <th>5</th>\n",
       "      <td>39.257385</td>\n",
       "      <td>9.089077</td>\n",
       "      <td>MONASTIR_I</td>\n",
       "      <td>Viale Monastir IN</td>\n",
       "      <td>2</td>\n",
       "      <td>10,9</td>\n",
       "    </tr>\n",
       "  </tbody>\n",
       "</table>\n",
       "</div>"
      ],
      "text/plain": [
       "     latitude  longitude        name  \\\n",
       "id                                     \n",
       "1   39.239953   9.147368   MARCONI_I   \n",
       "2   39.239910   9.147421   MARCONI_U   \n",
       "3   39.253167   9.113088     PIRRI_I   \n",
       "4   39.253185   9.113191     PIRRI_U   \n",
       "5   39.257385   9.089077  MONASTIR_I   \n",
       "\n",
       "                                          note  station_type sensor_list  \n",
       "id                                                                        \n",
       "1                       Viale Marconi ingresso             2         1,2  \n",
       "2                         Viale Marconi uscita             2         3,4  \n",
       "3    Circonvallazione Pirri - Via Quasimodo IN             2         5,6  \n",
       "4   Circonvallazione Pirri - Via Quasimodo OUT             2         7,8  \n",
       "5                            Viale Monastir IN             2        10,9  "
      ]
     },
     "execution_count": 3,
     "metadata": {},
     "output_type": "execute_result"
    }
   ],
   "source": [
    "stations.head()"
   ]
  },
  {
   "cell_type": "code",
   "execution_count": 4,
   "metadata": {},
   "outputs": [
    {
     "data": {
      "text/html": [
       "<div>\n",
       "<style scoped>\n",
       "    .dataframe tbody tr th:only-of-type {\n",
       "        vertical-align: middle;\n",
       "    }\n",
       "\n",
       "    .dataframe tbody tr th {\n",
       "        vertical-align: top;\n",
       "    }\n",
       "\n",
       "    .dataframe thead th {\n",
       "        text-align: right;\n",
       "    }\n",
       "</style>\n",
       "<table border=\"1\" class=\"dataframe\">\n",
       "  <thead>\n",
       "    <tr style=\"text-align: right;\">\n",
       "      <th></th>\n",
       "      <th>name</th>\n",
       "      <th>note</th>\n",
       "      <th>station_id</th>\n",
       "      <th>sensor_type</th>\n",
       "    </tr>\n",
       "    <tr>\n",
       "      <th>id</th>\n",
       "      <th></th>\n",
       "      <th></th>\n",
       "      <th></th>\n",
       "      <th></th>\n",
       "    </tr>\n",
       "  </thead>\n",
       "  <tbody>\n",
       "    <tr>\n",
       "      <th>1</th>\n",
       "      <td>S1</td>\n",
       "      <td>Viale Marconi ingr dx</td>\n",
       "      <td>1</td>\n",
       "      <td>4</td>\n",
       "    </tr>\n",
       "    <tr>\n",
       "      <th>2</th>\n",
       "      <td>S2</td>\n",
       "      <td>Viale Marconi ingr sx</td>\n",
       "      <td>1</td>\n",
       "      <td>4</td>\n",
       "    </tr>\n",
       "    <tr>\n",
       "      <th>3</th>\n",
       "      <td>S3</td>\n",
       "      <td>Viale Marconi uscita dx</td>\n",
       "      <td>2</td>\n",
       "      <td>4</td>\n",
       "    </tr>\n",
       "    <tr>\n",
       "      <th>4</th>\n",
       "      <td>S4</td>\n",
       "      <td>Viale Marconi uscita sx</td>\n",
       "      <td>2</td>\n",
       "      <td>4</td>\n",
       "    </tr>\n",
       "    <tr>\n",
       "      <th>5</th>\n",
       "      <td>S5</td>\n",
       "      <td>Circonvallazione Pirri - Via Quasimodo</td>\n",
       "      <td>3</td>\n",
       "      <td>4</td>\n",
       "    </tr>\n",
       "  </tbody>\n",
       "</table>\n",
       "</div>"
      ],
      "text/plain": [
       "   name                                    note  station_id  sensor_type\n",
       "id                                                                      \n",
       "1    S1                   Viale Marconi ingr dx           1            4\n",
       "2    S2                   Viale Marconi ingr sx           1            4\n",
       "3    S3                 Viale Marconi uscita dx           2            4\n",
       "4    S4                 Viale Marconi uscita sx           2            4\n",
       "5    S5  Circonvallazione Pirri - Via Quasimodo           3            4"
      ]
     },
     "execution_count": 4,
     "metadata": {},
     "output_type": "execute_result"
    }
   ],
   "source": [
    "sensors.head()"
   ]
  },
  {
   "cell_type": "code",
   "execution_count": 5,
   "metadata": {},
   "outputs": [],
   "source": [
    "stations = stations[stations['latitude'].notnull()]"
   ]
  },
  {
   "cell_type": "code",
   "execution_count": 6,
   "metadata": {},
   "outputs": [],
   "source": [
    "sensors = sensors[[x in stations.index for x in sensors['station_id']]]"
   ]
  },
  {
   "cell_type": "code",
   "execution_count": 7,
   "metadata": {},
   "outputs": [],
   "source": [
    "denorm = sensors.copy()"
   ]
  },
  {
   "cell_type": "code",
   "execution_count": 8,
   "metadata": {},
   "outputs": [],
   "source": [
    "denorm.loc[:, 'note'] = stations.loc[sensors['station_id'], 'note'].values + ' ' + sensors['note'].values\n",
    "denorm.loc[:, 'latitude'] = stations.loc[sensors['station_id'], 'latitude'].values\n",
    "denorm.loc[:, 'longitude'] = stations.loc[sensors['station_id'], 'longitude'].values\n",
    "denorm.loc[:, 'station_name'] = stations.loc[sensors['station_id'], 'name'].values"
   ]
  },
  {
   "cell_type": "code",
   "execution_count": 9,
   "metadata": {},
   "outputs": [],
   "source": [
    "denorm.to_csv('./data/sensor_data_denorm.csv')"
   ]
  },
  {
   "cell_type": "code",
   "execution_count": null,
   "metadata": {},
   "outputs": [],
   "source": []
  }
 ],
 "metadata": {
  "kernelspec": {
   "display_name": "Python 3",
   "language": "python",
   "name": "python3"
  },
  "language_info": {
   "codemirror_mode": {
    "name": "ipython",
    "version": 3
   },
   "file_extension": ".py",
   "mimetype": "text/x-python",
   "name": "python",
   "nbconvert_exporter": "python",
   "pygments_lexer": "ipython3",
   "version": "3.7.2"
  }
 },
 "nbformat": 4,
 "nbformat_minor": 2
}
