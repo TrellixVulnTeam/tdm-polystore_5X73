{
 "cells": [
  {
   "cell_type": "code",
   "execution_count": 1,
   "metadata": {},
   "outputs": [
    {
     "name": "stderr",
     "output_type": "stream",
     "text": [
      "INFO:tdmq.db:Logging is active.\n",
      "INFO:tdmq.client.client:Logging is active.\n"
     ]
    }
   ],
   "source": [
    "import json\n",
    "import os\n",
    "from tdmq.client import Client\n",
    "from datetime import datetime, timedelta"
   ]
  },
  {
   "cell_type": "markdown",
   "metadata": {},
   "source": [
    "The Italian DPC (FIXME) provides a service that every 5 minutes releases a new dataset build as a mosaic of data coming from DPC meteo radars.\n",
    "Each record will consist of a 1400 by 1200 'image' with two float32 bands, VMI and SRI that represent, respectively, the precipitation (in mm/hour) and the maximum signal intensity (in db? FIXME).\n",
    "The section 'geomapping' contains information needed to map the image grid to geography."
   ]
  },
  {
   "cell_type": "code",
   "execution_count": 2,
   "metadata": {},
   "outputs": [],
   "source": [
    "desc = {\n",
    "    \"id\": \"tdm/tiledb_sensor_foo\",\n",
    "    \"alias\": \"Mosaic of dpc meteo radars\",\n",
    "    \"entity_category\": \"Radar\",\n",
    "    \"entity_type\": \"MeteoRadarMosaic\",\n",
    "    \"default_footprint\": {\n",
    "         \"coordinates\": [[\n",
    "             [4.537000517753033, 47.856095810774605, 0.0, 1.0],\n",
    "             [4.537000517753033, 35.07686201381699, 0.0, 1.0],\n",
    "             [20.436762466677894, 35.07686201381699, 0.0, 1.0],\n",
    "             [20.436762466677894, 47.856095810774605, 0.0, 1.0],\n",
    "             [4.537000517753033, 47.856095810774605, 0.0, 1.0]]],\n",
    "         \"type\": \"Polygon\" },\n",
    "    \"stationary\": True,\n",
    "    \"controlledProperties\": [\"VMI\", \"SRI\"], \n",
    "    \"shape\": [1400, 1200],\n",
    "    \"storage\": \"tiledb\",\n",
    "    \"geomapping\": {\n",
    "        'SRID': 'EPSG:4326',\n",
    "        'grid': {'xsize': 1200, 'ysize': 1400},\n",
    "        'ModelTransformation': [\n",
    "            [0.013249801624104052, 0.0, 0.0, 4.537000517753033],\n",
    "            [0.0, -0.009128024140684008, 0.0, 47.856095810774605],\n",
    "            [0.0, 0.0, 0.0, 0.0],\n",
    "            [0.0, 0.0, 0.0, 1.0]]\n",
    "    },\n",
    "    \"description\": {\n",
    "        \"type\": \"meteoRadar\",\n",
    "        \"brandName\": \"DPC\",\n",
    "        \"modelName\": \"dpc-radar-mosaic\",\n",
    "        \"manufacturerName\": \"Dipartimento Protezione Civile\",\n",
    "        \"category\": [\"sensor\"],\n",
    "        \"function\": [\"sensing\"],\n",
    "        \"reference\": \"http://www.protezionecivile.gov.it/attivita-rischi/meteo-idro/attivita/previsione-prevenzione/centro-funzionale-centrale-rischio-meteo-idrogeologico/monitoraggio-sorveglianza/mappa-radar\" }\n",
    "}\n"
   ]
  },
  {
   "cell_type": "code",
   "execution_count": 3,
   "metadata": {},
   "outputs": [],
   "source": [
    "import tiledb\n",
    "# FIXME \n",
    "c = Client(tiledb_ctx=tiledb.Ctx({'vfs.hdfs.username': 'root'}))"
   ]
  },
  {
   "cell_type": "code",
   "execution_count": 4,
   "metadata": {},
   "outputs": [],
   "source": [
    "import numpy as np"
   ]
  },
  {
   "cell_type": "code",
   "execution_count": 5,
   "metadata": {
    "scrolled": true
   },
   "outputs": [
    {
     "name": "stderr",
     "output_type": "stream",
     "text": [
      "DEBUG:tdmq.client.client:registering sources id=tdm/tiledb_sensor_foo\n",
      "DEBUG:tdmq.client.client:sources (tdm/tiledb_sensor_foo) registered as tdmq_id=d53cb9e7-718a-5a1a-a803-1df48dee2e6b\n",
      "DEBUG:tdmq.client.client:attempting creation of hdfs://namenode:8020/arrays/d53cb9e7-718a-5a1a-a803-1df48dee2e6b\n",
      "DEBUG:tdmq.client.client:trying domain creation for hdfs://namenode:8020/arrays/d53cb9e7-718a-5a1a-a803-1df48dee2e6b\n",
      "DEBUG:tdmq.client.client:trying attribute creation for hdfs://namenode:8020/arrays/d53cb9e7-718a-5a1a-a803-1df48dee2e6b\n",
      "DEBUG:tdmq.client.client:trying ArraySchema creation for hdfs://namenode:8020/arrays/d53cb9e7-718a-5a1a-a803-1df48dee2e6b\n",
      "DEBUG:tdmq.client.client:trying creation on disk of hdfs://namenode:8020/arrays/d53cb9e7-718a-5a1a-a803-1df48dee2e6b\n",
      "DEBUG:tdmq.client.client:hdfs://namenode:8020/arrays/d53cb9e7-718a-5a1a-a803-1df48dee2e6b successfully created.\n",
      "DEBUG:tdmq.client.client:new managed object d53cb9e7-718a-5a1a-a803-1df48dee2e6b\n"
     ]
    }
   ],
   "source": [
    "s = c.register_source(desc)"
   ]
  },
  {
   "cell_type": "code",
   "execution_count": 6,
   "metadata": {},
   "outputs": [],
   "source": [
    "def create_data_frame(shape, properties, slot):\n",
    "    data = {}\n",
    "    for p in properties:\n",
    "        data[p] = np.full(shape, slot, dtype=np.float32)\n",
    "    return data\n",
    "\n",
    "def ingest_records(s, N):\n",
    "    now = datetime.now()\n",
    "    t = now\n",
    "    dt = timedelta(seconds=300)\n",
    "    for slot in range(N):\n",
    "        data = create_data_frame(s.shape, s.controlled_properties, slot)\n",
    "        s.ingest(t, data, slot)\n",
    "        t += dt\n",
    "    return now, dt"
   ]
  },
  {
   "cell_type": "markdown",
   "metadata": {},
   "source": [
    "Fake data acquisition"
   ]
  },
  {
   "cell_type": "code",
   "execution_count": 7,
   "metadata": {},
   "outputs": [],
   "source": [
    "N = 10"
   ]
  },
  {
   "cell_type": "code",
   "execution_count": 8,
   "metadata": {},
   "outputs": [],
   "source": [
    "timebase, dt = ingest_records(s, N)"
   ]
  },
  {
   "cell_type": "code",
   "execution_count": 9,
   "metadata": {},
   "outputs": [
    {
     "name": "stderr",
     "output_type": "stream",
     "text": [
      "DEBUG:tdmq.client.client:get_timeseries(d53cb9e7-718a-5a1a-a803-1df48dee2e6b, {})\n"
     ]
    }
   ],
   "source": [
    "ts = s.timeseries()"
   ]
  },
  {
   "cell_type": "code",
   "execution_count": 10,
   "metadata": {},
   "outputs": [],
   "source": [
    "ts_times, D = ts[:]"
   ]
  },
  {
   "cell_type": "code",
   "execution_count": 11,
   "metadata": {},
   "outputs": [
    {
     "data": {
      "text/plain": [
       "array([datetime.datetime(2019, 8, 6, 20, 17, 20, 896300),\n",
       "       datetime.datetime(2019, 8, 6, 20, 22, 20, 896300),\n",
       "       datetime.datetime(2019, 8, 6, 20, 27, 20, 896300),\n",
       "       datetime.datetime(2019, 8, 6, 20, 32, 20, 896300),\n",
       "       datetime.datetime(2019, 8, 6, 20, 37, 20, 896300),\n",
       "       datetime.datetime(2019, 8, 6, 20, 42, 20, 896300),\n",
       "       datetime.datetime(2019, 8, 6, 20, 47, 20, 896300),\n",
       "       datetime.datetime(2019, 8, 6, 20, 52, 20, 896300),\n",
       "       datetime.datetime(2019, 8, 6, 20, 57, 20, 896300),\n",
       "       datetime.datetime(2019, 8, 6, 21, 2, 20, 896300)], dtype=object)"
      ]
     },
     "execution_count": 11,
     "metadata": {},
     "output_type": "execute_result"
    }
   ],
   "source": [
    "ts_times"
   ]
  },
  {
   "cell_type": "code",
   "execution_count": 12,
   "metadata": {},
   "outputs": [
    {
     "data": {
      "text/plain": [
       "odict_keys(['VMI', 'SRI'])"
      ]
     },
     "execution_count": 12,
     "metadata": {},
     "output_type": "execute_result"
    }
   ],
   "source": [
    "D.keys()"
   ]
  },
  {
   "cell_type": "code",
   "execution_count": 13,
   "metadata": {},
   "outputs": [
    {
     "data": {
      "text/plain": [
       "((10, 1400, 1200), (10, 1400, 1200))"
      ]
     },
     "execution_count": 13,
     "metadata": {},
     "output_type": "execute_result"
    }
   ],
   "source": [
    "D['VMI'].shape, D['SRI'].shape"
   ]
  },
  {
   "cell_type": "code",
   "execution_count": 14,
   "metadata": {},
   "outputs": [],
   "source": [
    "ts_times, D = ts[3:6]"
   ]
  },
  {
   "cell_type": "code",
   "execution_count": 15,
   "metadata": {},
   "outputs": [
    {
     "data": {
      "text/plain": [
       "array([datetime.datetime(2019, 8, 6, 20, 32, 20, 896300),\n",
       "       datetime.datetime(2019, 8, 6, 20, 37, 20, 896300),\n",
       "       datetime.datetime(2019, 8, 6, 20, 42, 20, 896300)], dtype=object)"
      ]
     },
     "execution_count": 15,
     "metadata": {},
     "output_type": "execute_result"
    }
   ],
   "source": [
    "ts_times"
   ]
  },
  {
   "cell_type": "code",
   "execution_count": 16,
   "metadata": {},
   "outputs": [
    {
     "data": {
      "text/plain": [
       "((3, 1400, 1200), (3, 1400, 1200))"
      ]
     },
     "execution_count": 16,
     "metadata": {},
     "output_type": "execute_result"
    }
   ],
   "source": [
    "D['VMI'].shape, D['SRI'].shape"
   ]
  },
  {
   "cell_type": "code",
   "execution_count": 17,
   "metadata": {},
   "outputs": [],
   "source": [
    "ts_times, D = ts[4,100:130, 40:60]"
   ]
  },
  {
   "cell_type": "code",
   "execution_count": 18,
   "metadata": {},
   "outputs": [
    {
     "data": {
      "text/plain": [
       "datetime.datetime(2019, 8, 6, 20, 37, 20, 896300)"
      ]
     },
     "execution_count": 18,
     "metadata": {},
     "output_type": "execute_result"
    }
   ],
   "source": [
    "ts_times"
   ]
  },
  {
   "cell_type": "code",
   "execution_count": 19,
   "metadata": {},
   "outputs": [
    {
     "data": {
      "text/plain": [
       "((30, 20), (30, 20))"
      ]
     },
     "execution_count": 19,
     "metadata": {},
     "output_type": "execute_result"
    }
   ],
   "source": [
    "D['VMI'].shape, D['SRI'].shape"
   ]
  },
  {
   "cell_type": "code",
   "execution_count": 20,
   "metadata": {},
   "outputs": [
    {
     "name": "stderr",
     "output_type": "stream",
     "text": [
      "DEBUG:tdmq.client.client:deregistering d53cb9e7-718a-5a1a-a803-1df48dee2e6b <tdmq.client.sources.NonScalarSource object at 0x7f95fc70d710>\n",
      "DEBUG:tdmq.client.client:removing from managed_objects\n"
     ]
    }
   ],
   "source": [
    "c.deregister_source(s)"
   ]
  },
  {
   "cell_type": "code",
   "execution_count": null,
   "metadata": {},
   "outputs": [],
   "source": []
  }
 ],
 "metadata": {
  "kernelspec": {
   "display_name": "Python 3",
   "language": "python",
   "name": "python3"
  },
  "language_info": {
   "codemirror_mode": {
    "name": "ipython",
    "version": 3
   },
   "file_extension": ".py",
   "mimetype": "text/x-python",
   "name": "python",
   "nbconvert_exporter": "python",
   "pygments_lexer": "ipython3",
   "version": "3.6.8"
  }
 },
 "nbformat": 4,
 "nbformat_minor": 2
}
