{
 "cells": [
  {
   "cell_type": "markdown",
   "metadata": {},
   "source": [
    "# TDMQ API\n",
    "\n",
    "\n",
    "Do the following to insert a minimal dataset in the TDMQ server\n",
    "\n",
    "## Initialize the db\n",
    "\n",
    "```\n",
    "[zag@pflip elzaggo_tdm-polystore]$ docker-compose -f docker/docker-compose.yml exec web flask db init\n",
    "INFO:tdmq.db:Logging is active.\n",
    "Starting initialization process.\n",
    "Initialized the database.\n",
    "```\n",
    "\n",
    "## Load a minimalistic dataset\n",
    "\n",
    "```\n",
    "[zag@pflip elzaggo_tdm-polystore]$ docker-compose -f docker/docker-compose.yml exec web flask db load /tdmq-dist/data/sensor_types.json\n",
    "INFO:tdmq.db:Logging is active.\n",
    "Loading from /tdmq-dist/data/sensor_types.json.\n",
    "Loaded {'sensor_types': 2}\n",
    "```\n",
    "\n",
    "```\n",
    "[zag@pflip elzaggo_tdm-polystore]$ docker-compose -f docker/docker-compose.yml exec web flask db load /tdmq-dist/data/sensors.json\n",
    "INFO:tdmq.db:Logging is active.\n",
    "Loading from /tdmq-dist/data/sensors.json.\n",
    "Loaded {'sensors': 2}\n",
    "```\n",
    "\n",
    "```\n",
    "[zag@pflip elzaggo_tdm-polystore]$ docker-compose -f docker/docker-compose.yml exec web flask db load /tdmq-dist/data/measures.json\n",
    "INFO:tdmq.db:Logging is active.\n",
    "Loading from /tdmq-dist/data/measures.json.\n",
    "Loaded {'measures': 13}\n",
    "\n",
    "```\n"
   ]
  },
  {
   "cell_type": "code",
   "execution_count": 1,
   "metadata": {},
   "outputs": [],
   "source": [
    "import requests\n",
    "import json"
   ]
  },
  {
   "cell_type": "code",
   "execution_count": 2,
   "metadata": {},
   "outputs": [
    {
     "data": {
      "text/plain": [
       "[{'brandName': 'Acme',\n",
       "  'category': ['sensor'],\n",
       "  'code': '0fd67c67-c9be-45c6-9719-4c4eada4be65',\n",
       "  'controlledProperty': ['temperature'],\n",
       "  'function': ['sensing'],\n",
       "  'manufacturerName': 'Acme Inc.',\n",
       "  'modelName': 'Acme multisensor DHT11',\n",
       "  'name': 'temperature sensor in DHT11',\n",
       "  'type': 'TemperatureSensorDTH11'},\n",
       " {'brandName': 'Acme',\n",
       "  'category': ['sensor'],\n",
       "  'code': '0fd67c67-c9be-45c6-9719-4c4eada4bebe',\n",
       "  'controlledProperty': ['humidity'],\n",
       "  'function': ['sensing'],\n",
       "  'manufacturerName': 'Acme Inc.',\n",
       "  'modelName': 'Acme multisensor DHT11',\n",
       "  'name': 'Humidity sensor in DHT11',\n",
       "  'type': 'HumiditySensorDHT11'}]"
      ]
     },
     "execution_count": 2,
     "metadata": {},
     "output_type": "execute_result"
    }
   ],
   "source": [
    "r = requests.get('http://localhost:8000/sensor_types')\n",
    "st = json.loads(r.text)\n",
    "st"
   ]
  },
  {
   "cell_type": "code",
   "execution_count": 3,
   "metadata": {},
   "outputs": [
    {
     "data": {
      "text/plain": [
       "[{'code': '0fd67c67-c9be-45c6-9719-4c4eada4becc',\n",
       "  'geometry': {'coordinates': [9.221, 30.0], 'type': 'Point'},\n",
       "  'nodecode': '0fd67ccc-c9be-45c6-9719-4c4eada4beaa',\n",
       "  'stypecode': '0fd67c67-c9be-45c6-9719-4c4eada4be65'},\n",
       " {'code': '0fd67c67-c9be-45c6-9719-4c4eada4beff',\n",
       "  'geometry': {'coordinates': [9.222, 30.003], 'type': 'Point'},\n",
       "  'nodecode': '0fd67cdd-c9be-45c6-9719-4c4eada4beee',\n",
       "  'stypecode': '0fd67c67-c9be-45c6-9719-4c4eada4bebe'}]"
      ]
     },
     "execution_count": 3,
     "metadata": {},
     "output_type": "execute_result"
    }
   ],
   "source": [
    "r = requests.get('http://localhost:8000/sensors')\n",
    "st = json.loads(r.text)\n",
    "st"
   ]
  },
  {
   "cell_type": "code",
   "execution_count": 4,
   "metadata": {},
   "outputs": [
    {
     "data": {
      "text/plain": [
       "{'code': '0fd67c67-c9be-45c6-9719-4c4eada4becc',\n",
       " 'geometry': {'coordinates': [9.221, 30.0], 'type': 'Point'},\n",
       " 'nodecode': '0fd67ccc-c9be-45c6-9719-4c4eada4beaa',\n",
       " 'stypecode': '0fd67c67-c9be-45c6-9719-4c4eada4be65'}"
      ]
     },
     "execution_count": 4,
     "metadata": {},
     "output_type": "execute_result"
    }
   ],
   "source": [
    "r = requests.get(\n",
    "    'http://localhost:8000/sensors/0fd67c67-c9be-45c6-9719-4c4eada4becc')\n",
    "st = json.loads(r.text)\n",
    "st"
   ]
  },
  {
   "cell_type": "code",
   "execution_count": 5,
   "metadata": {},
   "outputs": [
    {
     "data": {
      "text/plain": [
       "[{'code': '0fd67c67-c9be-45c6-9719-4c4eada4becc',\n",
       "  'geometry': '{\"type\":\"Point\",\"coordinates\":[9.22100000642642,30.0000000019687]}',\n",
       "  'stypecode': '0fd67c67-c9be-45c6-9719-4c4eada4be65'},\n",
       " {'code': '0fd67c67-c9be-45c6-9719-4c4eada4beff',\n",
       "  'geometry': '{\"type\":\"Point\",\"coordinates\":[9.22200000642623,30.0030000019686]}',\n",
       "  'stypecode': '0fd67c67-c9be-45c6-9719-4c4eada4bebe'}]"
      ]
     },
     "execution_count": 5,
     "metadata": {},
     "output_type": "execute_result"
    }
   ],
   "source": [
    "args = {\n",
    "    'footprint': 'circle((9.2215, 30.0015), 1000)',\n",
    "    'after': '2019-05-02T11:00:00Z',\n",
    "    'before':'2019-05-02T11:50:25Z'\n",
    "}\n",
    "r = requests.get('http://localhost:8000/sensors', params=args)\n",
    "st = json.loads(r.text)\n",
    "st"
   ]
  },
  {
   "cell_type": "code",
   "execution_count": 6,
   "metadata": {},
   "outputs": [
    {
     "data": {
      "text/plain": [
       "[]"
      ]
     },
     "execution_count": 6,
     "metadata": {},
     "output_type": "execute_result"
    }
   ],
   "source": [
    "args = {\n",
    "    'footprint': 'circle((9.2215, 30.0015), 1000)',\n",
    "    'after': '2000-05-02T11:00:00Z',\n",
    "    'before':'2000-05-02T11:50:25Z',\n",
    "}\n",
    "r = requests.get('http://localhost:8000/sensors', args)\n",
    "st = json.loads(r.text)\n",
    "st"
   ]
  },
  {
   "cell_type": "code",
   "execution_count": 8,
   "metadata": {},
   "outputs": [
    {
     "data": {
      "text/plain": [
       "{'data': [0.022, 0.122, 0.222, 0.322, 0.422, 0.522],\n",
       " 'timebase': '2019-05-02T11:00:00Z',\n",
       " 'timedelta': [0.0, 5.0, 10.0, 15.0, 20.0, 25.0]}"
      ]
     },
     "execution_count": 8,
     "metadata": {},
     "output_type": "execute_result"
    }
   ],
   "source": [
    "args = {\n",
    "    'after': '2019-05-02T11:00:00Z',\n",
    "    'before':'2019-05-02T11:50:25Z'\n",
    "}\n",
    "code = '0fd67c67-c9be-45c6-9719-4c4eada4becc'\n",
    "r = requests.get(\n",
    "    'http://localhost:8000/sensors/{}/timeseries'.format(code), \n",
    "    params=args)\n",
    "st = json.loads(r.text)\n",
    "st"
   ]
  },
  {
   "cell_type": "code",
   "execution_count": 12,
   "metadata": {},
   "outputs": [
    {
     "data": {
      "text/plain": [
       "{'data': [0.144, 0.544, 0.944],\n",
       " 'timebase': '2019-05-02T11:00:00Z',\n",
       " 'timedelta': [0.0, 10.0, 20.0]}"
      ]
     },
     "execution_count": 12,
     "metadata": {},
     "output_type": "execute_result"
    }
   ],
   "source": [
    "args = {\n",
    "    'bucket': 10,\n",
    "    'op':'sum',\n",
    "    'after': '2019-05-02T11:00:00Z',\n",
    "    'before':'2019-05-02T11:50:25Z'\n",
    "}\n",
    "code = '0fd67c67-c9be-45c6-9719-4c4eada4becc'\n",
    "r = requests.get(\n",
    "    'http://localhost:8000/sensors/{}/timeseries'.format(code), \n",
    "    params=args)\n",
    "st = json.loads(r.text)\n",
    "st"
   ]
  },
  {
   "cell_type": "code",
   "execution_count": 14,
   "metadata": {},
   "outputs": [
    {
     "data": {
      "text/plain": [
       "{'data': [0.022, 0.122, 0.222, 0.322, 0.422, 0.522],\n",
       " 'timebase': '2019-05-02T11:00:00Z',\n",
       " 'timedelta': [0.0, 4.8, 9.9, 15.0, 19.8, 24.9]}"
      ]
     },
     "execution_count": 14,
     "metadata": {},
     "output_type": "execute_result"
    }
   ],
   "source": [
    "args = {\n",
    "    'bucket': 0.3,\n",
    "    'op':'sum',\n",
    "    'after': '2019-05-02T11:00:00Z',\n",
    "    'before':'2019-05-02T11:50:25Z'\n",
    "}\n",
    "code = '0fd67c67-c9be-45c6-9719-4c4eada4becc'\n",
    "r = requests.get(\n",
    "    'http://localhost:8000/sensors/{}/timeseries'.format(code), \n",
    "    params=args)\n",
    "st = json.loads(r.text)\n",
    "st"
   ]
  },
  {
   "cell_type": "code",
   "execution_count": null,
   "metadata": {},
   "outputs": [],
   "source": []
  }
 ],
 "metadata": {
  "kernelspec": {
   "display_name": "Python 3",
   "language": "python",
   "name": "python3"
  },
  "language_info": {
   "codemirror_mode": {
    "name": "ipython",
    "version": 3
   },
   "file_extension": ".py",
   "mimetype": "text/x-python",
   "name": "python",
   "nbconvert_exporter": "python",
   "pygments_lexer": "ipython3",
   "version": "3.7.3"
  }
 },
 "nbformat": 4,
 "nbformat_minor": 2
}
