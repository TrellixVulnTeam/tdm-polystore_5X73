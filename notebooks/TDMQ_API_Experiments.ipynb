{
 "cells": [
  {
   "cell_type": "markdown",
   "metadata": {},
   "source": [
    "# TDMQ API Example\n",
    "\n",
    "\n",
    "Before running this notebook, load the test dataset into the DB server:\n",
    "\n",
    "```\n",
    "docker-compose exec web flask db init\n",
    "docker-compose exec web flask db load /tdmq-dist/data/sensor_types.json\n",
    "docker-compose exec web flask db load /tdmq-dist/data/sensors.json\n",
    "docker-compose exec web flask db load /tdmq-dist/data/measures.json\n",
    "```"
   ]
  },
  {
   "cell_type": "code",
   "execution_count": 1,
   "metadata": {},
   "outputs": [],
   "source": [
    "import requests\n",
    "import json"
   ]
  },
  {
   "cell_type": "code",
   "execution_count": 2,
   "metadata": {},
   "outputs": [],
   "source": [
    "BASE_URL = 'http://localhost:8000/api/v0.0'"
   ]
  },
  {
   "cell_type": "code",
   "execution_count": 3,
   "metadata": {},
   "outputs": [
    {
     "data": {
      "text/plain": [
       "[{'brandName': 'Acme',\n",
       "  'category': ['sensor'],\n",
       "  'code': '0fd67c67-c9be-45c6-9719-4c4eada4be65',\n",
       "  'controlledProperty': ['temperature'],\n",
       "  'function': ['sensing'],\n",
       "  'manufacturerName': 'Acme Inc.',\n",
       "  'modelName': 'Acme multisensor DHT11',\n",
       "  'name': 'temperature sensor in DHT11',\n",
       "  'type': 'TemperatureSensorDTH11'},\n",
       " {'brandName': 'Acme',\n",
       "  'category': ['sensor'],\n",
       "  'code': '0fd67c67-c9be-45c6-9719-4c4eada4bebe',\n",
       "  'controlledProperty': ['humidity'],\n",
       "  'function': ['sensing'],\n",
       "  'manufacturerName': 'Acme Inc.',\n",
       "  'modelName': 'Acme multisensor DHT11',\n",
       "  'name': 'Humidity sensor in DHT11',\n",
       "  'type': 'HumiditySensorDHT11'},\n",
       " {'brandName': 'ProSensor',\n",
       "  'category': ['sensor'],\n",
       "  'code': 'ea388bc4-668b-4f06-b738-6267a8a7a37d',\n",
       "  'controlledProperty': ['humidity', 'temperature'],\n",
       "  'function': ['sensing'],\n",
       "  'manufacturerName': 'CRS4',\n",
       "  'modelName': 'R2D2',\n",
       "  'name': 'Jack',\n",
       "  'type': 'multisensor'},\n",
       " {'brandName': 'ProSensor',\n",
       "  'category': ['sensor'],\n",
       "  'code': 'a1103bd9-fba0-4652-b58e-e4f0c4278262',\n",
       "  'controlledProperty': ['power'],\n",
       "  'function': ['sensing'],\n",
       "  'manufacturerName': 'CRS4',\n",
       "  'modelName': 'C3PO',\n",
       "  'name': 'John',\n",
       "  'type': 'power sensor'}]"
      ]
     },
     "execution_count": 3,
     "metadata": {},
     "output_type": "execute_result"
    }
   ],
   "source": [
    "requests.get(f'{BASE_URL}/sensor_types').json()"
   ]
  },
  {
   "cell_type": "code",
   "execution_count": 4,
   "metadata": {},
   "outputs": [
    {
     "data": {
      "text/plain": [
       "[{'brandName': 'Acme',\n",
       "  'category': ['sensor'],\n",
       "  'code': '0fd67c67-c9be-45c6-9719-4c4eada4be65',\n",
       "  'controlledProperty': ['temperature'],\n",
       "  'function': ['sensing'],\n",
       "  'manufacturerName': 'Acme Inc.',\n",
       "  'modelName': 'Acme multisensor DHT11',\n",
       "  'name': 'temperature sensor in DHT11',\n",
       "  'type': 'TemperatureSensorDTH11'},\n",
       " {'brandName': 'ProSensor',\n",
       "  'category': ['sensor'],\n",
       "  'code': 'ea388bc4-668b-4f06-b738-6267a8a7a37d',\n",
       "  'controlledProperty': ['humidity', 'temperature'],\n",
       "  'function': ['sensing'],\n",
       "  'manufacturerName': 'CRS4',\n",
       "  'modelName': 'R2D2',\n",
       "  'name': 'Jack',\n",
       "  'type': 'multisensor'}]"
      ]
     },
     "execution_count": 4,
     "metadata": {},
     "output_type": "execute_result"
    }
   ],
   "source": [
    "args = {\"controlledProperty\": \"temperature\"}\n",
    "requests.get(f'{BASE_URL}/sensor_types', params=args).json()"
   ]
  },
  {
   "cell_type": "code",
   "execution_count": 5,
   "metadata": {},
   "outputs": [
    {
     "data": {
      "text/plain": [
       "[{'brandName': 'Acme',\n",
       "  'category': ['sensor'],\n",
       "  'code': '0fd67c67-c9be-45c6-9719-4c4eada4be65',\n",
       "  'controlledProperty': ['temperature'],\n",
       "  'function': ['sensing'],\n",
       "  'manufacturerName': 'Acme Inc.',\n",
       "  'modelName': 'Acme multisensor DHT11',\n",
       "  'name': 'temperature sensor in DHT11',\n",
       "  'type': 'TemperatureSensorDTH11'}]"
      ]
     },
     "execution_count": 5,
     "metadata": {},
     "output_type": "execute_result"
    }
   ],
   "source": [
    "args = {\"controlledProperty\": \"temperature\", \"manufacturerName\": \"Acme Inc.\"}\n",
    "requests.get(f'{BASE_URL}/sensor_types', params=args).json()"
   ]
  },
  {
   "cell_type": "code",
   "execution_count": 6,
   "metadata": {
    "scrolled": true
   },
   "outputs": [
    {
     "data": {
      "text/plain": [
       "[{'brandName': 'ProSensor',\n",
       "  'category': ['sensor'],\n",
       "  'code': 'ea388bc4-668b-4f06-b738-6267a8a7a37d',\n",
       "  'controlledProperty': ['humidity', 'temperature'],\n",
       "  'function': ['sensing'],\n",
       "  'manufacturerName': 'CRS4',\n",
       "  'modelName': 'R2D2',\n",
       "  'name': 'Jack',\n",
       "  'type': 'multisensor'}]"
      ]
     },
     "execution_count": 6,
     "metadata": {},
     "output_type": "execute_result"
    }
   ],
   "source": [
    "args = {\"controlledProperty\": \"temperature,humidity\"}\n",
    "requests.get(f'{BASE_URL}/sensor_types', params=args).json()"
   ]
  },
  {
   "cell_type": "code",
   "execution_count": 7,
   "metadata": {},
   "outputs": [
    {
     "data": {
      "text/plain": [
       "[{'code': '0fd67c67-c9be-45c6-9719-4c4eada4becc',\n",
       "  'geometry': {'coordinates': [9.221, 30.0], 'type': 'Point'},\n",
       "  'nodecode': '0fd67ccc-c9be-45c6-9719-4c4eada4beaa',\n",
       "  'stypecode': '0fd67c67-c9be-45c6-9719-4c4eada4be65'},\n",
       " {'code': '0fd67c67-c9be-45c6-9719-4c4eada4beff',\n",
       "  'geometry': {'coordinates': [9.222, 30.003], 'type': 'Point'},\n",
       "  'nodecode': '0fd67cdd-c9be-45c6-9719-4c4eada4beee',\n",
       "  'stypecode': '0fd67c67-c9be-45c6-9719-4c4eada4bebe'}]"
      ]
     },
     "execution_count": 7,
     "metadata": {},
     "output_type": "execute_result"
    }
   ],
   "source": [
    "requests.get(f'{BASE_URL}/sensors').json()"
   ]
  },
  {
   "cell_type": "code",
   "execution_count": 8,
   "metadata": {},
   "outputs": [
    {
     "data": {
      "text/plain": [
       "{'code': '0fd67c67-c9be-45c6-9719-4c4eada4becc',\n",
       " 'geometry': {'coordinates': [9.221, 30.0], 'type': 'Point'},\n",
       " 'nodecode': '0fd67ccc-c9be-45c6-9719-4c4eada4beaa',\n",
       " 'stypecode': '0fd67c67-c9be-45c6-9719-4c4eada4be65'}"
      ]
     },
     "execution_count": 8,
     "metadata": {},
     "output_type": "execute_result"
    }
   ],
   "source": [
    "code = \"0fd67c67-c9be-45c6-9719-4c4eada4becc\"\n",
    "requests.get(f'{BASE_URL}/sensors/{code}').json()"
   ]
  },
  {
   "cell_type": "code",
   "execution_count": 9,
   "metadata": {},
   "outputs": [
    {
     "data": {
      "text/plain": [
       "[{'code': '0fd67c67-c9be-45c6-9719-4c4eada4becc',\n",
       "  'geometry': {'coordinates': [9.22100000642642, 30.0000000019687],\n",
       "   'type': 'Point'},\n",
       "  'stypecode': '0fd67c67-c9be-45c6-9719-4c4eada4be65'},\n",
       " {'code': '0fd67c67-c9be-45c6-9719-4c4eada4beff',\n",
       "  'geometry': {'coordinates': [9.22200000642623, 30.0030000019686],\n",
       "   'type': 'Point'},\n",
       "  'stypecode': '0fd67c67-c9be-45c6-9719-4c4eada4bebe'}]"
      ]
     },
     "execution_count": 9,
     "metadata": {},
     "output_type": "execute_result"
    }
   ],
   "source": [
    "args = {\n",
    "    'footprint': 'circle((9.2215, 30.0015), 1000)',\n",
    "    'after': '2019-05-02T11:00:00Z',\n",
    "    'before':'2019-05-02T11:50:25Z'\n",
    "}\n",
    "requests.get(f'{BASE_URL}/sensors', params=args).json()"
   ]
  },
  {
   "cell_type": "code",
   "execution_count": 10,
   "metadata": {},
   "outputs": [
    {
     "data": {
      "text/plain": [
       "[]"
      ]
     },
     "execution_count": 10,
     "metadata": {},
     "output_type": "execute_result"
    }
   ],
   "source": [
    "args = {\n",
    "    'footprint': 'circle((9.2215, 30.0015), 1000)',\n",
    "    'after': '2000-05-02T11:00:00Z',\n",
    "    'before':'2000-05-02T11:50:25Z',\n",
    "}\n",
    "requests.get(f'{BASE_URL}/sensors', args).json()"
   ]
  },
  {
   "cell_type": "code",
   "execution_count": 11,
   "metadata": {},
   "outputs": [
    {
     "data": {
      "text/plain": [
       "{'data': [0.022, 0.122, 0.222, 0.322, 0.422, 0.522],\n",
       " 'timebase': '2019-05-02T11:00:00Z',\n",
       " 'timedelta': [0.0, 5.0, 10.0, 15.0, 20.0, 25.0]}"
      ]
     },
     "execution_count": 11,
     "metadata": {},
     "output_type": "execute_result"
    }
   ],
   "source": [
    "args = {\n",
    "    'after': '2019-05-02T11:00:00Z',\n",
    "    'before':'2019-05-02T11:50:25Z'\n",
    "}\n",
    "requests.get(f'{BASE_URL}/sensors/{code}/timeseries', params=args).json()"
   ]
  },
  {
   "cell_type": "code",
   "execution_count": 12,
   "metadata": {},
   "outputs": [
    {
     "data": {
      "text/plain": [
       "{'data': [0.144, 0.544, 0.944],\n",
       " 'timebase': '2019-05-02T11:00:00Z',\n",
       " 'timedelta': [0.0, 10.0, 20.0]}"
      ]
     },
     "execution_count": 12,
     "metadata": {},
     "output_type": "execute_result"
    }
   ],
   "source": [
    "args = {\n",
    "    'bucket': 10,\n",
    "    'op':'sum',\n",
    "    'after': '2019-05-02T11:00:00Z',\n",
    "    'before':'2019-05-02T11:50:25Z'\n",
    "}\n",
    "requests.get(f'{BASE_URL}/sensors/{code}/timeseries', params=args).json()"
   ]
  },
  {
   "cell_type": "code",
   "execution_count": 13,
   "metadata": {},
   "outputs": [
    {
     "data": {
      "text/plain": [
       "{'data': [0.022, 0.122, 0.222, 0.322, 0.422, 0.522],\n",
       " 'timebase': '2019-05-02T11:00:00Z',\n",
       " 'timedelta': [0.0, 4.8, 9.9, 15.0, 19.8, 24.9]}"
      ]
     },
     "execution_count": 13,
     "metadata": {},
     "output_type": "execute_result"
    }
   ],
   "source": [
    "args = {\n",
    "    'bucket': 0.3,\n",
    "    'op':'sum',\n",
    "    'after': '2019-05-02T11:00:00Z',\n",
    "    'before':'2019-05-02T11:50:25Z'\n",
    "}\n",
    "requests.get(f'{BASE_URL}/sensors/{code}/timeseries', params=args).json()"
   ]
  }
 ],
 "metadata": {
  "kernelspec": {
   "display_name": "Python 3",
   "language": "python",
   "name": "python3"
  },
  "language_info": {
   "codemirror_mode": {
    "name": "ipython",
    "version": 3
   },
   "file_extension": ".py",
   "mimetype": "text/x-python",
   "name": "python",
   "nbconvert_exporter": "python",
   "pygments_lexer": "ipython3",
   "version": "3.6.7"
  }
 },
 "nbformat": 4,
 "nbformat_minor": 2
}
