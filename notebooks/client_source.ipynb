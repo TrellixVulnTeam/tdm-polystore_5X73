{
 "cells": [
  {
   "cell_type": "code",
   "execution_count": 1,
   "metadata": {},
   "outputs": [
    {
     "name": "stderr",
     "output_type": "stream",
     "text": [
      "INFO:tdmq.db:Logging is active.\n",
      "INFO:tdmq.client.client:Logging is active.\n"
     ]
    }
   ],
   "source": [
    "import json\n",
    "import os\n",
    "from tdmq.client.client import Client"
   ]
  },
  {
   "cell_type": "code",
   "execution_count": 2,
   "metadata": {},
   "outputs": [],
   "source": [
    "data_dir = os.getenv(\"DATA_DIR\")"
   ]
  },
  {
   "cell_type": "code",
   "execution_count": 3,
   "metadata": {},
   "outputs": [],
   "source": [
    "with open(os.path.join(data_dir, 'sources.json')) as f:\n",
    "    data = json.load(f)['sources']"
   ]
  },
  {
   "cell_type": "code",
   "execution_count": 4,
   "metadata": {},
   "outputs": [],
   "source": [
    "c = Client()"
   ]
  },
  {
   "cell_type": "code",
   "execution_count": 5,
   "metadata": {},
   "outputs": [
    {
     "name": "stderr",
     "output_type": "stream",
     "text": [
      "DEBUG:tdmq.client.client:registering sources id=tdm/sensor_0\n",
      "DEBUG:tdmq.client.client:sources (tdm/sensor_0) registered as tdmq_id=e5a2f652-ea6f-5139-8bb3-b7a69f1b94c6\n",
      "DEBUG:tdmq.client.client:new managed object e5a2f652-ea6f-5139-8bb3-b7a69f1b94c6\n",
      "DEBUG:tdmq.client.client:registering sources id=tdm/sensor_1\n",
      "DEBUG:tdmq.client.client:sources (tdm/sensor_1) registered as tdmq_id=2bb83248-27f4-53c9-b149-ca74c8c283ee\n",
      "DEBUG:tdmq.client.client:new managed object 2bb83248-27f4-53c9-b149-ca74c8c283ee\n",
      "DEBUG:tdmq.client.client:registering sources id=tdm/sensor_3\n",
      "DEBUG:tdmq.client.client:sources (tdm/sensor_3) registered as tdmq_id=42608b02-a82a-58ae-84fb-f358bf9b7494\n",
      "DEBUG:tdmq.client.client:new managed object 42608b02-a82a-58ae-84fb-f358bf9b7494\n",
      "DEBUG:tdmq.client.client:registering sources id=tdm/sensor_4\n",
      "DEBUG:tdmq.client.client:sources (tdm/sensor_4) registered as tdmq_id=8b53505d-79b8-548d-b160-777d116cb6b2\n",
      "DEBUG:tdmq.client.client:new managed object 8b53505d-79b8-548d-b160-777d116cb6b2\n",
      "DEBUG:tdmq.client.client:registering sources id=tdm/sensor_5\n",
      "DEBUG:tdmq.client.client:sources (tdm/sensor_5) registered as tdmq_id=5df07546-b1d6-517f-8798-5abd79e7ebb1\n",
      "DEBUG:tdmq.client.client:new managed object 5df07546-b1d6-517f-8798-5abd79e7ebb1\n"
     ]
    }
   ],
   "source": [
    "srcs = []\n",
    "for d in data:\n",
    "    if 'shape' in d and len(d['shape']) > 0:\n",
    "        continue\n",
    "    srcs.append(c.register_source(d))"
   ]
  },
  {
   "cell_type": "code",
   "execution_count": 6,
   "metadata": {},
   "outputs": [],
   "source": [
    "with open(os.path.join(data_dir, 'records.json')) as f:\n",
    "    records = json.load(f)['records']"
   ]
  },
  {
   "cell_type": "code",
   "execution_count": 7,
   "metadata": {},
   "outputs": [],
   "source": [
    "by_source = {}\n",
    "for r in records:\n",
    "    by_source.setdefault(r['source'], []).append(r)"
   ]
  },
  {
   "cell_type": "code",
   "execution_count": 8,
   "metadata": {},
   "outputs": [],
   "source": [
    "for s in srcs:\n",
    "    s.add_records(by_source[s.id])"
   ]
  },
  {
   "cell_type": "code",
   "execution_count": 9,
   "metadata": {},
   "outputs": [],
   "source": [
    "def print_ts(ts):\n",
    "    ts_times, data = ts[:]\n",
    "    print(ts_times)\n",
    "    print(data)"
   ]
  },
  {
   "cell_type": "code",
   "execution_count": 10,
   "metadata": {},
   "outputs": [
    {
     "name": "stderr",
     "output_type": "stream",
     "text": [
      "DEBUG:tdmq.client.client:get_timeseries(e5a2f652-ea6f-5139-8bb3-b7a69f1b94c6, {})\n",
      "DEBUG:tdmq.client.client:get_timeseries(e5a2f652-ea6f-5139-8bb3-b7a69f1b94c6, {'bucket': 100, 'op': 'sum'})\n",
      "DEBUG:tdmq.client.client:get_timeseries(2bb83248-27f4-53c9-b149-ca74c8c283ee, {})\n",
      "DEBUG:tdmq.client.client:get_timeseries(2bb83248-27f4-53c9-b149-ca74c8c283ee, {'bucket': 100, 'op': 'sum'})\n",
      "DEBUG:tdmq.client.client:get_timeseries(42608b02-a82a-58ae-84fb-f358bf9b7494, {})\n",
      "DEBUG:tdmq.client.client:get_timeseries(42608b02-a82a-58ae-84fb-f358bf9b7494, {'bucket': 100, 'op': 'sum'})\n",
      "DEBUG:tdmq.client.client:get_timeseries(8b53505d-79b8-548d-b160-777d116cb6b2, {})\n"
     ]
    },
    {
     "name": "stdout",
     "output_type": "stream",
     "text": [
      "********************\n",
      "[datetime.datetime(2019, 5, 2, 11, 0)\n",
      " datetime.datetime(2019, 5, 2, 11, 0, 5)\n",
      " datetime.datetime(2019, 5, 2, 11, 0, 10)\n",
      " datetime.datetime(2019, 5, 2, 11, 0, 15)\n",
      " datetime.datetime(2019, 5, 2, 11, 0, 20)\n",
      " datetime.datetime(2019, 5, 2, 11, 0, 25)]\n",
      "{'humidity': array([0.022, 0.122, 0.222, 0.322, 0.422, 0.522]), 'temperature': array([22, 22, 23, 23, 24, 24])}\n",
      "----------\n",
      "[datetime.datetime(2019, 5, 2, 11, 0)]\n",
      "{'humidity': array([1.632]), 'temperature': array([138.])}\n",
      "********************\n",
      "[datetime.datetime(2019, 5, 2, 11, 0)\n",
      " datetime.datetime(2019, 5, 2, 11, 0, 5)]\n",
      "{'humidity': array([0.023, 0.024]), 'temperature': array([25, 24])}\n",
      "----------\n",
      "[datetime.datetime(2019, 5, 2, 11, 0)]\n",
      "{'humidity': array([0.047]), 'temperature': array([49.])}\n",
      "********************\n",
      "[datetime.datetime(2019, 5, 2, 11, 0)\n",
      " datetime.datetime(2019, 5, 2, 11, 0, 5)]\n",
      "{'power': array([500, 505])}\n",
      "----------\n",
      "[datetime.datetime(2019, 5, 2, 11, 0)]\n",
      "{'power': array([1005.])}\n",
      "********************\n"
     ]
    },
    {
     "name": "stderr",
     "output_type": "stream",
     "text": [
      "DEBUG:tdmq.client.client:get_timeseries(8b53505d-79b8-548d-b160-777d116cb6b2, {'bucket': 100, 'op': 'sum'})\n",
      "DEBUG:tdmq.client.client:get_timeseries(5df07546-b1d6-517f-8798-5abd79e7ebb1, {})\n",
      "DEBUG:tdmq.client.client:get_timeseries(5df07546-b1d6-517f-8798-5abd79e7ebb1, {'bucket': 100, 'op': 'sum'})\n"
     ]
    },
    {
     "name": "stdout",
     "output_type": "stream",
     "text": [
      "[datetime.datetime(2019, 5, 2, 11, 0)\n",
      " datetime.datetime(2019, 5, 2, 11, 0, 5)]\n",
      "{'temperature': array([27, 28])}\n",
      "----------\n",
      "[datetime.datetime(2019, 5, 2, 11, 0)]\n",
      "{'temperature': array([55.])}\n",
      "********************\n",
      "[datetime.datetime(2019, 5, 2, 11, 0)\n",
      " datetime.datetime(2019, 5, 2, 11, 0, 5)]\n",
      "{'humidity': array([0.029, 0.127])}\n",
      "----------\n",
      "[datetime.datetime(2019, 5, 2, 11, 0)]\n",
      "{'humidity': array([0.156])}\n"
     ]
    }
   ],
   "source": [
    "for s in srcs:\n",
    "    print('*' * 20)\n",
    "    print_ts(s.timeseries())\n",
    "    print('-' * 10)\n",
    "    print_ts(s.timeseries(bucket=100, op='sum'))\n",
    "    "
   ]
  },
  {
   "cell_type": "code",
   "execution_count": 11,
   "metadata": {},
   "outputs": [
    {
     "name": "stderr",
     "output_type": "stream",
     "text": [
      "DEBUG:tdmq.client.client:deregistering e5a2f652-ea6f-5139-8bb3-b7a69f1b94c6 <tdmq.client.sources.ScalarSource object at 0x7f6e6853a7f0>\n",
      "DEBUG:tdmq.client.client:removing from managed_objects\n",
      "DEBUG:tdmq.client.client:deregistering 2bb83248-27f4-53c9-b149-ca74c8c283ee <tdmq.client.sources.ScalarSource object at 0x7f6e2bfb28d0>\n",
      "DEBUG:tdmq.client.client:removing from managed_objects\n",
      "DEBUG:tdmq.client.client:deregistering 42608b02-a82a-58ae-84fb-f358bf9b7494 <tdmq.client.sources.ScalarSource object at 0x7f6e0c02e2e8>\n",
      "DEBUG:tdmq.client.client:removing from managed_objects\n",
      "DEBUG:tdmq.client.client:deregistering 8b53505d-79b8-548d-b160-777d116cb6b2 <tdmq.client.sources.ScalarSource object at 0x7f6e0c02e518>\n",
      "DEBUG:tdmq.client.client:removing from managed_objects\n",
      "DEBUG:tdmq.client.client:deregistering 5df07546-b1d6-517f-8798-5abd79e7ebb1 <tdmq.client.sources.ScalarSource object at 0x7f6e0c02ef98>\n",
      "DEBUG:tdmq.client.client:removing from managed_objects\n"
     ]
    }
   ],
   "source": [
    "for s in srcs:\n",
    "    c.deregister_source(s)"
   ]
  },
  {
   "cell_type": "code",
   "execution_count": null,
   "metadata": {},
   "outputs": [],
   "source": []
  }
 ],
 "metadata": {
  "kernelspec": {
   "display_name": "Python 3",
   "language": "python",
   "name": "python3"
  },
  "language_info": {
   "codemirror_mode": {
    "name": "ipython",
    "version": 3
   },
   "file_extension": ".py",
   "mimetype": "text/x-python",
   "name": "python",
   "nbconvert_exporter": "python",
   "pygments_lexer": "ipython3",
   "version": "3.6.8"
  }
 },
 "nbformat": 4,
 "nbformat_minor": 2
}
